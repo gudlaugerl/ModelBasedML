{
 "cells": [
  {
   "cell_type": "markdown",
   "metadata": {},
   "source": [
    "https://towardsdatascience.com/end-to-end-topic-modeling-in-python-latent-dirichlet-allocation-lda-35ce4ed6b3e0\n",
    "\n",
    "LDA is a generative probabilistic model that assumes each topic is a mixture over an underlying set of words, and each document is a mixture of over a set of topic probabilities.\n",
    "\n",
    "We can describe the generative process of LDA as, given the M number of documents, N number of words, and prior K number of topics, the model trains to output:\n",
    "\n",
    "1. the distribution of words for each topic K\n",
    "\n",
    "2. the distribution of topics for each document i\n",
    "\n",
    "Alpha parameter is Dirichlet prior concentration parameter that represents document-topic density — with a higher alpha, documents are assumed to be made up of more topics and result in more specific topic distribution per document.\n",
    "\n",
    "Beta parameter is the same prior concentration parameter that represents topic-word density — with high beta, topics are assumed to made of up most of the words and result in a more specific word distribution per topic.\n",
    "\n",
    "---\n"
   ]
  },
  {
   "cell_type": "code",
   "execution_count": 87,
   "metadata": {},
   "outputs": [],
   "source": [
    "import requests\n",
    "import pandas as pd\n",
    "from bs4 import BeautifulSoup\n",
    "import seaborn as sns\n",
    "import matplotlib.pyplot as plt\n",
    "%matplotlib inline\n",
    "import numpy as np\n",
    "import urllib.request\n",
    "import io\n",
    "import re\n",
    "import os\n",
    "import os.path\n",
    "import nltk, re, pprint\n",
    "from nltk.tokenize import RegexpTokenizer\n",
    "import sklearn\n",
    "from nltk.tokenize import word_tokenize\n",
    "from nltk.corpus import stopwords\n",
    "from collections import Counter\n",
    "import collections\n",
    "import colorsys\n",
    "import warnings\n",
    "warnings.filterwarnings(\"ignore\")\n",
    "from nltk import sent_tokenize\n",
    "from sklearn.model_selection import train_test_split\n",
    "from sklearn.linear_model import LinearRegression\n",
    "from sklearn import metrics\n",
    "import string\n",
    "from sklearn.feature_extraction.text import TfidfVectorizer\n",
    "sns.set(style=\"ticks\", color_codes=True)\n",
    "plt.rcParams['figure.figsize'] = (16, 10)"
   ]
  },
  {
   "cell_type": "markdown",
   "metadata": {},
   "source": [
    "**Color Palettes**"
   ]
  },
  {
   "cell_type": "code",
   "execution_count": 88,
   "metadata": {},
   "outputs": [
    {
     "data": {
      "image/png": "[encoded data removed]",
      "text/plain": [
       "<Figure size 504x72 with 1 Axes>"
      ]
     },
     "metadata": {},
     "output_type": "display_data"
    },
    {
     "data": {
      "image/png": "[encoded data removed]",
      "text/plain": [
       "<Figure size 504x72 with 1 Axes>"
      ]
     },
     "metadata": {},
     "output_type": "display_data"
    },
    {
     "data": {
      "image/png": "[encoded data removed]",
      "text/plain": [
       "<Figure size 504x72 with 1 Axes>"
      ]
     },
     "metadata": {},
     "output_type": "display_data"
    },
    {
     "data": {
      "image/png": "[encoded data removed]",
      "text/plain": [
       "<Figure size 504x72 with 1 Axes>"
      ]
     },
     "metadata": {},
     "output_type": "display_data"
    },
    {
     "data": {
      "image/png": "[encoded data removed]",
      "text/plain": [
       "<Figure size 504x72 with 1 Axes>"
      ]
     },
     "metadata": {},
     "output_type": "display_data"
    }
   ],
   "source": [
    "sns.palplot(sns.color_palette(\"RdBu_r\", 7))\n",
    "sns.palplot(sns.color_palette(\"coolwarm\", 7))\n",
    "sns.palplot(sns.color_palette(\"husl\", 7))\n",
    "sns.palplot(sns.color_palette(\"PuBuGn_d\", 7))\n",
    "sns.palplot(sns.color_palette(\"Paired\", 7))\n"
   ]
  },
  {
   "cell_type": "code",
   "execution_count": 89,
   "metadata": {},
   "outputs": [],
   "source": [
    "stop_words = stopwords.words('english')\n",
    "for char in ['episode','begins']:\n",
    "    stop_words.append(char)"
   ]
  },
  {
   "cell_type": "markdown",
   "metadata": {},
   "source": [
    "# Todo: \n",
    "\n",
    "* ~~Simple Linear Regression~~\n",
    "* ~~Remove character names from description of episode~~\n",
    "* Stem words\n",
    "* TF-IDF Analysis\n",
    "* ~~Fill in for episodes that are missing descriptions~~\n",
    "* PGM\n",
    "* ~~Generative Story~~\n",
    "* Basic STAN LDA"
   ]
  },
  {
   "cell_type": "markdown",
   "metadata": {},
   "source": [
    "## Table of Contents\n",
    "\n",
    "### [1. Description of Project](#one)\n",
    "\n",
    "### [2. Data](#two)\n",
    "\n",
    "* #### [2.1 Data Collection and Preprocessing](#two.one)\n",
    "\n",
    "### [3.Natural Language Preprocessing](#three)\n",
    "\n",
    "### [4. Descriptive Stats](#four)\n",
    "\n",
    "### [5. Research Question](#five)\n",
    "\n",
    "### [6. Generative Story](#six)\n",
    "\n",
    "### [7. PGM](#seven)\n",
    "\n",
    "### [8. Inital STAN Model](#eight)"
   ]
  },
  {
   "cell_type": "markdown",
   "metadata": {},
   "source": [
    "# Model-Based Machine Learning - Milestone 1\n",
    "\n",
    "## The Simpsons - Topic Modeling with Latent Dirichlet Allocation\n",
    "\n",
    "\n",
    "In this notebook, topic modeling through Latent Dirichlet Allocation is used in order to try anduncover the topics that have come up on episodes of The Simpsons through the years.\n",
    "\n",
    "Attributes such as *rating* and *viewers* were extracted from [IMDB](IMDB) for the first 600 episodes of The Simpsons. Then, for each of these episodes, the plot was scraped from [The Simpsons Fandom](page) page. \n",
    "\n",
    "Natural Language Processing was deployed in order to represent the textual data better. Each episode's description was put through *TF-IDF analysis* in order to obtain a better representation of their description. \n",
    "\n",
    "By using Latent Dirichlet Allocation for topic modeling, the episodes can be seen as a mixture of topics, and a relationhip between what is happening in the episode and its rating could potentially be made. \n",
    "\n",
    "\n",
    "\n",
    "---\n"
   ]
  },
  {
   "cell_type": "markdown",
   "metadata": {},
   "source": [
    "# 1. Description of Project<a class=\"anchor\" id=\"one\"></a>\n",
    "\n",
    "For those that have ever watched the television show *The Simpsons*, it is quite known that the quality of episodes have dwindled over the past years. The show has been running for 30 years and it has long gone past its glory days. But what is the reason behind this decline in quality? In this notebook, the topics of each episode of *The Simpsons* is investigated and through *topic modeling* episodes are clustered together in order to see whether the topics of episodes have anything to do with their respective ratings. \n",
    "\n",
    "Ratings for 600 episodes were collected from [IMDB](www.imdb.com) and descriptions for each of those episodes was collected from [The Simpsons Wiki Fanpage](ons.fandom.com/wiki/List_of_Episodes). This information, along with additional information collected from [Wikipedia](www.wikipedia.org) such as viewers per episode and airdate, was used in order to create a data set.\n",
    "\n",
    "The very popular topic model *Latent Dirichlet Allocation* was used in order to extract topic proportions and allocations for each episode. These topics were then investigated in order to see if there is any apparent relationship between the topic of episodes over the years and their declining ratings. "
   ]
  },
  {
   "cell_type": "markdown",
   "metadata": {},
   "source": [
    "# 2. Data<a class=\"anchor\" id=\"two\"></a>\n",
    "\n",
    "In this section, the method of collecting and preprocessing both the *ratings* and *description* for each episode is shown. All of the data is collected through web scraping. The websites that were scraped were [IMDB](www.imdb.com), [Wikipedia](www.wikipedia.org), and [The Simpsons Fandom Wiki Page](simpsons.fandom.com/wiki/List_of_Episodes). \n",
    "\n",
    "There was a lot of data cleaning to be done, as there were a lot of missing values that resulted from the web scraping due to some inconstistency in the pages' setup. "
   ]
  },
  {
   "cell_type": "markdown",
   "metadata": {},
   "source": [
    "## 2.1 Data Collection and Preprocessing<a class=\"anchor\" id=\"two.one\"></a>"
   ]
  },
  {
   "cell_type": "markdown",
   "metadata": {},
   "source": [
    "### Episode Information <a class=\"anchor\" id=\"two.one.one\"></a>"
   ]
  },
  {
   "cell_type": "markdown",
   "metadata": {},
   "source": [
    "Getting all episode names, dates and relevant information is possible by scraping Wikipedia. This will serve as a basis for the episode information which will be used throughout the project. "
   ]
  },
  {
   "cell_type": "code",
   "execution_count": 90,
   "metadata": {},
   "outputs": [],
   "source": [
    "episode_1_20_url = 'https://en.wikipedia.org/wiki/List_of_The_Simpsons_episodes_(seasons_1%E2%80%9320)#Episodes'\n",
    "episode_21_31_url = \"https://en.wikipedia.org/wiki/List_of_The_Simpsons_episodes\""
   ]
  },
  {
   "cell_type": "code",
   "execution_count": 91,
   "metadata": {},
   "outputs": [],
   "source": [
    "res = requests.get(episode_1_20_url).text\n",
    "soup = BeautifulSoup(res,'html')\n",
    "arr = []\n",
    "next_season = 1\n",
    "for table in soup.find_all('table', class_='wikiepisodetable'):\n",
    "    if(table.previous.previous.previous.text != 'The Simpsons Movie'):\n",
    "        season = table.previous.previous.previous.text.split('(')[1].split(')')[0].split(\" \")[1]\n",
    "        for row in table.find_all('tr')[1::1]:\n",
    "            data = row.find_all(['th','td'])\n",
    "            no = data[0].text\n",
    "            no_in_season = data[1].text\n",
    "            episode_name = data[2].text[1:len(data[2].text)-1] #Remove the \" \" \n",
    "            airdate = data[5].text\n",
    "            viewers = data[7].text.split(\"[\")[0]\n",
    "            arr.append([no,season,no_in_season,episode_name,airdate,viewers])\n",
    "df_1 = pd.DataFrame(arr)\n",
    "df_1.columns = ['no_overall','season','no_in_season','episode_name','airdate','viewers (millions)']"
   ]
  },
  {
   "cell_type": "markdown",
   "metadata": {},
   "source": [
    "Seasons 1 to 20:"
   ]
  },
  {
   "cell_type": "code",
   "execution_count": 92,
   "metadata": {},
   "outputs": [
    {
     "data": {
      "text/html": [
       "<div>\n",
       "<style scoped>\n",
       "    .dataframe tbody tr th:only-of-type {\n",
       "        vertical-align: middle;\n",
       "    }\n",
       "\n",
       "    .dataframe tbody tr th {\n",
       "        vertical-align: top;\n",
       "    }\n",
       "\n",
       "    .dataframe thead th {\n",
       "        text-align: right;\n",
       "    }\n",
       "</style>\n",
       "<table border=\"1\" class=\"dataframe\">\n",
       "  <thead>\n",
       "    <tr style=\"text-align: right;\">\n",
       "      <th></th>\n",
       "      <th>no_overall</th>\n",
       "      <th>season</th>\n",
       "      <th>no_in_season</th>\n",
       "      <th>episode_name</th>\n",
       "      <th>airdate</th>\n",
       "      <th>viewers (millions)</th>\n",
       "    </tr>\n",
       "  </thead>\n",
       "  <tbody>\n",
       "    <tr>\n",
       "      <th>0</th>\n",
       "      <td>1</td>\n",
       "      <td>1</td>\n",
       "      <td>1</td>\n",
       "      <td>Simpsons Roasting on an Open Fire</td>\n",
       "      <td>December 17, 1989 (1989-12-17)</td>\n",
       "      <td>26.7</td>\n",
       "    </tr>\n",
       "    <tr>\n",
       "      <th>1</th>\n",
       "      <td>2</td>\n",
       "      <td>1</td>\n",
       "      <td>2</td>\n",
       "      <td>Bart the Genius</td>\n",
       "      <td>January 14, 1990 (1990-01-14)</td>\n",
       "      <td>24.5</td>\n",
       "    </tr>\n",
       "    <tr>\n",
       "      <th>2</th>\n",
       "      <td>3</td>\n",
       "      <td>1</td>\n",
       "      <td>3</td>\n",
       "      <td>Homer's Odyssey</td>\n",
       "      <td>January 21, 1990 (1990-01-21)</td>\n",
       "      <td>27.5</td>\n",
       "    </tr>\n",
       "  </tbody>\n",
       "</table>\n",
       "</div>"
      ],
      "text/plain": [
       "  no_overall season no_in_season                       episode_name  \\\n",
       "0          1      1            1  Simpsons Roasting on an Open Fire   \n",
       "1          2      1            2                    Bart the Genius   \n",
       "2          3      1            3                    Homer's Odyssey   \n",
       "\n",
       "                          airdate viewers (millions)  \n",
       "0  December 17, 1989 (1989-12-17)               26.7  \n",
       "1   January 14, 1990 (1990-01-14)               24.5  \n",
       "2   January 21, 1990 (1990-01-21)               27.5  "
      ]
     },
     "execution_count": 92,
     "metadata": {},
     "output_type": "execute_result"
    }
   ],
   "source": [
    "df_1.head(3)"
   ]
  },
  {
   "cell_type": "code",
   "execution_count": 93,
   "metadata": {},
   "outputs": [
    {
     "data": {
      "text/html": [
       "<div>\n",
       "<style scoped>\n",
       "    .dataframe tbody tr th:only-of-type {\n",
       "        vertical-align: middle;\n",
       "    }\n",
       "\n",
       "    .dataframe tbody tr th {\n",
       "        vertical-align: top;\n",
       "    }\n",
       "\n",
       "    .dataframe thead th {\n",
       "        text-align: right;\n",
       "    }\n",
       "</style>\n",
       "<table border=\"1\" class=\"dataframe\">\n",
       "  <thead>\n",
       "    <tr style=\"text-align: right;\">\n",
       "      <th></th>\n",
       "      <th>no_overall</th>\n",
       "      <th>season</th>\n",
       "      <th>no_in_season</th>\n",
       "      <th>episode_name</th>\n",
       "      <th>airdate</th>\n",
       "      <th>viewers (millions)</th>\n",
       "    </tr>\n",
       "  </thead>\n",
       "  <tbody>\n",
       "    <tr>\n",
       "      <th>438</th>\n",
       "      <td>439</td>\n",
       "      <td>20</td>\n",
       "      <td>19</td>\n",
       "      <td>Waverly Hills, 9-0-2-1-D'oh</td>\n",
       "      <td>May 3, 2009 (2009-05-03)</td>\n",
       "      <td>6.75</td>\n",
       "    </tr>\n",
       "    <tr>\n",
       "      <th>439</th>\n",
       "      <td>440</td>\n",
       "      <td>20</td>\n",
       "      <td>20</td>\n",
       "      <td>Four Great Women and a Manicure</td>\n",
       "      <td>May 10, 2009 (2009-05-10)</td>\n",
       "      <td>5.16</td>\n",
       "    </tr>\n",
       "    <tr>\n",
       "      <th>440</th>\n",
       "      <td>441</td>\n",
       "      <td>20</td>\n",
       "      <td>21</td>\n",
       "      <td>Coming to Homerica</td>\n",
       "      <td>May 17, 2009 (2009-05-17)</td>\n",
       "      <td>5.86</td>\n",
       "    </tr>\n",
       "  </tbody>\n",
       "</table>\n",
       "</div>"
      ],
      "text/plain": [
       "    no_overall season no_in_season                     episode_name  \\\n",
       "438        439     20           19      Waverly Hills, 9-0-2-1-D'oh   \n",
       "439        440     20           20  Four Great Women and a Manicure   \n",
       "440        441     20           21               Coming to Homerica   \n",
       "\n",
       "                       airdate viewers (millions)  \n",
       "438   May 3, 2009 (2009-05-03)               6.75  \n",
       "439  May 10, 2009 (2009-05-10)               5.16  \n",
       "440  May 17, 2009 (2009-05-17)               5.86  "
      ]
     },
     "execution_count": 93,
     "metadata": {},
     "output_type": "execute_result"
    }
   ],
   "source": [
    "df_1.tail(3)"
   ]
  },
  {
   "cell_type": "markdown",
   "metadata": {},
   "source": [
    "Now, the rest of the seasons are retrieved:"
   ]
  },
  {
   "cell_type": "code",
   "execution_count": 94,
   "metadata": {},
   "outputs": [],
   "source": [
    "res = requests.get(episode_21_31_url).text\n",
    "soup = BeautifulSoup(res,'html')\n",
    "arr = []\n",
    "next_season = 1\n",
    "for table in soup.find_all('table', class_='wikiepisodetable'):\n",
    "    if(table.previous.previous.previous.text != 'The Longest Daycare' and table.previous.previous.previous.text):\n",
    "        season = table.previous.previous.previous.text.split('(')[1].split(')')[0].split(\" \")[1]\n",
    "        for row in table.find_all('tr')[1::1]:\n",
    "            data = row.find_all(['th','td'])\n",
    "            no = data[0].text\n",
    "            no_in_season = data[1].text\n",
    "            episode_name = data[2].text[1:len(data[2].text)-1] #Remove the \" \" \n",
    "            airdate = data[5].text\n",
    "            viewers = data[7].text.split(\"[\")[0]\n",
    "            arr.append([no,season,no_in_season,episode_name,airdate,viewers])\n",
    "        if(season=='30'):\n",
    "            break\n",
    "df_2 = pd.DataFrame(arr)\n",
    "df_2.columns = ['no_overall','season','no_in_season','episode_name','airdate','viewers (millions)']"
   ]
  },
  {
   "cell_type": "markdown",
   "metadata": {},
   "source": [
    "Seasons 21 to 30:"
   ]
  },
  {
   "cell_type": "code",
   "execution_count": 95,
   "metadata": {},
   "outputs": [
    {
     "data": {
      "text/html": [
       "<div>\n",
       "<style scoped>\n",
       "    .dataframe tbody tr th:only-of-type {\n",
       "        vertical-align: middle;\n",
       "    }\n",
       "\n",
       "    .dataframe tbody tr th {\n",
       "        vertical-align: top;\n",
       "    }\n",
       "\n",
       "    .dataframe thead th {\n",
       "        text-align: right;\n",
       "    }\n",
       "</style>\n",
       "<table border=\"1\" class=\"dataframe\">\n",
       "  <thead>\n",
       "    <tr style=\"text-align: right;\">\n",
       "      <th></th>\n",
       "      <th>no_overall</th>\n",
       "      <th>season</th>\n",
       "      <th>no_in_season</th>\n",
       "      <th>episode_name</th>\n",
       "      <th>airdate</th>\n",
       "      <th>viewers (millions)</th>\n",
       "    </tr>\n",
       "  </thead>\n",
       "  <tbody>\n",
       "    <tr>\n",
       "      <th>0</th>\n",
       "      <td>442</td>\n",
       "      <td>21</td>\n",
       "      <td>1</td>\n",
       "      <td>Homer the Whopper</td>\n",
       "      <td>September 27, 2009 (2009-09-27)</td>\n",
       "      <td>8.31</td>\n",
       "    </tr>\n",
       "    <tr>\n",
       "      <th>1</th>\n",
       "      <td>443</td>\n",
       "      <td>21</td>\n",
       "      <td>2</td>\n",
       "      <td>Bart Gets a 'Z'</td>\n",
       "      <td>October 4, 2009 (2009-10-04)</td>\n",
       "      <td>9.32</td>\n",
       "    </tr>\n",
       "    <tr>\n",
       "      <th>2</th>\n",
       "      <td>444</td>\n",
       "      <td>21</td>\n",
       "      <td>3</td>\n",
       "      <td>The Great Wife Hope</td>\n",
       "      <td>October 11, 2009 (2009-10-11)</td>\n",
       "      <td>7.5</td>\n",
       "    </tr>\n",
       "  </tbody>\n",
       "</table>\n",
       "</div>"
      ],
      "text/plain": [
       "  no_overall season no_in_season         episode_name  \\\n",
       "0        442     21            1    Homer the Whopper   \n",
       "1        443     21            2      Bart Gets a 'Z'   \n",
       "2        444     21            3  The Great Wife Hope   \n",
       "\n",
       "                           airdate viewers (millions)  \n",
       "0  September 27, 2009 (2009-09-27)               8.31  \n",
       "1     October 4, 2009 (2009-10-04)               9.32  \n",
       "2    October 11, 2009 (2009-10-11)                7.5  "
      ]
     },
     "execution_count": 95,
     "metadata": {},
     "output_type": "execute_result"
    }
   ],
   "source": [
    "df_2.head(3)"
   ]
  },
  {
   "cell_type": "code",
   "execution_count": 96,
   "metadata": {},
   "outputs": [
    {
     "data": {
      "text/html": [
       "<div>\n",
       "<style scoped>\n",
       "    .dataframe tbody tr th:only-of-type {\n",
       "        vertical-align: middle;\n",
       "    }\n",
       "\n",
       "    .dataframe tbody tr th {\n",
       "        vertical-align: top;\n",
       "    }\n",
       "\n",
       "    .dataframe thead th {\n",
       "        text-align: right;\n",
       "    }\n",
       "</style>\n",
       "<table border=\"1\" class=\"dataframe\">\n",
       "  <thead>\n",
       "    <tr style=\"text-align: right;\">\n",
       "      <th></th>\n",
       "      <th>no_overall</th>\n",
       "      <th>season</th>\n",
       "      <th>no_in_season</th>\n",
       "      <th>episode_name</th>\n",
       "      <th>airdate</th>\n",
       "      <th>viewers (millions)</th>\n",
       "    </tr>\n",
       "  </thead>\n",
       "  <tbody>\n",
       "    <tr>\n",
       "      <th>217</th>\n",
       "      <td>660</td>\n",
       "      <td>30</td>\n",
       "      <td>21</td>\n",
       "      <td>D'oh Canada</td>\n",
       "      <td>April 28, 2019 (2019-04-28)</td>\n",
       "      <td>1.93</td>\n",
       "    </tr>\n",
       "    <tr>\n",
       "      <th>218</th>\n",
       "      <td>661</td>\n",
       "      <td>30</td>\n",
       "      <td>22</td>\n",
       "      <td>Woo-Hoo Dunnit?</td>\n",
       "      <td>May 5, 2019 (2019-05-05)</td>\n",
       "      <td>1.79</td>\n",
       "    </tr>\n",
       "    <tr>\n",
       "      <th>219</th>\n",
       "      <td>662</td>\n",
       "      <td>30</td>\n",
       "      <td>23</td>\n",
       "      <td>Crystal Blue-Haired Persuasion</td>\n",
       "      <td>May 12, 2019 (2019-05-12)</td>\n",
       "      <td>1.50</td>\n",
       "    </tr>\n",
       "  </tbody>\n",
       "</table>\n",
       "</div>"
      ],
      "text/plain": [
       "    no_overall season no_in_season                    episode_name  \\\n",
       "217        660     30           21                     D'oh Canada   \n",
       "218        661     30           22                 Woo-Hoo Dunnit?   \n",
       "219        662     30           23  Crystal Blue-Haired Persuasion   \n",
       "\n",
       "                         airdate viewers (millions)  \n",
       "217  April 28, 2019 (2019-04-28)               1.93  \n",
       "218     May 5, 2019 (2019-05-05)               1.79  \n",
       "219    May 12, 2019 (2019-05-12)               1.50  "
      ]
     },
     "execution_count": 96,
     "metadata": {},
     "output_type": "execute_result"
    }
   ],
   "source": [
    "df_2.tail(3)"
   ]
  },
  {
   "cell_type": "markdown",
   "metadata": {},
   "source": [
    "Concatinating them together will create the final dataframe for the episodes:"
   ]
  },
  {
   "cell_type": "code",
   "execution_count": 97,
   "metadata": {},
   "outputs": [],
   "source": [
    "df_episodes = pd.concat([df_1,df_2])"
   ]
  },
  {
   "cell_type": "code",
   "execution_count": 98,
   "metadata": {},
   "outputs": [],
   "source": [
    "df_episodes.reset_index(inplace=True)\n",
    "df_episodes.drop('index',axis=1,inplace=True)\n",
    "\n",
    "df_episodes['no_overall'] = df_episodes['no_overall'].apply(lambda x: int(x))\n",
    "df_episodes['season'] = df_episodes['season'].apply(lambda x: int(x))\n",
    "df_episodes['no_in_season'] = df_episodes['no_in_season'].apply(lambda x: int(x))"
   ]
  },
  {
   "cell_type": "markdown",
   "metadata": {},
   "source": [
    "It is necessary to clean **season 28** of this dataframe is episodes **608** and **609** are consider to be the same episode, as can be seen below. Splitting the episode up into episode **608** and **609** will make the data make more sense, as the overall episode count will be linear. "
   ]
  },
  {
   "cell_type": "code",
   "execution_count": 99,
   "metadata": {},
   "outputs": [
    {
     "data": {
      "text/plain": [
       "no_overall                                   608609\n",
       "season                                           28\n",
       "no_in_season                                   1213\n",
       "episode_name          The Great Phatsby Parts 1 & 2\n",
       "airdate               January 15, 2017 (2017-01-15)\n",
       "viewers (millions)                             6.90\n",
       "Name: 607, dtype: object"
      ]
     },
     "execution_count": 99,
     "metadata": {},
     "output_type": "execute_result"
    }
   ],
   "source": [
    "df_episodes.iloc[607]"
   ]
  },
  {
   "cell_type": "code",
   "execution_count": 100,
   "metadata": {},
   "outputs": [],
   "source": [
    "df_episodes.drop(607,axis=0,inplace=True)"
   ]
  },
  {
   "cell_type": "code",
   "execution_count": 101,
   "metadata": {},
   "outputs": [],
   "source": [
    "insert_into = pd.DataFrame(data = [{'no_overall':608, 'season':28,'no_in_season': 12, \n",
    "                            'episode_name':'The Great Phatsby','airdate': 'January 15, 2017 (2017-01-15)', \n",
    "                            'viewers (millions)': 6.90}, {'no_overall':609, 'season':28,'no_in_season': 13, \n",
    "                            'episode_name':'The Great Phatsby','airdate': 'January 15, 2017 (2017-01-15)', \n",
    "                            'viewers (millions)': 6.90}], index=[607,608])\n",
    "\n",
    "df_episodes = pd.concat([df_episodes.iloc[:608], insert_into, df_episodes[608:]])"
   ]
  },
  {
   "cell_type": "markdown",
   "metadata": {},
   "source": [
    "### Episode Ratings <a class=\"anchor\" id=\"two.one.two\"></a>"
   ]
  },
  {
   "cell_type": "markdown",
   "metadata": {},
   "source": [
    "Getting the ratings for each episode is possible by scraping IMDB. There exist several pages of ratings for the series on IMDB. Going through each one of them will yield every episode's rating:"
   ]
  },
  {
   "cell_type": "code",
   "execution_count": 102,
   "metadata": {},
   "outputs": [],
   "source": [
    "imdb_ratings_url = 'https://www.imdb.com/list/ls052175596/?st_dt=&mode=simple&page={}&ref_=ttls_vw_smp&sort=release_date,asc'\n",
    "pages = range(1,8)"
   ]
  },
  {
   "cell_type": "code",
   "execution_count": 103,
   "metadata": {},
   "outputs": [],
   "source": [
    "ratings = []\n",
    "for page in range(1,8):\n",
    "    url = imdb_ratings_url.format(page)\n",
    "    res = requests.get(url).text\n",
    "    soup = BeautifulSoup(res,'html')\n",
    "    container = soup.find('div',class_='lister')\n",
    "    for item in container.find_all('div', class_='lister-item'):\n",
    "        as_ = item.find('span',class_='lister-item-header').find_all('a')\n",
    "        episode_name = as_[1].text\n",
    "        rating = item.find('div',class_='col-imdb-rating').text.strip()\n",
    "        ratings.append([episode_name,rating])\n",
    "\n",
    "df_ratings = pd.DataFrame(ratings)\n",
    "df_ratings.columns = ['episode_name','IMDB rating']"
   ]
  },
  {
   "cell_type": "code",
   "execution_count": 104,
   "metadata": {
    "scrolled": true
   },
   "outputs": [
    {
     "data": {
      "text/html": [
       "<div>\n",
       "<style scoped>\n",
       "    .dataframe tbody tr th:only-of-type {\n",
       "        vertical-align: middle;\n",
       "    }\n",
       "\n",
       "    .dataframe tbody tr th {\n",
       "        vertical-align: top;\n",
       "    }\n",
       "\n",
       "    .dataframe thead th {\n",
       "        text-align: right;\n",
       "    }\n",
       "</style>\n",
       "<table border=\"1\" class=\"dataframe\">\n",
       "  <thead>\n",
       "    <tr style=\"text-align: right;\">\n",
       "      <th></th>\n",
       "      <th>episode_name</th>\n",
       "      <th>IMDB rating</th>\n",
       "    </tr>\n",
       "  </thead>\n",
       "  <tbody>\n",
       "    <tr>\n",
       "      <th>668</th>\n",
       "      <td>Thanksgiving of Horror</td>\n",
       "      <td>7.3</td>\n",
       "    </tr>\n",
       "    <tr>\n",
       "      <th>669</th>\n",
       "      <td>Todd, Todd, Why Hast Thou Forsaken Me?</td>\n",
       "      <td>6.4</td>\n",
       "    </tr>\n",
       "    <tr>\n",
       "      <th>670</th>\n",
       "      <td>Bobby, It's Cold Outside</td>\n",
       "      <td>6.7</td>\n",
       "    </tr>\n",
       "    <tr>\n",
       "      <th>671</th>\n",
       "      <td>Hail to the Teeth</td>\n",
       "      <td>6</td>\n",
       "    </tr>\n",
       "    <tr>\n",
       "      <th>672</th>\n",
       "      <td>The Miseducation of Lisa Simpson</td>\n",
       "      <td>6.6</td>\n",
       "    </tr>\n",
       "    <tr>\n",
       "      <th>673</th>\n",
       "      <td>Frinkcoin</td>\n",
       "      <td>5.9</td>\n",
       "    </tr>\n",
       "    <tr>\n",
       "      <th>674</th>\n",
       "      <td>Bart the Bad Guy</td>\n",
       "      <td>7.4</td>\n",
       "    </tr>\n",
       "    <tr>\n",
       "      <th>675</th>\n",
       "      <td>Screenless</td>\n",
       "      <td>6.6</td>\n",
       "    </tr>\n",
       "    <tr>\n",
       "      <th>676</th>\n",
       "      <td>Better Off Ned</td>\n",
       "      <td>6.5</td>\n",
       "    </tr>\n",
       "    <tr>\n",
       "      <th>677</th>\n",
       "      <td>Highway to Well</td>\n",
       "      <td>7</td>\n",
       "    </tr>\n",
       "  </tbody>\n",
       "</table>\n",
       "</div>"
      ],
      "text/plain": [
       "                               episode_name IMDB rating\n",
       "668                  Thanksgiving of Horror         7.3\n",
       "669  Todd, Todd, Why Hast Thou Forsaken Me?         6.4\n",
       "670                Bobby, It's Cold Outside         6.7\n",
       "671                       Hail to the Teeth           6\n",
       "672        The Miseducation of Lisa Simpson         6.6\n",
       "673                               Frinkcoin         5.9\n",
       "674                        Bart the Bad Guy         7.4\n",
       "675                              Screenless         6.6\n",
       "676                          Better Off Ned         6.5\n",
       "677                         Highway to Well           7"
      ]
     },
     "execution_count": 104,
     "metadata": {},
     "output_type": "execute_result"
    }
   ],
   "source": [
    "df_ratings.tail(10)"
   ]
  },
  {
   "cell_type": "markdown",
   "metadata": {},
   "source": [
    "For this particular project, only the first 660 episodes will be investigated. This decision was made as the last episodes do not have as much description written about them as they are quite new. "
   ]
  },
  {
   "cell_type": "code",
   "execution_count": 105,
   "metadata": {},
   "outputs": [],
   "source": [
    "df_ratings = df_ratings[:661]"
   ]
  },
  {
   "cell_type": "code",
   "execution_count": 106,
   "metadata": {},
   "outputs": [
    {
     "data": {
      "text/html": [
       "<div>\n",
       "<style scoped>\n",
       "    .dataframe tbody tr th:only-of-type {\n",
       "        vertical-align: middle;\n",
       "    }\n",
       "\n",
       "    .dataframe tbody tr th {\n",
       "        vertical-align: top;\n",
       "    }\n",
       "\n",
       "    .dataframe thead th {\n",
       "        text-align: right;\n",
       "    }\n",
       "</style>\n",
       "<table border=\"1\" class=\"dataframe\">\n",
       "  <thead>\n",
       "    <tr style=\"text-align: right;\">\n",
       "      <th></th>\n",
       "      <th>episode_name</th>\n",
       "      <th>IMDB rating</th>\n",
       "    </tr>\n",
       "  </thead>\n",
       "  <tbody>\n",
       "    <tr>\n",
       "      <th>659</th>\n",
       "      <td>Woo-Hoo Dunnit?</td>\n",
       "      <td>5.9</td>\n",
       "    </tr>\n",
       "    <tr>\n",
       "      <th>660</th>\n",
       "      <td>Crystal Blue-Haired Persuasion</td>\n",
       "      <td>5.8</td>\n",
       "    </tr>\n",
       "  </tbody>\n",
       "</table>\n",
       "</div>"
      ],
      "text/plain": [
       "                       episode_name IMDB rating\n",
       "659                 Woo-Hoo Dunnit?         5.9\n",
       "660  Crystal Blue-Haired Persuasion         5.8"
      ]
     },
     "execution_count": 106,
     "metadata": {},
     "output_type": "execute_result"
    }
   ],
   "source": [
    "df_ratings.tail(2)"
   ]
  },
  {
   "cell_type": "markdown",
   "metadata": {},
   "source": [
    "Concatinating these two DataFrames will yield more informative data. However, a simple merge on the names will not do because the names are not exactly identical on IMDB and Wikipedia. The `NaN` values will be looked at and manually fixed: "
   ]
  },
  {
   "cell_type": "code",
   "execution_count": 107,
   "metadata": {},
   "outputs": [],
   "source": [
    "df_episodes_ratings = pd.merge(df_episodes, df_ratings, on='episode_name',how='left')"
   ]
  },
  {
   "cell_type": "markdown",
   "metadata": {},
   "source": [
    "The following episodes do not get a rating after the join because the naming convention are different between IMDB and Wikipedia."
   ]
  },
  {
   "cell_type": "code",
   "execution_count": 108,
   "metadata": {
    "scrolled": true
   },
   "outputs": [
    {
     "data": {
      "text/html": [
       "<div>\n",
       "<style scoped>\n",
       "    .dataframe tbody tr th:only-of-type {\n",
       "        vertical-align: middle;\n",
       "    }\n",
       "\n",
       "    .dataframe tbody tr th {\n",
       "        vertical-align: top;\n",
       "    }\n",
       "\n",
       "    .dataframe thead th {\n",
       "        text-align: right;\n",
       "    }\n",
       "</style>\n",
       "<table border=\"1\" class=\"dataframe\">\n",
       "  <thead>\n",
       "    <tr style=\"text-align: right;\">\n",
       "      <th></th>\n",
       "      <th>no_overall</th>\n",
       "      <th>season</th>\n",
       "      <th>no_in_season</th>\n",
       "      <th>episode_name</th>\n",
       "      <th>airdate</th>\n",
       "      <th>viewers (millions)</th>\n",
       "      <th>IMDB rating</th>\n",
       "    </tr>\n",
       "  </thead>\n",
       "  <tbody>\n",
       "    <tr>\n",
       "      <th>13</th>\n",
       "      <td>14</td>\n",
       "      <td>2</td>\n",
       "      <td>1</td>\n",
       "      <td>Bart Gets an \"F\"</td>\n",
       "      <td>October 11, 1990 (1990-10-11)</td>\n",
       "      <td>33.6</td>\n",
       "      <td>NaN</td>\n",
       "    </tr>\n",
       "    <tr>\n",
       "      <th>21</th>\n",
       "      <td>22</td>\n",
       "      <td>2</td>\n",
       "      <td>9</td>\n",
       "      <td>Itchy &amp; Scratchy &amp; Marge</td>\n",
       "      <td>December 20, 1990 (1990-12-20)</td>\n",
       "      <td>22.2</td>\n",
       "      <td>NaN</td>\n",
       "    </tr>\n",
       "    <tr>\n",
       "      <th>28</th>\n",
       "      <td>29</td>\n",
       "      <td>2</td>\n",
       "      <td>16</td>\n",
       "      <td>Bart's Dog Gets an \"F\"</td>\n",
       "      <td>March 7, 1991 (1991-03-07)</td>\n",
       "      <td>23.9</td>\n",
       "      <td>NaN</td>\n",
       "    </tr>\n",
       "    <tr>\n",
       "      <th>88</th>\n",
       "      <td>89</td>\n",
       "      <td>5</td>\n",
       "      <td>8</td>\n",
       "      <td>Boy-Scoutz 'n the Hood</td>\n",
       "      <td>November 18, 1993 (1993-11-18)</td>\n",
       "      <td>20.1</td>\n",
       "      <td>NaN</td>\n",
       "    </tr>\n",
       "    <tr>\n",
       "      <th>90</th>\n",
       "      <td>91</td>\n",
       "      <td>5</td>\n",
       "      <td>10</td>\n",
       "      <td>$pringfield (or, How I Learned to Stop Worryin...</td>\n",
       "      <td>December 16, 1993 (1993-12-16)</td>\n",
       "      <td>17.9</td>\n",
       "      <td>NaN</td>\n",
       "    </tr>\n",
       "    <tr>\n",
       "      <th>123</th>\n",
       "      <td>124</td>\n",
       "      <td>6</td>\n",
       "      <td>21</td>\n",
       "      <td>The PTA Disbands!</td>\n",
       "      <td>April 16, 1995 (1995-04-16)</td>\n",
       "      <td>11.8</td>\n",
       "      <td>NaN</td>\n",
       "    </tr>\n",
       "    <tr>\n",
       "      <th>127</th>\n",
       "      <td>128</td>\n",
       "      <td>6</td>\n",
       "      <td>25</td>\n",
       "      <td>Who Shot Mr. Burns? (Part One)</td>\n",
       "      <td>May 21, 1995 (1995-05-21)</td>\n",
       "      <td>15.0</td>\n",
       "      <td>NaN</td>\n",
       "    </tr>\n",
       "    <tr>\n",
       "      <th>128</th>\n",
       "      <td>129</td>\n",
       "      <td>7</td>\n",
       "      <td>1</td>\n",
       "      <td>Who Shot Mr. Burns? (Part Two)</td>\n",
       "      <td>September 17, 1995 (1995-09-17)</td>\n",
       "      <td>16.0</td>\n",
       "      <td>NaN</td>\n",
       "    </tr>\n",
       "    <tr>\n",
       "      <th>130</th>\n",
       "      <td>131</td>\n",
       "      <td>7</td>\n",
       "      <td>3</td>\n",
       "      <td>Home Sweet Homediddly-Dum-Doodily</td>\n",
       "      <td>October 1, 1995 (1995-10-01)</td>\n",
       "      <td>14.5</td>\n",
       "      <td>NaN</td>\n",
       "    </tr>\n",
       "    <tr>\n",
       "      <th>134</th>\n",
       "      <td>135</td>\n",
       "      <td>7</td>\n",
       "      <td>7</td>\n",
       "      <td>King-Size Homer</td>\n",
       "      <td>November 5, 1995 (1995-11-05)</td>\n",
       "      <td>17.0</td>\n",
       "      <td>NaN</td>\n",
       "    </tr>\n",
       "    <tr>\n",
       "      <th>137</th>\n",
       "      <td>138</td>\n",
       "      <td>7</td>\n",
       "      <td>10</td>\n",
       "      <td>The Simpsons 138th Episode Spectacular</td>\n",
       "      <td>December 3, 1995 (1995-12-03)</td>\n",
       "      <td>16.4</td>\n",
       "      <td>NaN</td>\n",
       "    </tr>\n",
       "    <tr>\n",
       "      <th>149</th>\n",
       "      <td>150</td>\n",
       "      <td>7</td>\n",
       "      <td>22</td>\n",
       "      <td>Raging Abe Simpson and His Grumbling Grandson ...</td>\n",
       "      <td>April 28, 1996 (1996-04-28)</td>\n",
       "      <td>13.0</td>\n",
       "      <td>NaN</td>\n",
       "    </tr>\n",
       "    <tr>\n",
       "      <th>152</th>\n",
       "      <td>153</td>\n",
       "      <td>7</td>\n",
       "      <td>25</td>\n",
       "      <td>Summer of 4 Ft. 2</td>\n",
       "      <td>May 19, 1996 (1996-05-19)</td>\n",
       "      <td>14.7</td>\n",
       "      <td>NaN</td>\n",
       "    </tr>\n",
       "    <tr>\n",
       "      <th>161</th>\n",
       "      <td>162</td>\n",
       "      <td>8</td>\n",
       "      <td>9</td>\n",
       "      <td>El Viaje Misterioso de Nuestro Jomer (The Myst...</td>\n",
       "      <td>January 5, 1997 (1997-01-05)</td>\n",
       "      <td>14.9</td>\n",
       "      <td>NaN</td>\n",
       "    </tr>\n",
       "    <tr>\n",
       "      <th>170</th>\n",
       "      <td>171</td>\n",
       "      <td>8</td>\n",
       "      <td>18</td>\n",
       "      <td>Homer vs. the Eighteenth Amendment</td>\n",
       "      <td>March 16, 1997 (1997-03-16)</td>\n",
       "      <td>14.6</td>\n",
       "      <td>NaN</td>\n",
       "    </tr>\n",
       "    <tr>\n",
       "      <th>209</th>\n",
       "      <td>210</td>\n",
       "      <td>10</td>\n",
       "      <td>7</td>\n",
       "      <td>Lisa Gets an \"A\"</td>\n",
       "      <td>November 22, 1998 (1998-11-22)</td>\n",
       "      <td>8</td>\n",
       "      <td>NaN</td>\n",
       "    </tr>\n",
       "    <tr>\n",
       "      <th>210</th>\n",
       "      <td>211</td>\n",
       "      <td>10</td>\n",
       "      <td>8</td>\n",
       "      <td>Homer Simpson in: \"Kidney Trouble\"</td>\n",
       "      <td>December 6, 1998 (1998-12-06)</td>\n",
       "      <td>7.2</td>\n",
       "      <td>NaN</td>\n",
       "    </tr>\n",
       "    <tr>\n",
       "      <th>217</th>\n",
       "      <td>218</td>\n",
       "      <td>10</td>\n",
       "      <td>15</td>\n",
       "      <td>Marge Simpson in: \"Screaming Yellow Honkers\"</td>\n",
       "      <td>February 21, 1999 (1999-02-21)</td>\n",
       "      <td>8.6</td>\n",
       "      <td>NaN</td>\n",
       "    </tr>\n",
       "    <tr>\n",
       "      <th>222</th>\n",
       "      <td>223</td>\n",
       "      <td>10</td>\n",
       "      <td>20</td>\n",
       "      <td>The Old Man and the \"C\" Student</td>\n",
       "      <td>April 25, 1999 (1999-04-25)</td>\n",
       "      <td>6.9</td>\n",
       "      <td>NaN</td>\n",
       "    </tr>\n",
       "    <tr>\n",
       "      <th>225</th>\n",
       "      <td>226</td>\n",
       "      <td>10</td>\n",
       "      <td>23</td>\n",
       "      <td>Thirty Minutes over Tokyo</td>\n",
       "      <td>May 16, 1999 (1999-05-16)</td>\n",
       "      <td>8</td>\n",
       "      <td>NaN</td>\n",
       "    </tr>\n",
       "    <tr>\n",
       "      <th>239</th>\n",
       "      <td>240</td>\n",
       "      <td>11</td>\n",
       "      <td>14</td>\n",
       "      <td>Alone Again, Natura-Diddily</td>\n",
       "      <td>February 13, 2000 (2000-02-13)</td>\n",
       "      <td>10.8</td>\n",
       "      <td>NaN</td>\n",
       "    </tr>\n",
       "    <tr>\n",
       "      <th>251</th>\n",
       "      <td>252</td>\n",
       "      <td>12</td>\n",
       "      <td>4</td>\n",
       "      <td>Lisa the Tree Hugger</td>\n",
       "      <td>November 19, 2000 (2000-11-19)</td>\n",
       "      <td>14.9</td>\n",
       "      <td>NaN</td>\n",
       "    </tr>\n",
       "    <tr>\n",
       "      <th>256</th>\n",
       "      <td>257</td>\n",
       "      <td>12</td>\n",
       "      <td>9</td>\n",
       "      <td>HOMR</td>\n",
       "      <td>January 7, 2001 (2001-01-07)</td>\n",
       "      <td>18.5</td>\n",
       "      <td>NaN</td>\n",
       "    </tr>\n",
       "    <tr>\n",
       "      <th>262</th>\n",
       "      <td>263</td>\n",
       "      <td>12</td>\n",
       "      <td>15</td>\n",
       "      <td>Hungry, Hungry Homer</td>\n",
       "      <td>March 4, 2001 (2001-03-04)</td>\n",
       "      <td>17.6</td>\n",
       "      <td>NaN</td>\n",
       "    </tr>\n",
       "    <tr>\n",
       "      <th>263</th>\n",
       "      <td>264</td>\n",
       "      <td>12</td>\n",
       "      <td>16</td>\n",
       "      <td>Bye Bye Nerdie</td>\n",
       "      <td>March 11, 2001 (2001-03-11)</td>\n",
       "      <td>16.1</td>\n",
       "      <td>NaN</td>\n",
       "    </tr>\n",
       "    <tr>\n",
       "      <th>286</th>\n",
       "      <td>287</td>\n",
       "      <td>13</td>\n",
       "      <td>18</td>\n",
       "      <td>I Am Furious (Yellow)</td>\n",
       "      <td>April 28, 2002 (2002-04-28)</td>\n",
       "      <td>12.4</td>\n",
       "      <td>NaN</td>\n",
       "    </tr>\n",
       "    <tr>\n",
       "      <th>290</th>\n",
       "      <td>291</td>\n",
       "      <td>13</td>\n",
       "      <td>22</td>\n",
       "      <td>Poppa's Got a Brand New Badge</td>\n",
       "      <td>May 22, 2002 (2002-05-22)</td>\n",
       "      <td>8.2</td>\n",
       "      <td>NaN</td>\n",
       "    </tr>\n",
       "    <tr>\n",
       "      <th>293</th>\n",
       "      <td>294</td>\n",
       "      <td>14</td>\n",
       "      <td>3</td>\n",
       "      <td>Bart vs. Lisa vs. the Third Grade</td>\n",
       "      <td>November 17, 2002 (2002-11-17)</td>\n",
       "      <td>13.3</td>\n",
       "      <td>NaN</td>\n",
       "    </tr>\n",
       "    <tr>\n",
       "      <th>318</th>\n",
       "      <td>319</td>\n",
       "      <td>15</td>\n",
       "      <td>6</td>\n",
       "      <td>Today I Am a Clown</td>\n",
       "      <td>December 7, 2003 (2003-12-07)</td>\n",
       "      <td>10.5</td>\n",
       "      <td>NaN</td>\n",
       "    </tr>\n",
       "    <tr>\n",
       "      <th>321</th>\n",
       "      <td>322</td>\n",
       "      <td>15</td>\n",
       "      <td>9</td>\n",
       "      <td>I, (Annoyed Grunt)-bot</td>\n",
       "      <td>January 11, 2004 (2004-01-11)</td>\n",
       "      <td>16.3</td>\n",
       "      <td>NaN</td>\n",
       "    </tr>\n",
       "    <tr>\n",
       "      <th>327</th>\n",
       "      <td>328</td>\n",
       "      <td>15</td>\n",
       "      <td>15</td>\n",
       "      <td>Co-Dependents' Day</td>\n",
       "      <td>March 21, 2004 (2004-03-21)</td>\n",
       "      <td>11.2</td>\n",
       "      <td>NaN</td>\n",
       "    </tr>\n",
       "    <tr>\n",
       "      <th>353</th>\n",
       "      <td>354</td>\n",
       "      <td>16</td>\n",
       "      <td>19</td>\n",
       "      <td>Thank God, It's Doomsday</td>\n",
       "      <td>May 8, 2005 (2005-05-08)</td>\n",
       "      <td>10.05</td>\n",
       "      <td>NaN</td>\n",
       "    </tr>\n",
       "    <tr>\n",
       "      <th>377</th>\n",
       "      <td>378</td>\n",
       "      <td>17</td>\n",
       "      <td>22</td>\n",
       "      <td>Marge and Homer Turn a Couple Play</td>\n",
       "      <td>May 21, 2006 (2006-05-21)</td>\n",
       "      <td>8.23</td>\n",
       "      <td>NaN</td>\n",
       "    </tr>\n",
       "    <tr>\n",
       "      <th>379</th>\n",
       "      <td>380</td>\n",
       "      <td>18</td>\n",
       "      <td>2</td>\n",
       "      <td>Jazzy and the Pussycats</td>\n",
       "      <td>September 17, 2006 (2006-09-17)</td>\n",
       "      <td>8.94</td>\n",
       "      <td>NaN</td>\n",
       "    </tr>\n",
       "    <tr>\n",
       "      <th>384</th>\n",
       "      <td>385</td>\n",
       "      <td>18</td>\n",
       "      <td>7</td>\n",
       "      <td>Ice Cream of Margie (with the Light Blue Hair)</td>\n",
       "      <td>November 26, 2006 (2006-11-26)</td>\n",
       "      <td>10.90</td>\n",
       "      <td>NaN</td>\n",
       "    </tr>\n",
       "    <tr>\n",
       "      <th>386</th>\n",
       "      <td>387</td>\n",
       "      <td>18</td>\n",
       "      <td>9</td>\n",
       "      <td>Kill Gil, Volumes I &amp; II</td>\n",
       "      <td>December 17, 2006 (2006-12-17)</td>\n",
       "      <td>8.96</td>\n",
       "      <td>NaN</td>\n",
       "    </tr>\n",
       "    <tr>\n",
       "      <th>392</th>\n",
       "      <td>393</td>\n",
       "      <td>18</td>\n",
       "      <td>15</td>\n",
       "      <td>Rome-Old and Juli-Eh</td>\n",
       "      <td>March 11, 2007 (2007-03-11)</td>\n",
       "      <td>8.98</td>\n",
       "      <td>NaN</td>\n",
       "    </tr>\n",
       "    <tr>\n",
       "      <th>397</th>\n",
       "      <td>398</td>\n",
       "      <td>18</td>\n",
       "      <td>20</td>\n",
       "      <td>Stop! Or My Dog Will Shoot</td>\n",
       "      <td>May 13, 2007 (2007-05-13)</td>\n",
       "      <td>6.48</td>\n",
       "      <td>NaN</td>\n",
       "    </tr>\n",
       "    <tr>\n",
       "      <th>401</th>\n",
       "      <td>402</td>\n",
       "      <td>19</td>\n",
       "      <td>2</td>\n",
       "      <td>The Homer of Seville</td>\n",
       "      <td>September 30, 2007 (2007-09-30)</td>\n",
       "      <td>8.4</td>\n",
       "      <td>NaN</td>\n",
       "    </tr>\n",
       "    <tr>\n",
       "      <th>412</th>\n",
       "      <td>413</td>\n",
       "      <td>19</td>\n",
       "      <td>13</td>\n",
       "      <td>The Debarted</td>\n",
       "      <td>March 2, 2008 (2008-03-02)</td>\n",
       "      <td>8.18</td>\n",
       "      <td>NaN</td>\n",
       "    </tr>\n",
       "    <tr>\n",
       "      <th>413</th>\n",
       "      <td>414</td>\n",
       "      <td>19</td>\n",
       "      <td>14</td>\n",
       "      <td>Dial \"N\" for Nerder</td>\n",
       "      <td>March 9, 2008 (2008-03-09)</td>\n",
       "      <td>7.3</td>\n",
       "      <td>NaN</td>\n",
       "    </tr>\n",
       "    <tr>\n",
       "      <th>438</th>\n",
       "      <td>439</td>\n",
       "      <td>20</td>\n",
       "      <td>19</td>\n",
       "      <td>Waverly Hills, 9-0-2-1-D'oh</td>\n",
       "      <td>May 3, 2009 (2009-05-03)</td>\n",
       "      <td>6.75</td>\n",
       "      <td>NaN</td>\n",
       "    </tr>\n",
       "    <tr>\n",
       "      <th>448</th>\n",
       "      <td>449</td>\n",
       "      <td>21</td>\n",
       "      <td>8</td>\n",
       "      <td>O Brother, Where Bart Thou?</td>\n",
       "      <td>December 13, 2009 (2009-12-13)</td>\n",
       "      <td>7.11</td>\n",
       "      <td>NaN</td>\n",
       "    </tr>\n",
       "    <tr>\n",
       "      <th>460</th>\n",
       "      <td>461</td>\n",
       "      <td>21</td>\n",
       "      <td>20</td>\n",
       "      <td>To Surveil with Love</td>\n",
       "      <td>May 2, 2010 (2010-05-02)</td>\n",
       "      <td>6.06</td>\n",
       "      <td>NaN</td>\n",
       "    </tr>\n",
       "    <tr>\n",
       "      <th>479</th>\n",
       "      <td>480</td>\n",
       "      <td>22</td>\n",
       "      <td>16</td>\n",
       "      <td>A Midsummer's Nice Dream</td>\n",
       "      <td>March 13, 2011 (2011-03-13)</td>\n",
       "      <td>5.44</td>\n",
       "      <td>NaN</td>\n",
       "    </tr>\n",
       "    <tr>\n",
       "      <th>486</th>\n",
       "      <td>487</td>\n",
       "      <td>23</td>\n",
       "      <td>1</td>\n",
       "      <td>The Falcon and the D'ohman</td>\n",
       "      <td>September 25, 2011 (2011-09-25)</td>\n",
       "      <td>8.08</td>\n",
       "      <td>NaN</td>\n",
       "    </tr>\n",
       "    <tr>\n",
       "      <th>504</th>\n",
       "      <td>505</td>\n",
       "      <td>23</td>\n",
       "      <td>19</td>\n",
       "      <td>A Totally Fun Thing That Bart Will Never Do Again</td>\n",
       "      <td>April 29, 2012 (2012-04-29)</td>\n",
       "      <td>5.00</td>\n",
       "      <td>NaN</td>\n",
       "    </tr>\n",
       "    <tr>\n",
       "      <th>506</th>\n",
       "      <td>507</td>\n",
       "      <td>23</td>\n",
       "      <td>21</td>\n",
       "      <td>Ned 'n' Edna's Blend Agenda</td>\n",
       "      <td>May 13, 2012 (2012-05-13)</td>\n",
       "      <td>4.07</td>\n",
       "      <td>NaN</td>\n",
       "    </tr>\n",
       "    <tr>\n",
       "      <th>518</th>\n",
       "      <td>519</td>\n",
       "      <td>24</td>\n",
       "      <td>11</td>\n",
       "      <td>The Changing of the Guardian</td>\n",
       "      <td>January 27, 2013 (2013-01-27)</td>\n",
       "      <td>5.23</td>\n",
       "      <td>NaN</td>\n",
       "    </tr>\n",
       "    <tr>\n",
       "      <th>519</th>\n",
       "      <td>520</td>\n",
       "      <td>24</td>\n",
       "      <td>12</td>\n",
       "      <td>Love Is a Many-Splintered Thing</td>\n",
       "      <td>February 10, 2013 (2013-02-10)</td>\n",
       "      <td>4.19</td>\n",
       "      <td>NaN</td>\n",
       "    </tr>\n",
       "    <tr>\n",
       "      <th>522</th>\n",
       "      <td>523</td>\n",
       "      <td>24</td>\n",
       "      <td>15</td>\n",
       "      <td>Black Eyed, Please</td>\n",
       "      <td>March 10, 2013 (2013-03-10)</td>\n",
       "      <td>4.85</td>\n",
       "      <td>NaN</td>\n",
       "    </tr>\n",
       "    <tr>\n",
       "      <th>575</th>\n",
       "      <td>576</td>\n",
       "      <td>27</td>\n",
       "      <td>2</td>\n",
       "      <td>Cue Detective</td>\n",
       "      <td>October 4, 2015 (2015-10-04)</td>\n",
       "      <td>6.02</td>\n",
       "      <td>NaN</td>\n",
       "    </tr>\n",
       "    <tr>\n",
       "      <th>580</th>\n",
       "      <td>581</td>\n",
       "      <td>27</td>\n",
       "      <td>7</td>\n",
       "      <td>Lisa with an 'S'</td>\n",
       "      <td>November 22, 2015 (2015-11-22)</td>\n",
       "      <td>5.64</td>\n",
       "      <td>NaN</td>\n",
       "    </tr>\n",
       "    <tr>\n",
       "      <th>600</th>\n",
       "      <td>601</td>\n",
       "      <td>28</td>\n",
       "      <td>5</td>\n",
       "      <td>Trust but Clarify</td>\n",
       "      <td>October 23, 2016 (2016-10-23)</td>\n",
       "      <td>3.36</td>\n",
       "      <td>NaN</td>\n",
       "    </tr>\n",
       "    <tr>\n",
       "      <th>623</th>\n",
       "      <td>624</td>\n",
       "      <td>29</td>\n",
       "      <td>6</td>\n",
       "      <td>The Old Blue Mayor She Ain't What She Used to Be</td>\n",
       "      <td>November 12, 2017 (2017-11-12)</td>\n",
       "      <td>4.75</td>\n",
       "      <td>NaN</td>\n",
       "    </tr>\n",
       "    <tr>\n",
       "      <th>629</th>\n",
       "      <td>630</td>\n",
       "      <td>29</td>\n",
       "      <td>12</td>\n",
       "      <td>Homer Is Where the Art Isn't</td>\n",
       "      <td>March 18, 2018 (2018-03-18)</td>\n",
       "      <td>2.10</td>\n",
       "      <td>NaN</td>\n",
       "    </tr>\n",
       "  </tbody>\n",
       "</table>\n",
       "</div>"
      ],
      "text/plain": [
       "     no_overall  season  no_in_season  \\\n",
       "13           14       2             1   \n",
       "21           22       2             9   \n",
       "28           29       2            16   \n",
       "88           89       5             8   \n",
       "90           91       5            10   \n",
       "123         124       6            21   \n",
       "127         128       6            25   \n",
       "128         129       7             1   \n",
       "130         131       7             3   \n",
       "134         135       7             7   \n",
       "137         138       7            10   \n",
       "149         150       7            22   \n",
       "152         153       7            25   \n",
       "161         162       8             9   \n",
       "170         171       8            18   \n",
       "209         210      10             7   \n",
       "210         211      10             8   \n",
       "217         218      10            15   \n",
       "222         223      10            20   \n",
       "225         226      10            23   \n",
       "239         240      11            14   \n",
       "251         252      12             4   \n",
       "256         257      12             9   \n",
       "262         263      12            15   \n",
       "263         264      12            16   \n",
       "286         287      13            18   \n",
       "290         291      13            22   \n",
       "293         294      14             3   \n",
       "318         319      15             6   \n",
       "321         322      15             9   \n",
       "327         328      15            15   \n",
       "353         354      16            19   \n",
       "377         378      17            22   \n",
       "379         380      18             2   \n",
       "384         385      18             7   \n",
       "386         387      18             9   \n",
       "392         393      18            15   \n",
       "397         398      18            20   \n",
       "401         402      19             2   \n",
       "412         413      19            13   \n",
       "413         414      19            14   \n",
       "438         439      20            19   \n",
       "448         449      21             8   \n",
       "460         461      21            20   \n",
       "479         480      22            16   \n",
       "486         487      23             1   \n",
       "504         505      23            19   \n",
       "506         507      23            21   \n",
       "518         519      24            11   \n",
       "519         520      24            12   \n",
       "522         523      24            15   \n",
       "575         576      27             2   \n",
       "580         581      27             7   \n",
       "600         601      28             5   \n",
       "623         624      29             6   \n",
       "629         630      29            12   \n",
       "\n",
       "                                          episode_name  \\\n",
       "13                                    Bart Gets an \"F\"   \n",
       "21                            Itchy & Scratchy & Marge   \n",
       "28                              Bart's Dog Gets an \"F\"   \n",
       "88                              Boy-Scoutz 'n the Hood   \n",
       "90   $pringfield (or, How I Learned to Stop Worryin...   \n",
       "123                                  The PTA Disbands!   \n",
       "127                     Who Shot Mr. Burns? (Part One)   \n",
       "128                     Who Shot Mr. Burns? (Part Two)   \n",
       "130                  Home Sweet Homediddly-Dum-Doodily   \n",
       "134                                    King-Size Homer   \n",
       "137             The Simpsons 138th Episode Spectacular   \n",
       "149  Raging Abe Simpson and His Grumbling Grandson ...   \n",
       "152                                  Summer of 4 Ft. 2   \n",
       "161  El Viaje Misterioso de Nuestro Jomer (The Myst...   \n",
       "170                 Homer vs. the Eighteenth Amendment   \n",
       "209                                   Lisa Gets an \"A\"   \n",
       "210                 Homer Simpson in: \"Kidney Trouble\"   \n",
       "217       Marge Simpson in: \"Screaming Yellow Honkers\"   \n",
       "222                    The Old Man and the \"C\" Student   \n",
       "225                          Thirty Minutes over Tokyo   \n",
       "239                        Alone Again, Natura-Diddily   \n",
       "251                               Lisa the Tree Hugger   \n",
       "256                                               HOMR   \n",
       "262                               Hungry, Hungry Homer   \n",
       "263                                     Bye Bye Nerdie   \n",
       "286                              I Am Furious (Yellow)   \n",
       "290                      Poppa's Got a Brand New Badge   \n",
       "293                  Bart vs. Lisa vs. the Third Grade   \n",
       "318                                 Today I Am a Clown   \n",
       "321                             I, (Annoyed Grunt)-bot   \n",
       "327                                 Co-Dependents' Day   \n",
       "353                           Thank God, It's Doomsday   \n",
       "377                 Marge and Homer Turn a Couple Play   \n",
       "379                            Jazzy and the Pussycats   \n",
       "384     Ice Cream of Margie (with the Light Blue Hair)   \n",
       "386                           Kill Gil, Volumes I & II   \n",
       "392                               Rome-Old and Juli-Eh   \n",
       "397                         Stop! Or My Dog Will Shoot   \n",
       "401                               The Homer of Seville   \n",
       "412                                       The Debarted   \n",
       "413                                Dial \"N\" for Nerder   \n",
       "438                        Waverly Hills, 9-0-2-1-D'oh   \n",
       "448                        O Brother, Where Bart Thou?   \n",
       "460                               To Surveil with Love   \n",
       "479                           A Midsummer's Nice Dream   \n",
       "486                         The Falcon and the D'ohman   \n",
       "504  A Totally Fun Thing That Bart Will Never Do Again   \n",
       "506                        Ned 'n' Edna's Blend Agenda   \n",
       "518                       The Changing of the Guardian   \n",
       "519                    Love Is a Many-Splintered Thing   \n",
       "522                                 Black Eyed, Please   \n",
       "575                                      Cue Detective   \n",
       "580                                   Lisa with an 'S'   \n",
       "600                                  Trust but Clarify   \n",
       "623   The Old Blue Mayor She Ain't What She Used to Be   \n",
       "629                       Homer Is Where the Art Isn't   \n",
       "\n",
       "                             airdate viewers (millions) IMDB rating  \n",
       "13     October 11, 1990 (1990-10-11)               33.6         NaN  \n",
       "21    December 20, 1990 (1990-12-20)               22.2         NaN  \n",
       "28        March 7, 1991 (1991-03-07)               23.9         NaN  \n",
       "88    November 18, 1993 (1993-11-18)               20.1         NaN  \n",
       "90    December 16, 1993 (1993-12-16)               17.9         NaN  \n",
       "123      April 16, 1995 (1995-04-16)               11.8         NaN  \n",
       "127        May 21, 1995 (1995-05-21)               15.0         NaN  \n",
       "128  September 17, 1995 (1995-09-17)               16.0         NaN  \n",
       "130     October 1, 1995 (1995-10-01)               14.5         NaN  \n",
       "134    November 5, 1995 (1995-11-05)               17.0         NaN  \n",
       "137    December 3, 1995 (1995-12-03)               16.4         NaN  \n",
       "149      April 28, 1996 (1996-04-28)               13.0         NaN  \n",
       "152        May 19, 1996 (1996-05-19)               14.7         NaN  \n",
       "161     January 5, 1997 (1997-01-05)               14.9         NaN  \n",
       "170      March 16, 1997 (1997-03-16)               14.6         NaN  \n",
       "209   November 22, 1998 (1998-11-22)                  8         NaN  \n",
       "210    December 6, 1998 (1998-12-06)                7.2         NaN  \n",
       "217   February 21, 1999 (1999-02-21)                8.6         NaN  \n",
       "222      April 25, 1999 (1999-04-25)                6.9         NaN  \n",
       "225        May 16, 1999 (1999-05-16)                  8         NaN  \n",
       "239   February 13, 2000 (2000-02-13)               10.8         NaN  \n",
       "251   November 19, 2000 (2000-11-19)               14.9         NaN  \n",
       "256     January 7, 2001 (2001-01-07)               18.5         NaN  \n",
       "262       March 4, 2001 (2001-03-04)               17.6         NaN  \n",
       "263      March 11, 2001 (2001-03-11)               16.1         NaN  \n",
       "286      April 28, 2002 (2002-04-28)               12.4         NaN  \n",
       "290        May 22, 2002 (2002-05-22)                8.2         NaN  \n",
       "293   November 17, 2002 (2002-11-17)               13.3         NaN  \n",
       "318    December 7, 2003 (2003-12-07)               10.5         NaN  \n",
       "321    January 11, 2004 (2004-01-11)               16.3         NaN  \n",
       "327      March 21, 2004 (2004-03-21)               11.2         NaN  \n",
       "353         May 8, 2005 (2005-05-08)              10.05         NaN  \n",
       "377        May 21, 2006 (2006-05-21)               8.23         NaN  \n",
       "379  September 17, 2006 (2006-09-17)               8.94         NaN  \n",
       "384   November 26, 2006 (2006-11-26)              10.90         NaN  \n",
       "386   December 17, 2006 (2006-12-17)               8.96         NaN  \n",
       "392      March 11, 2007 (2007-03-11)               8.98         NaN  \n",
       "397        May 13, 2007 (2007-05-13)               6.48         NaN  \n",
       "401  September 30, 2007 (2007-09-30)                8.4         NaN  \n",
       "412       March 2, 2008 (2008-03-02)               8.18         NaN  \n",
       "413       March 9, 2008 (2008-03-09)                7.3         NaN  \n",
       "438         May 3, 2009 (2009-05-03)               6.75         NaN  \n",
       "448   December 13, 2009 (2009-12-13)               7.11         NaN  \n",
       "460         May 2, 2010 (2010-05-02)               6.06         NaN  \n",
       "479      March 13, 2011 (2011-03-13)               5.44         NaN  \n",
       "486  September 25, 2011 (2011-09-25)               8.08         NaN  \n",
       "504      April 29, 2012 (2012-04-29)               5.00         NaN  \n",
       "506        May 13, 2012 (2012-05-13)               4.07         NaN  \n",
       "518    January 27, 2013 (2013-01-27)               5.23         NaN  \n",
       "519   February 10, 2013 (2013-02-10)               4.19         NaN  \n",
       "522      March 10, 2013 (2013-03-10)               4.85         NaN  \n",
       "575     October 4, 2015 (2015-10-04)               6.02         NaN  \n",
       "580   November 22, 2015 (2015-11-22)               5.64         NaN  \n",
       "600    October 23, 2016 (2016-10-23)               3.36         NaN  \n",
       "623   November 12, 2017 (2017-11-12)               4.75         NaN  \n",
       "629      March 18, 2018 (2018-03-18)               2.10         NaN  "
      ]
     },
     "execution_count": 108,
     "metadata": {},
     "output_type": "execute_result"
    }
   ],
   "source": [
    "df_episodes_ratings[df_episodes_ratings['IMDB rating'].isna()]"
   ]
  },
  {
   "cell_type": "markdown",
   "metadata": {},
   "source": [
    "A list of the names of the episodes that are missing their ratings can be created: "
   ]
  },
  {
   "cell_type": "code",
   "execution_count": 109,
   "metadata": {
    "scrolled": true
   },
   "outputs": [
    {
     "name": "stdout",
     "output_type": "stream",
     "text": [
      "Bart Gets an F 8.2\n",
      "Itchy and Scratchy and Marge 8.1\n",
      "Bart's Dog Gets an F 7.5\n",
      "Boy Scoutz 'n the Hood 8.7\n",
      "$pringfield (Or, How I Learned to Stop Worrying and Love Legalized Gambling) 8.6\n",
      "The PTA Disbands 8.1\n",
      "Who Shot Mr. Burns? Part One 9.2\n",
      "Who Shot Mr. Burns? Part Two 9\n",
      "Home Sweet Home-Dum-Diddly Doodily 8.4\n",
      "King Size Homer 9\n",
      "The Simpsons 138th Episode Spectacular! 7.5\n",
      "Raging Abe Simpson and His Grumbling Grandson in 'The Curse of the Flying Hellfish' 8.4\n",
      "Summer of 4'2\" 8.4\n",
      "El Viaje Misterioso De Nuestro Jomer 8.6\n",
      "Homer vs. the 18th Amendment 8.9\n",
      "Lisa Gets an 'A' 8.1\n",
      "Homer Simpson in: 'Kidney Trouble' 7.3\n",
      "Marge Simpson in 'Screaming Yellow Honkers' 7.3\n",
      "The Old Man and the 'C' Student 7.3\n",
      "Thirty Minutes Over Tokyo 8\n",
      "Alone Again, Natura-Diddly 7.7\n",
      "Lisa the Treehugger 7.1\n",
      "Homr 8.1\n",
      "Hungry Hungry Homer 7.5\n",
      "Bye Bye Nerdy 6.6\n",
      "I Am Furious Yellow 7.7\n",
      "Papa's Got a Brand New Badge 7.8\n",
      "Bart vs. Lisa vs. 3rd Grade 7.1\n",
      "Today, I Am a Clown 6.4\n",
      "I, (Annoyed Grunt)-Bot 7.3\n",
      "Co-Dependent's Day 6.7\n",
      "Thank God It's Doomsday 7.2\n",
      "Homer and Marge Turn a Couple Play 6.3\n",
      "Jazzy & The Pussycats 6.6\n",
      "Ice Cream of Margie: With the Light Blue Hair 6.9\n",
      "Kill Gil, Vol. 1 & 2 6.2\n",
      "Rome-old and Juli-eh 6.1\n",
      "Stop or My Dog Will Shoot 6.7\n",
      "Homer of Seville 6.5\n",
      "The DeBarted 7.6\n",
      "Dial 'N' for Nerder 7.3\n",
      "Waverly Hills, 9021-D'Oh 7\n",
      "Oh Brother, Where Bart Thou? 7.1\n",
      "To Surveil, with Love 7.1\n",
      "A Midsummer's Nice Dreams 5.9\n",
      "The Falcon and the D'Ohman 7\n",
      "A Totally Fun Thing Bart Will Never Do Again 7.5\n",
      "Ned 'N' Edna's Blend 6.5\n",
      "Changing of the Guardian 6.4\n",
      "Love Is a Many Splintered Thing 6.1\n",
      "Black-Eyed, Please 6.8\n",
      "'Cue Detective 6.6\n",
      "Lisa with an \"S\" 5.9\n",
      "Trust But Clarify 6.3\n",
      "Singin' in the Lane 6.3\n",
      "3 Scenes Plus a Tag from a Marriage 6.6\n"
     ]
    }
   ],
   "source": [
    "missing = df_episodes_ratings[df_episodes_ratings['IMDB rating'].isna()].reset_index()\n",
    "missing_episodes = missing['index']\n",
    "for episode in missing_episodes:\n",
    "    print(df_ratings.iloc[episode]['episode_name'],df_ratings.iloc[episode]['IMDB rating'])"
   ]
  },
  {
   "cell_type": "markdown",
   "metadata": {},
   "source": [
    "As can be seen by comparing the two lists, these are the episodes that are missing a rating in the final dataframe. Now, an array can be created with the ratings of these episodes, extracted from `df_ratings`. "
   ]
  },
  {
   "cell_type": "code",
   "execution_count": 110,
   "metadata": {},
   "outputs": [],
   "source": [
    "missing_ratings = []\n",
    "for episode in missing_episodes:\n",
    "    missing_ratings.append([episode,df_episodes.iloc[episode]['episode_name'],df_ratings.iloc[episode]['IMDB rating']])"
   ]
  },
  {
   "cell_type": "code",
   "execution_count": 111,
   "metadata": {},
   "outputs": [],
   "source": [
    "for episode in missing_ratings: \n",
    "    index = episode[0]\n",
    "    rating = episode[2]\n",
    "    df_episodes_ratings.at[index, 'IMDB rating'] = rating"
   ]
  },
  {
   "cell_type": "code",
   "execution_count": 112,
   "metadata": {},
   "outputs": [
    {
     "data": {
      "text/html": [
       "<div>\n",
       "<style scoped>\n",
       "    .dataframe tbody tr th:only-of-type {\n",
       "        vertical-align: middle;\n",
       "    }\n",
       "\n",
       "    .dataframe tbody tr th {\n",
       "        vertical-align: top;\n",
       "    }\n",
       "\n",
       "    .dataframe thead th {\n",
       "        text-align: right;\n",
       "    }\n",
       "</style>\n",
       "<table border=\"1\" class=\"dataframe\">\n",
       "  <thead>\n",
       "    <tr style=\"text-align: right;\">\n",
       "      <th></th>\n",
       "      <th>no_overall</th>\n",
       "      <th>season</th>\n",
       "      <th>no_in_season</th>\n",
       "      <th>episode_name</th>\n",
       "      <th>airdate</th>\n",
       "      <th>viewers (millions)</th>\n",
       "      <th>IMDB rating</th>\n",
       "    </tr>\n",
       "  </thead>\n",
       "  <tbody>\n",
       "  </tbody>\n",
       "</table>\n",
       "</div>"
      ],
      "text/plain": [
       "Empty DataFrame\n",
       "Columns: [no_overall, season, no_in_season, episode_name, airdate, viewers (millions), IMDB rating]\n",
       "Index: []"
      ]
     },
     "execution_count": 112,
     "metadata": {},
     "output_type": "execute_result"
    }
   ],
   "source": [
    "df_episodes_ratings[df_episodes_ratings['IMDB rating'].isna()]"
   ]
  },
  {
   "cell_type": "markdown",
   "metadata": {},
   "source": [
    "The DataFrame holding each episode's information along with it's rating is now complete, but the airdate column can use a little bit of cleaning:"
   ]
  },
  {
   "cell_type": "code",
   "execution_count": 113,
   "metadata": {},
   "outputs": [
    {
     "data": {
      "text/html": [
       "<div>\n",
       "<style scoped>\n",
       "    .dataframe tbody tr th:only-of-type {\n",
       "        vertical-align: middle;\n",
       "    }\n",
       "\n",
       "    .dataframe tbody tr th {\n",
       "        vertical-align: top;\n",
       "    }\n",
       "\n",
       "    .dataframe thead th {\n",
       "        text-align: right;\n",
       "    }\n",
       "</style>\n",
       "<table border=\"1\" class=\"dataframe\">\n",
       "  <thead>\n",
       "    <tr style=\"text-align: right;\">\n",
       "      <th></th>\n",
       "      <th>no_overall</th>\n",
       "      <th>season</th>\n",
       "      <th>no_in_season</th>\n",
       "      <th>episode_name</th>\n",
       "      <th>airdate</th>\n",
       "      <th>viewers (millions)</th>\n",
       "      <th>IMDB rating</th>\n",
       "    </tr>\n",
       "  </thead>\n",
       "  <tbody>\n",
       "    <tr>\n",
       "      <th>0</th>\n",
       "      <td>1</td>\n",
       "      <td>1</td>\n",
       "      <td>1</td>\n",
       "      <td>Simpsons Roasting on an Open Fire</td>\n",
       "      <td>December 17, 1989 (1989-12-17)</td>\n",
       "      <td>26.7</td>\n",
       "      <td>8.2</td>\n",
       "    </tr>\n",
       "    <tr>\n",
       "      <th>1</th>\n",
       "      <td>2</td>\n",
       "      <td>1</td>\n",
       "      <td>2</td>\n",
       "      <td>Bart the Genius</td>\n",
       "      <td>January 14, 1990 (1990-01-14)</td>\n",
       "      <td>24.5</td>\n",
       "      <td>7.7</td>\n",
       "    </tr>\n",
       "  </tbody>\n",
       "</table>\n",
       "</div>"
      ],
      "text/plain": [
       "   no_overall  season  no_in_season                       episode_name  \\\n",
       "0           1       1             1  Simpsons Roasting on an Open Fire   \n",
       "1           2       1             2                    Bart the Genius   \n",
       "\n",
       "                          airdate viewers (millions) IMDB rating  \n",
       "0  December 17, 1989 (1989-12-17)               26.7         8.2  \n",
       "1   January 14, 1990 (1990-01-14)               24.5         7.7  "
      ]
     },
     "execution_count": 113,
     "metadata": {},
     "output_type": "execute_result"
    }
   ],
   "source": [
    "df_episodes_ratings.head(2)"
   ]
  },
  {
   "cell_type": "code",
   "execution_count": 114,
   "metadata": {},
   "outputs": [],
   "source": [
    "df_episodes_ratings['year'] = df_episodes_ratings['airdate'].apply(lambda x: str(x).split(\"(\")[1].split(\"-\")[0])\n",
    "df_episodes_ratings['month'] = df_episodes_ratings['airdate'].apply(lambda x: str(x).split(\"(\")[1].split(\"-\")[1].split('-')[0])\n",
    "df_episodes_ratings['day'] = df_episodes_ratings['airdate'].apply(lambda x: str(x).split(\"(\")[1].split(\"-\")[2].replace(\")\",\"\"))"
   ]
  },
  {
   "cell_type": "code",
   "execution_count": 115,
   "metadata": {},
   "outputs": [
    {
     "data": {
      "text/html": [
       "<div>\n",
       "<style scoped>\n",
       "    .dataframe tbody tr th:only-of-type {\n",
       "        vertical-align: middle;\n",
       "    }\n",
       "\n",
       "    .dataframe tbody tr th {\n",
       "        vertical-align: top;\n",
       "    }\n",
       "\n",
       "    .dataframe thead th {\n",
       "        text-align: right;\n",
       "    }\n",
       "</style>\n",
       "<table border=\"1\" class=\"dataframe\">\n",
       "  <thead>\n",
       "    <tr style=\"text-align: right;\">\n",
       "      <th></th>\n",
       "      <th>no_overall</th>\n",
       "      <th>season</th>\n",
       "      <th>no_in_season</th>\n",
       "      <th>episode_name</th>\n",
       "      <th>airdate</th>\n",
       "      <th>viewers (millions)</th>\n",
       "      <th>IMDB rating</th>\n",
       "      <th>year</th>\n",
       "      <th>month</th>\n",
       "      <th>day</th>\n",
       "    </tr>\n",
       "  </thead>\n",
       "  <tbody>\n",
       "    <tr>\n",
       "      <th>0</th>\n",
       "      <td>1</td>\n",
       "      <td>1</td>\n",
       "      <td>1</td>\n",
       "      <td>Simpsons Roasting on an Open Fire</td>\n",
       "      <td>December 17, 1989 (1989-12-17)</td>\n",
       "      <td>26.7</td>\n",
       "      <td>8.2</td>\n",
       "      <td>1989</td>\n",
       "      <td>12</td>\n",
       "      <td>17</td>\n",
       "    </tr>\n",
       "    <tr>\n",
       "      <th>1</th>\n",
       "      <td>2</td>\n",
       "      <td>1</td>\n",
       "      <td>2</td>\n",
       "      <td>Bart the Genius</td>\n",
       "      <td>January 14, 1990 (1990-01-14)</td>\n",
       "      <td>24.5</td>\n",
       "      <td>7.7</td>\n",
       "      <td>1990</td>\n",
       "      <td>01</td>\n",
       "      <td>14</td>\n",
       "    </tr>\n",
       "  </tbody>\n",
       "</table>\n",
       "</div>"
      ],
      "text/plain": [
       "   no_overall  season  no_in_season                       episode_name  \\\n",
       "0           1       1             1  Simpsons Roasting on an Open Fire   \n",
       "1           2       1             2                    Bart the Genius   \n",
       "\n",
       "                          airdate viewers (millions) IMDB rating  year month  \\\n",
       "0  December 17, 1989 (1989-12-17)               26.7         8.2  1989    12   \n",
       "1   January 14, 1990 (1990-01-14)               24.5         7.7  1990    01   \n",
       "\n",
       "  day  \n",
       "0  17  \n",
       "1  14  "
      ]
     },
     "execution_count": 115,
     "metadata": {},
     "output_type": "execute_result"
    }
   ],
   "source": [
    "df_episodes_ratings.head(2)"
   ]
  },
  {
   "cell_type": "markdown",
   "metadata": {},
   "source": [
    "The Airdate column can now be dropped:"
   ]
  },
  {
   "cell_type": "code",
   "execution_count": 116,
   "metadata": {},
   "outputs": [],
   "source": [
    "df_episodes_ratings.drop('airdate',axis=1,inplace=True)"
   ]
  },
  {
   "cell_type": "markdown",
   "metadata": {},
   "source": [
    "And finally, the IMDB rating column should hold float values:"
   ]
  },
  {
   "cell_type": "code",
   "execution_count": 117,
   "metadata": {},
   "outputs": [],
   "source": [
    "df_episodes_ratings['IMDB rating'] = df_episodes_ratings['IMDB rating'].apply(lambda x: float(x))"
   ]
  },
  {
   "cell_type": "markdown",
   "metadata": {},
   "source": [
    "There are still some `NaN` values in the column `viewers (millions)`"
   ]
  },
  {
   "cell_type": "code",
   "execution_count": 118,
   "metadata": {},
   "outputs": [
    {
     "data": {
      "text/html": [
       "<div>\n",
       "<style scoped>\n",
       "    .dataframe tbody tr th:only-of-type {\n",
       "        vertical-align: middle;\n",
       "    }\n",
       "\n",
       "    .dataframe tbody tr th {\n",
       "        vertical-align: top;\n",
       "    }\n",
       "\n",
       "    .dataframe thead th {\n",
       "        text-align: right;\n",
       "    }\n",
       "</style>\n",
       "<table border=\"1\" class=\"dataframe\">\n",
       "  <thead>\n",
       "    <tr style=\"text-align: right;\">\n",
       "      <th></th>\n",
       "      <th>no_overall</th>\n",
       "      <th>season</th>\n",
       "      <th>no_in_season</th>\n",
       "      <th>episode_name</th>\n",
       "      <th>viewers (millions)</th>\n",
       "      <th>IMDB rating</th>\n",
       "      <th>year</th>\n",
       "      <th>month</th>\n",
       "      <th>day</th>\n",
       "    </tr>\n",
       "  </thead>\n",
       "  <tbody>\n",
       "    <tr>\n",
       "      <th>159</th>\n",
       "      <td>160</td>\n",
       "      <td>8</td>\n",
       "      <td>7</td>\n",
       "      <td>Lisa's Date with Density</td>\n",
       "      <td>N/A</td>\n",
       "      <td>7.9</td>\n",
       "      <td>1996</td>\n",
       "      <td>12</td>\n",
       "      <td>15</td>\n",
       "    </tr>\n",
       "    <tr>\n",
       "      <th>160</th>\n",
       "      <td>161</td>\n",
       "      <td>8</td>\n",
       "      <td>8</td>\n",
       "      <td>Hurricane Neddy</td>\n",
       "      <td>N/A</td>\n",
       "      <td>8.8</td>\n",
       "      <td>1996</td>\n",
       "      <td>12</td>\n",
       "      <td>29</td>\n",
       "    </tr>\n",
       "    <tr>\n",
       "      <th>172</th>\n",
       "      <td>173</td>\n",
       "      <td>8</td>\n",
       "      <td>20</td>\n",
       "      <td>The Canine Mutiny</td>\n",
       "      <td>N/A</td>\n",
       "      <td>7.7</td>\n",
       "      <td>1997</td>\n",
       "      <td>04</td>\n",
       "      <td>13</td>\n",
       "    </tr>\n",
       "  </tbody>\n",
       "</table>\n",
       "</div>"
      ],
      "text/plain": [
       "     no_overall  season  no_in_season              episode_name  \\\n",
       "159         160       8             7  Lisa's Date with Density   \n",
       "160         161       8             8           Hurricane Neddy   \n",
       "172         173       8            20         The Canine Mutiny   \n",
       "\n",
       "    viewers (millions)  IMDB rating  year month day  \n",
       "159                N/A          7.9  1996    12  15  \n",
       "160                N/A          8.8  1996    12  29  \n",
       "172                N/A          7.7  1997    04  13  "
      ]
     },
     "execution_count": 118,
     "metadata": {},
     "output_type": "execute_result"
    }
   ],
   "source": [
    "df_episodes_ratings[df_episodes_ratings['viewers (millions)'] == 'N/A']"
   ]
  },
  {
   "cell_type": "markdown",
   "metadata": {},
   "source": [
    "These values will be set as the average of the viewers for the season that they belong to."
   ]
  },
  {
   "cell_type": "code",
   "execution_count": 119,
   "metadata": {},
   "outputs": [],
   "source": [
    "avg_season_8 = np.average([float(viewer) for viewer in df_episodes_ratings[(df_episodes_ratings['viewers (millions)'] != 'N/A') & (df_episodes_ratings['season'] == 8)]['viewers (millions)']])"
   ]
  },
  {
   "cell_type": "markdown",
   "metadata": {},
   "source": [
    "The values that need to be filled in are in places 159, 160 and 172:"
   ]
  },
  {
   "cell_type": "code",
   "execution_count": 120,
   "metadata": {},
   "outputs": [],
   "source": [
    "fill_na_indices = [index for index in df_episodes_ratings[df_episodes_ratings['viewers (millions)'] == 'N/A'].reset_index()['index']]"
   ]
  },
  {
   "cell_type": "code",
   "execution_count": 121,
   "metadata": {},
   "outputs": [],
   "source": [
    "for index in fill_na_indices:    \n",
    "    df_episodes_ratings.at[index,'viewers (millions)'] = avg_season_8"
   ]
  },
  {
   "cell_type": "markdown",
   "metadata": {},
   "source": [
    "This column should also hold float values."
   ]
  },
  {
   "cell_type": "code",
   "execution_count": 122,
   "metadata": {},
   "outputs": [],
   "source": [
    "df_episodes_ratings['viewers (millions)'] = df_episodes_ratings['viewers (millions)'].apply(lambda x: float(x))"
   ]
  },
  {
   "cell_type": "code",
   "execution_count": 123,
   "metadata": {},
   "outputs": [
    {
     "data": {
      "text/plain": [
       "no_overall            0\n",
       "season                0\n",
       "no_in_season          0\n",
       "episode_name          0\n",
       "viewers (millions)    0\n",
       "IMDB rating           0\n",
       "year                  0\n",
       "month                 0\n",
       "day                   0\n",
       "dtype: int64"
      ]
     },
     "execution_count": 123,
     "metadata": {},
     "output_type": "execute_result"
    }
   ],
   "source": [
    "df_episodes_ratings.isna().sum()"
   ]
  },
  {
   "cell_type": "code",
   "execution_count": 124,
   "metadata": {},
   "outputs": [],
   "source": [
    "df_episodes_ratings.to_csv('episode_ratings.csv')"
   ]
  },
  {
   "cell_type": "markdown",
   "metadata": {},
   "source": [
    "### Simpsons.fandom Pages of Each Episode <a class=\"anchor\" id=\"two.one.four\"></a>"
   ]
  },
  {
   "cell_type": "markdown",
   "metadata": {},
   "source": [
    "In order to scour through each episode's descriotion, scraping a Wiki fan-page of the series is necessary."
   ]
  },
  {
   "cell_type": "code",
   "execution_count": 125,
   "metadata": {},
   "outputs": [],
   "source": [
    "wiki_url = 'https://simpsons.fandom.com/wiki/List_of_Episodes'"
   ]
  },
  {
   "cell_type": "code",
   "execution_count": 126,
   "metadata": {},
   "outputs": [],
   "source": [
    "links_array = []\n",
    "res = requests.get(wiki_url).text\n",
    "soup = BeautifulSoup(res,'html')\n",
    "no_overall = 1\n",
    "for table in soup.find_all('table', class_='wikitable')[1:31]: #Skip the overview table and only take the first 30 seasons\n",
    "    for row in table.find_all('tr'):\n",
    "            links = row.find_all('a')\n",
    "            for link in links:\n",
    "                if(link['href'].split('/wiki/')[1] != 'The_Simpsons_Movie'):\n",
    "                    links_array.append([no_overall,link['href'].split('/wiki/')[1]])\n",
    "                    no_overall = no_overall + 1"
   ]
  },
  {
   "cell_type": "code",
   "execution_count": 127,
   "metadata": {},
   "outputs": [],
   "source": [
    "df_episode_wiki = pd.DataFrame(links_array)\n",
    "df_episode_wiki.columns = ['no_overall','wiki_link']"
   ]
  },
  {
   "cell_type": "code",
   "execution_count": 128,
   "metadata": {},
   "outputs": [
    {
     "data": {
      "text/html": [
       "<div>\n",
       "<style scoped>\n",
       "    .dataframe tbody tr th:only-of-type {\n",
       "        vertical-align: middle;\n",
       "    }\n",
       "\n",
       "    .dataframe tbody tr th {\n",
       "        vertical-align: top;\n",
       "    }\n",
       "\n",
       "    .dataframe thead th {\n",
       "        text-align: right;\n",
       "    }\n",
       "</style>\n",
       "<table border=\"1\" class=\"dataframe\">\n",
       "  <thead>\n",
       "    <tr style=\"text-align: right;\">\n",
       "      <th></th>\n",
       "      <th>no_overall</th>\n",
       "      <th>wiki_link</th>\n",
       "    </tr>\n",
       "  </thead>\n",
       "  <tbody>\n",
       "    <tr>\n",
       "      <th>0</th>\n",
       "      <td>1</td>\n",
       "      <td>Simpsons_Roasting_on_an_Open_Fire</td>\n",
       "    </tr>\n",
       "    <tr>\n",
       "      <th>1</th>\n",
       "      <td>2</td>\n",
       "      <td>Bart_the_Genius</td>\n",
       "    </tr>\n",
       "    <tr>\n",
       "      <th>2</th>\n",
       "      <td>3</td>\n",
       "      <td>Homer%27s_Odyssey</td>\n",
       "    </tr>\n",
       "    <tr>\n",
       "      <th>3</th>\n",
       "      <td>4</td>\n",
       "      <td>There%27s_No_Disgrace_Like_Home</td>\n",
       "    </tr>\n",
       "    <tr>\n",
       "      <th>4</th>\n",
       "      <td>5</td>\n",
       "      <td>Bart_the_General</td>\n",
       "    </tr>\n",
       "    <tr>\n",
       "      <th>...</th>\n",
       "      <td>...</td>\n",
       "      <td>...</td>\n",
       "    </tr>\n",
       "    <tr>\n",
       "      <th>656</th>\n",
       "      <td>657</td>\n",
       "      <td>Girl%27s_in_the_Band</td>\n",
       "    </tr>\n",
       "    <tr>\n",
       "      <th>657</th>\n",
       "      <td>658</td>\n",
       "      <td>I%27m_Just_a_Girl_Who_Can%27t_Say_D%27oh</td>\n",
       "    </tr>\n",
       "    <tr>\n",
       "      <th>658</th>\n",
       "      <td>659</td>\n",
       "      <td>D%27oh_Canada</td>\n",
       "    </tr>\n",
       "    <tr>\n",
       "      <th>659</th>\n",
       "      <td>660</td>\n",
       "      <td>Woo-hoo_Dunnit%3F</td>\n",
       "    </tr>\n",
       "    <tr>\n",
       "      <th>660</th>\n",
       "      <td>661</td>\n",
       "      <td>Crystal_Blue-Haired_Persuasion</td>\n",
       "    </tr>\n",
       "  </tbody>\n",
       "</table>\n",
       "<p>661 rows × 2 columns</p>\n",
       "</div>"
      ],
      "text/plain": [
       "     no_overall                                 wiki_link\n",
       "0             1         Simpsons_Roasting_on_an_Open_Fire\n",
       "1             2                           Bart_the_Genius\n",
       "2             3                         Homer%27s_Odyssey\n",
       "3             4           There%27s_No_Disgrace_Like_Home\n",
       "4             5                          Bart_the_General\n",
       "..          ...                                       ...\n",
       "656         657                      Girl%27s_in_the_Band\n",
       "657         658  I%27m_Just_a_Girl_Who_Can%27t_Say_D%27oh\n",
       "658         659                             D%27oh_Canada\n",
       "659         660                         Woo-hoo_Dunnit%3F\n",
       "660         661            Crystal_Blue-Haired_Persuasion\n",
       "\n",
       "[661 rows x 2 columns]"
      ]
     },
     "execution_count": 128,
     "metadata": {},
     "output_type": "execute_result"
    }
   ],
   "source": [
    "df_episode_wiki"
   ]
  },
  {
   "cell_type": "markdown",
   "metadata": {},
   "source": [
    "Again, the episode 'The Great Phatsby' (episode 608/609), is causing problems. It can be solved as it was before:"
   ]
  },
  {
   "cell_type": "code",
   "execution_count": 129,
   "metadata": {},
   "outputs": [],
   "source": [
    "phatsby_insert = pd.DataFrame({'no_overall':609, 'wiki_link':'The_Great_Phatsby'},index=[608])\n",
    "phatsby_insert\n",
    "df_episode_wiki = pd.concat([df_episode_wiki.iloc[:608], phatsby_insert, df_episode_wiki[608:]])\n",
    "df_episode_wiki.reset_index(inplace=True, drop=True)\n",
    "df_episode_wiki_no_correction = df_episode_wiki.iloc[609:]\n",
    "df_episode_wiki_no_correction['no_overall'] = df_episode_wiki_no_correction['no_overall'].apply(lambda x: x+1)\n",
    "df_episde_wiki = pd.concat([df_episode_wiki.iloc[:608], df_episode_wiki_no_correction])"
   ]
  },
  {
   "cell_type": "code",
   "execution_count": 130,
   "metadata": {},
   "outputs": [],
   "source": [
    "df_episodes_ratings = pd.merge(df_episodes_ratings,df_episode_wiki)"
   ]
  },
  {
   "cell_type": "code",
   "execution_count": 131,
   "metadata": {},
   "outputs": [
    {
     "data": {
      "text/html": [
       "<div>\n",
       "<style scoped>\n",
       "    .dataframe tbody tr th:only-of-type {\n",
       "        vertical-align: middle;\n",
       "    }\n",
       "\n",
       "    .dataframe tbody tr th {\n",
       "        vertical-align: top;\n",
       "    }\n",
       "\n",
       "    .dataframe thead th {\n",
       "        text-align: right;\n",
       "    }\n",
       "</style>\n",
       "<table border=\"1\" class=\"dataframe\">\n",
       "  <thead>\n",
       "    <tr style=\"text-align: right;\">\n",
       "      <th></th>\n",
       "      <th>no_overall</th>\n",
       "      <th>season</th>\n",
       "      <th>no_in_season</th>\n",
       "      <th>episode_name</th>\n",
       "      <th>viewers (millions)</th>\n",
       "      <th>IMDB rating</th>\n",
       "      <th>year</th>\n",
       "      <th>month</th>\n",
       "      <th>day</th>\n",
       "      <th>wiki_link</th>\n",
       "    </tr>\n",
       "  </thead>\n",
       "  <tbody>\n",
       "    <tr>\n",
       "      <th>0</th>\n",
       "      <td>1</td>\n",
       "      <td>1</td>\n",
       "      <td>1</td>\n",
       "      <td>Simpsons Roasting on an Open Fire</td>\n",
       "      <td>26.7</td>\n",
       "      <td>8.2</td>\n",
       "      <td>1989</td>\n",
       "      <td>12</td>\n",
       "      <td>17</td>\n",
       "      <td>Simpsons_Roasting_on_an_Open_Fire</td>\n",
       "    </tr>\n",
       "    <tr>\n",
       "      <th>1</th>\n",
       "      <td>2</td>\n",
       "      <td>1</td>\n",
       "      <td>2</td>\n",
       "      <td>Bart the Genius</td>\n",
       "      <td>24.5</td>\n",
       "      <td>7.7</td>\n",
       "      <td>1990</td>\n",
       "      <td>01</td>\n",
       "      <td>14</td>\n",
       "      <td>Bart_the_Genius</td>\n",
       "    </tr>\n",
       "    <tr>\n",
       "      <th>2</th>\n",
       "      <td>3</td>\n",
       "      <td>1</td>\n",
       "      <td>3</td>\n",
       "      <td>Homer's Odyssey</td>\n",
       "      <td>27.5</td>\n",
       "      <td>7.4</td>\n",
       "      <td>1990</td>\n",
       "      <td>01</td>\n",
       "      <td>21</td>\n",
       "      <td>Homer%27s_Odyssey</td>\n",
       "    </tr>\n",
       "    <tr>\n",
       "      <th>3</th>\n",
       "      <td>4</td>\n",
       "      <td>1</td>\n",
       "      <td>4</td>\n",
       "      <td>There's No Disgrace Like Home</td>\n",
       "      <td>20.2</td>\n",
       "      <td>7.7</td>\n",
       "      <td>1990</td>\n",
       "      <td>01</td>\n",
       "      <td>28</td>\n",
       "      <td>There%27s_No_Disgrace_Like_Home</td>\n",
       "    </tr>\n",
       "    <tr>\n",
       "      <th>4</th>\n",
       "      <td>5</td>\n",
       "      <td>1</td>\n",
       "      <td>5</td>\n",
       "      <td>Bart the General</td>\n",
       "      <td>27.1</td>\n",
       "      <td>8.0</td>\n",
       "      <td>1990</td>\n",
       "      <td>02</td>\n",
       "      <td>04</td>\n",
       "      <td>Bart_the_General</td>\n",
       "    </tr>\n",
       "  </tbody>\n",
       "</table>\n",
       "</div>"
      ],
      "text/plain": [
       "   no_overall  season  no_in_season                       episode_name  \\\n",
       "0           1       1             1  Simpsons Roasting on an Open Fire   \n",
       "1           2       1             2                    Bart the Genius   \n",
       "2           3       1             3                    Homer's Odyssey   \n",
       "3           4       1             4      There's No Disgrace Like Home   \n",
       "4           5       1             5                   Bart the General   \n",
       "\n",
       "   viewers (millions)  IMDB rating  year month day  \\\n",
       "0                26.7          8.2  1989    12  17   \n",
       "1                24.5          7.7  1990    01  14   \n",
       "2                27.5          7.4  1990    01  21   \n",
       "3                20.2          7.7  1990    01  28   \n",
       "4                27.1          8.0  1990    02  04   \n",
       "\n",
       "                           wiki_link  \n",
       "0  Simpsons_Roasting_on_an_Open_Fire  \n",
       "1                    Bart_the_Genius  \n",
       "2                  Homer%27s_Odyssey  \n",
       "3    There%27s_No_Disgrace_Like_Home  \n",
       "4                   Bart_the_General  "
      ]
     },
     "execution_count": 131,
     "metadata": {},
     "output_type": "execute_result"
    }
   ],
   "source": [
    "df_episodes_ratings.head(5)"
   ]
  },
  {
   "cell_type": "markdown",
   "metadata": {},
   "source": [
    "### Creating Text Files of Episodes <a class=\"anchor\" id=\"two.one.five\"></a>\n",
    "\n",
    "Here, each description is fetched and saved as a text file in order to attach them to the data set later. "
   ]
  },
  {
   "cell_type": "code",
   "execution_count": 132,
   "metadata": {
    "scrolled": false
   },
   "outputs": [],
   "source": [
    "if not os.path.exists('synopsis'):\n",
    "        os.mkdir('synopsis')\n",
    "        \n",
    "not_full_story = ['Mr._Spritz_Goes_to_Washington', \n",
    "                  'Three_Gays_of_the_Condo', \n",
    "                  'The_Fat_and_the_Furriest', \n",
    "                  'Today,_I_Am_a_Clown', \n",
    "                  'Simple_Simpson', \n",
    "                  'Fat_Man_and_Little_Boy', \n",
    "                  'My_Fare_Lady', \n",
    "                  'To_Courier_with_Love', \n",
    "                  'Lisa_Gets_the_Blues', \n",
    "                  'Girl%27s_in_the_Band',\n",
    "                  'A_Star_is_Born-Again',\n",
    "                  'Milhouse_Doesn%27t_Live_Here_Anymore']\n",
    "\n",
    "for season in df_episodes_ratings['season'].unique():\n",
    "    if not os.path.exists('synopsis/'+'season'+str(season)):\n",
    "        os.mkdir('synopsis/'+'season'+str(season))\n",
    "\n",
    "save_path = os.getcwd()+'/synopsis/'\n",
    "for episode in df_episodes_ratings['wiki_link']:\n",
    "    syn = \" \"\n",
    "    \n",
    "    res = requests.get(\"https://simpsons.fandom.com/wiki/{}\".format(episode)).text\n",
    "    ep_number = df_episodes_ratings[df_episodes_ratings['wiki_link']==episode]['no_overall'].values[0]\n",
    "    season = int(df_episodes_ratings[df_episodes_ratings['wiki_link']==episode]['season'].values[0])\n",
    "    \n",
    "    soup = BeautifulSoup(res,'html')\n",
    "    \n",
    "    # Remove all images\n",
    "    figs = soup.findAll('figure')\n",
    "    for fig in figs:\n",
    "        fig.decompose()\n",
    "        \n",
    "    h3s = soup.findAll('h3')\n",
    "    for h3 in h3s:\n",
    "        h3.decompose()\n",
    "\n",
    "    if(episode in not_full_story):\n",
    "        parent = soup.find('span', {'id':'Synopsis'}).parent\n",
    "        sibling = parent.next_sibling\n",
    "        while(sibling.name == 'p' or sibling.name is None or sibling.name =='a' or sibling.name==''):\n",
    "            if(sibling.name == 'p' or sibling.name=='a'):\n",
    "                syn += ' ' + str(sibling.text)\n",
    "                sibling = sibling.next_sibling\n",
    "            else:\n",
    "                sibling = sibling.next_sibling\n",
    "\n",
    "            \n",
    "    else:\n",
    "\n",
    "        if(soup.find('span', {'id':'Full_Story'})):\n",
    "            \n",
    "            parent = soup.find('span', {'id':'Full_Story'}).parent\n",
    "            sibling = parent.next_sibling\n",
    "            while(sibling.name == 'p' or sibling.name is None or sibling.name =='a'):\n",
    "                if(sibling.name == 'p' or sibling.name=='a'):\n",
    "                    syn += ' ' + str(sibling.text)\n",
    "                    sibling = sibling.next_sibling\n",
    "                else:\n",
    "                    sibling = sibling.next_sibling\n",
    "\n",
    "        elif(soup.find('span', {'id':'The_Story'})):\n",
    "            \n",
    "            parent = soup.find('span', {'id':'The_Story'}).parent\n",
    "            sibling = parent.next_sibling\n",
    "            while(sibling.name == 'p' or sibling.name is None or sibling.name =='a'):\n",
    "                if(sibling.name == 'p' or sibling.name=='a'):\n",
    "                    syn += ' ' + str(sibling.text)\n",
    "                    sibling = sibling.next_sibling\n",
    "                else:\n",
    "                    sibling = sibling.next_sibling\n",
    "                    \n",
    "        elif(soup.find('span', {'id':'Full_story'})):\n",
    "            \n",
    "            parent = soup.find('span', {'id':'Full_story'}).parent\n",
    "            sibling = parent.next_sibling\n",
    "            while(sibling.name == 'p' or sibling.name is None or sibling.name =='a'):\n",
    "                if(sibling.name == 'p' or sibling.name=='a'):\n",
    "                    syn += ' ' + str(sibling.text)\n",
    "                    sibling = sibling.next_sibling\n",
    "                else:\n",
    "                    sibling = sibling.next_sibling\n",
    "\n",
    "        elif(soup.find('span', {'id':'Plot'})):\n",
    "            \n",
    "            parent = soup.find('span', {'id':'Plot'}).parent\n",
    "            sibling = parent.next_sibling\n",
    "            while(sibling.name == 'p' or sibling.name is None or sibling.name=='a'):\n",
    "                if(sibling.name == 'p' or sibling.name=='a'):\n",
    "                    syn += ' ' + str(sibling.text)\n",
    "                    sibling = sibling.next_sibling\n",
    "                else:\n",
    "                    sibling = sibling.next_sibling\n",
    "                    \n",
    "        elif(soup.find('span', {'id':'Full_Story.C2.A0'})):\n",
    "            \n",
    "            parent = soup.find('span', {'id':'Full_Story.C2.A0'}).parent\n",
    "            sibling = parent.next_sibling\n",
    "\n",
    "            while(sibling.name == 'p' or sibling.name is None or sibling.name =='a'):\n",
    "                if(sibling.name == 'p' or sibling.name=='a'):\n",
    "                    syn += ' ' + str(sibling.text)\n",
    "                    sibling = sibling.next_sibling\n",
    "                else:\n",
    "                    sibling = sibling.next_sibling\n",
    "\n",
    "                    \n",
    "    complete_name = os.path.join(os.path.expanduser('~'),save_path+'season'+str(season)+'/',str(ep_number)+'.txt')\n",
    "\n",
    "    with io.open(complete_name, \"w\", encoding=\"utf-8\") as f: \n",
    "        f.write(str(syn))\n",
    "        f.close()"
   ]
  },
  {
   "cell_type": "markdown",
   "metadata": {},
   "source": [
    "It is then necessary to copy episode 608 and create episode 609, as these two episodes are the same episode - often referred to as episode \"608609\". "
   ]
  },
  {
   "cell_type": "code",
   "execution_count": 133,
   "metadata": {},
   "outputs": [],
   "source": [
    "save_path = os.getcwd()+'/synopsis/season28/'\n",
    "path = save_path+\"608.txt\"\n",
    "text = io.open(path,'r',encoding='utf-8').read()\n",
    "with io.open(save_path+'609.txt', \"w\", encoding=\"utf-8\") as f: \n",
    "    f.write(str(text))\n",
    "    f.close()"
   ]
  },
  {
   "cell_type": "code",
   "execution_count": 134,
   "metadata": {},
   "outputs": [],
   "source": [
    "rows = []\n",
    "for ep in df_episodes_ratings['no_overall']:\n",
    "    season = df_episodes_ratings[df_episodes_ratings['no_overall']==ep]['season'].values[0]\n",
    "    with io.open(\"synopsis/season{}/{}.txt\".format(season,ep),'r', encoding='utf-8') as f:\n",
    "        desc = f.read()\n",
    "        desc = desc.lower()\n",
    "        rows.append([ep,desc])\n",
    "        f.close()"
   ]
  },
  {
   "cell_type": "code",
   "execution_count": 135,
   "metadata": {},
   "outputs": [],
   "source": [
    "df_desc = pd.DataFrame(rows, columns = ['no_overall','desc'])"
   ]
  },
  {
   "cell_type": "code",
   "execution_count": 136,
   "metadata": {},
   "outputs": [
    {
     "data": {
      "text/html": [
       "<div>\n",
       "<style scoped>\n",
       "    .dataframe tbody tr th:only-of-type {\n",
       "        vertical-align: middle;\n",
       "    }\n",
       "\n",
       "    .dataframe tbody tr th {\n",
       "        vertical-align: top;\n",
       "    }\n",
       "\n",
       "    .dataframe thead th {\n",
       "        text-align: right;\n",
       "    }\n",
       "</style>\n",
       "<table border=\"1\" class=\"dataframe\">\n",
       "  <thead>\n",
       "    <tr style=\"text-align: right;\">\n",
       "      <th></th>\n",
       "      <th>no_overall</th>\n",
       "      <th>desc</th>\n",
       "    </tr>\n",
       "  </thead>\n",
       "  <tbody>\n",
       "    <tr>\n",
       "      <th>167</th>\n",
       "      <td>168</td>\n",
       "      <td></td>\n",
       "    </tr>\n",
       "    <tr>\n",
       "      <th>256</th>\n",
       "      <td>257</td>\n",
       "      <td></td>\n",
       "    </tr>\n",
       "    <tr>\n",
       "      <th>321</th>\n",
       "      <td>322</td>\n",
       "      <td></td>\n",
       "    </tr>\n",
       "    <tr>\n",
       "      <th>364</th>\n",
       "      <td>365</td>\n",
       "      <td></td>\n",
       "    </tr>\n",
       "    <tr>\n",
       "      <th>430</th>\n",
       "      <td>431</td>\n",
       "      <td></td>\n",
       "    </tr>\n",
       "    <tr>\n",
       "      <th>642</th>\n",
       "      <td>643</td>\n",
       "      <td></td>\n",
       "    </tr>\n",
       "    <tr>\n",
       "      <th>645</th>\n",
       "      <td>646</td>\n",
       "      <td></td>\n",
       "    </tr>\n",
       "    <tr>\n",
       "      <th>659</th>\n",
       "      <td>660</td>\n",
       "      <td></td>\n",
       "    </tr>\n",
       "  </tbody>\n",
       "</table>\n",
       "</div>"
      ],
      "text/plain": [
       "     no_overall desc\n",
       "167         168     \n",
       "256         257     \n",
       "321         322     \n",
       "364         365     \n",
       "430         431     \n",
       "642         643     \n",
       "645         646     \n",
       "659         660     "
      ]
     },
     "execution_count": 136,
     "metadata": {},
     "output_type": "execute_result"
    }
   ],
   "source": [
    "df_desc[df_desc['desc']==' ']"
   ]
  },
  {
   "cell_type": "markdown",
   "metadata": {},
   "source": [
    "## 3. Natural Language Processing<a class=\"anchor\" id=\"three\"></a>\n",
    "\n",
    "In order to represent the text data better, some useful natural language processing methods had to be used. First, all *stopwords*, along with the word *\"episode\"*, will be removed from the descriptions as they do not pertain any information about the episode itself. \n",
    "\n",
    "Then, the description is split into *tokens* (words) which can later be analyzed. "
   ]
  },
  {
   "cell_type": "code",
   "execution_count": 137,
   "metadata": {},
   "outputs": [],
   "source": [
    "rows = []\n",
    "\n",
    "for ep in df_episodes_ratings['no_overall']:\n",
    "    season = df_episodes_ratings[df_episodes_ratings['no_overall']==ep]['season'].values[0]\n",
    "    with io.open(\"synopsis/season{}/{}.txt\".format(season,ep),'r', encoding='utf-8') as f:\n",
    "        desc = f.read()\n",
    "        desc = re.sub(r'[^\\w]', ' ', desc)\n",
    "        desc = desc.replace('  ',' ').replace('\\n','')[1:]\n",
    "        desc = [word.lower() for word in desc.split(' ') if word.lower() not in stop_words and len(word)>1]\n",
    "        rows.append([ep, desc])\n",
    "        f.close()"
   ]
  },
  {
   "cell_type": "code",
   "execution_count": 138,
   "metadata": {},
   "outputs": [],
   "source": [
    "df_desc = pd.DataFrame(rows, columns = ['no_overall','desc'])\n",
    "df_desc = df_desc[:600]"
   ]
  },
  {
   "cell_type": "markdown",
   "metadata": {},
   "source": [
    "Next, a column is created in order to display the lenght of each description."
   ]
  },
  {
   "cell_type": "code",
   "execution_count": 139,
   "metadata": {},
   "outputs": [],
   "source": [
    "df_desc['len'] = df_desc['desc'].apply(lambda x: len(x))"
   ]
  },
  {
   "cell_type": "code",
   "execution_count": 140,
   "metadata": {},
   "outputs": [],
   "source": [
    "df = df_episodes_ratings.merge(df_desc, on='no_overall')"
   ]
  },
  {
   "cell_type": "code",
   "execution_count": 141,
   "metadata": {},
   "outputs": [
    {
     "data": {
      "text/plain": [
       "Index(['no_overall', 'season', 'no_in_season', 'episode_name',\n",
       "       'viewers (millions)', 'IMDB rating', 'year', 'month', 'day',\n",
       "       'wiki_link', 'desc', 'len'],\n",
       "      dtype='object')"
      ]
     },
     "execution_count": 141,
     "metadata": {},
     "output_type": "execute_result"
    }
   ],
   "source": [
    "df.columns"
   ]
  },
  {
   "cell_type": "code",
   "execution_count": 142,
   "metadata": {},
   "outputs": [],
   "source": [
    "df.columns = ['no_overall', 'season', 'no_in_season', 'episode_name',\n",
    "       'mil_viewers', 'rating', 'year', 'month', 'day',\n",
    "       'wiki_link', 'desc', 'len']"
   ]
  },
  {
   "cell_type": "code",
   "execution_count": 143,
   "metadata": {},
   "outputs": [],
   "source": [
    "df.drop('wiki_link',axis=1,inplace=True)"
   ]
  },
  {
   "cell_type": "code",
   "execution_count": 144,
   "metadata": {},
   "outputs": [],
   "source": [
    "df['mil_viewers'] = df['mil_viewers'].apply(lambda x: float(x))"
   ]
  },
  {
   "cell_type": "code",
   "execution_count": 145,
   "metadata": {},
   "outputs": [],
   "source": [
    "df['day'] = df['day'].replace('22[a]','22')"
   ]
  },
  {
   "cell_type": "code",
   "execution_count": 146,
   "metadata": {},
   "outputs": [],
   "source": [
    "df['no_overall'] = df['no_overall'].apply(lambda x: int(x))\n",
    "df['no_in_season'] = df['no_in_season'].apply(lambda x: int(x))\n",
    "df['season'] = df['season'].apply(lambda x: int(x))\n",
    "df['year'] = df['year'].apply(lambda x: int(x))\n",
    "df['month'] = df['month'].apply(lambda x: int(x))\n",
    "df['day'] = df['day'].apply(lambda x: int(x))\n",
    "df['rating'] = df['rating'].apply(lambda x: float(x))"
   ]
  },
  {
   "cell_type": "markdown",
   "metadata": {},
   "source": [
    "The data set now looks like this, where the column *desc* is essentially a bag of words for each episode. "
   ]
  },
  {
   "cell_type": "code",
   "execution_count": 147,
   "metadata": {},
   "outputs": [
    {
     "data": {
      "text/html": [
       "<div>\n",
       "<style scoped>\n",
       "    .dataframe tbody tr th:only-of-type {\n",
       "        vertical-align: middle;\n",
       "    }\n",
       "\n",
       "    .dataframe tbody tr th {\n",
       "        vertical-align: top;\n",
       "    }\n",
       "\n",
       "    .dataframe thead th {\n",
       "        text-align: right;\n",
       "    }\n",
       "</style>\n",
       "<table border=\"1\" class=\"dataframe\">\n",
       "  <thead>\n",
       "    <tr style=\"text-align: right;\">\n",
       "      <th></th>\n",
       "      <th>no_overall</th>\n",
       "      <th>season</th>\n",
       "      <th>no_in_season</th>\n",
       "      <th>episode_name</th>\n",
       "      <th>mil_viewers</th>\n",
       "      <th>rating</th>\n",
       "      <th>year</th>\n",
       "      <th>month</th>\n",
       "      <th>day</th>\n",
       "      <th>desc</th>\n",
       "      <th>len</th>\n",
       "    </tr>\n",
       "  </thead>\n",
       "  <tbody>\n",
       "    <tr>\n",
       "      <th>250</th>\n",
       "      <td>251</td>\n",
       "      <td>12</td>\n",
       "      <td>3</td>\n",
       "      <td>Insane Clown Poppy</td>\n",
       "      <td>16.40</td>\n",
       "      <td>7.0</td>\n",
       "      <td>2000</td>\n",
       "      <td>11</td>\n",
       "      <td>12</td>\n",
       "      <td>[homer, bart, fix, things, around, house, usin...</td>\n",
       "      <td>176</td>\n",
       "    </tr>\n",
       "    <tr>\n",
       "      <th>70</th>\n",
       "      <td>71</td>\n",
       "      <td>4</td>\n",
       "      <td>12</td>\n",
       "      <td>Marge vs. the Monorail</td>\n",
       "      <td>23.00</td>\n",
       "      <td>9.1</td>\n",
       "      <td>1993</td>\n",
       "      <td>1</td>\n",
       "      <td>14</td>\n",
       "      <td>[caught, dumping, nuclear, waste, city, park, ...</td>\n",
       "      <td>611</td>\n",
       "    </tr>\n",
       "    <tr>\n",
       "      <th>512</th>\n",
       "      <td>513</td>\n",
       "      <td>24</td>\n",
       "      <td>5</td>\n",
       "      <td>Penny-Wiseguys</td>\n",
       "      <td>5.06</td>\n",
       "      <td>6.1</td>\n",
       "      <td>2012</td>\n",
       "      <td>11</td>\n",
       "      <td>18</td>\n",
       "      <td>[homer, surprised, discover, neighbor, bowling...</td>\n",
       "      <td>126</td>\n",
       "    </tr>\n",
       "    <tr>\n",
       "      <th>266</th>\n",
       "      <td>267</td>\n",
       "      <td>12</td>\n",
       "      <td>19</td>\n",
       "      <td>I'm Goin' to Praiseland</td>\n",
       "      <td>13.10</td>\n",
       "      <td>7.2</td>\n",
       "      <td>2001</td>\n",
       "      <td>5</td>\n",
       "      <td>6</td>\n",
       "      <td>[ice, cream, social, church, ned, flanders, bu...</td>\n",
       "      <td>246</td>\n",
       "    </tr>\n",
       "    <tr>\n",
       "      <th>275</th>\n",
       "      <td>276</td>\n",
       "      <td>13</td>\n",
       "      <td>7</td>\n",
       "      <td>Brawl in the Family</td>\n",
       "      <td>11.80</td>\n",
       "      <td>6.8</td>\n",
       "      <td>2002</td>\n",
       "      <td>1</td>\n",
       "      <td>6</td>\n",
       "      <td>[show, meeting, springfield, republican, party...</td>\n",
       "      <td>524</td>\n",
       "    </tr>\n",
       "    <tr>\n",
       "      <th>29</th>\n",
       "      <td>30</td>\n",
       "      <td>2</td>\n",
       "      <td>17</td>\n",
       "      <td>Old Money</td>\n",
       "      <td>21.20</td>\n",
       "      <td>7.6</td>\n",
       "      <td>1991</td>\n",
       "      <td>3</td>\n",
       "      <td>28</td>\n",
       "      <td>[grampa, simpson, returns, retirement, castle,...</td>\n",
       "      <td>285</td>\n",
       "    </tr>\n",
       "    <tr>\n",
       "      <th>399</th>\n",
       "      <td>400</td>\n",
       "      <td>18</td>\n",
       "      <td>22</td>\n",
       "      <td>You Kent Always Say What You Want</td>\n",
       "      <td>9.80</td>\n",
       "      <td>7.1</td>\n",
       "      <td>2007</td>\n",
       "      <td>5</td>\n",
       "      <td>20</td>\n",
       "      <td>[driving, home, appointment, dentist, homer, k...</td>\n",
       "      <td>333</td>\n",
       "    </tr>\n",
       "    <tr>\n",
       "      <th>495</th>\n",
       "      <td>496</td>\n",
       "      <td>23</td>\n",
       "      <td>10</td>\n",
       "      <td>Politically Inept, with Homer Simpson</td>\n",
       "      <td>5.07</td>\n",
       "      <td>5.9</td>\n",
       "      <td>2012</td>\n",
       "      <td>1</td>\n",
       "      <td>8</td>\n",
       "      <td>[simpsons, going, relative, wedding, motana, w...</td>\n",
       "      <td>280</td>\n",
       "    </tr>\n",
       "    <tr>\n",
       "      <th>378</th>\n",
       "      <td>379</td>\n",
       "      <td>18</td>\n",
       "      <td>1</td>\n",
       "      <td>The Mook, the Chef, the Wife and Her Homer</td>\n",
       "      <td>11.50</td>\n",
       "      <td>7.5</td>\n",
       "      <td>2006</td>\n",
       "      <td>9</td>\n",
       "      <td>10</td>\n",
       "      <td>[bart, lisa, kids, way, school, otto, sees, me...</td>\n",
       "      <td>295</td>\n",
       "    </tr>\n",
       "    <tr>\n",
       "      <th>436</th>\n",
       "      <td>437</td>\n",
       "      <td>20</td>\n",
       "      <td>17</td>\n",
       "      <td>The Good, the Sad and the Drugly</td>\n",
       "      <td>6.50</td>\n",
       "      <td>7.1</td>\n",
       "      <td>2009</td>\n",
       "      <td>4</td>\n",
       "      <td>19</td>\n",
       "      <td>[bart, milhouse, pull, prank, springfield, ele...</td>\n",
       "      <td>192</td>\n",
       "    </tr>\n",
       "  </tbody>\n",
       "</table>\n",
       "</div>"
      ],
      "text/plain": [
       "     no_overall  season  no_in_season  \\\n",
       "250         251      12             3   \n",
       "70           71       4            12   \n",
       "512         513      24             5   \n",
       "266         267      12            19   \n",
       "275         276      13             7   \n",
       "29           30       2            17   \n",
       "399         400      18            22   \n",
       "495         496      23            10   \n",
       "378         379      18             1   \n",
       "436         437      20            17   \n",
       "\n",
       "                                   episode_name  mil_viewers  rating  year  \\\n",
       "250                          Insane Clown Poppy        16.40     7.0  2000   \n",
       "70                       Marge vs. the Monorail        23.00     9.1  1993   \n",
       "512                              Penny-Wiseguys         5.06     6.1  2012   \n",
       "266                     I'm Goin' to Praiseland        13.10     7.2  2001   \n",
       "275                         Brawl in the Family        11.80     6.8  2002   \n",
       "29                                    Old Money        21.20     7.6  1991   \n",
       "399           You Kent Always Say What You Want         9.80     7.1  2007   \n",
       "495       Politically Inept, with Homer Simpson         5.07     5.9  2012   \n",
       "378  The Mook, the Chef, the Wife and Her Homer        11.50     7.5  2006   \n",
       "436            The Good, the Sad and the Drugly         6.50     7.1  2009   \n",
       "\n",
       "     month  day                                               desc  len  \n",
       "250     11   12  [homer, bart, fix, things, around, house, usin...  176  \n",
       "70       1   14  [caught, dumping, nuclear, waste, city, park, ...  611  \n",
       "512     11   18  [homer, surprised, discover, neighbor, bowling...  126  \n",
       "266      5    6  [ice, cream, social, church, ned, flanders, bu...  246  \n",
       "275      1    6  [show, meeting, springfield, republican, party...  524  \n",
       "29       3   28  [grampa, simpson, returns, retirement, castle,...  285  \n",
       "399      5   20  [driving, home, appointment, dentist, homer, k...  333  \n",
       "495      1    8  [simpsons, going, relative, wedding, motana, w...  280  \n",
       "378      9   10  [bart, lisa, kids, way, school, otto, sees, me...  295  \n",
       "436      4   19  [bart, milhouse, pull, prank, springfield, ele...  192  "
      ]
     },
     "execution_count": 147,
     "metadata": {},
     "output_type": "execute_result"
    }
   ],
   "source": [
    "df.sample(10)"
   ]
  },
  {
   "cell_type": "markdown",
   "metadata": {},
   "source": [
    "The following episodes are the episodes which do not have a description. These episodes will be removed from the dataset before any model is built."
   ]
  },
  {
   "cell_type": "code",
   "execution_count": 148,
   "metadata": {},
   "outputs": [
    {
     "data": {
      "text/html": [
       "<div>\n",
       "<style scoped>\n",
       "    .dataframe tbody tr th:only-of-type {\n",
       "        vertical-align: middle;\n",
       "    }\n",
       "\n",
       "    .dataframe tbody tr th {\n",
       "        vertical-align: top;\n",
       "    }\n",
       "\n",
       "    .dataframe thead th {\n",
       "        text-align: right;\n",
       "    }\n",
       "</style>\n",
       "<table border=\"1\" class=\"dataframe\">\n",
       "  <thead>\n",
       "    <tr style=\"text-align: right;\">\n",
       "      <th></th>\n",
       "      <th>no_overall</th>\n",
       "      <th>season</th>\n",
       "      <th>no_in_season</th>\n",
       "      <th>episode_name</th>\n",
       "      <th>mil_viewers</th>\n",
       "      <th>rating</th>\n",
       "      <th>year</th>\n",
       "      <th>month</th>\n",
       "      <th>day</th>\n",
       "      <th>desc</th>\n",
       "      <th>len</th>\n",
       "    </tr>\n",
       "  </thead>\n",
       "  <tbody>\n",
       "    <tr>\n",
       "      <th>167</th>\n",
       "      <td>168</td>\n",
       "      <td>8</td>\n",
       "      <td>15</td>\n",
       "      <td>Homer's Phobia</td>\n",
       "      <td>15.30</td>\n",
       "      <td>8.8</td>\n",
       "      <td>1997</td>\n",
       "      <td>2</td>\n",
       "      <td>16</td>\n",
       "      <td>[]</td>\n",
       "      <td>0</td>\n",
       "    </tr>\n",
       "    <tr>\n",
       "      <th>256</th>\n",
       "      <td>257</td>\n",
       "      <td>12</td>\n",
       "      <td>9</td>\n",
       "      <td>HOMR</td>\n",
       "      <td>18.50</td>\n",
       "      <td>8.1</td>\n",
       "      <td>2001</td>\n",
       "      <td>1</td>\n",
       "      <td>7</td>\n",
       "      <td>[]</td>\n",
       "      <td>0</td>\n",
       "    </tr>\n",
       "    <tr>\n",
       "      <th>321</th>\n",
       "      <td>322</td>\n",
       "      <td>15</td>\n",
       "      <td>9</td>\n",
       "      <td>I, (Annoyed Grunt)-bot</td>\n",
       "      <td>16.30</td>\n",
       "      <td>7.3</td>\n",
       "      <td>2004</td>\n",
       "      <td>1</td>\n",
       "      <td>11</td>\n",
       "      <td>[]</td>\n",
       "      <td>0</td>\n",
       "    </tr>\n",
       "    <tr>\n",
       "      <th>364</th>\n",
       "      <td>365</td>\n",
       "      <td>17</td>\n",
       "      <td>9</td>\n",
       "      <td>Simpsons Christmas Stories</td>\n",
       "      <td>9.80</td>\n",
       "      <td>6.8</td>\n",
       "      <td>2005</td>\n",
       "      <td>12</td>\n",
       "      <td>18</td>\n",
       "      <td>[]</td>\n",
       "      <td>0</td>\n",
       "    </tr>\n",
       "    <tr>\n",
       "      <th>430</th>\n",
       "      <td>431</td>\n",
       "      <td>20</td>\n",
       "      <td>11</td>\n",
       "      <td>How the Test Was Won</td>\n",
       "      <td>6.52</td>\n",
       "      <td>6.9</td>\n",
       "      <td>2009</td>\n",
       "      <td>3</td>\n",
       "      <td>1</td>\n",
       "      <td>[]</td>\n",
       "      <td>0</td>\n",
       "    </tr>\n",
       "  </tbody>\n",
       "</table>\n",
       "</div>"
      ],
      "text/plain": [
       "     no_overall  season  no_in_season                episode_name  \\\n",
       "167         168       8            15              Homer's Phobia   \n",
       "256         257      12             9                        HOMR   \n",
       "321         322      15             9      I, (Annoyed Grunt)-bot   \n",
       "364         365      17             9  Simpsons Christmas Stories   \n",
       "430         431      20            11        How the Test Was Won   \n",
       "\n",
       "     mil_viewers  rating  year  month  day desc  len  \n",
       "167        15.30     8.8  1997      2   16   []    0  \n",
       "256        18.50     8.1  2001      1    7   []    0  \n",
       "321        16.30     7.3  2004      1   11   []    0  \n",
       "364         9.80     6.8  2005     12   18   []    0  \n",
       "430         6.52     6.9  2009      3    1   []    0  "
      ]
     },
     "execution_count": 148,
     "metadata": {},
     "output_type": "execute_result"
    }
   ],
   "source": [
    "df[df['len']==0]"
   ]
  },
  {
   "cell_type": "code",
   "execution_count": 149,
   "metadata": {},
   "outputs": [],
   "source": [
    "all_words = []\n",
    "for desc in df['desc']:\n",
    "    for word in desc:\n",
    "        all_words.append(word)"
   ]
  },
  {
   "cell_type": "code",
   "execution_count": 150,
   "metadata": {},
   "outputs": [
    {
     "data": {
      "text/plain": [
       "[('homer', 6087),\n",
       " ('bart', 3870),\n",
       " ('marge', 2999),\n",
       " ('lisa', 2633),\n",
       " ('family', 997),\n",
       " ('springfield', 865),\n",
       " ('burns', 835),\n",
       " ('back', 808),\n",
       " ('tells', 748),\n",
       " ('one', 671),\n",
       " ('however', 657),\n",
       " ('get', 656),\n",
       " ('go', 583),\n",
       " ('home', 579),\n",
       " ('moe', 579),\n",
       " ('school', 550),\n",
       " ('gets', 538),\n",
       " ('milhouse', 500),\n",
       " ('new', 500),\n",
       " ('house', 496)]"
      ]
     },
     "execution_count": 150,
     "metadata": {},
     "output_type": "execute_result"
    }
   ],
   "source": [
    "Counter(all_words).most_common(20)"
   ]
  },
  {
   "cell_type": "markdown",
   "metadata": {},
   "source": [
    "The most common words that appear in the descriptions are words that one would expect to appear often in a description of any episode of The Simpsons. In order to represent the uniqueness of each episode and make the *textual data* more descriptive, *TF-IDF analysis* was deployed."
   ]
  },
  {
   "cell_type": "markdown",
   "metadata": {},
   "source": [
    "### TF-IDF Analysis\n",
    "\n",
    "https://towardsdatascience.com/natural-language-processing-feature-engineering-using-tf-idf-e8b9d00e7e76"
   ]
  },
  {
   "cell_type": "markdown",
   "metadata": {},
   "source": [
    "All English stopwords, along with the word *episode*, have been removed from the description before this point. \n",
    "\n",
    "In order to perform TF-IDF analysis, the unique set of words used over all the episodes need to be represented as a collection."
   ]
  },
  {
   "cell_type": "code",
   "execution_count": 151,
   "metadata": {},
   "outputs": [],
   "source": [
    "unique_words = set(all_words)"
   ]
  },
  {
   "cell_type": "code",
   "execution_count": 152,
   "metadata": {},
   "outputs": [
    {
     "data": {
      "text/plain": [
       "17741"
      ]
     },
     "execution_count": 152,
     "metadata": {},
     "output_type": "execute_result"
    }
   ],
   "source": [
    "len(unique_words)"
   ]
  },
  {
   "cell_type": "code",
   "execution_count": 153,
   "metadata": {},
   "outputs": [],
   "source": [
    "word_dict = Counter(all_words)"
   ]
  },
  {
   "cell_type": "markdown",
   "metadata": {},
   "source": [
    "Each episode will now have their own *term frequency*, i.e. how often a word appears in the description of the episode divided by the total words used to describe the episode.\n",
    "\n",
    "*Inverse Data Frequency* is then the log of the number of episodes, divided by the number of episodes that contain the word *w* in their description. \n",
    "\n",
    "Then, in order to compute the TF-IDF, these terms are multiplied together. Each word will get a tf-idf score for all the words that appear in all descriptions of episodes. \n",
    "\n",
    "The computations of the tf-idf values was greatly inspired by the following article: https://towardsdatascience.com/natural-language-processing-feature-engineering-using-tf-idf-e8b9d00e7e76"
   ]
  },
  {
   "cell_type": "code",
   "execution_count": 154,
   "metadata": {},
   "outputs": [],
   "source": [
    "'''\n",
    "words: Array of words\n",
    "returns: Dictionary of the words with their respective tf value\n",
    "'''\n",
    "\n",
    "def tf(words):\n",
    "    from collections import Counter\n",
    "    tf_dict = {}\n",
    "    word_counts = Counter(words)\n",
    "    for word in word_counts:\n",
    "        count = word_counts[word]\n",
    "        tf_dict[word] = count / len(words)\n",
    "    return tf_dict"
   ]
  },
  {
   "cell_type": "code",
   "execution_count": 155,
   "metadata": {},
   "outputs": [],
   "source": [
    "def idf(documents):\n",
    "    import math\n",
    "    N = len(documents)\n",
    "    keys = []\n",
    "    for doc in documents:\n",
    "        keys += doc.keys()\n",
    "    idfDict = dict.fromkeys(keys, 0)\n",
    "    for i,document in enumerate(documents):\n",
    "        for word, val in document.items():\n",
    "            if val > 0:\n",
    "                idfDict[word] += 1\n",
    "    \n",
    "    for word, val in idfDict.items():\n",
    "        idfDict[word] = math.log(N / float(val))\n",
    "    return idfDict"
   ]
  },
  {
   "cell_type": "code",
   "execution_count": 156,
   "metadata": {},
   "outputs": [],
   "source": [
    "def tf_idf(tf, idfs):\n",
    "    tfidf = {}\n",
    "    for word, val in tf.items():\n",
    "        tfidf[word] = val * idfs[word]\n",
    "    return tfidf"
   ]
  },
  {
   "cell_type": "code",
   "execution_count": 157,
   "metadata": {},
   "outputs": [],
   "source": [
    "documents = []\n",
    "for i,row in df.iterrows():\n",
    "    documents.append(Counter(row['desc']))"
   ]
  },
  {
   "cell_type": "code",
   "execution_count": 158,
   "metadata": {},
   "outputs": [],
   "source": [
    "idfs = idf(documents)"
   ]
  },
  {
   "cell_type": "markdown",
   "metadata": {},
   "source": [
    "From these methods a new method can be created that returns an episode's top $200$ words relative to their tf-idf scores. "
   ]
  },
  {
   "cell_type": "code",
   "execution_count": 159,
   "metadata": {},
   "outputs": [],
   "source": [
    "def get_top_tf_idf(words):\n",
    "    if(len(words)<1):\n",
    "        return []\n",
    "    df_idf = pd.DataFrame.from_dict(tf_idf(tf(words),idfs),orient='index').reset_index()\n",
    "    df_idf.columns = ['word','score']\n",
    "    return list(df_idf.sort_values(by='score', ascending=False)[:200].reset_index(drop=True)['word'].values)"
   ]
  },
  {
   "cell_type": "markdown",
   "metadata": {},
   "source": [
    "A column can then be added to the data set, listing the top *descriptive* words for each episode in respect to their tf-idf scores. "
   ]
  },
  {
   "cell_type": "code",
   "execution_count": 160,
   "metadata": {},
   "outputs": [],
   "source": [
    "df['tf_idf'] = df['desc'].apply(get_top_tf_idf)"
   ]
  },
  {
   "cell_type": "code",
   "execution_count": 161,
   "metadata": {},
   "outputs": [
    {
     "data": {
      "text/html": [
       "<div>\n",
       "<style scoped>\n",
       "    .dataframe tbody tr th:only-of-type {\n",
       "        vertical-align: middle;\n",
       "    }\n",
       "\n",
       "    .dataframe tbody tr th {\n",
       "        vertical-align: top;\n",
       "    }\n",
       "\n",
       "    .dataframe thead th {\n",
       "        text-align: right;\n",
       "    }\n",
       "</style>\n",
       "<table border=\"1\" class=\"dataframe\">\n",
       "  <thead>\n",
       "    <tr style=\"text-align: right;\">\n",
       "      <th></th>\n",
       "      <th>no_overall</th>\n",
       "      <th>season</th>\n",
       "      <th>no_in_season</th>\n",
       "      <th>episode_name</th>\n",
       "      <th>mil_viewers</th>\n",
       "      <th>rating</th>\n",
       "      <th>year</th>\n",
       "      <th>month</th>\n",
       "      <th>day</th>\n",
       "      <th>desc</th>\n",
       "      <th>len</th>\n",
       "      <th>tf_idf</th>\n",
       "    </tr>\n",
       "  </thead>\n",
       "  <tbody>\n",
       "    <tr>\n",
       "      <th>0</th>\n",
       "      <td>1</td>\n",
       "      <td>1</td>\n",
       "      <td>1</td>\n",
       "      <td>Simpsons Roasting on an Open Fire</td>\n",
       "      <td>26.70</td>\n",
       "      <td>8.2</td>\n",
       "      <td>1989</td>\n",
       "      <td>12</td>\n",
       "      <td>17</td>\n",
       "      <td>[homer, hastily, drives, family, sedan, marge,...</td>\n",
       "      <td>1227</td>\n",
       "      <td>[christmas, santa, tattoo, lights, bonus, whir...</td>\n",
       "    </tr>\n",
       "    <tr>\n",
       "      <th>1</th>\n",
       "      <td>2</td>\n",
       "      <td>1</td>\n",
       "      <td>2</td>\n",
       "      <td>Bart the Genius</td>\n",
       "      <td>24.50</td>\n",
       "      <td>7.7</td>\n",
       "      <td>1990</td>\n",
       "      <td>1</td>\n",
       "      <td>14</td>\n",
       "      <td>[simpson, family, playing, scrabble, living, r...</td>\n",
       "      <td>704</td>\n",
       "      <td>[pryor, martin, test, kwyjibo, gifted, genius,...</td>\n",
       "    </tr>\n",
       "    <tr>\n",
       "      <th>2</th>\n",
       "      <td>3</td>\n",
       "      <td>1</td>\n",
       "      <td>3</td>\n",
       "      <td>Homer's Odyssey</td>\n",
       "      <td>27.50</td>\n",
       "      <td>7.4</td>\n",
       "      <td>1990</td>\n",
       "      <td>1</td>\n",
       "      <td>21</td>\n",
       "      <td>[front, springfield, elementary, mrs, krabappe...</td>\n",
       "      <td>703</td>\n",
       "      <td>[intersection, balcony, plant, safety, piggy, ...</td>\n",
       "    </tr>\n",
       "    <tr>\n",
       "      <th>3</th>\n",
       "      <td>4</td>\n",
       "      <td>1</td>\n",
       "      <td>4</td>\n",
       "      <td>There's No Disgrace Like Home</td>\n",
       "      <td>20.20</td>\n",
       "      <td>7.7</td>\n",
       "      <td>1990</td>\n",
       "      <td>1</td>\n",
       "      <td>28</td>\n",
       "      <td>[bart, lisa, fighting, long, homer, quickly, r...</td>\n",
       "      <td>361</td>\n",
       "      <td>[monroe, normal, family, neighborhood, dr, pic...</td>\n",
       "    </tr>\n",
       "    <tr>\n",
       "      <th>4</th>\n",
       "      <td>5</td>\n",
       "      <td>1</td>\n",
       "      <td>5</td>\n",
       "      <td>Bart the General</td>\n",
       "      <td>27.10</td>\n",
       "      <td>8.0</td>\n",
       "      <td>1990</td>\n",
       "      <td>2</td>\n",
       "      <td>4</td>\n",
       "      <td>[inside, simpsons, kitchen, lisa, baking, cupc...</td>\n",
       "      <td>448</td>\n",
       "      <td>[nelson, grandpa, herman, cupcakes, inside, ar...</td>\n",
       "    </tr>\n",
       "    <tr>\n",
       "      <th>...</th>\n",
       "      <td>...</td>\n",
       "      <td>...</td>\n",
       "      <td>...</td>\n",
       "      <td>...</td>\n",
       "      <td>...</td>\n",
       "      <td>...</td>\n",
       "      <td>...</td>\n",
       "      <td>...</td>\n",
       "      <td>...</td>\n",
       "      <td>...</td>\n",
       "      <td>...</td>\n",
       "      <td>...</td>\n",
       "    </tr>\n",
       "    <tr>\n",
       "      <th>595</th>\n",
       "      <td>596</td>\n",
       "      <td>27</td>\n",
       "      <td>22</td>\n",
       "      <td>Orange Is the New Yellow</td>\n",
       "      <td>2.54</td>\n",
       "      <td>6.7</td>\n",
       "      <td>2016</td>\n",
       "      <td>5</td>\n",
       "      <td>22</td>\n",
       "      <td>[homer, leaving, power, plant, weekend, promis...</td>\n",
       "      <td>217</td>\n",
       "      <td>[prison, realized, homemaker, trouble, guard, ...</td>\n",
       "    </tr>\n",
       "    <tr>\n",
       "      <th>596</th>\n",
       "      <td>597</td>\n",
       "      <td>28</td>\n",
       "      <td>1</td>\n",
       "      <td>Monty Burns' Fleeing Circus</td>\n",
       "      <td>3.36</td>\n",
       "      <td>6.0</td>\n",
       "      <td>2016</td>\n",
       "      <td>9</td>\n",
       "      <td>25</td>\n",
       "      <td>[simpsons, taking, walk, springfield, observe,...</td>\n",
       "      <td>303</td>\n",
       "      <td>[presentation, bowl, burns, statue, lard, laug...</td>\n",
       "    </tr>\n",
       "    <tr>\n",
       "      <th>597</th>\n",
       "      <td>598</td>\n",
       "      <td>28</td>\n",
       "      <td>2</td>\n",
       "      <td>Friends and Family</td>\n",
       "      <td>6.00</td>\n",
       "      <td>6.5</td>\n",
       "      <td>2016</td>\n",
       "      <td>10</td>\n",
       "      <td>2</td>\n",
       "      <td>[mr, burns, goes, appointment, counselor, deal...</td>\n",
       "      <td>226</td>\n",
       "      <td>[julia, virtual, burns, recordings, friendship...</td>\n",
       "    </tr>\n",
       "    <tr>\n",
       "      <th>598</th>\n",
       "      <td>599</td>\n",
       "      <td>28</td>\n",
       "      <td>3</td>\n",
       "      <td>The Town</td>\n",
       "      <td>3.22</td>\n",
       "      <td>7.0</td>\n",
       "      <td>2016</td>\n",
       "      <td>10</td>\n",
       "      <td>9</td>\n",
       "      <td>[homer, goes, moe, watch, football, game, spri...</td>\n",
       "      <td>234</td>\n",
       "      <td>[boston, americans, cap, cation, team, move, i...</td>\n",
       "    </tr>\n",
       "    <tr>\n",
       "      <th>599</th>\n",
       "      <td>600</td>\n",
       "      <td>28</td>\n",
       "      <td>4</td>\n",
       "      <td>Treehouse of Horror XXVII</td>\n",
       "      <td>7.44</td>\n",
       "      <td>6.9</td>\n",
       "      <td>2016</td>\n",
       "      <td>10</td>\n",
       "      <td>16</td>\n",
       "      <td>[homer, takes, family, buy, christmas, tree, h...</td>\n",
       "      <td>459</td>\n",
       "      <td>[rachel, sargent, sausage, reservoir, frank, f...</td>\n",
       "    </tr>\n",
       "  </tbody>\n",
       "</table>\n",
       "<p>600 rows × 12 columns</p>\n",
       "</div>"
      ],
      "text/plain": [
       "     no_overall  season  no_in_season                       episode_name  \\\n",
       "0             1       1             1  Simpsons Roasting on an Open Fire   \n",
       "1             2       1             2                    Bart the Genius   \n",
       "2             3       1             3                    Homer's Odyssey   \n",
       "3             4       1             4      There's No Disgrace Like Home   \n",
       "4             5       1             5                   Bart the General   \n",
       "..          ...     ...           ...                                ...   \n",
       "595         596      27            22           Orange Is the New Yellow   \n",
       "596         597      28             1        Monty Burns' Fleeing Circus   \n",
       "597         598      28             2                 Friends and Family   \n",
       "598         599      28             3                           The Town   \n",
       "599         600      28             4          Treehouse of Horror XXVII   \n",
       "\n",
       "     mil_viewers  rating  year  month  day  \\\n",
       "0          26.70     8.2  1989     12   17   \n",
       "1          24.50     7.7  1990      1   14   \n",
       "2          27.50     7.4  1990      1   21   \n",
       "3          20.20     7.7  1990      1   28   \n",
       "4          27.10     8.0  1990      2    4   \n",
       "..           ...     ...   ...    ...  ...   \n",
       "595         2.54     6.7  2016      5   22   \n",
       "596         3.36     6.0  2016      9   25   \n",
       "597         6.00     6.5  2016     10    2   \n",
       "598         3.22     7.0  2016     10    9   \n",
       "599         7.44     6.9  2016     10   16   \n",
       "\n",
       "                                                  desc   len  \\\n",
       "0    [homer, hastily, drives, family, sedan, marge,...  1227   \n",
       "1    [simpson, family, playing, scrabble, living, r...   704   \n",
       "2    [front, springfield, elementary, mrs, krabappe...   703   \n",
       "3    [bart, lisa, fighting, long, homer, quickly, r...   361   \n",
       "4    [inside, simpsons, kitchen, lisa, baking, cupc...   448   \n",
       "..                                                 ...   ...   \n",
       "595  [homer, leaving, power, plant, weekend, promis...   217   \n",
       "596  [simpsons, taking, walk, springfield, observe,...   303   \n",
       "597  [mr, burns, goes, appointment, counselor, deal...   226   \n",
       "598  [homer, goes, moe, watch, football, game, spri...   234   \n",
       "599  [homer, takes, family, buy, christmas, tree, h...   459   \n",
       "\n",
       "                                                tf_idf  \n",
       "0    [christmas, santa, tattoo, lights, bonus, whir...  \n",
       "1    [pryor, martin, test, kwyjibo, gifted, genius,...  \n",
       "2    [intersection, balcony, plant, safety, piggy, ...  \n",
       "3    [monroe, normal, family, neighborhood, dr, pic...  \n",
       "4    [nelson, grandpa, herman, cupcakes, inside, ar...  \n",
       "..                                                 ...  \n",
       "595  [prison, realized, homemaker, trouble, guard, ...  \n",
       "596  [presentation, bowl, burns, statue, lard, laug...  \n",
       "597  [julia, virtual, burns, recordings, friendship...  \n",
       "598  [boston, americans, cap, cation, team, move, i...  \n",
       "599  [rachel, sargent, sausage, reservoir, frank, f...  \n",
       "\n",
       "[600 rows x 12 columns]"
      ]
     },
     "execution_count": 161,
     "metadata": {},
     "output_type": "execute_result"
    }
   ],
   "source": [
    "df"
   ]
  },
  {
   "cell_type": "markdown",
   "metadata": {},
   "source": [
    "##  4. Descriptive Stats <a class=\"anchor\" id=\"four\"></a>"
   ]
  },
  {
   "cell_type": "markdown",
   "metadata": {},
   "source": [
    "The final data set is comprised of 600 rows where each row represents an episode of *The Simpsons*, and 12 feature columns. Each episode gets an overall rating between 0.0 and 10.0, although the minimum and maximum ratings in this dataset are $3.9$ and $9.3$ respectively. \n",
    "\n",
    "Each episode (row) has a feature called *desc* which holds the words used to describe the episode. "
   ]
  },
  {
   "cell_type": "code",
   "execution_count": 162,
   "metadata": {},
   "outputs": [
    {
     "data": {
      "text/plain": [
       "(600, 12)"
      ]
     },
     "execution_count": 162,
     "metadata": {},
     "output_type": "execute_result"
    }
   ],
   "source": [
    "df.shape"
   ]
  },
  {
   "cell_type": "markdown",
   "metadata": {},
   "source": [
    "The following tables show some basic stats about the data set."
   ]
  },
  {
   "cell_type": "code",
   "execution_count": 163,
   "metadata": {
    "scrolled": true
   },
   "outputs": [
    {
     "name": "stdout",
     "output_type": "stream",
     "text": [
      "<class 'pandas.core.frame.DataFrame'>\n",
      "Int64Index: 600 entries, 0 to 599\n",
      "Data columns (total 12 columns):\n",
      " #   Column        Non-Null Count  Dtype  \n",
      "---  ------        --------------  -----  \n",
      " 0   no_overall    600 non-null    int64  \n",
      " 1   season        600 non-null    int64  \n",
      " 2   no_in_season  600 non-null    int64  \n",
      " 3   episode_name  600 non-null    object \n",
      " 4   mil_viewers   600 non-null    float64\n",
      " 5   rating        600 non-null    float64\n",
      " 6   year          600 non-null    int64  \n",
      " 7   month         600 non-null    int64  \n",
      " 8   day           600 non-null    int64  \n",
      " 9   desc          600 non-null    object \n",
      " 10  len           600 non-null    int64  \n",
      " 11  tf_idf        600 non-null    object \n",
      "dtypes: float64(2), int64(7), object(3)\n",
      "memory usage: 60.9+ KB\n"
     ]
    }
   ],
   "source": [
    "df.info()"
   ]
  },
  {
   "cell_type": "code",
   "execution_count": 164,
   "metadata": {},
   "outputs": [
    {
     "data": {
      "text/html": [
       "<div>\n",
       "<style scoped>\n",
       "    .dataframe tbody tr th:only-of-type {\n",
       "        vertical-align: middle;\n",
       "    }\n",
       "\n",
       "    .dataframe tbody tr th {\n",
       "        vertical-align: top;\n",
       "    }\n",
       "\n",
       "    .dataframe thead th {\n",
       "        text-align: right;\n",
       "    }\n",
       "</style>\n",
       "<table border=\"1\" class=\"dataframe\">\n",
       "  <thead>\n",
       "    <tr style=\"text-align: right;\">\n",
       "      <th></th>\n",
       "      <th>no_overall</th>\n",
       "      <th>season</th>\n",
       "      <th>no_in_season</th>\n",
       "      <th>mil_viewers</th>\n",
       "      <th>rating</th>\n",
       "      <th>year</th>\n",
       "      <th>month</th>\n",
       "      <th>day</th>\n",
       "      <th>len</th>\n",
       "    </tr>\n",
       "  </thead>\n",
       "  <tbody>\n",
       "    <tr>\n",
       "      <th>count</th>\n",
       "      <td>600.000000</td>\n",
       "      <td>600.000000</td>\n",
       "      <td>600.000000</td>\n",
       "      <td>600.000000</td>\n",
       "      <td>600.00000</td>\n",
       "      <td>600.000000</td>\n",
       "      <td>600.000000</td>\n",
       "      <td>600.000000</td>\n",
       "      <td>600.000000</td>\n",
       "    </tr>\n",
       "    <tr>\n",
       "      <th>mean</th>\n",
       "      <td>300.500000</td>\n",
       "      <td>14.100000</td>\n",
       "      <td>11.585000</td>\n",
       "      <td>11.839150</td>\n",
       "      <td>7.31750</td>\n",
       "      <td>2002.713333</td>\n",
       "      <td>6.043333</td>\n",
       "      <td>14.936667</td>\n",
       "      <td>300.641667</td>\n",
       "    </tr>\n",
       "    <tr>\n",
       "      <th>std</th>\n",
       "      <td>173.349358</td>\n",
       "      <td>7.755444</td>\n",
       "      <td>6.549881</td>\n",
       "      <td>6.409896</td>\n",
       "      <td>0.82006</td>\n",
       "      <td>7.769283</td>\n",
       "      <td>3.928168</td>\n",
       "      <td>8.345782</td>\n",
       "      <td>183.241514</td>\n",
       "    </tr>\n",
       "    <tr>\n",
       "      <th>min</th>\n",
       "      <td>1.000000</td>\n",
       "      <td>1.000000</td>\n",
       "      <td>1.000000</td>\n",
       "      <td>2.320000</td>\n",
       "      <td>3.90000</td>\n",
       "      <td>1989.000000</td>\n",
       "      <td>1.000000</td>\n",
       "      <td>1.000000</td>\n",
       "      <td>0.000000</td>\n",
       "    </tr>\n",
       "    <tr>\n",
       "      <th>25%</th>\n",
       "      <td>150.750000</td>\n",
       "      <td>7.000000</td>\n",
       "      <td>6.000000</td>\n",
       "      <td>7.037500</td>\n",
       "      <td>6.70000</td>\n",
       "      <td>1996.000000</td>\n",
       "      <td>3.000000</td>\n",
       "      <td>8.000000</td>\n",
       "      <td>195.750000</td>\n",
       "    </tr>\n",
       "    <tr>\n",
       "      <th>50%</th>\n",
       "      <td>300.500000</td>\n",
       "      <td>14.000000</td>\n",
       "      <td>11.000000</td>\n",
       "      <td>10.300000</td>\n",
       "      <td>7.10000</td>\n",
       "      <td>2003.000000</td>\n",
       "      <td>5.000000</td>\n",
       "      <td>14.500000</td>\n",
       "      <td>268.500000</td>\n",
       "    </tr>\n",
       "    <tr>\n",
       "      <th>75%</th>\n",
       "      <td>450.250000</td>\n",
       "      <td>21.000000</td>\n",
       "      <td>17.000000</td>\n",
       "      <td>15.150000</td>\n",
       "      <td>8.00000</td>\n",
       "      <td>2010.000000</td>\n",
       "      <td>10.000000</td>\n",
       "      <td>21.000000</td>\n",
       "      <td>361.000000</td>\n",
       "    </tr>\n",
       "    <tr>\n",
       "      <th>max</th>\n",
       "      <td>600.000000</td>\n",
       "      <td>28.000000</td>\n",
       "      <td>25.000000</td>\n",
       "      <td>33.600000</td>\n",
       "      <td>9.30000</td>\n",
       "      <td>2016.000000</td>\n",
       "      <td>12.000000</td>\n",
       "      <td>31.000000</td>\n",
       "      <td>1422.000000</td>\n",
       "    </tr>\n",
       "  </tbody>\n",
       "</table>\n",
       "</div>"
      ],
      "text/plain": [
       "       no_overall      season  no_in_season  mil_viewers     rating  \\\n",
       "count  600.000000  600.000000    600.000000   600.000000  600.00000   \n",
       "mean   300.500000   14.100000     11.585000    11.839150    7.31750   \n",
       "std    173.349358    7.755444      6.549881     6.409896    0.82006   \n",
       "min      1.000000    1.000000      1.000000     2.320000    3.90000   \n",
       "25%    150.750000    7.000000      6.000000     7.037500    6.70000   \n",
       "50%    300.500000   14.000000     11.000000    10.300000    7.10000   \n",
       "75%    450.250000   21.000000     17.000000    15.150000    8.00000   \n",
       "max    600.000000   28.000000     25.000000    33.600000    9.30000   \n",
       "\n",
       "              year       month         day          len  \n",
       "count   600.000000  600.000000  600.000000   600.000000  \n",
       "mean   2002.713333    6.043333   14.936667   300.641667  \n",
       "std       7.769283    3.928168    8.345782   183.241514  \n",
       "min    1989.000000    1.000000    1.000000     0.000000  \n",
       "25%    1996.000000    3.000000    8.000000   195.750000  \n",
       "50%    2003.000000    5.000000   14.500000   268.500000  \n",
       "75%    2010.000000   10.000000   21.000000   361.000000  \n",
       "max    2016.000000   12.000000   31.000000  1422.000000  "
      ]
     },
     "execution_count": 164,
     "metadata": {},
     "output_type": "execute_result"
    }
   ],
   "source": [
    "df.describe()"
   ]
  },
  {
   "cell_type": "code",
   "execution_count": 165,
   "metadata": {},
   "outputs": [
    {
     "data": {
      "image/png": "[encoded data removed]",
      "text/plain": [
       "<Figure size 1152x720 with 1 Axes>"
      ]
     },
     "metadata": {},
     "output_type": "display_data"
    }
   ],
   "source": [
    "sns.lineplot(x='season',y='rating',data=df.groupby('season').mean()['rating'].reset_index())\n",
    "plt.title(\"Average rating per season\", size=16)\n",
    "plt.xlabel(\"Season\")\n",
    "plt.ylabel(\"Average Rating\")\n",
    "plt.show()"
   ]
  },
  {
   "cell_type": "code",
   "execution_count": 166,
   "metadata": {},
   "outputs": [
    {
     "data": {
      "image/png": "[encoded data removed]",
      "text/plain": [
       "<Figure size 1152x720 with 1 Axes>"
      ]
     },
     "metadata": {},
     "output_type": "display_data"
    }
   ],
   "source": [
    "sns.scatterplot(x='no_overall',y='rating',data=df)\n",
    "plt.title(\"Ratings of episodes\", size=16)\n",
    "plt.xlabel(\"No. of Episode\")\n",
    "plt.ylabel(\"Rating\")\n",
    "plt.show()"
   ]
  },
  {
   "cell_type": "code",
   "execution_count": 167,
   "metadata": {},
   "outputs": [
    {
     "data": {
      "image/png": "[encoded data removed]",
      "text/plain": [
       "<Figure size 1152x720 with 2 Axes>"
      ]
     },
     "metadata": {},
     "output_type": "display_data"
    }
   ],
   "source": [
    "ax = sns.heatmap(df[['rating','no_in_season','season']].pivot_table(columns='season',index='no_in_season',values='rating'),\n",
    "                 annot=True,\n",
    "                 cmap='coolwarm',\n",
    "                linewidth=0.05,\n",
    "                linecolor='black')\n",
    "bottom, top = ax.get_ylim()\n",
    "ax.set_ylim(bottom + 0.5, top - 0.5)\n",
    "plt.title(\"Heatmap showing the ratings for episodes\", size=16)\n",
    "plt.ylabel(\"Number of episode in season\")\n",
    "plt.xlabel(\"Season\")\n",
    "plt.show()"
   ]
  },
  {
   "cell_type": "markdown",
   "metadata": {},
   "source": [
    "The past three plots visualize the decline over the years. While each season has its lowpoints, the quality (rating) of episodes has been going down over the past years. "
   ]
  },
  {
   "cell_type": "code",
   "execution_count": 168,
   "metadata": {},
   "outputs": [
    {
     "data": {
      "image/png": "[encoded data removed]",
      "text/plain": [
       "<Figure size 1152x720 with 2 Axes>"
      ]
     },
     "metadata": {},
     "output_type": "display_data"
    }
   ],
   "source": [
    "ax = sns.heatmap(df.corr(), annot=True,vmin=0.0, vmax=1.0, cmap='coolwarm',linewidths=1) #notation: \"annot\" not \"annote\"\n",
    "bottom, top = ax.get_ylim()\n",
    "ax.set_ylim(bottom + 0.5, top - 0.5)\n",
    "plt.title(\"Heatplot showing the correlation between variables\", size=16)\n",
    "plt.show()"
   ]
  },
  {
   "cell_type": "markdown",
   "metadata": {},
   "source": [
    "There seems to be some correlation between how many are watching the episode and how highly it is rated. "
   ]
  },
  {
   "cell_type": "code",
   "execution_count": 169,
   "metadata": {},
   "outputs": [
    {
     "data": {
      "image/png": "[encoded data removed]",
      "text/plain": [
       "<Figure size 1152x720 with 1 Axes>"
      ]
     },
     "metadata": {},
     "output_type": "display_data"
    }
   ],
   "source": [
    "sns.set_palette('rainbow')\n",
    "sns.distplot(df['rating'], rug=True)\n",
    "plt.title(\"Distribution of ratings of episodes\", size=16)\n",
    "plt.xlabel(\"Rating (0-10)\")\n",
    "plt.ylabel(\"Frequency\")\n",
    "plt.show()"
   ]
  },
  {
   "cell_type": "markdown",
   "metadata": {},
   "source": [
    "Most episodes are scoring a rating between 6 and 8.5"
   ]
  },
  {
   "cell_type": "code",
   "execution_count": 170,
   "metadata": {},
   "outputs": [
    {
     "data": {
      "image/png": "[encoded data removed]",
      "text/plain": [
       "<Figure size 1152x720 with 1 Axes>"
      ]
     },
     "metadata": {},
     "output_type": "display_data"
    }
   ],
   "source": [
    "sns.distplot(df['mil_viewers'], rug=True)\n",
    "plt.title(\"Distribution of viewers for the episodes\", size=16)\n",
    "plt.xlabel(\"Viewers (millions)\")\n",
    "plt.ylabel(\"Frequency\")\n",
    "plt.show()"
   ]
  },
  {
   "cell_type": "markdown",
   "metadata": {},
   "source": [
    "Most episodes have around 5-15 million viewers. "
   ]
  },
  {
   "cell_type": "code",
   "execution_count": 171,
   "metadata": {
    "scrolled": false
   },
   "outputs": [
    {
     "data": {
      "image/png": "[encoded data removed]",
      "text/plain": [
       "<Figure size 1152x720 with 1 Axes>"
      ]
     },
     "metadata": {},
     "output_type": "display_data"
    }
   ],
   "source": [
    "sns.distplot(df[df['len']>0]['len'], rug=True)\n",
    "plt.title(\"The Distribution of the Lenght of Description of Episodes (words)\", size=16)\n",
    "plt.xlabel(\"Words in Description\")\n",
    "plt.ylabel(\"Frequency\")\n",
    "plt.show()"
   ]
  },
  {
   "cell_type": "markdown",
   "metadata": {},
   "source": [
    "In the plot above it can be seen that most episodes have quite a large text that describes it."
   ]
  },
  {
   "cell_type": "markdown",
   "metadata": {},
   "source": [
    "# Linear Regression - For comparison\n",
    "\n",
    "In order to see if the new topical model is more accurate than a normal linear regression model, a simple linear regression model was created in order to try and predict the rating of an episode. "
   ]
  },
  {
   "cell_type": "code",
   "execution_count": 172,
   "metadata": {},
   "outputs": [
    {
     "data": {
      "text/plain": [
       "Index(['no_overall', 'season', 'no_in_season', 'episode_name', 'mil_viewers',\n",
       "       'rating', 'year', 'month', 'day', 'desc', 'len', 'tf_idf'],\n",
       "      dtype='object')"
      ]
     },
     "execution_count": 172,
     "metadata": {},
     "output_type": "execute_result"
    }
   ],
   "source": [
    "df.columns"
   ]
  },
  {
   "cell_type": "code",
   "execution_count": 173,
   "metadata": {},
   "outputs": [],
   "source": [
    "X = df[['no_overall','no_in_season','season','mil_viewers','year','month','day']].values"
   ]
  },
  {
   "cell_type": "code",
   "execution_count": 174,
   "metadata": {},
   "outputs": [],
   "source": [
    "y = df['rating'].values"
   ]
  },
  {
   "cell_type": "code",
   "execution_count": 175,
   "metadata": {},
   "outputs": [],
   "source": [
    "X_mean = X.mean(axis=0)\n",
    "X_std = X.std(axis=0)\n",
    "X = (X - X_mean) / X_std"
   ]
  },
  {
   "cell_type": "code",
   "execution_count": 176,
   "metadata": {},
   "outputs": [],
   "source": [
    "y_mean = y.mean()\n",
    "y_std = y.std()\n",
    "y = (y - y_mean) / y_std"
   ]
  },
  {
   "cell_type": "code",
   "execution_count": 177,
   "metadata": {},
   "outputs": [],
   "source": [
    "X_train, X_test, y_train, y_test = train_test_split(X, y, test_size=0.3, random_state=101)"
   ]
  },
  {
   "cell_type": "code",
   "execution_count": 178,
   "metadata": {},
   "outputs": [],
   "source": [
    "lm = LinearRegression()"
   ]
  },
  {
   "cell_type": "code",
   "execution_count": 179,
   "metadata": {
    "scrolled": true
   },
   "outputs": [
    {
     "data": {
      "text/plain": [
       "LinearRegression(copy_X=True, fit_intercept=True, n_jobs=None, normalize=False)"
      ]
     },
     "execution_count": 179,
     "metadata": {},
     "output_type": "execute_result"
    }
   ],
   "source": [
    "lm.fit(X_train,y_train)"
   ]
  },
  {
   "cell_type": "code",
   "execution_count": 180,
   "metadata": {},
   "outputs": [],
   "source": [
    "predictions = lm.predict(X_test)"
   ]
  },
  {
   "cell_type": "code",
   "execution_count": 181,
   "metadata": {},
   "outputs": [
    {
     "data": {
      "image/png": "[encoded data removed]",
      "text/plain": [
       "<Figure size 1152x720 with 1 Axes>"
      ]
     },
     "metadata": {},
     "output_type": "display_data"
    }
   ],
   "source": [
    "plt.scatter(y_test,predictions)\n",
    "plt.title(\"Actual values vs. Predicted values of ratings of episodes\", size=16)\n",
    "plt.xlabel(\"Test value (Standardized)\")\n",
    "plt.ylabel(\"Predicted value (Standardized)\")\n",
    "plt.show()"
   ]
  },
  {
   "cell_type": "code",
   "execution_count": 182,
   "metadata": {},
   "outputs": [
    {
     "data": {
      "image/png": "[encoded data removed]",
      "text/plain": [
       "<Figure size 1152x720 with 1 Axes>"
      ]
     },
     "metadata": {},
     "output_type": "display_data"
    }
   ],
   "source": [
    "sns.distplot((y_test-predictions),bins=50);\n",
    "plt.title(\"Distribution of residuals\", size=16)\n",
    "plt.xlabel(\"Residual\")\n",
    "plt.ylabel(\"Frequency\")\n",
    "plt.show()"
   ]
  },
  {
   "cell_type": "code",
   "execution_count": 183,
   "metadata": {},
   "outputs": [
    {
     "name": "stdout",
     "output_type": "stream",
     "text": [
      "MAE: 0.4210544191776527\n",
      "MSE: 0.3620033094540662\n",
      "RMSE: 0.6016671085027552\n"
     ]
    }
   ],
   "source": [
    "print('MAE:', metrics.mean_absolute_error(y_test, predictions))\n",
    "print('MSE:', metrics.mean_squared_error(y_test, predictions))\n",
    "print('RMSE:', np.sqrt(metrics.mean_squared_error(y_test, predictions)))"
   ]
  },
  {
   "cell_type": "markdown",
   "metadata": {},
   "source": [
    "From this it can be seen that creating a linear regression model in order to predict an episode's rating from other features is somewhat achievable."
   ]
  },
  {
   "cell_type": "markdown",
   "metadata": {},
   "source": [
    "# 5. Research Question<a class=\"anchor\" id=\"five\"></a>"
   ]
  },
  {
   "cell_type": "markdown",
   "metadata": {},
   "source": [
    "By using *Topic Modeling* and *Latent Dirichlet Allocation*, we hope to uncover some of the hidden features of the episodes. We hope to see if there is any relation between the topic of episodes and their respective rating. \n",
    "\n",
    "We want to see how each episode relates to the topics, i.e. how the topic proportions align with the episodes and if that can be used to determine an episode's rating. If the topic allocations and proportions of an episode can help determine an episode's rating, not only have be created a better linear regression model, but we have proven a hypothesis which does seem logical - *an episode's rating is related to what is happening in the episode.* \n",
    "\n",
    "In order to carry out *topic modeling*, the number of topics, $K$, has to be assumed. "
   ]
  },
  {
   "cell_type": "markdown",
   "metadata": {},
   "source": [
    "# 6. Generative Story<a class=\"anchor\" id=\"six\"></a>"
   ]
  },
  {
   "cell_type": "markdown",
   "metadata": {},
   "source": [
    "As we will deploy *Latent Dirichlet Allocation* for our topic model, the generative story for the inference of topics will follow the same generative story LDA follows. Here, we have changed the wording to fit our project. The following will be the generative story our model will follow: \n",
    "\n",
    "1. For each topic $k \\in \\{1,2,...,K\\}$ where $K$ is the assumed total number of topics, there is a vector of $C$ words, $\\phi_k$, such that $p(\\theta_k|\\beta) = \\text{Dir}(\\beta)$\n",
    "\n",
    "2. For each document (*episode*) $i$:\n",
    "\n",
    ">a) There is a vector of $K$ topics, $\\theta_i$, such that $p(\\theta_i|\\alpha) = \\text{Dir}(\\alpha)$\n",
    "    \n",
    ">b) For each of the words $j$ in each episode $i$, where $j\\in \\{1,2,...,||w_i||\\}$, we have\n",
    "    \n",
    ">>i) A **topic assignment** $z_{i,j} \\in \\{1,2,...,K\\}$ such that $p(z_{i,j}|\\theta_i) = \\text{Cat}(\\theta_i)$\n",
    "    \n",
    ">>ii) A **word** $w_{i,j}$ such that $p(w_{i,j}|\\phi_{z_{i,j}}) = \\text{Cat}(\\phi_{z_{i,j}})$\n",
    "\n",
    "What this means is that each episode will get assigned topic proportions and each topic will get assigned word proportions. \n"
   ]
  },
  {
   "cell_type": "markdown",
   "metadata": {},
   "source": [
    "# 7. PGM <a class=\"anchor\" id=\"seven\"></a>"
   ]
  },
  {
   "cell_type": "code",
   "execution_count": 2,
   "metadata": {},
   "outputs": [
    {
     "data": {
      "image/png": "[encoded data removed]",
      "text/plain": [
       "<IPython.core.display.Image object>"
      ]
     },
     "execution_count": 2,
     "metadata": {},
     "output_type": "execute_result"
    }
   ],
   "source": [
    "Image(\"pgm.png\")"
   ]
  },
  {
   "cell_type": "markdown",
   "metadata": {},
   "source": [
    "# 8. Stan Model <a class=\"anchor\" id=\"eight\"></a>"
   ]
  },
  {
   "cell_type": "code",
   "execution_count": 184,
   "metadata": {},
   "outputs": [],
   "source": [
    "LDA_STAN=\"\"\"\n",
    "data{\n",
    "    int<lower=1> I;\n",
    "    int<lower=1> J[I];  // We mean J=||W_i||\n",
    "    int<lower=2> K;\n",
    "    int<lower=2> C;\n",
    "    vector<lower=0>[K] alpha;\n",
    "    vector<lower=0>[C] beta;\n",
    "    int<lower=2> MAX_J;\n",
    "    int W[I,MAX_J];\n",
    "}\n",
    "\n",
    "parameters{\n",
    "    simplex[K] theta[I];\n",
    "    simplex[C] phi[K];\n",
    "}\n",
    "\n",
    "model{\n",
    "    for (k in 1:K)\n",
    "        phi[k]~dirichlet(beta);\n",
    "        \n",
    "    for (i in 1:I){\n",
    "        theta[i]~dirichlet(alpha);\n",
    "        \n",
    "        for (j in 1:J[i]){\n",
    "                real gamma[K];\n",
    "                for (k in 1:K)\n",
    "                    // log(P(z = k | theta)) + log(P(W | phi, z = k)) \n",
    "                    gamma[k]=log(theta[i,k])+log(phi[k,W[i][j]]);\n",
    "                \n",
    "                target+=(log_sum_exp(gamma));\n",
    "        }\n",
    "    }\n",
    "}\n",
    "\n",
    "\"\"\""
   ]
  },
  {
   "cell_type": "code",
   "execution_count": 202,
   "metadata": {},
   "outputs": [],
   "source": [
    "df['lenght'] =df.tf_idf.str.len()"
   ]
  },
  {
   "cell_type": "code",
   "execution_count": 200,
   "metadata": {},
   "outputs": [
    {
     "data": {
      "text/plain": [
       "600"
      ]
     },
     "execution_count": 200,
     "metadata": {},
     "output_type": "execute_result"
    }
   ],
   "source": [
    "len(df.tf_idf)"
   ]
  },
  {
   "cell_type": "code",
   "execution_count": 215,
   "metadata": {},
   "outputs": [
    {
     "data": {
      "text/plain": [
       "0      christmas\n",
       "0          santa\n",
       "0         tattoo\n",
       "0         lights\n",
       "0          bonus\n",
       "         ...    \n",
       "599       number\n",
       "599        turns\n",
       "599          far\n",
       "599        grabs\n",
       "599     mentions\n",
       "Name: tf_idf, Length: 99360, dtype: object"
      ]
     },
     "execution_count": 215,
     "metadata": {},
     "output_type": "execute_result"
    }
   ],
   "source": [
    "df.tf_idf.explode()#.value_counts()"
   ]
  },
  {
   "cell_type": "code",
   "execution_count": 209,
   "metadata": {
    "scrolled": true
   },
   "outputs": [
    {
     "data": {
      "text/plain": [
       "array([200, 179, 185,  93, 154, 167,   3, 173, 109, 161, 142, 150, 133,\n",
       "       190, 144, 111, 177,  66, 170, 175,  49,  46, 147,  54, 194, 172,\n",
       "       176, 158, 104, 126, 160,  45, 191,  72,  78, 116, 141, 149, 184,\n",
       "       196, 118, 134, 155,   1,  42, 140,  94, 100, 186, 152,  81,  91,\n",
       "       156,  85,  86, 159, 168, 148, 165,  89,  32,  11,  35, 137, 101,\n",
       "        96, 139, 129, 127,   0, 198, 117,  62, 178, 169, 153,   5, 151,\n",
       "       192, 163, 125,  95, 132,  51,  50,  55, 121, 157, 188, 193, 135,\n",
       "        14, 128, 171, 182, 124,  90,  84, 197, 143, 181,  79, 189, 183,\n",
       "       114,  69, 130, 180, 195, 145, 199,  70,  97, 174, 110,  12,   4,\n",
       "       138,  99,  87,  98, 103, 122, 164, 102, 136,  92, 119, 162])"
      ]
     },
     "execution_count": 209,
     "metadata": {},
     "output_type": "execute_result"
    }
   ],
   "source": [
    "df['lenght'].unique()"
   ]
  },
  {
   "cell_type": "code",
   "execution_count": 185,
   "metadata": {
    "scrolled": true
   },
   "outputs": [
    {
     "ename": "NameError",
     "evalue": "name 'C' is not defined",
     "output_type": "error",
     "traceback": [
      "\u001b[0;31m---------------------------------------------------------------------------\u001b[0m",
      "\u001b[0;31mNameError\u001b[0m                                 Traceback (most recent call last)",
      "\u001b[0;32m<ipython-input-185-cee463721c4f>\u001b[0m in \u001b[0;36m<module>\u001b[0;34m\u001b[0m\n\u001b[0;32m----> 1\u001b[0;31m \u001b[0mbeta\u001b[0m \u001b[0;34m=\u001b[0m \u001b[0;36m0.5\u001b[0m\u001b[0;34m*\u001b[0m\u001b[0mnp\u001b[0m\u001b[0;34m.\u001b[0m\u001b[0mones\u001b[0m\u001b[0;34m(\u001b[0m\u001b[0mC\u001b[0m\u001b[0;34m)\u001b[0m \u001b[0;31m## Size C\u001b[0m\u001b[0;34m\u001b[0m\u001b[0;34m\u001b[0m\u001b[0m\n\u001b[0m",
      "\u001b[0;31mNameError\u001b[0m: name 'C' is not defined"
     ]
    }
   ],
   "source": [
    "beta = 0.5*np.ones(C) ## Size C"
   ]
  },
  {
   "cell_type": "code",
   "execution_count": null,
   "metadata": {},
   "outputs": [],
   "source": []
  }
 ],
 "metadata": {
  "kernelspec": {
   "display_name": "Python 3",
   "language": "python",
   "name": "python3"
  },
  "language_info": {
   "codemirror_mode": {
    "name": "ipython",
    "version": 3
   },
   "file_extension": ".py",
   "mimetype": "text/x-python",
   "name": "python",
   "nbconvert_exporter": "python",
   "pygments_lexer": "ipython3",
   "version": "3.7.7"
  }
 },
 "nbformat": 4,
 "nbformat_minor": 2
}
