{
 "cells": [
  {
   "cell_type": "markdown",
   "metadata": {},
   "source": [
    "<br> \n",
    "<span style=\"float: right; color: rgb(128, 128, 128); font-size:150%\" >  <strong> Final Project - Milestone 1</span>\n",
    "<span style=\"float: left; color: rgb(128, 128, 128); font-size:150%\"> <strong>  42186 Model-based machine learning (F20)</span>    \n",
    "    <br>  \n",
    "  \n",
    "    \n",
    "    \n",
    "  <span style=\"float: right; color: rgb(128, 128, 128)\" >  <strong> Students:</span>\n",
    "  <span style=\"float: left; color: rgb(128, 128, 128)\"> <strong>  Professors:</span>\n",
    "<div> \n",
    "      <br>  \n",
    "<div>\n",
    "  <span style=\"float: right\" > Guðlaug Erlendsdóttir, s185717</span> \n",
    "  <span style=\"float: left\"> Filipe Rodrigues</span>\n",
    "<div> \n",
    "    <br>\n",
    "  <span style=\"float: right\" > Matthías Karl Karlsson, s182306</span> \n",
    "  <span style=\"float: left\"> Francisco Camara Pereira</span>\n",
    "    <br>\n",
    "<div style=\"text-align: right\"> Steinn Orri Erlendsson, s153716</div>\n",
    "    \n",
    "______________"
   ]
  },
  {
   "cell_type": "markdown",
   "metadata": {},
   "source": [
    "## Table of Contents\n",
    "\n",
    "### [1. Description of Project](#one)\n",
    "\n",
    "### [2. Data](#two)\n",
    "\n",
    "* #### [2.1 Data Collection and Preprocessing](#two.one)\n",
    "\n",
    "### [3.Natural Language Preprocessing](#three)\n",
    "\n",
    "### [4. Descriptive Stats](#four)\n",
    "\n",
    "### [5. Research Question](#five)\n",
    "\n",
    "### [6. Generative Story](#six)\n",
    "\n",
    "### [7. PGM](#seven)\n",
    "\n",
    "### [8. Inital STAN Model](#eight)"
   ]
  },
  {
   "cell_type": "markdown",
   "metadata": {},
   "source": [
    "# Model-Based Machine Learning - Milestone 1\n",
    "\n",
    "## The Simpsons - Topic Modeling with Latent Dirichlet Allocation\n",
    "\n",
    "\n",
    "In this notebook, topic modeling through Latent Dirichlet Allocation is used in order to try anduncover the topics that have come up on episodes of The Simpsons through the years.\n",
    "\n",
    "Attributes such as *rating* and *viewers* were extracted from [IMDB](IMDB) for the first 600 episodes of The Simpsons. Then, for each of these episodes, the plot was scraped from [The Simpsons Fandom](page) page. \n",
    "\n",
    "Natural Language Processing was deployed in order to represent the textual data better. Each episode's description was put through *TF-IDF analysis* in order to obtain a better representation of their description. \n",
    "\n",
    "By using Latent Dirichlet Allocation for topic modeling, the episodes can be seen as a mixture of topics, and a relationhip between what is happening in the episode and its rating could potentially be made. \n",
    "\n",
    "\n",
    "\n",
    "---\n"
   ]
  },
  {
   "cell_type": "markdown",
   "metadata": {},
   "source": [
    "# 1. Description of Project<a class=\"anchor\" id=\"one\"></a>\n",
    "\n",
    "For those that have ever watched the television show *The Simpsons*, it is quite known that the quality of episodes have dwindled over the past years. The show has been running for 30 years and it has long gone past its glory days. But what is the reason behind this decline in quality? In this notebook, the topics of each episode of *The Simpsons* is investigated and through *topic modeling* episodes are clustered together in order to see whether the topics of episodes have anything to do with their respective ratings. \n",
    "\n",
    "Ratings for 600 episodes were collected from [IMDB](www.imdb.com) and descriptions for each of those episodes was collected from [The Simpsons Wiki Fanpage](ons.fandom.com/wiki/List_of_Episodes). This information, along with additional information collected from [Wikipedia](www.wikipedia.org) such as viewers per episode and airdate, was used in order to create a data set.\n",
    "\n",
    "The very popular topic model *Latent Dirichlet Allocation* was used in order to extract topic proportions and allocations for each episode. These topics were then investigated in order to see if there is any apparent relationship between the topic of episodes over the years and their declining ratings. "
   ]
  },
  {
   "cell_type": "markdown",
   "metadata": {},
   "source": [
    "# 2. Data<a class=\"anchor\" id=\"two\"></a>\n",
    "\n",
    "In this section, the method of collecting and preprocessing both the *ratings* and *description* for each episode is shown. All of the data is collected through web scraping. The websites that were scraped were [IMDB](www.imdb.com), [Wikipedia](www.wikipedia.org), and [The Simpsons Fandom Wiki Page](simpsons.fandom.com/wiki/List_of_Episodes). \n",
    "\n",
    "There was a lot of data cleaning to be done, as there were a lot of missing values that resulted from the web scraping due to some inconstistency in the pages' setup. "
   ]
  },
  {
   "cell_type": "markdown",
   "metadata": {},
   "source": [
    "#### Importing packages"
   ]
  },
  {
   "cell_type": "code",
   "execution_count": 249,
   "metadata": {},
   "outputs": [
    {
     "data": {
      "text/html": [
       "<style>.container { width:100% !important; }</style>"
      ],
      "text/plain": [
       "<IPython.core.display.HTML object>"
      ]
     },
     "metadata": {},
     "output_type": "display_data"
    }
   ],
   "source": [
    "import requests\n",
    "import pandas as pd\n",
    "from bs4 import BeautifulSoup\n",
    "import seaborn as sns\n",
    "import matplotlib.pyplot as plt\n",
    "%matplotlib inline\n",
    "import numpy as np\n",
    "import urllib.request\n",
    "import io\n",
    "import re\n",
    "import os\n",
    "import os.path\n",
    "import nltk, re, pprint\n",
    "from nltk.tokenize import RegexpTokenizer\n",
    "import sklearn\n",
    "from nltk.tokenize import word_tokenize\n",
    "from nltk.corpus import stopwords\n",
    "from collections import Counter\n",
    "import collections\n",
    "import colorsys\n",
    "import warnings\n",
    "warnings.filterwarnings(\"ignore\")\n",
    "from nltk import sent_tokenize\n",
    "from sklearn.model_selection import train_test_split\n",
    "from sklearn.linear_model import LinearRegression\n",
    "from sklearn import metrics\n",
    "import string\n",
    "from sklearn.feature_extraction.text import TfidfVectorizer\n",
    "from IPython.display import Image\n",
    "sns.set(style=\"ticks\", color_codes=True)\n",
    "plt.rcParams['figure.figsize'] = (16, 10)\n",
    "#make margins smaller \n",
    "from IPython.core.display import display, HTML\n",
    "display(HTML(\"<style>.container { width:100% !important; }</style>\"))"
   ]
  },
  {
   "cell_type": "code",
   "execution_count": 8,
   "metadata": {},
   "outputs": [],
   "source": [
    "stop_words = stopwords.words('english')\n",
    "for char in ['episode','begins']:\n",
    "    stop_words.append(char)"
   ]
  },
  {
   "cell_type": "markdown",
   "metadata": {},
   "source": [
    "**Color Palettes**"
   ]
  },
  {
   "cell_type": "code",
   "execution_count": 7,
   "metadata": {},
   "outputs": [
    {
     "data": {
      "image/png": "[encoded data removed]",
      "text/plain": [
       "<Figure size 504x72 with 1 Axes>"
      ]
     },
     "metadata": {},
     "output_type": "display_data"
    },
    {
     "data": {
      "image/png": "[encoded data removed]",
      "text/plain": [
       "<Figure size 504x72 with 1 Axes>"
      ]
     },
     "metadata": {},
     "output_type": "display_data"
    },
    {
     "data": {
      "image/png": "[encoded data removed]",
      "text/plain": [
       "<Figure size 504x72 with 1 Axes>"
      ]
     },
     "metadata": {},
     "output_type": "display_data"
    },
    {
     "data": {
      "image/png": "[encoded data removed]",
      "text/plain": [
       "<Figure size 504x72 with 1 Axes>"
      ]
     },
     "metadata": {},
     "output_type": "display_data"
    },
    {
     "data": {
      "image/png": "[encoded data removed]",
      "text/plain": [
       "<Figure size 504x72 with 1 Axes>"
      ]
     },
     "metadata": {},
     "output_type": "display_data"
    }
   ],
   "source": [
    "sns.palplot(sns.color_palette(\"RdBu_r\", 7))\n",
    "sns.palplot(sns.color_palette(\"coolwarm\", 7))\n",
    "sns.palplot(sns.color_palette(\"husl\", 7))\n",
    "sns.palplot(sns.color_palette(\"PuBuGn_d\", 7))\n",
    "sns.palplot(sns.color_palette(\"Paired\", 7))\n"
   ]
  },
  {
   "cell_type": "markdown",
   "metadata": {},
   "source": [
    "## 2.1 Data Collection and Preprocessing<a class=\"anchor\" id=\"two.one\"></a>"
   ]
  },
  {
   "cell_type": "markdown",
   "metadata": {},
   "source": [
    "### Episode Information <a class=\"anchor\" id=\"two.one.one\"></a>"
   ]
  },
  {
   "cell_type": "markdown",
   "metadata": {},
   "source": [
    "Getting all episode names, dates and relevant information is possible by scraping Wikipedia. This will serve as a basis for the episode information which will be used throughout the project. "
   ]
  },
  {
   "cell_type": "code",
   "execution_count": 9,
   "metadata": {},
   "outputs": [],
   "source": [
    "episode_1_20_url = 'https://en.wikipedia.org/wiki/List_of_The_Simpsons_episodes_(seasons_1%E2%80%9320)#Episodes'\n",
    "episode_21_31_url = \"https://en.wikipedia.org/wiki/List_of_The_Simpsons_episodes\""
   ]
  },
  {
   "cell_type": "code",
   "execution_count": 10,
   "metadata": {},
   "outputs": [],
   "source": [
    "res = requests.get(episode_1_20_url).text\n",
    "soup = BeautifulSoup(res,'html')\n",
    "arr = []\n",
    "next_season = 1\n",
    "for table in soup.find_all('table', class_='wikiepisodetable'):\n",
    "    if(table.previous.previous.previous.text != 'The Simpsons Movie'):\n",
    "        season = table.previous.previous.previous.text.split('(')[1].split(')')[0].split(\" \")[1]\n",
    "        for row in table.find_all('tr')[1::1]:\n",
    "            data = row.find_all(['th','td'])\n",
    "            no = data[0].text\n",
    "            no_in_season = data[1].text\n",
    "            episode_name = data[2].text[1:len(data[2].text)-1] #Remove the \" \" \n",
    "            airdate = data[5].text\n",
    "            viewers = data[7].text.split(\"[\")[0]\n",
    "            arr.append([no,season,no_in_season,episode_name,airdate,viewers])\n",
    "df_1 = pd.DataFrame(arr)\n",
    "df_1.columns = ['no_overall','season','no_in_season','episode_name','airdate','viewers (millions)']"
   ]
  },
  {
   "cell_type": "markdown",
   "metadata": {},
   "source": [
    "Seasons 1 to 20:"
   ]
  },
  {
   "cell_type": "code",
   "execution_count": 11,
   "metadata": {},
   "outputs": [
    {
     "data": {
      "text/html": [
       "<div>\n",
       "<style scoped>\n",
       "    .dataframe tbody tr th:only-of-type {\n",
       "        vertical-align: middle;\n",
       "    }\n",
       "\n",
       "    .dataframe tbody tr th {\n",
       "        vertical-align: top;\n",
       "    }\n",
       "\n",
       "    .dataframe thead th {\n",
       "        text-align: right;\n",
       "    }\n",
       "</style>\n",
       "<table border=\"1\" class=\"dataframe\">\n",
       "  <thead>\n",
       "    <tr style=\"text-align: right;\">\n",
       "      <th></th>\n",
       "      <th>no_overall</th>\n",
       "      <th>season</th>\n",
       "      <th>no_in_season</th>\n",
       "      <th>episode_name</th>\n",
       "      <th>airdate</th>\n",
       "      <th>viewers (millions)</th>\n",
       "    </tr>\n",
       "  </thead>\n",
       "  <tbody>\n",
       "    <tr>\n",
       "      <th>0</th>\n",
       "      <td>1</td>\n",
       "      <td>1</td>\n",
       "      <td>1</td>\n",
       "      <td>Simpsons Roasting on an Open Fire</td>\n",
       "      <td>December 17, 1989 (1989-12-17)</td>\n",
       "      <td>26.7</td>\n",
       "    </tr>\n",
       "    <tr>\n",
       "      <th>1</th>\n",
       "      <td>2</td>\n",
       "      <td>1</td>\n",
       "      <td>2</td>\n",
       "      <td>Bart the Genius</td>\n",
       "      <td>January 14, 1990 (1990-01-14)</td>\n",
       "      <td>24.5</td>\n",
       "    </tr>\n",
       "    <tr>\n",
       "      <th>2</th>\n",
       "      <td>3</td>\n",
       "      <td>1</td>\n",
       "      <td>3</td>\n",
       "      <td>Homer's Odyssey</td>\n",
       "      <td>January 21, 1990 (1990-01-21)</td>\n",
       "      <td>27.5</td>\n",
       "    </tr>\n",
       "  </tbody>\n",
       "</table>\n",
       "</div>"
      ],
      "text/plain": [
       "  no_overall season no_in_season                       episode_name  \\\n",
       "0          1      1            1  Simpsons Roasting on an Open Fire   \n",
       "1          2      1            2                    Bart the Genius   \n",
       "2          3      1            3                    Homer's Odyssey   \n",
       "\n",
       "                          airdate viewers (millions)  \n",
       "0  December 17, 1989 (1989-12-17)               26.7  \n",
       "1   January 14, 1990 (1990-01-14)               24.5  \n",
       "2   January 21, 1990 (1990-01-21)               27.5  "
      ]
     },
     "execution_count": 11,
     "metadata": {},
     "output_type": "execute_result"
    }
   ],
   "source": [
    "df_1.head(3)"
   ]
  },
  {
   "cell_type": "code",
   "execution_count": 12,
   "metadata": {},
   "outputs": [
    {
     "data": {
      "text/html": [
       "<div>\n",
       "<style scoped>\n",
       "    .dataframe tbody tr th:only-of-type {\n",
       "        vertical-align: middle;\n",
       "    }\n",
       "\n",
       "    .dataframe tbody tr th {\n",
       "        vertical-align: top;\n",
       "    }\n",
       "\n",
       "    .dataframe thead th {\n",
       "        text-align: right;\n",
       "    }\n",
       "</style>\n",
       "<table border=\"1\" class=\"dataframe\">\n",
       "  <thead>\n",
       "    <tr style=\"text-align: right;\">\n",
       "      <th></th>\n",
       "      <th>no_overall</th>\n",
       "      <th>season</th>\n",
       "      <th>no_in_season</th>\n",
       "      <th>episode_name</th>\n",
       "      <th>airdate</th>\n",
       "      <th>viewers (millions)</th>\n",
       "    </tr>\n",
       "  </thead>\n",
       "  <tbody>\n",
       "    <tr>\n",
       "      <th>438</th>\n",
       "      <td>439</td>\n",
       "      <td>20</td>\n",
       "      <td>19</td>\n",
       "      <td>Waverly Hills, 9-0-2-1-D'oh</td>\n",
       "      <td>May 3, 2009 (2009-05-03)</td>\n",
       "      <td>6.75</td>\n",
       "    </tr>\n",
       "    <tr>\n",
       "      <th>439</th>\n",
       "      <td>440</td>\n",
       "      <td>20</td>\n",
       "      <td>20</td>\n",
       "      <td>Four Great Women and a Manicure</td>\n",
       "      <td>May 10, 2009 (2009-05-10)</td>\n",
       "      <td>5.16</td>\n",
       "    </tr>\n",
       "    <tr>\n",
       "      <th>440</th>\n",
       "      <td>441</td>\n",
       "      <td>20</td>\n",
       "      <td>21</td>\n",
       "      <td>Coming to Homerica</td>\n",
       "      <td>May 17, 2009 (2009-05-17)</td>\n",
       "      <td>5.86</td>\n",
       "    </tr>\n",
       "  </tbody>\n",
       "</table>\n",
       "</div>"
      ],
      "text/plain": [
       "    no_overall season no_in_season                     episode_name  \\\n",
       "438        439     20           19      Waverly Hills, 9-0-2-1-D'oh   \n",
       "439        440     20           20  Four Great Women and a Manicure   \n",
       "440        441     20           21               Coming to Homerica   \n",
       "\n",
       "                       airdate viewers (millions)  \n",
       "438   May 3, 2009 (2009-05-03)               6.75  \n",
       "439  May 10, 2009 (2009-05-10)               5.16  \n",
       "440  May 17, 2009 (2009-05-17)               5.86  "
      ]
     },
     "execution_count": 12,
     "metadata": {},
     "output_type": "execute_result"
    }
   ],
   "source": [
    "df_1.tail(3)"
   ]
  },
  {
   "cell_type": "markdown",
   "metadata": {},
   "source": [
    "Now, the rest of the seasons are retrieved:"
   ]
  },
  {
   "cell_type": "code",
   "execution_count": 13,
   "metadata": {},
   "outputs": [],
   "source": [
    "res = requests.get(episode_21_31_url).text\n",
    "soup = BeautifulSoup(res,'html')\n",
    "arr = []\n",
    "next_season = 1\n",
    "for table in soup.find_all('table', class_='wikiepisodetable'):\n",
    "    if(table.previous.previous.previous.text != 'The Longest Daycare' and table.previous.previous.previous.text):\n",
    "        season = table.previous.previous.previous.text.split('(')[1].split(')')[0].split(\" \")[1]\n",
    "        for row in table.find_all('tr')[1::1]:\n",
    "            data = row.find_all(['th','td'])\n",
    "            no = data[0].text\n",
    "            no_in_season = data[1].text\n",
    "            episode_name = data[2].text[1:len(data[2].text)-1] #Remove the \" \" \n",
    "            airdate = data[5].text\n",
    "            viewers = data[7].text.split(\"[\")[0]\n",
    "            arr.append([no,season,no_in_season,episode_name,airdate,viewers])\n",
    "        if(season=='30'):\n",
    "            break\n",
    "df_2 = pd.DataFrame(arr)\n",
    "df_2.columns = ['no_overall','season','no_in_season','episode_name','airdate','viewers (millions)']"
   ]
  },
  {
   "cell_type": "markdown",
   "metadata": {},
   "source": [
    "Seasons 21 to 30:"
   ]
  },
  {
   "cell_type": "code",
   "execution_count": 14,
   "metadata": {},
   "outputs": [
    {
     "data": {
      "text/html": [
       "<div>\n",
       "<style scoped>\n",
       "    .dataframe tbody tr th:only-of-type {\n",
       "        vertical-align: middle;\n",
       "    }\n",
       "\n",
       "    .dataframe tbody tr th {\n",
       "        vertical-align: top;\n",
       "    }\n",
       "\n",
       "    .dataframe thead th {\n",
       "        text-align: right;\n",
       "    }\n",
       "</style>\n",
       "<table border=\"1\" class=\"dataframe\">\n",
       "  <thead>\n",
       "    <tr style=\"text-align: right;\">\n",
       "      <th></th>\n",
       "      <th>no_overall</th>\n",
       "      <th>season</th>\n",
       "      <th>no_in_season</th>\n",
       "      <th>episode_name</th>\n",
       "      <th>airdate</th>\n",
       "      <th>viewers (millions)</th>\n",
       "    </tr>\n",
       "  </thead>\n",
       "  <tbody>\n",
       "    <tr>\n",
       "      <th>0</th>\n",
       "      <td>442</td>\n",
       "      <td>21</td>\n",
       "      <td>1</td>\n",
       "      <td>Homer the Whopper</td>\n",
       "      <td>September 27, 2009 (2009-09-27)</td>\n",
       "      <td>8.31</td>\n",
       "    </tr>\n",
       "    <tr>\n",
       "      <th>1</th>\n",
       "      <td>443</td>\n",
       "      <td>21</td>\n",
       "      <td>2</td>\n",
       "      <td>Bart Gets a 'Z'</td>\n",
       "      <td>October 4, 2009 (2009-10-04)</td>\n",
       "      <td>9.32</td>\n",
       "    </tr>\n",
       "    <tr>\n",
       "      <th>2</th>\n",
       "      <td>444</td>\n",
       "      <td>21</td>\n",
       "      <td>3</td>\n",
       "      <td>The Great Wife Hope</td>\n",
       "      <td>October 11, 2009 (2009-10-11)</td>\n",
       "      <td>7.5</td>\n",
       "    </tr>\n",
       "  </tbody>\n",
       "</table>\n",
       "</div>"
      ],
      "text/plain": [
       "  no_overall season no_in_season         episode_name  \\\n",
       "0        442     21            1    Homer the Whopper   \n",
       "1        443     21            2      Bart Gets a 'Z'   \n",
       "2        444     21            3  The Great Wife Hope   \n",
       "\n",
       "                           airdate viewers (millions)  \n",
       "0  September 27, 2009 (2009-09-27)               8.31  \n",
       "1     October 4, 2009 (2009-10-04)               9.32  \n",
       "2    October 11, 2009 (2009-10-11)                7.5  "
      ]
     },
     "execution_count": 14,
     "metadata": {},
     "output_type": "execute_result"
    }
   ],
   "source": [
    "df_2.head(3)"
   ]
  },
  {
   "cell_type": "code",
   "execution_count": 15,
   "metadata": {},
   "outputs": [
    {
     "data": {
      "text/html": [
       "<div>\n",
       "<style scoped>\n",
       "    .dataframe tbody tr th:only-of-type {\n",
       "        vertical-align: middle;\n",
       "    }\n",
       "\n",
       "    .dataframe tbody tr th {\n",
       "        vertical-align: top;\n",
       "    }\n",
       "\n",
       "    .dataframe thead th {\n",
       "        text-align: right;\n",
       "    }\n",
       "</style>\n",
       "<table border=\"1\" class=\"dataframe\">\n",
       "  <thead>\n",
       "    <tr style=\"text-align: right;\">\n",
       "      <th></th>\n",
       "      <th>no_overall</th>\n",
       "      <th>season</th>\n",
       "      <th>no_in_season</th>\n",
       "      <th>episode_name</th>\n",
       "      <th>airdate</th>\n",
       "      <th>viewers (millions)</th>\n",
       "    </tr>\n",
       "  </thead>\n",
       "  <tbody>\n",
       "    <tr>\n",
       "      <th>217</th>\n",
       "      <td>660</td>\n",
       "      <td>30</td>\n",
       "      <td>21</td>\n",
       "      <td>D'oh Canada</td>\n",
       "      <td>April 28, 2019 (2019-04-28)</td>\n",
       "      <td>1.93</td>\n",
       "    </tr>\n",
       "    <tr>\n",
       "      <th>218</th>\n",
       "      <td>661</td>\n",
       "      <td>30</td>\n",
       "      <td>22</td>\n",
       "      <td>Woo-Hoo Dunnit?</td>\n",
       "      <td>May 5, 2019 (2019-05-05)</td>\n",
       "      <td>1.79</td>\n",
       "    </tr>\n",
       "    <tr>\n",
       "      <th>219</th>\n",
       "      <td>662</td>\n",
       "      <td>30</td>\n",
       "      <td>23</td>\n",
       "      <td>Crystal Blue-Haired Persuasion</td>\n",
       "      <td>May 12, 2019 (2019-05-12)</td>\n",
       "      <td>1.50</td>\n",
       "    </tr>\n",
       "  </tbody>\n",
       "</table>\n",
       "</div>"
      ],
      "text/plain": [
       "    no_overall season no_in_season                    episode_name  \\\n",
       "217        660     30           21                     D'oh Canada   \n",
       "218        661     30           22                 Woo-Hoo Dunnit?   \n",
       "219        662     30           23  Crystal Blue-Haired Persuasion   \n",
       "\n",
       "                         airdate viewers (millions)  \n",
       "217  April 28, 2019 (2019-04-28)               1.93  \n",
       "218     May 5, 2019 (2019-05-05)               1.79  \n",
       "219    May 12, 2019 (2019-05-12)               1.50  "
      ]
     },
     "execution_count": 15,
     "metadata": {},
     "output_type": "execute_result"
    }
   ],
   "source": [
    "df_2.tail(3)"
   ]
  },
  {
   "cell_type": "markdown",
   "metadata": {},
   "source": [
    "Concatinating them together will create the final dataframe for the episodes:"
   ]
  },
  {
   "cell_type": "code",
   "execution_count": 16,
   "metadata": {},
   "outputs": [],
   "source": [
    "df_episodes = pd.concat([df_1,df_2])"
   ]
  },
  {
   "cell_type": "code",
   "execution_count": 17,
   "metadata": {},
   "outputs": [],
   "source": [
    "df_episodes.reset_index(inplace=True)\n",
    "df_episodes.drop('index',axis=1,inplace=True)\n",
    "\n",
    "df_episodes['no_overall'] = df_episodes['no_overall'].apply(lambda x: int(x))\n",
    "df_episodes['season'] = df_episodes['season'].apply(lambda x: int(x))\n",
    "df_episodes['no_in_season'] = df_episodes['no_in_season'].apply(lambda x: int(x))"
   ]
  },
  {
   "cell_type": "markdown",
   "metadata": {},
   "source": [
    "It is necessary to clean **season 28** of this dataframe is episodes **608** and **609** are consider to be the same episode, as can be seen below. Splitting the episode up into episode **608** and **609** will make the data make more sense, as the overall episode count will be linear. "
   ]
  },
  {
   "cell_type": "code",
   "execution_count": 18,
   "metadata": {},
   "outputs": [
    {
     "data": {
      "text/plain": [
       "no_overall                                   608609\n",
       "season                                           28\n",
       "no_in_season                                   1213\n",
       "episode_name          The Great Phatsby Parts 1 & 2\n",
       "airdate               January 15, 2017 (2017-01-15)\n",
       "viewers (millions)                             6.90\n",
       "Name: 607, dtype: object"
      ]
     },
     "execution_count": 18,
     "metadata": {},
     "output_type": "execute_result"
    }
   ],
   "source": [
    "df_episodes.iloc[607]"
   ]
  },
  {
   "cell_type": "code",
   "execution_count": 19,
   "metadata": {},
   "outputs": [],
   "source": [
    "df_episodes.drop(607,axis=0,inplace=True)"
   ]
  },
  {
   "cell_type": "code",
   "execution_count": 20,
   "metadata": {},
   "outputs": [],
   "source": [
    "insert_into = pd.DataFrame(data = [{'no_overall':608, 'season':28,'no_in_season': 12, \n",
    "                            'episode_name':'The Great Phatsby','airdate': 'January 15, 2017 (2017-01-15)', \n",
    "                            'viewers (millions)': 6.90}, {'no_overall':609, 'season':28,'no_in_season': 13, \n",
    "                            'episode_name':'The Great Phatsby','airdate': 'January 15, 2017 (2017-01-15)', \n",
    "                            'viewers (millions)': 6.90}], index=[607,608])\n",
    "\n",
    "df_episodes = pd.concat([df_episodes.iloc[:608], insert_into, df_episodes[608:]])"
   ]
  },
  {
   "cell_type": "markdown",
   "metadata": {},
   "source": [
    "### Episode Ratings <a class=\"anchor\" id=\"two.one.two\"></a>"
   ]
  },
  {
   "cell_type": "markdown",
   "metadata": {},
   "source": [
    "Getting the ratings for each episode is possible by scraping IMDB. There exist several pages of ratings for the series on IMDB. Going through each one of them will yield every episode's rating:"
   ]
  },
  {
   "cell_type": "code",
   "execution_count": 21,
   "metadata": {},
   "outputs": [],
   "source": [
    "imdb_ratings_url = 'https://www.imdb.com/list/ls052175596/?st_dt=&mode=simple&page={}&ref_=ttls_vw_smp&sort=release_date,asc'\n",
    "pages = range(1,8)"
   ]
  },
  {
   "cell_type": "code",
   "execution_count": 22,
   "metadata": {},
   "outputs": [],
   "source": [
    "ratings = []\n",
    "for page in range(1,8):\n",
    "    url = imdb_ratings_url.format(page)\n",
    "    res = requests.get(url).text\n",
    "    soup = BeautifulSoup(res,'html')\n",
    "    container = soup.find('div',class_='lister')\n",
    "    for item in container.find_all('div', class_='lister-item'):\n",
    "        as_ = item.find('span',class_='lister-item-header').find_all('a')\n",
    "        episode_name = as_[1].text\n",
    "        rating = item.find('div',class_='col-imdb-rating').text.strip()\n",
    "        ratings.append([episode_name,rating])\n",
    "\n",
    "df_ratings = pd.DataFrame(ratings)\n",
    "df_ratings.columns = ['episode_name','IMDB rating']"
   ]
  },
  {
   "cell_type": "code",
   "execution_count": 23,
   "metadata": {
    "scrolled": true
   },
   "outputs": [
    {
     "data": {
      "text/html": [
       "<div>\n",
       "<style scoped>\n",
       "    .dataframe tbody tr th:only-of-type {\n",
       "        vertical-align: middle;\n",
       "    }\n",
       "\n",
       "    .dataframe tbody tr th {\n",
       "        vertical-align: top;\n",
       "    }\n",
       "\n",
       "    .dataframe thead th {\n",
       "        text-align: right;\n",
       "    }\n",
       "</style>\n",
       "<table border=\"1\" class=\"dataframe\">\n",
       "  <thead>\n",
       "    <tr style=\"text-align: right;\">\n",
       "      <th></th>\n",
       "      <th>episode_name</th>\n",
       "      <th>IMDB rating</th>\n",
       "    </tr>\n",
       "  </thead>\n",
       "  <tbody>\n",
       "    <tr>\n",
       "      <th>669</th>\n",
       "      <td>Todd, Todd, Why Hast Thou Forsaken Me?</td>\n",
       "      <td>6.4</td>\n",
       "    </tr>\n",
       "    <tr>\n",
       "      <th>670</th>\n",
       "      <td>Bobby, It's Cold Outside</td>\n",
       "      <td>6.7</td>\n",
       "    </tr>\n",
       "    <tr>\n",
       "      <th>671</th>\n",
       "      <td>Hail to the Teeth</td>\n",
       "      <td>6</td>\n",
       "    </tr>\n",
       "    <tr>\n",
       "      <th>672</th>\n",
       "      <td>The Miseducation of Lisa Simpson</td>\n",
       "      <td>6.6</td>\n",
       "    </tr>\n",
       "    <tr>\n",
       "      <th>673</th>\n",
       "      <td>Frinkcoin</td>\n",
       "      <td>5.9</td>\n",
       "    </tr>\n",
       "    <tr>\n",
       "      <th>674</th>\n",
       "      <td>Bart the Bad Guy</td>\n",
       "      <td>7.4</td>\n",
       "    </tr>\n",
       "    <tr>\n",
       "      <th>675</th>\n",
       "      <td>Screenless</td>\n",
       "      <td>6.6</td>\n",
       "    </tr>\n",
       "    <tr>\n",
       "      <th>676</th>\n",
       "      <td>Better Off Ned</td>\n",
       "      <td>6.5</td>\n",
       "    </tr>\n",
       "    <tr>\n",
       "      <th>677</th>\n",
       "      <td>Highway to Well</td>\n",
       "      <td>7.1</td>\n",
       "    </tr>\n",
       "    <tr>\n",
       "      <th>678</th>\n",
       "      <td>The Incredible Lightness of Being a Baby</td>\n",
       "      <td>6.5</td>\n",
       "    </tr>\n",
       "  </tbody>\n",
       "</table>\n",
       "</div>"
      ],
      "text/plain": [
       "                                 episode_name IMDB rating\n",
       "669    Todd, Todd, Why Hast Thou Forsaken Me?         6.4\n",
       "670                  Bobby, It's Cold Outside         6.7\n",
       "671                         Hail to the Teeth           6\n",
       "672          The Miseducation of Lisa Simpson         6.6\n",
       "673                                 Frinkcoin         5.9\n",
       "674                          Bart the Bad Guy         7.4\n",
       "675                                Screenless         6.6\n",
       "676                            Better Off Ned         6.5\n",
       "677                           Highway to Well         7.1\n",
       "678  The Incredible Lightness of Being a Baby         6.5"
      ]
     },
     "execution_count": 23,
     "metadata": {},
     "output_type": "execute_result"
    }
   ],
   "source": [
    "df_ratings.tail(10)"
   ]
  },
  {
   "cell_type": "markdown",
   "metadata": {},
   "source": [
    "For this particular project, only the first 660 episodes will be investigated. This decision was made as the last episodes do not have as much description written about them as they are quite new. "
   ]
  },
  {
   "cell_type": "code",
   "execution_count": 24,
   "metadata": {},
   "outputs": [],
   "source": [
    "df_ratings = df_ratings[:661]"
   ]
  },
  {
   "cell_type": "code",
   "execution_count": 25,
   "metadata": {},
   "outputs": [
    {
     "data": {
      "text/html": [
       "<div>\n",
       "<style scoped>\n",
       "    .dataframe tbody tr th:only-of-type {\n",
       "        vertical-align: middle;\n",
       "    }\n",
       "\n",
       "    .dataframe tbody tr th {\n",
       "        vertical-align: top;\n",
       "    }\n",
       "\n",
       "    .dataframe thead th {\n",
       "        text-align: right;\n",
       "    }\n",
       "</style>\n",
       "<table border=\"1\" class=\"dataframe\">\n",
       "  <thead>\n",
       "    <tr style=\"text-align: right;\">\n",
       "      <th></th>\n",
       "      <th>episode_name</th>\n",
       "      <th>IMDB rating</th>\n",
       "    </tr>\n",
       "  </thead>\n",
       "  <tbody>\n",
       "    <tr>\n",
       "      <th>659</th>\n",
       "      <td>Woo-Hoo Dunnit?</td>\n",
       "      <td>5.9</td>\n",
       "    </tr>\n",
       "    <tr>\n",
       "      <th>660</th>\n",
       "      <td>Crystal Blue-Haired Persuasion</td>\n",
       "      <td>5.8</td>\n",
       "    </tr>\n",
       "  </tbody>\n",
       "</table>\n",
       "</div>"
      ],
      "text/plain": [
       "                       episode_name IMDB rating\n",
       "659                 Woo-Hoo Dunnit?         5.9\n",
       "660  Crystal Blue-Haired Persuasion         5.8"
      ]
     },
     "execution_count": 25,
     "metadata": {},
     "output_type": "execute_result"
    }
   ],
   "source": [
    "df_ratings.tail(2)"
   ]
  },
  {
   "cell_type": "markdown",
   "metadata": {},
   "source": [
    "Concatinating these two DataFrames will yield more informative data. However, a simple merge on the names will not do because the names are not exactly identical on IMDB and Wikipedia. The `NaN` values will be looked at and manually fixed: "
   ]
  },
  {
   "cell_type": "code",
   "execution_count": 26,
   "metadata": {},
   "outputs": [],
   "source": [
    "df_episodes_ratings = pd.merge(df_episodes, df_ratings, on='episode_name',how='left')"
   ]
  },
  {
   "cell_type": "markdown",
   "metadata": {},
   "source": [
    "The following episodes do not get a rating after the join because the naming convention are different between IMDB and Wikipedia."
   ]
  },
  {
   "cell_type": "code",
   "execution_count": 27,
   "metadata": {
    "scrolled": true
   },
   "outputs": [
    {
     "data": {
      "text/html": [
       "<div>\n",
       "<style scoped>\n",
       "    .dataframe tbody tr th:only-of-type {\n",
       "        vertical-align: middle;\n",
       "    }\n",
       "\n",
       "    .dataframe tbody tr th {\n",
       "        vertical-align: top;\n",
       "    }\n",
       "\n",
       "    .dataframe thead th {\n",
       "        text-align: right;\n",
       "    }\n",
       "</style>\n",
       "<table border=\"1\" class=\"dataframe\">\n",
       "  <thead>\n",
       "    <tr style=\"text-align: right;\">\n",
       "      <th></th>\n",
       "      <th>no_overall</th>\n",
       "      <th>season</th>\n",
       "      <th>no_in_season</th>\n",
       "      <th>episode_name</th>\n",
       "      <th>airdate</th>\n",
       "      <th>viewers (millions)</th>\n",
       "      <th>IMDB rating</th>\n",
       "    </tr>\n",
       "  </thead>\n",
       "  <tbody>\n",
       "    <tr>\n",
       "      <th>13</th>\n",
       "      <td>14</td>\n",
       "      <td>2</td>\n",
       "      <td>1</td>\n",
       "      <td>Bart Gets an \"F\"</td>\n",
       "      <td>October 11, 1990 (1990-10-11)</td>\n",
       "      <td>33.6</td>\n",
       "      <td>NaN</td>\n",
       "    </tr>\n",
       "    <tr>\n",
       "      <th>21</th>\n",
       "      <td>22</td>\n",
       "      <td>2</td>\n",
       "      <td>9</td>\n",
       "      <td>Itchy &amp; Scratchy &amp; Marge</td>\n",
       "      <td>December 20, 1990 (1990-12-20)</td>\n",
       "      <td>22.2</td>\n",
       "      <td>NaN</td>\n",
       "    </tr>\n",
       "    <tr>\n",
       "      <th>28</th>\n",
       "      <td>29</td>\n",
       "      <td>2</td>\n",
       "      <td>16</td>\n",
       "      <td>Bart's Dog Gets an \"F\"</td>\n",
       "      <td>March 7, 1991 (1991-03-07)</td>\n",
       "      <td>23.9</td>\n",
       "      <td>NaN</td>\n",
       "    </tr>\n",
       "    <tr>\n",
       "      <th>88</th>\n",
       "      <td>89</td>\n",
       "      <td>5</td>\n",
       "      <td>8</td>\n",
       "      <td>Boy-Scoutz 'n the Hood</td>\n",
       "      <td>November 18, 1993 (1993-11-18)</td>\n",
       "      <td>20.1</td>\n",
       "      <td>NaN</td>\n",
       "    </tr>\n",
       "    <tr>\n",
       "      <th>90</th>\n",
       "      <td>91</td>\n",
       "      <td>5</td>\n",
       "      <td>10</td>\n",
       "      <td>$pringfield (or, How I Learned to Stop Worryin...</td>\n",
       "      <td>December 16, 1993 (1993-12-16)</td>\n",
       "      <td>17.9</td>\n",
       "      <td>NaN</td>\n",
       "    </tr>\n",
       "    <tr>\n",
       "      <th>123</th>\n",
       "      <td>124</td>\n",
       "      <td>6</td>\n",
       "      <td>21</td>\n",
       "      <td>The PTA Disbands!</td>\n",
       "      <td>April 16, 1995 (1995-04-16)</td>\n",
       "      <td>11.8</td>\n",
       "      <td>NaN</td>\n",
       "    </tr>\n",
       "    <tr>\n",
       "      <th>127</th>\n",
       "      <td>128</td>\n",
       "      <td>6</td>\n",
       "      <td>25</td>\n",
       "      <td>Who Shot Mr. Burns? (Part One)</td>\n",
       "      <td>May 21, 1995 (1995-05-21)</td>\n",
       "      <td>15.0</td>\n",
       "      <td>NaN</td>\n",
       "    </tr>\n",
       "    <tr>\n",
       "      <th>128</th>\n",
       "      <td>129</td>\n",
       "      <td>7</td>\n",
       "      <td>1</td>\n",
       "      <td>Who Shot Mr. Burns? (Part Two)</td>\n",
       "      <td>September 17, 1995 (1995-09-17)</td>\n",
       "      <td>16.0</td>\n",
       "      <td>NaN</td>\n",
       "    </tr>\n",
       "    <tr>\n",
       "      <th>130</th>\n",
       "      <td>131</td>\n",
       "      <td>7</td>\n",
       "      <td>3</td>\n",
       "      <td>Home Sweet Homediddly-Dum-Doodily</td>\n",
       "      <td>October 1, 1995 (1995-10-01)</td>\n",
       "      <td>14.5</td>\n",
       "      <td>NaN</td>\n",
       "    </tr>\n",
       "    <tr>\n",
       "      <th>134</th>\n",
       "      <td>135</td>\n",
       "      <td>7</td>\n",
       "      <td>7</td>\n",
       "      <td>King-Size Homer</td>\n",
       "      <td>November 5, 1995 (1995-11-05)</td>\n",
       "      <td>17.0</td>\n",
       "      <td>NaN</td>\n",
       "    </tr>\n",
       "    <tr>\n",
       "      <th>137</th>\n",
       "      <td>138</td>\n",
       "      <td>7</td>\n",
       "      <td>10</td>\n",
       "      <td>The Simpsons 138th Episode Spectacular</td>\n",
       "      <td>December 3, 1995 (1995-12-03)</td>\n",
       "      <td>16.4</td>\n",
       "      <td>NaN</td>\n",
       "    </tr>\n",
       "    <tr>\n",
       "      <th>149</th>\n",
       "      <td>150</td>\n",
       "      <td>7</td>\n",
       "      <td>22</td>\n",
       "      <td>Raging Abe Simpson and His Grumbling Grandson ...</td>\n",
       "      <td>April 28, 1996 (1996-04-28)</td>\n",
       "      <td>13.0</td>\n",
       "      <td>NaN</td>\n",
       "    </tr>\n",
       "    <tr>\n",
       "      <th>152</th>\n",
       "      <td>153</td>\n",
       "      <td>7</td>\n",
       "      <td>25</td>\n",
       "      <td>Summer of 4 Ft. 2</td>\n",
       "      <td>May 19, 1996 (1996-05-19)</td>\n",
       "      <td>14.7</td>\n",
       "      <td>NaN</td>\n",
       "    </tr>\n",
       "    <tr>\n",
       "      <th>161</th>\n",
       "      <td>162</td>\n",
       "      <td>8</td>\n",
       "      <td>9</td>\n",
       "      <td>El Viaje Misterioso de Nuestro Jomer (The Myst...</td>\n",
       "      <td>January 5, 1997 (1997-01-05)</td>\n",
       "      <td>14.9</td>\n",
       "      <td>NaN</td>\n",
       "    </tr>\n",
       "    <tr>\n",
       "      <th>170</th>\n",
       "      <td>171</td>\n",
       "      <td>8</td>\n",
       "      <td>18</td>\n",
       "      <td>Homer vs. the Eighteenth Amendment</td>\n",
       "      <td>March 16, 1997 (1997-03-16)</td>\n",
       "      <td>14.6</td>\n",
       "      <td>NaN</td>\n",
       "    </tr>\n",
       "    <tr>\n",
       "      <th>209</th>\n",
       "      <td>210</td>\n",
       "      <td>10</td>\n",
       "      <td>7</td>\n",
       "      <td>Lisa Gets an \"A\"</td>\n",
       "      <td>November 22, 1998 (1998-11-22)</td>\n",
       "      <td>8</td>\n",
       "      <td>NaN</td>\n",
       "    </tr>\n",
       "    <tr>\n",
       "      <th>210</th>\n",
       "      <td>211</td>\n",
       "      <td>10</td>\n",
       "      <td>8</td>\n",
       "      <td>Homer Simpson in: \"Kidney Trouble\"</td>\n",
       "      <td>December 6, 1998 (1998-12-06)</td>\n",
       "      <td>7.2</td>\n",
       "      <td>NaN</td>\n",
       "    </tr>\n",
       "    <tr>\n",
       "      <th>217</th>\n",
       "      <td>218</td>\n",
       "      <td>10</td>\n",
       "      <td>15</td>\n",
       "      <td>Marge Simpson in: \"Screaming Yellow Honkers\"</td>\n",
       "      <td>February 21, 1999 (1999-02-21)</td>\n",
       "      <td>8.6</td>\n",
       "      <td>NaN</td>\n",
       "    </tr>\n",
       "    <tr>\n",
       "      <th>222</th>\n",
       "      <td>223</td>\n",
       "      <td>10</td>\n",
       "      <td>20</td>\n",
       "      <td>The Old Man and the \"C\" Student</td>\n",
       "      <td>April 25, 1999 (1999-04-25)</td>\n",
       "      <td>6.9</td>\n",
       "      <td>NaN</td>\n",
       "    </tr>\n",
       "    <tr>\n",
       "      <th>225</th>\n",
       "      <td>226</td>\n",
       "      <td>10</td>\n",
       "      <td>23</td>\n",
       "      <td>Thirty Minutes over Tokyo</td>\n",
       "      <td>May 16, 1999 (1999-05-16)</td>\n",
       "      <td>8</td>\n",
       "      <td>NaN</td>\n",
       "    </tr>\n",
       "    <tr>\n",
       "      <th>239</th>\n",
       "      <td>240</td>\n",
       "      <td>11</td>\n",
       "      <td>14</td>\n",
       "      <td>Alone Again, Natura-Diddily</td>\n",
       "      <td>February 13, 2000 (2000-02-13)</td>\n",
       "      <td>10.8</td>\n",
       "      <td>NaN</td>\n",
       "    </tr>\n",
       "    <tr>\n",
       "      <th>251</th>\n",
       "      <td>252</td>\n",
       "      <td>12</td>\n",
       "      <td>4</td>\n",
       "      <td>Lisa the Tree Hugger</td>\n",
       "      <td>November 19, 2000 (2000-11-19)</td>\n",
       "      <td>14.9</td>\n",
       "      <td>NaN</td>\n",
       "    </tr>\n",
       "    <tr>\n",
       "      <th>256</th>\n",
       "      <td>257</td>\n",
       "      <td>12</td>\n",
       "      <td>9</td>\n",
       "      <td>HOMR</td>\n",
       "      <td>January 7, 2001 (2001-01-07)</td>\n",
       "      <td>18.5</td>\n",
       "      <td>NaN</td>\n",
       "    </tr>\n",
       "    <tr>\n",
       "      <th>262</th>\n",
       "      <td>263</td>\n",
       "      <td>12</td>\n",
       "      <td>15</td>\n",
       "      <td>Hungry, Hungry Homer</td>\n",
       "      <td>March 4, 2001 (2001-03-04)</td>\n",
       "      <td>17.6</td>\n",
       "      <td>NaN</td>\n",
       "    </tr>\n",
       "    <tr>\n",
       "      <th>263</th>\n",
       "      <td>264</td>\n",
       "      <td>12</td>\n",
       "      <td>16</td>\n",
       "      <td>Bye Bye Nerdie</td>\n",
       "      <td>March 11, 2001 (2001-03-11)</td>\n",
       "      <td>16.1</td>\n",
       "      <td>NaN</td>\n",
       "    </tr>\n",
       "    <tr>\n",
       "      <th>286</th>\n",
       "      <td>287</td>\n",
       "      <td>13</td>\n",
       "      <td>18</td>\n",
       "      <td>I Am Furious (Yellow)</td>\n",
       "      <td>April 28, 2002 (2002-04-28)</td>\n",
       "      <td>12.4</td>\n",
       "      <td>NaN</td>\n",
       "    </tr>\n",
       "    <tr>\n",
       "      <th>290</th>\n",
       "      <td>291</td>\n",
       "      <td>13</td>\n",
       "      <td>22</td>\n",
       "      <td>Poppa's Got a Brand New Badge</td>\n",
       "      <td>May 22, 2002 (2002-05-22)</td>\n",
       "      <td>8.2</td>\n",
       "      <td>NaN</td>\n",
       "    </tr>\n",
       "    <tr>\n",
       "      <th>293</th>\n",
       "      <td>294</td>\n",
       "      <td>14</td>\n",
       "      <td>3</td>\n",
       "      <td>Bart vs. Lisa vs. the Third Grade</td>\n",
       "      <td>November 17, 2002 (2002-11-17)</td>\n",
       "      <td>13.3</td>\n",
       "      <td>NaN</td>\n",
       "    </tr>\n",
       "    <tr>\n",
       "      <th>318</th>\n",
       "      <td>319</td>\n",
       "      <td>15</td>\n",
       "      <td>6</td>\n",
       "      <td>Today I Am a Clown</td>\n",
       "      <td>December 7, 2003 (2003-12-07)</td>\n",
       "      <td>10.5</td>\n",
       "      <td>NaN</td>\n",
       "    </tr>\n",
       "    <tr>\n",
       "      <th>321</th>\n",
       "      <td>322</td>\n",
       "      <td>15</td>\n",
       "      <td>9</td>\n",
       "      <td>I, (Annoyed Grunt)-bot</td>\n",
       "      <td>January 11, 2004 (2004-01-11)</td>\n",
       "      <td>16.3</td>\n",
       "      <td>NaN</td>\n",
       "    </tr>\n",
       "    <tr>\n",
       "      <th>327</th>\n",
       "      <td>328</td>\n",
       "      <td>15</td>\n",
       "      <td>15</td>\n",
       "      <td>Co-Dependents' Day</td>\n",
       "      <td>March 21, 2004 (2004-03-21)</td>\n",
       "      <td>11.2</td>\n",
       "      <td>NaN</td>\n",
       "    </tr>\n",
       "    <tr>\n",
       "      <th>353</th>\n",
       "      <td>354</td>\n",
       "      <td>16</td>\n",
       "      <td>19</td>\n",
       "      <td>Thank God, It's Doomsday</td>\n",
       "      <td>May 8, 2005 (2005-05-08)</td>\n",
       "      <td>10.05</td>\n",
       "      <td>NaN</td>\n",
       "    </tr>\n",
       "    <tr>\n",
       "      <th>377</th>\n",
       "      <td>378</td>\n",
       "      <td>17</td>\n",
       "      <td>22</td>\n",
       "      <td>Marge and Homer Turn a Couple Play</td>\n",
       "      <td>May 21, 2006 (2006-05-21)</td>\n",
       "      <td>8.23</td>\n",
       "      <td>NaN</td>\n",
       "    </tr>\n",
       "    <tr>\n",
       "      <th>379</th>\n",
       "      <td>380</td>\n",
       "      <td>18</td>\n",
       "      <td>2</td>\n",
       "      <td>Jazzy and the Pussycats</td>\n",
       "      <td>September 17, 2006 (2006-09-17)</td>\n",
       "      <td>8.94</td>\n",
       "      <td>NaN</td>\n",
       "    </tr>\n",
       "    <tr>\n",
       "      <th>384</th>\n",
       "      <td>385</td>\n",
       "      <td>18</td>\n",
       "      <td>7</td>\n",
       "      <td>Ice Cream of Margie (with the Light Blue Hair)</td>\n",
       "      <td>November 26, 2006 (2006-11-26)</td>\n",
       "      <td>10.90</td>\n",
       "      <td>NaN</td>\n",
       "    </tr>\n",
       "    <tr>\n",
       "      <th>386</th>\n",
       "      <td>387</td>\n",
       "      <td>18</td>\n",
       "      <td>9</td>\n",
       "      <td>Kill Gil, Volumes I &amp; II</td>\n",
       "      <td>December 17, 2006 (2006-12-17)</td>\n",
       "      <td>8.96</td>\n",
       "      <td>NaN</td>\n",
       "    </tr>\n",
       "    <tr>\n",
       "      <th>392</th>\n",
       "      <td>393</td>\n",
       "      <td>18</td>\n",
       "      <td>15</td>\n",
       "      <td>Rome-Old and Juli-Eh</td>\n",
       "      <td>March 11, 2007 (2007-03-11)</td>\n",
       "      <td>8.98</td>\n",
       "      <td>NaN</td>\n",
       "    </tr>\n",
       "    <tr>\n",
       "      <th>397</th>\n",
       "      <td>398</td>\n",
       "      <td>18</td>\n",
       "      <td>20</td>\n",
       "      <td>Stop! Or My Dog Will Shoot</td>\n",
       "      <td>May 13, 2007 (2007-05-13)</td>\n",
       "      <td>6.48</td>\n",
       "      <td>NaN</td>\n",
       "    </tr>\n",
       "    <tr>\n",
       "      <th>401</th>\n",
       "      <td>402</td>\n",
       "      <td>19</td>\n",
       "      <td>2</td>\n",
       "      <td>The Homer of Seville</td>\n",
       "      <td>September 30, 2007 (2007-09-30)</td>\n",
       "      <td>8.4</td>\n",
       "      <td>NaN</td>\n",
       "    </tr>\n",
       "    <tr>\n",
       "      <th>412</th>\n",
       "      <td>413</td>\n",
       "      <td>19</td>\n",
       "      <td>13</td>\n",
       "      <td>The Debarted</td>\n",
       "      <td>March 2, 2008 (2008-03-02)</td>\n",
       "      <td>8.18</td>\n",
       "      <td>NaN</td>\n",
       "    </tr>\n",
       "    <tr>\n",
       "      <th>413</th>\n",
       "      <td>414</td>\n",
       "      <td>19</td>\n",
       "      <td>14</td>\n",
       "      <td>Dial \"N\" for Nerder</td>\n",
       "      <td>March 9, 2008 (2008-03-09)</td>\n",
       "      <td>7.3</td>\n",
       "      <td>NaN</td>\n",
       "    </tr>\n",
       "    <tr>\n",
       "      <th>438</th>\n",
       "      <td>439</td>\n",
       "      <td>20</td>\n",
       "      <td>19</td>\n",
       "      <td>Waverly Hills, 9-0-2-1-D'oh</td>\n",
       "      <td>May 3, 2009 (2009-05-03)</td>\n",
       "      <td>6.75</td>\n",
       "      <td>NaN</td>\n",
       "    </tr>\n",
       "    <tr>\n",
       "      <th>448</th>\n",
       "      <td>449</td>\n",
       "      <td>21</td>\n",
       "      <td>8</td>\n",
       "      <td>O Brother, Where Bart Thou?</td>\n",
       "      <td>December 13, 2009 (2009-12-13)</td>\n",
       "      <td>7.11</td>\n",
       "      <td>NaN</td>\n",
       "    </tr>\n",
       "    <tr>\n",
       "      <th>460</th>\n",
       "      <td>461</td>\n",
       "      <td>21</td>\n",
       "      <td>20</td>\n",
       "      <td>To Surveil with Love</td>\n",
       "      <td>May 2, 2010 (2010-05-02)</td>\n",
       "      <td>6.06</td>\n",
       "      <td>NaN</td>\n",
       "    </tr>\n",
       "    <tr>\n",
       "      <th>479</th>\n",
       "      <td>480</td>\n",
       "      <td>22</td>\n",
       "      <td>16</td>\n",
       "      <td>A Midsummer's Nice Dream</td>\n",
       "      <td>March 13, 2011 (2011-03-13)</td>\n",
       "      <td>5.44</td>\n",
       "      <td>NaN</td>\n",
       "    </tr>\n",
       "    <tr>\n",
       "      <th>486</th>\n",
       "      <td>487</td>\n",
       "      <td>23</td>\n",
       "      <td>1</td>\n",
       "      <td>The Falcon and the D'ohman</td>\n",
       "      <td>September 25, 2011 (2011-09-25)</td>\n",
       "      <td>8.08</td>\n",
       "      <td>NaN</td>\n",
       "    </tr>\n",
       "    <tr>\n",
       "      <th>504</th>\n",
       "      <td>505</td>\n",
       "      <td>23</td>\n",
       "      <td>19</td>\n",
       "      <td>A Totally Fun Thing That Bart Will Never Do Again</td>\n",
       "      <td>April 29, 2012 (2012-04-29)</td>\n",
       "      <td>5.00</td>\n",
       "      <td>NaN</td>\n",
       "    </tr>\n",
       "    <tr>\n",
       "      <th>506</th>\n",
       "      <td>507</td>\n",
       "      <td>23</td>\n",
       "      <td>21</td>\n",
       "      <td>Ned 'n' Edna's Blend Agenda</td>\n",
       "      <td>May 13, 2012 (2012-05-13)</td>\n",
       "      <td>4.07</td>\n",
       "      <td>NaN</td>\n",
       "    </tr>\n",
       "    <tr>\n",
       "      <th>518</th>\n",
       "      <td>519</td>\n",
       "      <td>24</td>\n",
       "      <td>11</td>\n",
       "      <td>The Changing of the Guardian</td>\n",
       "      <td>January 27, 2013 (2013-01-27)</td>\n",
       "      <td>5.23</td>\n",
       "      <td>NaN</td>\n",
       "    </tr>\n",
       "    <tr>\n",
       "      <th>519</th>\n",
       "      <td>520</td>\n",
       "      <td>24</td>\n",
       "      <td>12</td>\n",
       "      <td>Love Is a Many-Splintered Thing</td>\n",
       "      <td>February 10, 2013 (2013-02-10)</td>\n",
       "      <td>4.19</td>\n",
       "      <td>NaN</td>\n",
       "    </tr>\n",
       "    <tr>\n",
       "      <th>522</th>\n",
       "      <td>523</td>\n",
       "      <td>24</td>\n",
       "      <td>15</td>\n",
       "      <td>Black Eyed, Please</td>\n",
       "      <td>March 10, 2013 (2013-03-10)</td>\n",
       "      <td>4.85</td>\n",
       "      <td>NaN</td>\n",
       "    </tr>\n",
       "    <tr>\n",
       "      <th>575</th>\n",
       "      <td>576</td>\n",
       "      <td>27</td>\n",
       "      <td>2</td>\n",
       "      <td>Cue Detective</td>\n",
       "      <td>October 4, 2015 (2015-10-04)</td>\n",
       "      <td>6.02</td>\n",
       "      <td>NaN</td>\n",
       "    </tr>\n",
       "    <tr>\n",
       "      <th>580</th>\n",
       "      <td>581</td>\n",
       "      <td>27</td>\n",
       "      <td>7</td>\n",
       "      <td>Lisa with an 'S'</td>\n",
       "      <td>November 22, 2015 (2015-11-22)</td>\n",
       "      <td>5.64</td>\n",
       "      <td>NaN</td>\n",
       "    </tr>\n",
       "    <tr>\n",
       "      <th>600</th>\n",
       "      <td>601</td>\n",
       "      <td>28</td>\n",
       "      <td>5</td>\n",
       "      <td>Trust but Clarify</td>\n",
       "      <td>October 23, 2016 (2016-10-23)</td>\n",
       "      <td>3.36</td>\n",
       "      <td>NaN</td>\n",
       "    </tr>\n",
       "    <tr>\n",
       "      <th>623</th>\n",
       "      <td>624</td>\n",
       "      <td>29</td>\n",
       "      <td>6</td>\n",
       "      <td>The Old Blue Mayor She Ain't What She Used to Be</td>\n",
       "      <td>November 12, 2017 (2017-11-12)</td>\n",
       "      <td>4.75</td>\n",
       "      <td>NaN</td>\n",
       "    </tr>\n",
       "    <tr>\n",
       "      <th>629</th>\n",
       "      <td>630</td>\n",
       "      <td>29</td>\n",
       "      <td>12</td>\n",
       "      <td>Homer Is Where the Art Isn't</td>\n",
       "      <td>March 18, 2018 (2018-03-18)</td>\n",
       "      <td>2.10</td>\n",
       "      <td>NaN</td>\n",
       "    </tr>\n",
       "  </tbody>\n",
       "</table>\n",
       "</div>"
      ],
      "text/plain": [
       "     no_overall  season  no_in_season  \\\n",
       "13           14       2             1   \n",
       "21           22       2             9   \n",
       "28           29       2            16   \n",
       "88           89       5             8   \n",
       "90           91       5            10   \n",
       "123         124       6            21   \n",
       "127         128       6            25   \n",
       "128         129       7             1   \n",
       "130         131       7             3   \n",
       "134         135       7             7   \n",
       "137         138       7            10   \n",
       "149         150       7            22   \n",
       "152         153       7            25   \n",
       "161         162       8             9   \n",
       "170         171       8            18   \n",
       "209         210      10             7   \n",
       "210         211      10             8   \n",
       "217         218      10            15   \n",
       "222         223      10            20   \n",
       "225         226      10            23   \n",
       "239         240      11            14   \n",
       "251         252      12             4   \n",
       "256         257      12             9   \n",
       "262         263      12            15   \n",
       "263         264      12            16   \n",
       "286         287      13            18   \n",
       "290         291      13            22   \n",
       "293         294      14             3   \n",
       "318         319      15             6   \n",
       "321         322      15             9   \n",
       "327         328      15            15   \n",
       "353         354      16            19   \n",
       "377         378      17            22   \n",
       "379         380      18             2   \n",
       "384         385      18             7   \n",
       "386         387      18             9   \n",
       "392         393      18            15   \n",
       "397         398      18            20   \n",
       "401         402      19             2   \n",
       "412         413      19            13   \n",
       "413         414      19            14   \n",
       "438         439      20            19   \n",
       "448         449      21             8   \n",
       "460         461      21            20   \n",
       "479         480      22            16   \n",
       "486         487      23             1   \n",
       "504         505      23            19   \n",
       "506         507      23            21   \n",
       "518         519      24            11   \n",
       "519         520      24            12   \n",
       "522         523      24            15   \n",
       "575         576      27             2   \n",
       "580         581      27             7   \n",
       "600         601      28             5   \n",
       "623         624      29             6   \n",
       "629         630      29            12   \n",
       "\n",
       "                                          episode_name  \\\n",
       "13                                    Bart Gets an \"F\"   \n",
       "21                            Itchy & Scratchy & Marge   \n",
       "28                              Bart's Dog Gets an \"F\"   \n",
       "88                              Boy-Scoutz 'n the Hood   \n",
       "90   $pringfield (or, How I Learned to Stop Worryin...   \n",
       "123                                  The PTA Disbands!   \n",
       "127                     Who Shot Mr. Burns? (Part One)   \n",
       "128                     Who Shot Mr. Burns? (Part Two)   \n",
       "130                  Home Sweet Homediddly-Dum-Doodily   \n",
       "134                                    King-Size Homer   \n",
       "137             The Simpsons 138th Episode Spectacular   \n",
       "149  Raging Abe Simpson and His Grumbling Grandson ...   \n",
       "152                                  Summer of 4 Ft. 2   \n",
       "161  El Viaje Misterioso de Nuestro Jomer (The Myst...   \n",
       "170                 Homer vs. the Eighteenth Amendment   \n",
       "209                                   Lisa Gets an \"A\"   \n",
       "210                 Homer Simpson in: \"Kidney Trouble\"   \n",
       "217       Marge Simpson in: \"Screaming Yellow Honkers\"   \n",
       "222                    The Old Man and the \"C\" Student   \n",
       "225                          Thirty Minutes over Tokyo   \n",
       "239                        Alone Again, Natura-Diddily   \n",
       "251                               Lisa the Tree Hugger   \n",
       "256                                               HOMR   \n",
       "262                               Hungry, Hungry Homer   \n",
       "263                                     Bye Bye Nerdie   \n",
       "286                              I Am Furious (Yellow)   \n",
       "290                      Poppa's Got a Brand New Badge   \n",
       "293                  Bart vs. Lisa vs. the Third Grade   \n",
       "318                                 Today I Am a Clown   \n",
       "321                             I, (Annoyed Grunt)-bot   \n",
       "327                                 Co-Dependents' Day   \n",
       "353                           Thank God, It's Doomsday   \n",
       "377                 Marge and Homer Turn a Couple Play   \n",
       "379                            Jazzy and the Pussycats   \n",
       "384     Ice Cream of Margie (with the Light Blue Hair)   \n",
       "386                           Kill Gil, Volumes I & II   \n",
       "392                               Rome-Old and Juli-Eh   \n",
       "397                         Stop! Or My Dog Will Shoot   \n",
       "401                               The Homer of Seville   \n",
       "412                                       The Debarted   \n",
       "413                                Dial \"N\" for Nerder   \n",
       "438                        Waverly Hills, 9-0-2-1-D'oh   \n",
       "448                        O Brother, Where Bart Thou?   \n",
       "460                               To Surveil with Love   \n",
       "479                           A Midsummer's Nice Dream   \n",
       "486                         The Falcon and the D'ohman   \n",
       "504  A Totally Fun Thing That Bart Will Never Do Again   \n",
       "506                        Ned 'n' Edna's Blend Agenda   \n",
       "518                       The Changing of the Guardian   \n",
       "519                    Love Is a Many-Splintered Thing   \n",
       "522                                 Black Eyed, Please   \n",
       "575                                      Cue Detective   \n",
       "580                                   Lisa with an 'S'   \n",
       "600                                  Trust but Clarify   \n",
       "623   The Old Blue Mayor She Ain't What She Used to Be   \n",
       "629                       Homer Is Where the Art Isn't   \n",
       "\n",
       "                             airdate viewers (millions) IMDB rating  \n",
       "13     October 11, 1990 (1990-10-11)               33.6         NaN  \n",
       "21    December 20, 1990 (1990-12-20)               22.2         NaN  \n",
       "28        March 7, 1991 (1991-03-07)               23.9         NaN  \n",
       "88    November 18, 1993 (1993-11-18)               20.1         NaN  \n",
       "90    December 16, 1993 (1993-12-16)               17.9         NaN  \n",
       "123      April 16, 1995 (1995-04-16)               11.8         NaN  \n",
       "127        May 21, 1995 (1995-05-21)               15.0         NaN  \n",
       "128  September 17, 1995 (1995-09-17)               16.0         NaN  \n",
       "130     October 1, 1995 (1995-10-01)               14.5         NaN  \n",
       "134    November 5, 1995 (1995-11-05)               17.0         NaN  \n",
       "137    December 3, 1995 (1995-12-03)               16.4         NaN  \n",
       "149      April 28, 1996 (1996-04-28)               13.0         NaN  \n",
       "152        May 19, 1996 (1996-05-19)               14.7         NaN  \n",
       "161     January 5, 1997 (1997-01-05)               14.9         NaN  \n",
       "170      March 16, 1997 (1997-03-16)               14.6         NaN  \n",
       "209   November 22, 1998 (1998-11-22)                  8         NaN  \n",
       "210    December 6, 1998 (1998-12-06)                7.2         NaN  \n",
       "217   February 21, 1999 (1999-02-21)                8.6         NaN  \n",
       "222      April 25, 1999 (1999-04-25)                6.9         NaN  \n",
       "225        May 16, 1999 (1999-05-16)                  8         NaN  \n",
       "239   February 13, 2000 (2000-02-13)               10.8         NaN  \n",
       "251   November 19, 2000 (2000-11-19)               14.9         NaN  \n",
       "256     January 7, 2001 (2001-01-07)               18.5         NaN  \n",
       "262       March 4, 2001 (2001-03-04)               17.6         NaN  \n",
       "263      March 11, 2001 (2001-03-11)               16.1         NaN  \n",
       "286      April 28, 2002 (2002-04-28)               12.4         NaN  \n",
       "290        May 22, 2002 (2002-05-22)                8.2         NaN  \n",
       "293   November 17, 2002 (2002-11-17)               13.3         NaN  \n",
       "318    December 7, 2003 (2003-12-07)               10.5         NaN  \n",
       "321    January 11, 2004 (2004-01-11)               16.3         NaN  \n",
       "327      March 21, 2004 (2004-03-21)               11.2         NaN  \n",
       "353         May 8, 2005 (2005-05-08)              10.05         NaN  \n",
       "377        May 21, 2006 (2006-05-21)               8.23         NaN  \n",
       "379  September 17, 2006 (2006-09-17)               8.94         NaN  \n",
       "384   November 26, 2006 (2006-11-26)              10.90         NaN  \n",
       "386   December 17, 2006 (2006-12-17)               8.96         NaN  \n",
       "392      March 11, 2007 (2007-03-11)               8.98         NaN  \n",
       "397        May 13, 2007 (2007-05-13)               6.48         NaN  \n",
       "401  September 30, 2007 (2007-09-30)                8.4         NaN  \n",
       "412       March 2, 2008 (2008-03-02)               8.18         NaN  \n",
       "413       March 9, 2008 (2008-03-09)                7.3         NaN  \n",
       "438         May 3, 2009 (2009-05-03)               6.75         NaN  \n",
       "448   December 13, 2009 (2009-12-13)               7.11         NaN  \n",
       "460         May 2, 2010 (2010-05-02)               6.06         NaN  \n",
       "479      March 13, 2011 (2011-03-13)               5.44         NaN  \n",
       "486  September 25, 2011 (2011-09-25)               8.08         NaN  \n",
       "504      April 29, 2012 (2012-04-29)               5.00         NaN  \n",
       "506        May 13, 2012 (2012-05-13)               4.07         NaN  \n",
       "518    January 27, 2013 (2013-01-27)               5.23         NaN  \n",
       "519   February 10, 2013 (2013-02-10)               4.19         NaN  \n",
       "522      March 10, 2013 (2013-03-10)               4.85         NaN  \n",
       "575     October 4, 2015 (2015-10-04)               6.02         NaN  \n",
       "580   November 22, 2015 (2015-11-22)               5.64         NaN  \n",
       "600    October 23, 2016 (2016-10-23)               3.36         NaN  \n",
       "623   November 12, 2017 (2017-11-12)               4.75         NaN  \n",
       "629      March 18, 2018 (2018-03-18)               2.10         NaN  "
      ]
     },
     "execution_count": 27,
     "metadata": {},
     "output_type": "execute_result"
    }
   ],
   "source": [
    "df_episodes_ratings[df_episodes_ratings['IMDB rating'].isna()]"
   ]
  },
  {
   "cell_type": "markdown",
   "metadata": {},
   "source": [
    "A list of the names of the episodes that are missing their ratings can be created: "
   ]
  },
  {
   "cell_type": "code",
   "execution_count": 28,
   "metadata": {
    "scrolled": true
   },
   "outputs": [
    {
     "name": "stdout",
     "output_type": "stream",
     "text": [
      "Bart Gets an F 8.2\n",
      "Itchy and Scratchy and Marge 8.1\n",
      "Bart's Dog Gets an F 7.5\n",
      "Boy Scoutz 'n the Hood 8.7\n",
      "$pringfield (Or, How I Learned to Stop Worrying and Love Legalized Gambling) 8.6\n",
      "The PTA Disbands 8.1\n",
      "Who Shot Mr. Burns? Part One 9.2\n",
      "Who Shot Mr. Burns? Part Two 9\n",
      "Home Sweet Home-Dum-Diddly Doodily 8.4\n",
      "King Size Homer 9\n",
      "The Simpsons 138th Episode Spectacular! 7.5\n",
      "Raging Abe Simpson and His Grumbling Grandson in 'The Curse of the Flying Hellfish' 8.4\n",
      "Summer of 4'2\" 8.4\n",
      "El Viaje Misterioso De Nuestro Jomer 8.6\n",
      "Homer vs. the 18th Amendment 8.9\n",
      "Lisa Gets an 'A' 8.1\n",
      "Homer Simpson in: 'Kidney Trouble' 7.3\n",
      "Marge Simpson in 'Screaming Yellow Honkers' 7.3\n",
      "The Old Man and the 'C' Student 7.3\n",
      "Thirty Minutes Over Tokyo 8\n",
      "Alone Again, Natura-Diddly 7.7\n",
      "Lisa the Treehugger 7.1\n",
      "Homr 8.1\n",
      "Hungry Hungry Homer 7.5\n",
      "Bye Bye Nerdy 6.6\n",
      "I Am Furious Yellow 7.7\n",
      "Papa's Got a Brand New Badge 7.8\n",
      "Bart vs. Lisa vs. 3rd Grade 7.1\n",
      "Today, I Am a Clown 6.4\n",
      "I, (Annoyed Grunt)-Bot 7.2\n",
      "Co-Dependent's Day 6.7\n",
      "Thank God It's Doomsday 7.2\n",
      "Homer and Marge Turn a Couple Play 6.3\n",
      "Jazzy & The Pussycats 6.6\n",
      "Ice Cream of Margie: With the Light Blue Hair 6.9\n",
      "Kill Gil, Vol. 1 & 2 6.1\n",
      "Rome-old and Juli-eh 6.1\n",
      "Stop or My Dog Will Shoot 6.7\n",
      "Homer of Seville 6.5\n",
      "The DeBarted 7.6\n",
      "Dial 'N' for Nerder 7.3\n",
      "Waverly Hills, 9021-D'Oh 7\n",
      "Oh Brother, Where Bart Thou? 7.1\n",
      "To Surveil, with Love 7\n",
      "A Midsummer's Nice Dreams 5.9\n",
      "The Falcon and the D'Ohman 7\n",
      "A Totally Fun Thing Bart Will Never Do Again 7.5\n",
      "Ned 'N' Edna's Blend 6.5\n",
      "Changing of the Guardian 6.3\n",
      "Love Is a Many Splintered Thing 6.1\n",
      "Black-Eyed, Please 6.8\n",
      "'Cue Detective 6.6\n",
      "Lisa with an \"S\" 5.9\n",
      "Trust But Clarify 6.3\n",
      "Singin' in the Lane 6.3\n",
      "3 Scenes Plus a Tag from a Marriage 6.6\n"
     ]
    }
   ],
   "source": [
    "missing = df_episodes_ratings[df_episodes_ratings['IMDB rating'].isna()].reset_index()\n",
    "missing_episodes = missing['index']\n",
    "for episode in missing_episodes:\n",
    "    print(df_ratings.iloc[episode]['episode_name'],df_ratings.iloc[episode]['IMDB rating'])"
   ]
  },
  {
   "cell_type": "markdown",
   "metadata": {},
   "source": [
    "As can be seen by comparing the two lists, these are the episodes that are missing a rating in the final dataframe. Now, an array can be created with the ratings of these episodes, extracted from `df_ratings`. "
   ]
  },
  {
   "cell_type": "code",
   "execution_count": 29,
   "metadata": {},
   "outputs": [],
   "source": [
    "missing_ratings = []\n",
    "for episode in missing_episodes:\n",
    "    missing_ratings.append([episode,df_episodes.iloc[episode]['episode_name'],df_ratings.iloc[episode]['IMDB rating']])"
   ]
  },
  {
   "cell_type": "code",
   "execution_count": 30,
   "metadata": {},
   "outputs": [],
   "source": [
    "for episode in missing_ratings: \n",
    "    index = episode[0]\n",
    "    rating = episode[2]\n",
    "    df_episodes_ratings.at[index, 'IMDB rating'] = rating"
   ]
  },
  {
   "cell_type": "code",
   "execution_count": 31,
   "metadata": {},
   "outputs": [
    {
     "data": {
      "text/html": [
       "<div>\n",
       "<style scoped>\n",
       "    .dataframe tbody tr th:only-of-type {\n",
       "        vertical-align: middle;\n",
       "    }\n",
       "\n",
       "    .dataframe tbody tr th {\n",
       "        vertical-align: top;\n",
       "    }\n",
       "\n",
       "    .dataframe thead th {\n",
       "        text-align: right;\n",
       "    }\n",
       "</style>\n",
       "<table border=\"1\" class=\"dataframe\">\n",
       "  <thead>\n",
       "    <tr style=\"text-align: right;\">\n",
       "      <th></th>\n",
       "      <th>no_overall</th>\n",
       "      <th>season</th>\n",
       "      <th>no_in_season</th>\n",
       "      <th>episode_name</th>\n",
       "      <th>airdate</th>\n",
       "      <th>viewers (millions)</th>\n",
       "      <th>IMDB rating</th>\n",
       "    </tr>\n",
       "  </thead>\n",
       "  <tbody>\n",
       "  </tbody>\n",
       "</table>\n",
       "</div>"
      ],
      "text/plain": [
       "Empty DataFrame\n",
       "Columns: [no_overall, season, no_in_season, episode_name, airdate, viewers (millions), IMDB rating]\n",
       "Index: []"
      ]
     },
     "execution_count": 31,
     "metadata": {},
     "output_type": "execute_result"
    }
   ],
   "source": [
    "df_episodes_ratings[df_episodes_ratings['IMDB rating'].isna()]"
   ]
  },
  {
   "cell_type": "markdown",
   "metadata": {},
   "source": [
    "The DataFrame holding each episode's information along with it's rating is now complete, but the airdate column can use a little bit of cleaning:"
   ]
  },
  {
   "cell_type": "code",
   "execution_count": 32,
   "metadata": {},
   "outputs": [
    {
     "data": {
      "text/html": [
       "<div>\n",
       "<style scoped>\n",
       "    .dataframe tbody tr th:only-of-type {\n",
       "        vertical-align: middle;\n",
       "    }\n",
       "\n",
       "    .dataframe tbody tr th {\n",
       "        vertical-align: top;\n",
       "    }\n",
       "\n",
       "    .dataframe thead th {\n",
       "        text-align: right;\n",
       "    }\n",
       "</style>\n",
       "<table border=\"1\" class=\"dataframe\">\n",
       "  <thead>\n",
       "    <tr style=\"text-align: right;\">\n",
       "      <th></th>\n",
       "      <th>no_overall</th>\n",
       "      <th>season</th>\n",
       "      <th>no_in_season</th>\n",
       "      <th>episode_name</th>\n",
       "      <th>airdate</th>\n",
       "      <th>viewers (millions)</th>\n",
       "      <th>IMDB rating</th>\n",
       "    </tr>\n",
       "  </thead>\n",
       "  <tbody>\n",
       "    <tr>\n",
       "      <th>0</th>\n",
       "      <td>1</td>\n",
       "      <td>1</td>\n",
       "      <td>1</td>\n",
       "      <td>Simpsons Roasting on an Open Fire</td>\n",
       "      <td>December 17, 1989 (1989-12-17)</td>\n",
       "      <td>26.7</td>\n",
       "      <td>8.2</td>\n",
       "    </tr>\n",
       "    <tr>\n",
       "      <th>1</th>\n",
       "      <td>2</td>\n",
       "      <td>1</td>\n",
       "      <td>2</td>\n",
       "      <td>Bart the Genius</td>\n",
       "      <td>January 14, 1990 (1990-01-14)</td>\n",
       "      <td>24.5</td>\n",
       "      <td>7.7</td>\n",
       "    </tr>\n",
       "  </tbody>\n",
       "</table>\n",
       "</div>"
      ],
      "text/plain": [
       "   no_overall  season  no_in_season                       episode_name  \\\n",
       "0           1       1             1  Simpsons Roasting on an Open Fire   \n",
       "1           2       1             2                    Bart the Genius   \n",
       "\n",
       "                          airdate viewers (millions) IMDB rating  \n",
       "0  December 17, 1989 (1989-12-17)               26.7         8.2  \n",
       "1   January 14, 1990 (1990-01-14)               24.5         7.7  "
      ]
     },
     "execution_count": 32,
     "metadata": {},
     "output_type": "execute_result"
    }
   ],
   "source": [
    "df_episodes_ratings.head(2)"
   ]
  },
  {
   "cell_type": "code",
   "execution_count": 33,
   "metadata": {},
   "outputs": [],
   "source": [
    "df_episodes_ratings['year'] = df_episodes_ratings['airdate'].apply(lambda x: str(x).split(\"(\")[1].split(\"-\")[0])\n",
    "df_episodes_ratings['month'] = df_episodes_ratings['airdate'].apply(lambda x: str(x).split(\"(\")[1].split(\"-\")[1].split('-')[0])\n",
    "df_episodes_ratings['day'] = df_episodes_ratings['airdate'].apply(lambda x: str(x).split(\"(\")[1].split(\"-\")[2].replace(\")\",\"\"))"
   ]
  },
  {
   "cell_type": "code",
   "execution_count": 34,
   "metadata": {},
   "outputs": [
    {
     "data": {
      "text/html": [
       "<div>\n",
       "<style scoped>\n",
       "    .dataframe tbody tr th:only-of-type {\n",
       "        vertical-align: middle;\n",
       "    }\n",
       "\n",
       "    .dataframe tbody tr th {\n",
       "        vertical-align: top;\n",
       "    }\n",
       "\n",
       "    .dataframe thead th {\n",
       "        text-align: right;\n",
       "    }\n",
       "</style>\n",
       "<table border=\"1\" class=\"dataframe\">\n",
       "  <thead>\n",
       "    <tr style=\"text-align: right;\">\n",
       "      <th></th>\n",
       "      <th>no_overall</th>\n",
       "      <th>season</th>\n",
       "      <th>no_in_season</th>\n",
       "      <th>episode_name</th>\n",
       "      <th>airdate</th>\n",
       "      <th>viewers (millions)</th>\n",
       "      <th>IMDB rating</th>\n",
       "      <th>year</th>\n",
       "      <th>month</th>\n",
       "      <th>day</th>\n",
       "    </tr>\n",
       "  </thead>\n",
       "  <tbody>\n",
       "    <tr>\n",
       "      <th>0</th>\n",
       "      <td>1</td>\n",
       "      <td>1</td>\n",
       "      <td>1</td>\n",
       "      <td>Simpsons Roasting on an Open Fire</td>\n",
       "      <td>December 17, 1989 (1989-12-17)</td>\n",
       "      <td>26.7</td>\n",
       "      <td>8.2</td>\n",
       "      <td>1989</td>\n",
       "      <td>12</td>\n",
       "      <td>17</td>\n",
       "    </tr>\n",
       "    <tr>\n",
       "      <th>1</th>\n",
       "      <td>2</td>\n",
       "      <td>1</td>\n",
       "      <td>2</td>\n",
       "      <td>Bart the Genius</td>\n",
       "      <td>January 14, 1990 (1990-01-14)</td>\n",
       "      <td>24.5</td>\n",
       "      <td>7.7</td>\n",
       "      <td>1990</td>\n",
       "      <td>01</td>\n",
       "      <td>14</td>\n",
       "    </tr>\n",
       "  </tbody>\n",
       "</table>\n",
       "</div>"
      ],
      "text/plain": [
       "   no_overall  season  no_in_season                       episode_name  \\\n",
       "0           1       1             1  Simpsons Roasting on an Open Fire   \n",
       "1           2       1             2                    Bart the Genius   \n",
       "\n",
       "                          airdate viewers (millions) IMDB rating  year month  \\\n",
       "0  December 17, 1989 (1989-12-17)               26.7         8.2  1989    12   \n",
       "1   January 14, 1990 (1990-01-14)               24.5         7.7  1990    01   \n",
       "\n",
       "  day  \n",
       "0  17  \n",
       "1  14  "
      ]
     },
     "execution_count": 34,
     "metadata": {},
     "output_type": "execute_result"
    }
   ],
   "source": [
    "df_episodes_ratings.head(2)"
   ]
  },
  {
   "cell_type": "markdown",
   "metadata": {},
   "source": [
    "The Airdate column can now be dropped:"
   ]
  },
  {
   "cell_type": "code",
   "execution_count": 35,
   "metadata": {},
   "outputs": [],
   "source": [
    "df_episodes_ratings.drop('airdate',axis=1,inplace=True)"
   ]
  },
  {
   "cell_type": "markdown",
   "metadata": {},
   "source": [
    "And finally, the IMDB rating column should hold float values:"
   ]
  },
  {
   "cell_type": "code",
   "execution_count": 36,
   "metadata": {},
   "outputs": [],
   "source": [
    "df_episodes_ratings['IMDB rating'] = df_episodes_ratings['IMDB rating'].apply(lambda x: float(x))"
   ]
  },
  {
   "cell_type": "markdown",
   "metadata": {},
   "source": [
    "There are still some `NaN` values in the column `viewers (millions)`"
   ]
  },
  {
   "cell_type": "code",
   "execution_count": 37,
   "metadata": {},
   "outputs": [
    {
     "data": {
      "text/html": [
       "<div>\n",
       "<style scoped>\n",
       "    .dataframe tbody tr th:only-of-type {\n",
       "        vertical-align: middle;\n",
       "    }\n",
       "\n",
       "    .dataframe tbody tr th {\n",
       "        vertical-align: top;\n",
       "    }\n",
       "\n",
       "    .dataframe thead th {\n",
       "        text-align: right;\n",
       "    }\n",
       "</style>\n",
       "<table border=\"1\" class=\"dataframe\">\n",
       "  <thead>\n",
       "    <tr style=\"text-align: right;\">\n",
       "      <th></th>\n",
       "      <th>no_overall</th>\n",
       "      <th>season</th>\n",
       "      <th>no_in_season</th>\n",
       "      <th>episode_name</th>\n",
       "      <th>viewers (millions)</th>\n",
       "      <th>IMDB rating</th>\n",
       "      <th>year</th>\n",
       "      <th>month</th>\n",
       "      <th>day</th>\n",
       "    </tr>\n",
       "  </thead>\n",
       "  <tbody>\n",
       "    <tr>\n",
       "      <th>159</th>\n",
       "      <td>160</td>\n",
       "      <td>8</td>\n",
       "      <td>7</td>\n",
       "      <td>Lisa's Date with Density</td>\n",
       "      <td>N/A</td>\n",
       "      <td>7.8</td>\n",
       "      <td>1996</td>\n",
       "      <td>12</td>\n",
       "      <td>15</td>\n",
       "    </tr>\n",
       "    <tr>\n",
       "      <th>160</th>\n",
       "      <td>161</td>\n",
       "      <td>8</td>\n",
       "      <td>8</td>\n",
       "      <td>Hurricane Neddy</td>\n",
       "      <td>N/A</td>\n",
       "      <td>8.8</td>\n",
       "      <td>1996</td>\n",
       "      <td>12</td>\n",
       "      <td>29</td>\n",
       "    </tr>\n",
       "    <tr>\n",
       "      <th>172</th>\n",
       "      <td>173</td>\n",
       "      <td>8</td>\n",
       "      <td>20</td>\n",
       "      <td>The Canine Mutiny</td>\n",
       "      <td>N/A</td>\n",
       "      <td>7.6</td>\n",
       "      <td>1997</td>\n",
       "      <td>04</td>\n",
       "      <td>13</td>\n",
       "    </tr>\n",
       "  </tbody>\n",
       "</table>\n",
       "</div>"
      ],
      "text/plain": [
       "     no_overall  season  no_in_season              episode_name  \\\n",
       "159         160       8             7  Lisa's Date with Density   \n",
       "160         161       8             8           Hurricane Neddy   \n",
       "172         173       8            20         The Canine Mutiny   \n",
       "\n",
       "    viewers (millions)  IMDB rating  year month day  \n",
       "159                N/A          7.8  1996    12  15  \n",
       "160                N/A          8.8  1996    12  29  \n",
       "172                N/A          7.6  1997    04  13  "
      ]
     },
     "execution_count": 37,
     "metadata": {},
     "output_type": "execute_result"
    }
   ],
   "source": [
    "df_episodes_ratings[df_episodes_ratings['viewers (millions)'] == 'N/A']"
   ]
  },
  {
   "cell_type": "markdown",
   "metadata": {},
   "source": [
    "These values will be set as the average of the viewers for the season that they belong to."
   ]
  },
  {
   "cell_type": "code",
   "execution_count": 38,
   "metadata": {},
   "outputs": [],
   "source": [
    "avg_season_8 = np.average([float(viewer) for viewer in df_episodes_ratings[(df_episodes_ratings['viewers (millions)'] != 'N/A') & (df_episodes_ratings['season'] == 8)]['viewers (millions)']])"
   ]
  },
  {
   "cell_type": "markdown",
   "metadata": {},
   "source": [
    "The values that need to be filled in are in places 159, 160 and 172:"
   ]
  },
  {
   "cell_type": "code",
   "execution_count": 39,
   "metadata": {},
   "outputs": [],
   "source": [
    "fill_na_indices = [index for index in df_episodes_ratings[df_episodes_ratings['viewers (millions)'] == 'N/A'].reset_index()['index']]"
   ]
  },
  {
   "cell_type": "code",
   "execution_count": 40,
   "metadata": {},
   "outputs": [],
   "source": [
    "for index in fill_na_indices:    \n",
    "    df_episodes_ratings.at[index,'viewers (millions)'] = avg_season_8"
   ]
  },
  {
   "cell_type": "markdown",
   "metadata": {},
   "source": [
    "This column should also hold float values."
   ]
  },
  {
   "cell_type": "code",
   "execution_count": 41,
   "metadata": {},
   "outputs": [],
   "source": [
    "df_episodes_ratings['viewers (millions)'] = df_episodes_ratings['viewers (millions)'].apply(lambda x: float(x))"
   ]
  },
  {
   "cell_type": "code",
   "execution_count": 42,
   "metadata": {},
   "outputs": [
    {
     "data": {
      "text/plain": [
       "no_overall            0\n",
       "season                0\n",
       "no_in_season          0\n",
       "episode_name          0\n",
       "viewers (millions)    0\n",
       "IMDB rating           0\n",
       "year                  0\n",
       "month                 0\n",
       "day                   0\n",
       "dtype: int64"
      ]
     },
     "execution_count": 42,
     "metadata": {},
     "output_type": "execute_result"
    }
   ],
   "source": [
    "df_episodes_ratings.isna().sum()"
   ]
  },
  {
   "cell_type": "code",
   "execution_count": 43,
   "metadata": {},
   "outputs": [],
   "source": [
    "df_episodes_ratings.to_csv('episode_ratings.csv')"
   ]
  },
  {
   "cell_type": "markdown",
   "metadata": {},
   "source": [
    "### Simpsons.fandom Pages of Each Episode <a class=\"anchor\" id=\"two.one.four\"></a>"
   ]
  },
  {
   "cell_type": "markdown",
   "metadata": {},
   "source": [
    "In order to scour through each episode's descriotion, scraping a Wiki fan-page of the series is necessary."
   ]
  },
  {
   "cell_type": "code",
   "execution_count": 44,
   "metadata": {},
   "outputs": [],
   "source": [
    "wiki_url = 'https://simpsons.fandom.com/wiki/List_of_Episodes'"
   ]
  },
  {
   "cell_type": "code",
   "execution_count": 45,
   "metadata": {},
   "outputs": [],
   "source": [
    "links_array = []\n",
    "res = requests.get(wiki_url).text\n",
    "soup = BeautifulSoup(res,'html')\n",
    "no_overall = 1\n",
    "for table in soup.find_all('table', class_='wikitable')[1:31]: #Skip the overview table and only take the first 30 seasons\n",
    "    for row in table.find_all('tr'):\n",
    "            links = row.find_all('a')\n",
    "            for link in links:\n",
    "                if(link['href'].split('/wiki/')[1] != 'The_Simpsons_Movie'):\n",
    "                    links_array.append([no_overall,link['href'].split('/wiki/')[1]])\n",
    "                    no_overall = no_overall + 1"
   ]
  },
  {
   "cell_type": "code",
   "execution_count": 46,
   "metadata": {},
   "outputs": [],
   "source": [
    "df_episode_wiki = pd.DataFrame(links_array)\n",
    "df_episode_wiki.columns = ['no_overall','wiki_link']"
   ]
  },
  {
   "cell_type": "code",
   "execution_count": 47,
   "metadata": {},
   "outputs": [
    {
     "data": {
      "text/html": [
       "<div>\n",
       "<style scoped>\n",
       "    .dataframe tbody tr th:only-of-type {\n",
       "        vertical-align: middle;\n",
       "    }\n",
       "\n",
       "    .dataframe tbody tr th {\n",
       "        vertical-align: top;\n",
       "    }\n",
       "\n",
       "    .dataframe thead th {\n",
       "        text-align: right;\n",
       "    }\n",
       "</style>\n",
       "<table border=\"1\" class=\"dataframe\">\n",
       "  <thead>\n",
       "    <tr style=\"text-align: right;\">\n",
       "      <th></th>\n",
       "      <th>no_overall</th>\n",
       "      <th>wiki_link</th>\n",
       "    </tr>\n",
       "  </thead>\n",
       "  <tbody>\n",
       "    <tr>\n",
       "      <th>0</th>\n",
       "      <td>1</td>\n",
       "      <td>Simpsons_Roasting_on_an_Open_Fire</td>\n",
       "    </tr>\n",
       "    <tr>\n",
       "      <th>1</th>\n",
       "      <td>2</td>\n",
       "      <td>Bart_the_Genius</td>\n",
       "    </tr>\n",
       "    <tr>\n",
       "      <th>2</th>\n",
       "      <td>3</td>\n",
       "      <td>Homer%27s_Odyssey</td>\n",
       "    </tr>\n",
       "    <tr>\n",
       "      <th>3</th>\n",
       "      <td>4</td>\n",
       "      <td>There%27s_No_Disgrace_Like_Home</td>\n",
       "    </tr>\n",
       "    <tr>\n",
       "      <th>4</th>\n",
       "      <td>5</td>\n",
       "      <td>Bart_the_General</td>\n",
       "    </tr>\n",
       "    <tr>\n",
       "      <th>...</th>\n",
       "      <td>...</td>\n",
       "      <td>...</td>\n",
       "    </tr>\n",
       "    <tr>\n",
       "      <th>656</th>\n",
       "      <td>657</td>\n",
       "      <td>Girl%27s_in_the_Band</td>\n",
       "    </tr>\n",
       "    <tr>\n",
       "      <th>657</th>\n",
       "      <td>658</td>\n",
       "      <td>I%27m_Just_a_Girl_Who_Can%27t_Say_D%27oh</td>\n",
       "    </tr>\n",
       "    <tr>\n",
       "      <th>658</th>\n",
       "      <td>659</td>\n",
       "      <td>D%27oh_Canada</td>\n",
       "    </tr>\n",
       "    <tr>\n",
       "      <th>659</th>\n",
       "      <td>660</td>\n",
       "      <td>Woo-hoo_Dunnit%3F</td>\n",
       "    </tr>\n",
       "    <tr>\n",
       "      <th>660</th>\n",
       "      <td>661</td>\n",
       "      <td>Crystal_Blue-Haired_Persuasion</td>\n",
       "    </tr>\n",
       "  </tbody>\n",
       "</table>\n",
       "<p>661 rows × 2 columns</p>\n",
       "</div>"
      ],
      "text/plain": [
       "     no_overall                                 wiki_link\n",
       "0             1         Simpsons_Roasting_on_an_Open_Fire\n",
       "1             2                           Bart_the_Genius\n",
       "2             3                         Homer%27s_Odyssey\n",
       "3             4           There%27s_No_Disgrace_Like_Home\n",
       "4             5                          Bart_the_General\n",
       "..          ...                                       ...\n",
       "656         657                      Girl%27s_in_the_Band\n",
       "657         658  I%27m_Just_a_Girl_Who_Can%27t_Say_D%27oh\n",
       "658         659                             D%27oh_Canada\n",
       "659         660                         Woo-hoo_Dunnit%3F\n",
       "660         661            Crystal_Blue-Haired_Persuasion\n",
       "\n",
       "[661 rows x 2 columns]"
      ]
     },
     "execution_count": 47,
     "metadata": {},
     "output_type": "execute_result"
    }
   ],
   "source": [
    "df_episode_wiki"
   ]
  },
  {
   "cell_type": "markdown",
   "metadata": {},
   "source": [
    "Again, the episode 'The Great Phatsby' (episode 608/609), is causing problems. It can be solved as it was before:"
   ]
  },
  {
   "cell_type": "code",
   "execution_count": 48,
   "metadata": {},
   "outputs": [],
   "source": [
    "phatsby_insert = pd.DataFrame({'no_overall':609, 'wiki_link':'The_Great_Phatsby'},index=[608])\n",
    "phatsby_insert\n",
    "df_episode_wiki = pd.concat([df_episode_wiki.iloc[:608], phatsby_insert, df_episode_wiki[608:]])\n",
    "df_episode_wiki.reset_index(inplace=True, drop=True)\n",
    "df_episode_wiki_no_correction = df_episode_wiki.iloc[609:]\n",
    "df_episode_wiki_no_correction['no_overall'] = df_episode_wiki_no_correction['no_overall'].apply(lambda x: x+1)\n",
    "df_episde_wiki = pd.concat([df_episode_wiki.iloc[:608], df_episode_wiki_no_correction])"
   ]
  },
  {
   "cell_type": "code",
   "execution_count": 49,
   "metadata": {},
   "outputs": [],
   "source": [
    "df_episodes_ratings = pd.merge(df_episodes_ratings,df_episode_wiki)"
   ]
  },
  {
   "cell_type": "code",
   "execution_count": 50,
   "metadata": {},
   "outputs": [
    {
     "data": {
      "text/html": [
       "<div>\n",
       "<style scoped>\n",
       "    .dataframe tbody tr th:only-of-type {\n",
       "        vertical-align: middle;\n",
       "    }\n",
       "\n",
       "    .dataframe tbody tr th {\n",
       "        vertical-align: top;\n",
       "    }\n",
       "\n",
       "    .dataframe thead th {\n",
       "        text-align: right;\n",
       "    }\n",
       "</style>\n",
       "<table border=\"1\" class=\"dataframe\">\n",
       "  <thead>\n",
       "    <tr style=\"text-align: right;\">\n",
       "      <th></th>\n",
       "      <th>no_overall</th>\n",
       "      <th>season</th>\n",
       "      <th>no_in_season</th>\n",
       "      <th>episode_name</th>\n",
       "      <th>viewers (millions)</th>\n",
       "      <th>IMDB rating</th>\n",
       "      <th>year</th>\n",
       "      <th>month</th>\n",
       "      <th>day</th>\n",
       "      <th>wiki_link</th>\n",
       "    </tr>\n",
       "  </thead>\n",
       "  <tbody>\n",
       "    <tr>\n",
       "      <th>0</th>\n",
       "      <td>1</td>\n",
       "      <td>1</td>\n",
       "      <td>1</td>\n",
       "      <td>Simpsons Roasting on an Open Fire</td>\n",
       "      <td>26.7</td>\n",
       "      <td>8.2</td>\n",
       "      <td>1989</td>\n",
       "      <td>12</td>\n",
       "      <td>17</td>\n",
       "      <td>Simpsons_Roasting_on_an_Open_Fire</td>\n",
       "    </tr>\n",
       "    <tr>\n",
       "      <th>1</th>\n",
       "      <td>2</td>\n",
       "      <td>1</td>\n",
       "      <td>2</td>\n",
       "      <td>Bart the Genius</td>\n",
       "      <td>24.5</td>\n",
       "      <td>7.7</td>\n",
       "      <td>1990</td>\n",
       "      <td>01</td>\n",
       "      <td>14</td>\n",
       "      <td>Bart_the_Genius</td>\n",
       "    </tr>\n",
       "    <tr>\n",
       "      <th>2</th>\n",
       "      <td>3</td>\n",
       "      <td>1</td>\n",
       "      <td>3</td>\n",
       "      <td>Homer's Odyssey</td>\n",
       "      <td>27.5</td>\n",
       "      <td>7.4</td>\n",
       "      <td>1990</td>\n",
       "      <td>01</td>\n",
       "      <td>21</td>\n",
       "      <td>Homer%27s_Odyssey</td>\n",
       "    </tr>\n",
       "    <tr>\n",
       "      <th>3</th>\n",
       "      <td>4</td>\n",
       "      <td>1</td>\n",
       "      <td>4</td>\n",
       "      <td>There's No Disgrace Like Home</td>\n",
       "      <td>20.2</td>\n",
       "      <td>7.7</td>\n",
       "      <td>1990</td>\n",
       "      <td>01</td>\n",
       "      <td>28</td>\n",
       "      <td>There%27s_No_Disgrace_Like_Home</td>\n",
       "    </tr>\n",
       "    <tr>\n",
       "      <th>4</th>\n",
       "      <td>5</td>\n",
       "      <td>1</td>\n",
       "      <td>5</td>\n",
       "      <td>Bart the General</td>\n",
       "      <td>27.1</td>\n",
       "      <td>8.0</td>\n",
       "      <td>1990</td>\n",
       "      <td>02</td>\n",
       "      <td>04</td>\n",
       "      <td>Bart_the_General</td>\n",
       "    </tr>\n",
       "  </tbody>\n",
       "</table>\n",
       "</div>"
      ],
      "text/plain": [
       "   no_overall  season  no_in_season                       episode_name  \\\n",
       "0           1       1             1  Simpsons Roasting on an Open Fire   \n",
       "1           2       1             2                    Bart the Genius   \n",
       "2           3       1             3                    Homer's Odyssey   \n",
       "3           4       1             4      There's No Disgrace Like Home   \n",
       "4           5       1             5                   Bart the General   \n",
       "\n",
       "   viewers (millions)  IMDB rating  year month day  \\\n",
       "0                26.7          8.2  1989    12  17   \n",
       "1                24.5          7.7  1990    01  14   \n",
       "2                27.5          7.4  1990    01  21   \n",
       "3                20.2          7.7  1990    01  28   \n",
       "4                27.1          8.0  1990    02  04   \n",
       "\n",
       "                           wiki_link  \n",
       "0  Simpsons_Roasting_on_an_Open_Fire  \n",
       "1                    Bart_the_Genius  \n",
       "2                  Homer%27s_Odyssey  \n",
       "3    There%27s_No_Disgrace_Like_Home  \n",
       "4                   Bart_the_General  "
      ]
     },
     "execution_count": 50,
     "metadata": {},
     "output_type": "execute_result"
    }
   ],
   "source": [
    "df_episodes_ratings.head(5)"
   ]
  },
  {
   "cell_type": "markdown",
   "metadata": {},
   "source": [
    "### Creating Text Files of Episodes <a class=\"anchor\" id=\"two.one.five\"></a>\n",
    "\n",
    "Here, each description is fetched and saved as a text file in order to attach them to the data set later. "
   ]
  },
  {
   "cell_type": "code",
   "execution_count": 51,
   "metadata": {
    "scrolled": false
   },
   "outputs": [],
   "source": [
    "if not os.path.exists('synopsis'):\n",
    "        os.mkdir('synopsis')\n",
    "        \n",
    "not_full_story = ['Mr._Spritz_Goes_to_Washington', \n",
    "                  'Three_Gays_of_the_Condo', \n",
    "                  'The_Fat_and_the_Furriest', \n",
    "                  'Today,_I_Am_a_Clown', \n",
    "                  'Simple_Simpson', \n",
    "                  'Fat_Man_and_Little_Boy', \n",
    "                  'My_Fare_Lady', \n",
    "                  'To_Courier_with_Love', \n",
    "                  'Lisa_Gets_the_Blues', \n",
    "                  'Girl%27s_in_the_Band',\n",
    "                  'A_Star_is_Born-Again',\n",
    "                  'Milhouse_Doesn%27t_Live_Here_Anymore']\n",
    "\n",
    "for season in df_episodes_ratings['season'].unique():\n",
    "    if not os.path.exists('synopsis/'+'season'+str(season)):\n",
    "        os.mkdir('synopsis/'+'season'+str(season))\n",
    "\n",
    "save_path = os.getcwd()+'/synopsis/'\n",
    "for episode in df_episodes_ratings['wiki_link']:\n",
    "    syn = \" \"\n",
    "    \n",
    "    res = requests.get(\"https://simpsons.fandom.com/wiki/{}\".format(episode)).text\n",
    "    ep_number = df_episodes_ratings[df_episodes_ratings['wiki_link']==episode]['no_overall'].values[0]\n",
    "    season = int(df_episodes_ratings[df_episodes_ratings['wiki_link']==episode]['season'].values[0])\n",
    "    \n",
    "    soup = BeautifulSoup(res,'html')\n",
    "    \n",
    "    # Remove all images\n",
    "    figs = soup.findAll('figure')\n",
    "    for fig in figs:\n",
    "        fig.decompose()\n",
    "        \n",
    "    h3s = soup.findAll('h3')\n",
    "    for h3 in h3s:\n",
    "        h3.decompose()\n",
    "\n",
    "    if(episode in not_full_story):\n",
    "        parent = soup.find('span', {'id':'Synopsis'}).parent\n",
    "        sibling = parent.next_sibling\n",
    "        while(sibling.name == 'p' or sibling.name is None or sibling.name =='a' or sibling.name==''):\n",
    "            if(sibling.name == 'p' or sibling.name=='a'):\n",
    "                syn += ' ' + str(sibling.text)\n",
    "                sibling = sibling.next_sibling\n",
    "            else:\n",
    "                sibling = sibling.next_sibling\n",
    "\n",
    "            \n",
    "    else:\n",
    "\n",
    "        if(soup.find('span', {'id':'Full_Story'})):\n",
    "            \n",
    "            parent = soup.find('span', {'id':'Full_Story'}).parent\n",
    "            sibling = parent.next_sibling\n",
    "            while(sibling.name == 'p' or sibling.name is None or sibling.name =='a'):\n",
    "                if(sibling.name == 'p' or sibling.name=='a'):\n",
    "                    syn += ' ' + str(sibling.text)\n",
    "                    sibling = sibling.next_sibling\n",
    "                else:\n",
    "                    sibling = sibling.next_sibling\n",
    "\n",
    "        elif(soup.find('span', {'id':'The_Story'})):\n",
    "            \n",
    "            parent = soup.find('span', {'id':'The_Story'}).parent\n",
    "            sibling = parent.next_sibling\n",
    "            while(sibling.name == 'p' or sibling.name is None or sibling.name =='a'):\n",
    "                if(sibling.name == 'p' or sibling.name=='a'):\n",
    "                    syn += ' ' + str(sibling.text)\n",
    "                    sibling = sibling.next_sibling\n",
    "                else:\n",
    "                    sibling = sibling.next_sibling\n",
    "                    \n",
    "        elif(soup.find('span', {'id':'Full_story'})):\n",
    "            \n",
    "            parent = soup.find('span', {'id':'Full_story'}).parent\n",
    "            sibling = parent.next_sibling\n",
    "            while(sibling.name == 'p' or sibling.name is None or sibling.name =='a'):\n",
    "                if(sibling.name == 'p' or sibling.name=='a'):\n",
    "                    syn += ' ' + str(sibling.text)\n",
    "                    sibling = sibling.next_sibling\n",
    "                else:\n",
    "                    sibling = sibling.next_sibling\n",
    "\n",
    "        elif(soup.find('span', {'id':'Plot'})):\n",
    "            \n",
    "            parent = soup.find('span', {'id':'Plot'}).parent\n",
    "            sibling = parent.next_sibling\n",
    "            while(sibling.name == 'p' or sibling.name is None or sibling.name=='a'):\n",
    "                if(sibling.name == 'p' or sibling.name=='a'):\n",
    "                    syn += ' ' + str(sibling.text)\n",
    "                    sibling = sibling.next_sibling\n",
    "                else:\n",
    "                    sibling = sibling.next_sibling\n",
    "                    \n",
    "        elif(soup.find('span', {'id':'Full_Story.C2.A0'})):\n",
    "            \n",
    "            parent = soup.find('span', {'id':'Full_Story.C2.A0'}).parent\n",
    "            sibling = parent.next_sibling\n",
    "\n",
    "            while(sibling.name == 'p' or sibling.name is None or sibling.name =='a'):\n",
    "                if(sibling.name == 'p' or sibling.name=='a'):\n",
    "                    syn += ' ' + str(sibling.text)\n",
    "                    sibling = sibling.next_sibling\n",
    "                else:\n",
    "                    sibling = sibling.next_sibling\n",
    "\n",
    "                    \n",
    "    complete_name = os.path.join(os.path.expanduser('~'),save_path+'season'+str(season)+'/',str(ep_number)+'.txt')\n",
    "\n",
    "    with io.open(complete_name, \"w\", encoding=\"utf-8\") as f: \n",
    "        f.write(str(syn))\n",
    "        f.close()"
   ]
  },
  {
   "cell_type": "markdown",
   "metadata": {},
   "source": [
    "It is then necessary to copy episode 608 and create episode 609, as these two episodes are the same episode - often referred to as episode \"608609\". "
   ]
  },
  {
   "cell_type": "code",
   "execution_count": 52,
   "metadata": {},
   "outputs": [],
   "source": [
    "save_path = os.getcwd()+'/synopsis/season28/'\n",
    "path = save_path+\"608.txt\"\n",
    "text = io.open(path,'r',encoding='utf-8').read()\n",
    "with io.open(save_path+'609.txt', \"w\", encoding=\"utf-8\") as f: \n",
    "    f.write(str(text))\n",
    "    f.close()"
   ]
  },
  {
   "cell_type": "code",
   "execution_count": 53,
   "metadata": {},
   "outputs": [],
   "source": [
    "rows = []\n",
    "for ep in df_episodes_ratings['no_overall']:\n",
    "    season = df_episodes_ratings[df_episodes_ratings['no_overall']==ep]['season'].values[0]\n",
    "    with io.open(\"synopsis/season{}/{}.txt\".format(season,ep),'r', encoding='utf-8') as f:\n",
    "        desc = f.read()\n",
    "        desc = desc.lower()\n",
    "        rows.append([ep,desc])\n",
    "        f.close()"
   ]
  },
  {
   "cell_type": "code",
   "execution_count": 54,
   "metadata": {},
   "outputs": [],
   "source": [
    "df_desc = pd.DataFrame(rows, columns = ['no_overall','desc'])"
   ]
  },
  {
   "cell_type": "code",
   "execution_count": 55,
   "metadata": {},
   "outputs": [
    {
     "data": {
      "text/html": [
       "<div>\n",
       "<style scoped>\n",
       "    .dataframe tbody tr th:only-of-type {\n",
       "        vertical-align: middle;\n",
       "    }\n",
       "\n",
       "    .dataframe tbody tr th {\n",
       "        vertical-align: top;\n",
       "    }\n",
       "\n",
       "    .dataframe thead th {\n",
       "        text-align: right;\n",
       "    }\n",
       "</style>\n",
       "<table border=\"1\" class=\"dataframe\">\n",
       "  <thead>\n",
       "    <tr style=\"text-align: right;\">\n",
       "      <th></th>\n",
       "      <th>no_overall</th>\n",
       "      <th>desc</th>\n",
       "    </tr>\n",
       "  </thead>\n",
       "  <tbody>\n",
       "    <tr>\n",
       "      <th>167</th>\n",
       "      <td>168</td>\n",
       "      <td></td>\n",
       "    </tr>\n",
       "    <tr>\n",
       "      <th>256</th>\n",
       "      <td>257</td>\n",
       "      <td></td>\n",
       "    </tr>\n",
       "    <tr>\n",
       "      <th>321</th>\n",
       "      <td>322</td>\n",
       "      <td></td>\n",
       "    </tr>\n",
       "    <tr>\n",
       "      <th>364</th>\n",
       "      <td>365</td>\n",
       "      <td></td>\n",
       "    </tr>\n",
       "    <tr>\n",
       "      <th>430</th>\n",
       "      <td>431</td>\n",
       "      <td></td>\n",
       "    </tr>\n",
       "    <tr>\n",
       "      <th>642</th>\n",
       "      <td>643</td>\n",
       "      <td></td>\n",
       "    </tr>\n",
       "    <tr>\n",
       "      <th>645</th>\n",
       "      <td>646</td>\n",
       "      <td></td>\n",
       "    </tr>\n",
       "    <tr>\n",
       "      <th>659</th>\n",
       "      <td>660</td>\n",
       "      <td></td>\n",
       "    </tr>\n",
       "  </tbody>\n",
       "</table>\n",
       "</div>"
      ],
      "text/plain": [
       "     no_overall desc\n",
       "167         168     \n",
       "256         257     \n",
       "321         322     \n",
       "364         365     \n",
       "430         431     \n",
       "642         643     \n",
       "645         646     \n",
       "659         660     "
      ]
     },
     "execution_count": 55,
     "metadata": {},
     "output_type": "execute_result"
    }
   ],
   "source": [
    "df_desc[df_desc['desc']==' ']"
   ]
  },
  {
   "cell_type": "markdown",
   "metadata": {},
   "source": [
    "## 3. Natural Language Processing<a class=\"anchor\" id=\"three\"></a>\n",
    "\n",
    "In order to represent the text data better, some useful natural language processing methods had to be used. First, all *stopwords*, along with the word *\"episode\"*, will be removed from the descriptions as they do not pertain any information about the episode itself. \n",
    "\n",
    "Then, the description is split into *tokens* (words) which can later be analyzed. "
   ]
  },
  {
   "cell_type": "code",
   "execution_count": 56,
   "metadata": {},
   "outputs": [],
   "source": [
    "rows = []\n",
    "\n",
    "for ep in df_episodes_ratings['no_overall']:\n",
    "    season = df_episodes_ratings[df_episodes_ratings['no_overall']==ep]['season'].values[0]\n",
    "    with io.open(\"synopsis/season{}/{}.txt\".format(season,ep),'r', encoding='utf-8') as f:\n",
    "        desc = f.read()\n",
    "        desc = re.sub(r'[^\\w]', ' ', desc)\n",
    "        desc = desc.replace('  ',' ').replace('\\n','')[1:]\n",
    "        desc = [word.lower() for word in desc.split(' ') if word.lower() not in stop_words and len(word)>1]\n",
    "        rows.append([ep, desc])\n",
    "        f.close()"
   ]
  },
  {
   "cell_type": "code",
   "execution_count": 57,
   "metadata": {},
   "outputs": [],
   "source": [
    "df_desc = pd.DataFrame(rows, columns = ['no_overall','desc'])\n",
    "df_desc = df_desc[:600]"
   ]
  },
  {
   "cell_type": "markdown",
   "metadata": {},
   "source": [
    "Next, a column is created in order to display the length of each description."
   ]
  },
  {
   "cell_type": "code",
   "execution_count": 58,
   "metadata": {},
   "outputs": [],
   "source": [
    "df_desc['len'] = df_desc['desc'].apply(lambda x: len(x))"
   ]
  },
  {
   "cell_type": "code",
   "execution_count": 59,
   "metadata": {},
   "outputs": [],
   "source": [
    "df = df_episodes_ratings.merge(df_desc, on='no_overall')"
   ]
  },
  {
   "cell_type": "code",
   "execution_count": 60,
   "metadata": {},
   "outputs": [
    {
     "data": {
      "text/plain": [
       "Index(['no_overall', 'season', 'no_in_season', 'episode_name',\n",
       "       'viewers (millions)', 'IMDB rating', 'year', 'month', 'day',\n",
       "       'wiki_link', 'desc', 'len'],\n",
       "      dtype='object')"
      ]
     },
     "execution_count": 60,
     "metadata": {},
     "output_type": "execute_result"
    }
   ],
   "source": [
    "df.columns"
   ]
  },
  {
   "cell_type": "code",
   "execution_count": 61,
   "metadata": {},
   "outputs": [],
   "source": [
    "df.columns = ['no_overall', 'season', 'no_in_season', 'episode_name',\n",
    "       'mil_viewers', 'rating', 'year', 'month', 'day',\n",
    "       'wiki_link', 'desc', 'len']"
   ]
  },
  {
   "cell_type": "code",
   "execution_count": 62,
   "metadata": {},
   "outputs": [],
   "source": [
    "df.drop('wiki_link',axis=1,inplace=True)"
   ]
  },
  {
   "cell_type": "code",
   "execution_count": 63,
   "metadata": {},
   "outputs": [],
   "source": [
    "df['mil_viewers'] = df['mil_viewers'].apply(lambda x: float(x))"
   ]
  },
  {
   "cell_type": "code",
   "execution_count": 64,
   "metadata": {},
   "outputs": [],
   "source": [
    "df['day'] = df['day'].replace('22[a]','22')"
   ]
  },
  {
   "cell_type": "code",
   "execution_count": 65,
   "metadata": {},
   "outputs": [],
   "source": [
    "df['no_overall'] = df['no_overall'].apply(lambda x: int(x))\n",
    "df['no_in_season'] = df['no_in_season'].apply(lambda x: int(x))\n",
    "df['season'] = df['season'].apply(lambda x: int(x))\n",
    "df['year'] = df['year'].apply(lambda x: int(x))\n",
    "df['month'] = df['month'].apply(lambda x: int(x))\n",
    "df['day'] = df['day'].apply(lambda x: int(x))\n",
    "df['rating'] = df['rating'].apply(lambda x: float(x))"
   ]
  },
  {
   "cell_type": "markdown",
   "metadata": {},
   "source": [
    "The data set now looks like this, where the column *desc* is essentially a bag of words for each episode. "
   ]
  },
  {
   "cell_type": "code",
   "execution_count": 66,
   "metadata": {},
   "outputs": [
    {
     "data": {
      "text/html": [
       "<div>\n",
       "<style scoped>\n",
       "    .dataframe tbody tr th:only-of-type {\n",
       "        vertical-align: middle;\n",
       "    }\n",
       "\n",
       "    .dataframe tbody tr th {\n",
       "        vertical-align: top;\n",
       "    }\n",
       "\n",
       "    .dataframe thead th {\n",
       "        text-align: right;\n",
       "    }\n",
       "</style>\n",
       "<table border=\"1\" class=\"dataframe\">\n",
       "  <thead>\n",
       "    <tr style=\"text-align: right;\">\n",
       "      <th></th>\n",
       "      <th>no_overall</th>\n",
       "      <th>season</th>\n",
       "      <th>no_in_season</th>\n",
       "      <th>episode_name</th>\n",
       "      <th>mil_viewers</th>\n",
       "      <th>rating</th>\n",
       "      <th>year</th>\n",
       "      <th>month</th>\n",
       "      <th>day</th>\n",
       "      <th>desc</th>\n",
       "      <th>len</th>\n",
       "    </tr>\n",
       "  </thead>\n",
       "  <tbody>\n",
       "    <tr>\n",
       "      <th>490</th>\n",
       "      <td>491</td>\n",
       "      <td>23</td>\n",
       "      <td>5</td>\n",
       "      <td>The Food Wife</td>\n",
       "      <td>7.50</td>\n",
       "      <td>7.0</td>\n",
       "      <td>2011</td>\n",
       "      <td>11</td>\n",
       "      <td>13</td>\n",
       "      <td>[homer, takes, bart, lisa, fun, dad, day, e4, ...</td>\n",
       "      <td>462</td>\n",
       "    </tr>\n",
       "    <tr>\n",
       "      <th>176</th>\n",
       "      <td>177</td>\n",
       "      <td>8</td>\n",
       "      <td>24</td>\n",
       "      <td>The Simpsons Spin-Off Showcase</td>\n",
       "      <td>11.60</td>\n",
       "      <td>7.2</td>\n",
       "      <td>1997</td>\n",
       "      <td>5</td>\n",
       "      <td>11</td>\n",
       "      <td>[troy, mcclure, small, skit, chief, wiggum, sk...</td>\n",
       "      <td>346</td>\n",
       "    </tr>\n",
       "    <tr>\n",
       "      <th>590</th>\n",
       "      <td>591</td>\n",
       "      <td>27</td>\n",
       "      <td>17</td>\n",
       "      <td>The Burns Cage</td>\n",
       "      <td>2.32</td>\n",
       "      <td>6.3</td>\n",
       "      <td>2016</td>\n",
       "      <td>4</td>\n",
       "      <td>3</td>\n",
       "      <td>[waylon, smithers, mr, burns, go, skydiving, t...</td>\n",
       "      <td>210</td>\n",
       "    </tr>\n",
       "    <tr>\n",
       "      <th>512</th>\n",
       "      <td>513</td>\n",
       "      <td>24</td>\n",
       "      <td>5</td>\n",
       "      <td>Penny-Wiseguys</td>\n",
       "      <td>5.06</td>\n",
       "      <td>6.1</td>\n",
       "      <td>2012</td>\n",
       "      <td>11</td>\n",
       "      <td>18</td>\n",
       "      <td>[homer, surprised, discover, neighbor, bowling...</td>\n",
       "      <td>126</td>\n",
       "    </tr>\n",
       "    <tr>\n",
       "      <th>250</th>\n",
       "      <td>251</td>\n",
       "      <td>12</td>\n",
       "      <td>3</td>\n",
       "      <td>Insane Clown Poppy</td>\n",
       "      <td>16.40</td>\n",
       "      <td>7.0</td>\n",
       "      <td>2000</td>\n",
       "      <td>11</td>\n",
       "      <td>12</td>\n",
       "      <td>[homer, bart, fix, things, around, house, usin...</td>\n",
       "      <td>176</td>\n",
       "    </tr>\n",
       "    <tr>\n",
       "      <th>294</th>\n",
       "      <td>295</td>\n",
       "      <td>14</td>\n",
       "      <td>4</td>\n",
       "      <td>Large Marge</td>\n",
       "      <td>17.40</td>\n",
       "      <td>7.0</td>\n",
       "      <td>2002</td>\n",
       "      <td>11</td>\n",
       "      <td>24</td>\n",
       "      <td>[lisa, homer, watching, historical, documentar...</td>\n",
       "      <td>455</td>\n",
       "    </tr>\n",
       "    <tr>\n",
       "      <th>239</th>\n",
       "      <td>240</td>\n",
       "      <td>11</td>\n",
       "      <td>14</td>\n",
       "      <td>Alone Again, Natura-Diddily</td>\n",
       "      <td>10.80</td>\n",
       "      <td>7.7</td>\n",
       "      <td>2000</td>\n",
       "      <td>2</td>\n",
       "      <td>13</td>\n",
       "      <td>[trip, bird, sanctuary, family, sees, new, spe...</td>\n",
       "      <td>170</td>\n",
       "    </tr>\n",
       "    <tr>\n",
       "      <th>43</th>\n",
       "      <td>44</td>\n",
       "      <td>3</td>\n",
       "      <td>9</td>\n",
       "      <td>Saturdays of Thunder</td>\n",
       "      <td>24.70</td>\n",
       "      <td>7.9</td>\n",
       "      <td>1991</td>\n",
       "      <td>11</td>\n",
       "      <td>14</td>\n",
       "      <td>[local, soap, box, derby, held, springfield, b...</td>\n",
       "      <td>325</td>\n",
       "    </tr>\n",
       "    <tr>\n",
       "      <th>207</th>\n",
       "      <td>208</td>\n",
       "      <td>10</td>\n",
       "      <td>5</td>\n",
       "      <td>When You Dish Upon a Star</td>\n",
       "      <td>9.00</td>\n",
       "      <td>7.3</td>\n",
       "      <td>1998</td>\n",
       "      <td>11</td>\n",
       "      <td>8</td>\n",
       "      <td>[simpson, family, spends, day, lake, springfie...</td>\n",
       "      <td>121</td>\n",
       "    </tr>\n",
       "    <tr>\n",
       "      <th>41</th>\n",
       "      <td>42</td>\n",
       "      <td>3</td>\n",
       "      <td>7</td>\n",
       "      <td>Treehouse of Horror II</td>\n",
       "      <td>20.00</td>\n",
       "      <td>8.3</td>\n",
       "      <td>1991</td>\n",
       "      <td>10</td>\n",
       "      <td>31</td>\n",
       "      <td>[hello, everyone, last, year, halloween, show,...</td>\n",
       "      <td>475</td>\n",
       "    </tr>\n",
       "  </tbody>\n",
       "</table>\n",
       "</div>"
      ],
      "text/plain": [
       "     no_overall  season  no_in_season                    episode_name  \\\n",
       "490         491      23             5                   The Food Wife   \n",
       "176         177       8            24  The Simpsons Spin-Off Showcase   \n",
       "590         591      27            17                  The Burns Cage   \n",
       "512         513      24             5                  Penny-Wiseguys   \n",
       "250         251      12             3              Insane Clown Poppy   \n",
       "294         295      14             4                     Large Marge   \n",
       "239         240      11            14     Alone Again, Natura-Diddily   \n",
       "43           44       3             9            Saturdays of Thunder   \n",
       "207         208      10             5       When You Dish Upon a Star   \n",
       "41           42       3             7          Treehouse of Horror II   \n",
       "\n",
       "     mil_viewers  rating  year  month  day  \\\n",
       "490         7.50     7.0  2011     11   13   \n",
       "176        11.60     7.2  1997      5   11   \n",
       "590         2.32     6.3  2016      4    3   \n",
       "512         5.06     6.1  2012     11   18   \n",
       "250        16.40     7.0  2000     11   12   \n",
       "294        17.40     7.0  2002     11   24   \n",
       "239        10.80     7.7  2000      2   13   \n",
       "43         24.70     7.9  1991     11   14   \n",
       "207         9.00     7.3  1998     11    8   \n",
       "41         20.00     8.3  1991     10   31   \n",
       "\n",
       "                                                  desc  len  \n",
       "490  [homer, takes, bart, lisa, fun, dad, day, e4, ...  462  \n",
       "176  [troy, mcclure, small, skit, chief, wiggum, sk...  346  \n",
       "590  [waylon, smithers, mr, burns, go, skydiving, t...  210  \n",
       "512  [homer, surprised, discover, neighbor, bowling...  126  \n",
       "250  [homer, bart, fix, things, around, house, usin...  176  \n",
       "294  [lisa, homer, watching, historical, documentar...  455  \n",
       "239  [trip, bird, sanctuary, family, sees, new, spe...  170  \n",
       "43   [local, soap, box, derby, held, springfield, b...  325  \n",
       "207  [simpson, family, spends, day, lake, springfie...  121  \n",
       "41   [hello, everyone, last, year, halloween, show,...  475  "
      ]
     },
     "execution_count": 66,
     "metadata": {},
     "output_type": "execute_result"
    }
   ],
   "source": [
    "df.sample(10)"
   ]
  },
  {
   "cell_type": "markdown",
   "metadata": {},
   "source": [
    "The following episodes are the episodes which do not have a description. These episodes will be removed from the dataset before any model is built."
   ]
  },
  {
   "cell_type": "code",
   "execution_count": 67,
   "metadata": {},
   "outputs": [
    {
     "data": {
      "text/html": [
       "<div>\n",
       "<style scoped>\n",
       "    .dataframe tbody tr th:only-of-type {\n",
       "        vertical-align: middle;\n",
       "    }\n",
       "\n",
       "    .dataframe tbody tr th {\n",
       "        vertical-align: top;\n",
       "    }\n",
       "\n",
       "    .dataframe thead th {\n",
       "        text-align: right;\n",
       "    }\n",
       "</style>\n",
       "<table border=\"1\" class=\"dataframe\">\n",
       "  <thead>\n",
       "    <tr style=\"text-align: right;\">\n",
       "      <th></th>\n",
       "      <th>no_overall</th>\n",
       "      <th>season</th>\n",
       "      <th>no_in_season</th>\n",
       "      <th>episode_name</th>\n",
       "      <th>mil_viewers</th>\n",
       "      <th>rating</th>\n",
       "      <th>year</th>\n",
       "      <th>month</th>\n",
       "      <th>day</th>\n",
       "      <th>desc</th>\n",
       "      <th>len</th>\n",
       "    </tr>\n",
       "  </thead>\n",
       "  <tbody>\n",
       "    <tr>\n",
       "      <th>167</th>\n",
       "      <td>168</td>\n",
       "      <td>8</td>\n",
       "      <td>15</td>\n",
       "      <td>Homer's Phobia</td>\n",
       "      <td>15.30</td>\n",
       "      <td>8.8</td>\n",
       "      <td>1997</td>\n",
       "      <td>2</td>\n",
       "      <td>16</td>\n",
       "      <td>[]</td>\n",
       "      <td>0</td>\n",
       "    </tr>\n",
       "    <tr>\n",
       "      <th>256</th>\n",
       "      <td>257</td>\n",
       "      <td>12</td>\n",
       "      <td>9</td>\n",
       "      <td>HOMR</td>\n",
       "      <td>18.50</td>\n",
       "      <td>8.1</td>\n",
       "      <td>2001</td>\n",
       "      <td>1</td>\n",
       "      <td>7</td>\n",
       "      <td>[]</td>\n",
       "      <td>0</td>\n",
       "    </tr>\n",
       "    <tr>\n",
       "      <th>321</th>\n",
       "      <td>322</td>\n",
       "      <td>15</td>\n",
       "      <td>9</td>\n",
       "      <td>I, (Annoyed Grunt)-bot</td>\n",
       "      <td>16.30</td>\n",
       "      <td>7.2</td>\n",
       "      <td>2004</td>\n",
       "      <td>1</td>\n",
       "      <td>11</td>\n",
       "      <td>[]</td>\n",
       "      <td>0</td>\n",
       "    </tr>\n",
       "    <tr>\n",
       "      <th>364</th>\n",
       "      <td>365</td>\n",
       "      <td>17</td>\n",
       "      <td>9</td>\n",
       "      <td>Simpsons Christmas Stories</td>\n",
       "      <td>9.80</td>\n",
       "      <td>6.8</td>\n",
       "      <td>2005</td>\n",
       "      <td>12</td>\n",
       "      <td>18</td>\n",
       "      <td>[]</td>\n",
       "      <td>0</td>\n",
       "    </tr>\n",
       "    <tr>\n",
       "      <th>430</th>\n",
       "      <td>431</td>\n",
       "      <td>20</td>\n",
       "      <td>11</td>\n",
       "      <td>How the Test Was Won</td>\n",
       "      <td>6.52</td>\n",
       "      <td>6.9</td>\n",
       "      <td>2009</td>\n",
       "      <td>3</td>\n",
       "      <td>1</td>\n",
       "      <td>[]</td>\n",
       "      <td>0</td>\n",
       "    </tr>\n",
       "  </tbody>\n",
       "</table>\n",
       "</div>"
      ],
      "text/plain": [
       "     no_overall  season  no_in_season                episode_name  \\\n",
       "167         168       8            15              Homer's Phobia   \n",
       "256         257      12             9                        HOMR   \n",
       "321         322      15             9      I, (Annoyed Grunt)-bot   \n",
       "364         365      17             9  Simpsons Christmas Stories   \n",
       "430         431      20            11        How the Test Was Won   \n",
       "\n",
       "     mil_viewers  rating  year  month  day desc  len  \n",
       "167        15.30     8.8  1997      2   16   []    0  \n",
       "256        18.50     8.1  2001      1    7   []    0  \n",
       "321        16.30     7.2  2004      1   11   []    0  \n",
       "364         9.80     6.8  2005     12   18   []    0  \n",
       "430         6.52     6.9  2009      3    1   []    0  "
      ]
     },
     "execution_count": 67,
     "metadata": {},
     "output_type": "execute_result"
    }
   ],
   "source": [
    "df[df['len']==0]"
   ]
  },
  {
   "cell_type": "code",
   "execution_count": 68,
   "metadata": {},
   "outputs": [],
   "source": [
    "all_words = []\n",
    "for desc in df['desc']:\n",
    "    for word in desc:\n",
    "        all_words.append(word)"
   ]
  },
  {
   "cell_type": "code",
   "execution_count": 69,
   "metadata": {},
   "outputs": [
    {
     "data": {
      "text/plain": [
       "[('homer', 6089),\n",
       " ('bart', 3870),\n",
       " ('marge', 2999),\n",
       " ('lisa', 2633),\n",
       " ('family', 997),\n",
       " ('springfield', 865),\n",
       " ('burns', 836),\n",
       " ('back', 808),\n",
       " ('tells', 748),\n",
       " ('one', 671),\n",
       " ('however', 657),\n",
       " ('get', 656),\n",
       " ('go', 583),\n",
       " ('moe', 580),\n",
       " ('home', 579),\n",
       " ('school', 550),\n",
       " ('gets', 539),\n",
       " ('milhouse', 500),\n",
       " ('new', 500),\n",
       " ('house', 496)]"
      ]
     },
     "execution_count": 69,
     "metadata": {},
     "output_type": "execute_result"
    }
   ],
   "source": [
    "Counter(all_words).most_common(20)"
   ]
  },
  {
   "cell_type": "markdown",
   "metadata": {},
   "source": [
    "The most common words that appear in the descriptions are words that one would expect to appear often in a description of any episode of The Simpsons. In order to represent the uniqueness of each episode and make the *textual data* more descriptive, *TF-IDF analysis* was deployed."
   ]
  },
  {
   "cell_type": "markdown",
   "metadata": {},
   "source": [
    "### TF-IDF Analysis\n",
    "\n",
    "https://towardsdatascience.com/natural-language-processing-feature-engineering-using-tf-idf-e8b9d00e7e76"
   ]
  },
  {
   "cell_type": "markdown",
   "metadata": {},
   "source": [
    "All English stopwords, along with the word *episode*, have been removed from the description before this point. \n",
    "\n",
    "In order to perform TF-IDF analysis, the unique set of words used over all the episodes need to be represented as a collection."
   ]
  },
  {
   "cell_type": "code",
   "execution_count": 70,
   "metadata": {},
   "outputs": [],
   "source": [
    "unique_words = set(all_words)"
   ]
  },
  {
   "cell_type": "code",
   "execution_count": 71,
   "metadata": {},
   "outputs": [
    {
     "data": {
      "text/plain": [
       "17741"
      ]
     },
     "execution_count": 71,
     "metadata": {},
     "output_type": "execute_result"
    }
   ],
   "source": [
    "len(unique_words)"
   ]
  },
  {
   "cell_type": "code",
   "execution_count": 72,
   "metadata": {},
   "outputs": [],
   "source": [
    "word_dict = Counter(all_words)"
   ]
  },
  {
   "cell_type": "markdown",
   "metadata": {},
   "source": [
    "Each episode will now have their own *term frequency*, i.e. how often a word appears in the description of the episode divided by the total words used to describe the episode.\n",
    "\n",
    "*Inverse Data Frequency* is then the log of the number of episodes, divided by the number of episodes that contain the word *w* in their description. \n",
    "\n",
    "Then, in order to compute the TF-IDF, these terms are multiplied together. Each word will get a tf-idf score for all the words that appear in all descriptions of episodes. \n",
    "\n",
    "The computations of the tf-idf values was greatly inspired by the following article: https://towardsdatascience.com/natural-language-processing-feature-engineering-using-tf-idf-e8b9d00e7e76"
   ]
  },
  {
   "cell_type": "code",
   "execution_count": 73,
   "metadata": {},
   "outputs": [],
   "source": [
    "'''\n",
    "words: Array of words\n",
    "returns: Dictionary of the words with their respective tf value\n",
    "'''\n",
    "\n",
    "def tf(words):\n",
    "    from collections import Counter\n",
    "    tf_dict = {}\n",
    "    word_counts = Counter(words)\n",
    "    for word in word_counts:\n",
    "        count = word_counts[word]\n",
    "        tf_dict[word] = count / len(words)\n",
    "    return tf_dict"
   ]
  },
  {
   "cell_type": "code",
   "execution_count": 74,
   "metadata": {},
   "outputs": [],
   "source": [
    "def idf(documents):\n",
    "    import math\n",
    "    N = len(documents)\n",
    "    keys = []\n",
    "    for doc in documents:\n",
    "        keys += doc.keys()\n",
    "    idfDict = dict.fromkeys(keys, 0)\n",
    "    for i,document in enumerate(documents):\n",
    "        for word, val in document.items():\n",
    "            if val > 0:\n",
    "                idfDict[word] += 1\n",
    "    \n",
    "    for word, val in idfDict.items():\n",
    "        idfDict[word] = math.log(N / float(val))\n",
    "    return idfDict"
   ]
  },
  {
   "cell_type": "code",
   "execution_count": 75,
   "metadata": {},
   "outputs": [],
   "source": [
    "def tf_idf(tf, idfs):\n",
    "    tfidf = {}\n",
    "    for word, val in tf.items():\n",
    "        tfidf[word] = val * idfs[word]\n",
    "    return tfidf"
   ]
  },
  {
   "cell_type": "code",
   "execution_count": 76,
   "metadata": {},
   "outputs": [],
   "source": [
    "documents = []\n",
    "for i,row in df.iterrows():\n",
    "    documents.append(Counter(row['desc']))"
   ]
  },
  {
   "cell_type": "code",
   "execution_count": 77,
   "metadata": {},
   "outputs": [],
   "source": [
    "idfs = idf(documents)"
   ]
  },
  {
   "cell_type": "markdown",
   "metadata": {},
   "source": [
    "From these methods a new method can be created that returns an episode's top $200$ words relative to their tf-idf scores. "
   ]
  },
  {
   "cell_type": "code",
   "execution_count": 78,
   "metadata": {},
   "outputs": [],
   "source": [
    "def get_top_tf_idf(words):\n",
    "    if(len(words)<1):\n",
    "        return []\n",
    "    df_idf = pd.DataFrame.from_dict(tf_idf(tf(words),idfs),orient='index').reset_index()\n",
    "    df_idf.columns = ['word','score']\n",
    "    return list(df_idf.sort_values(by='score', ascending=False)[:200].reset_index(drop=True)['word'].values)"
   ]
  },
  {
   "cell_type": "markdown",
   "metadata": {},
   "source": [
    "A column can then be added to the data set, listing the top *descriptive* words for each episode in respect to their tf-idf scores. "
   ]
  },
  {
   "cell_type": "code",
   "execution_count": 79,
   "metadata": {},
   "outputs": [],
   "source": [
    "df['tf_idf'] = df['desc'].apply(get_top_tf_idf)"
   ]
  },
  {
   "cell_type": "code",
   "execution_count": 80,
   "metadata": {},
   "outputs": [
    {
     "data": {
      "text/html": [
       "<div>\n",
       "<style scoped>\n",
       "    .dataframe tbody tr th:only-of-type {\n",
       "        vertical-align: middle;\n",
       "    }\n",
       "\n",
       "    .dataframe tbody tr th {\n",
       "        vertical-align: top;\n",
       "    }\n",
       "\n",
       "    .dataframe thead th {\n",
       "        text-align: right;\n",
       "    }\n",
       "</style>\n",
       "<table border=\"1\" class=\"dataframe\">\n",
       "  <thead>\n",
       "    <tr style=\"text-align: right;\">\n",
       "      <th></th>\n",
       "      <th>no_overall</th>\n",
       "      <th>season</th>\n",
       "      <th>no_in_season</th>\n",
       "      <th>episode_name</th>\n",
       "      <th>mil_viewers</th>\n",
       "      <th>rating</th>\n",
       "      <th>year</th>\n",
       "      <th>month</th>\n",
       "      <th>day</th>\n",
       "      <th>desc</th>\n",
       "      <th>len</th>\n",
       "      <th>tf_idf</th>\n",
       "    </tr>\n",
       "  </thead>\n",
       "  <tbody>\n",
       "    <tr>\n",
       "      <th>0</th>\n",
       "      <td>1</td>\n",
       "      <td>1</td>\n",
       "      <td>1</td>\n",
       "      <td>Simpsons Roasting on an Open Fire</td>\n",
       "      <td>26.70</td>\n",
       "      <td>8.2</td>\n",
       "      <td>1989</td>\n",
       "      <td>12</td>\n",
       "      <td>17</td>\n",
       "      <td>[homer, hastily, drives, family, sedan, marge,...</td>\n",
       "      <td>1227</td>\n",
       "      <td>[christmas, santa, tattoo, lights, bonus, whir...</td>\n",
       "    </tr>\n",
       "    <tr>\n",
       "      <th>1</th>\n",
       "      <td>2</td>\n",
       "      <td>1</td>\n",
       "      <td>2</td>\n",
       "      <td>Bart the Genius</td>\n",
       "      <td>24.50</td>\n",
       "      <td>7.7</td>\n",
       "      <td>1990</td>\n",
       "      <td>1</td>\n",
       "      <td>14</td>\n",
       "      <td>[simpson, family, playing, scrabble, living, r...</td>\n",
       "      <td>704</td>\n",
       "      <td>[pryor, martin, test, kwyjibo, gifted, genius,...</td>\n",
       "    </tr>\n",
       "    <tr>\n",
       "      <th>2</th>\n",
       "      <td>3</td>\n",
       "      <td>1</td>\n",
       "      <td>3</td>\n",
       "      <td>Homer's Odyssey</td>\n",
       "      <td>27.50</td>\n",
       "      <td>7.4</td>\n",
       "      <td>1990</td>\n",
       "      <td>1</td>\n",
       "      <td>21</td>\n",
       "      <td>[front, springfield, elementary, mrs, krabappe...</td>\n",
       "      <td>703</td>\n",
       "      <td>[intersection, balcony, plant, safety, piggy, ...</td>\n",
       "    </tr>\n",
       "    <tr>\n",
       "      <th>3</th>\n",
       "      <td>4</td>\n",
       "      <td>1</td>\n",
       "      <td>4</td>\n",
       "      <td>There's No Disgrace Like Home</td>\n",
       "      <td>20.20</td>\n",
       "      <td>7.7</td>\n",
       "      <td>1990</td>\n",
       "      <td>1</td>\n",
       "      <td>28</td>\n",
       "      <td>[bart, lisa, fighting, long, homer, quickly, r...</td>\n",
       "      <td>361</td>\n",
       "      <td>[monroe, normal, family, neighborhood, dr, pic...</td>\n",
       "    </tr>\n",
       "    <tr>\n",
       "      <th>4</th>\n",
       "      <td>5</td>\n",
       "      <td>1</td>\n",
       "      <td>5</td>\n",
       "      <td>Bart the General</td>\n",
       "      <td>27.10</td>\n",
       "      <td>8.0</td>\n",
       "      <td>1990</td>\n",
       "      <td>2</td>\n",
       "      <td>4</td>\n",
       "      <td>[inside, simpsons, kitchen, lisa, baking, cupc...</td>\n",
       "      <td>448</td>\n",
       "      <td>[nelson, grandpa, herman, cupcakes, inside, ar...</td>\n",
       "    </tr>\n",
       "    <tr>\n",
       "      <th>...</th>\n",
       "      <td>...</td>\n",
       "      <td>...</td>\n",
       "      <td>...</td>\n",
       "      <td>...</td>\n",
       "      <td>...</td>\n",
       "      <td>...</td>\n",
       "      <td>...</td>\n",
       "      <td>...</td>\n",
       "      <td>...</td>\n",
       "      <td>...</td>\n",
       "      <td>...</td>\n",
       "      <td>...</td>\n",
       "    </tr>\n",
       "    <tr>\n",
       "      <th>595</th>\n",
       "      <td>596</td>\n",
       "      <td>27</td>\n",
       "      <td>22</td>\n",
       "      <td>Orange Is the New Yellow</td>\n",
       "      <td>2.54</td>\n",
       "      <td>6.7</td>\n",
       "      <td>2016</td>\n",
       "      <td>5</td>\n",
       "      <td>22</td>\n",
       "      <td>[homer, leaving, power, plant, weekend, promis...</td>\n",
       "      <td>217</td>\n",
       "      <td>[prison, realized, homemaker, trouble, guard, ...</td>\n",
       "    </tr>\n",
       "    <tr>\n",
       "      <th>596</th>\n",
       "      <td>597</td>\n",
       "      <td>28</td>\n",
       "      <td>1</td>\n",
       "      <td>Monty Burns' Fleeing Circus</td>\n",
       "      <td>3.36</td>\n",
       "      <td>6.0</td>\n",
       "      <td>2016</td>\n",
       "      <td>9</td>\n",
       "      <td>25</td>\n",
       "      <td>[simpsons, taking, walk, springfield, observe,...</td>\n",
       "      <td>303</td>\n",
       "      <td>[presentation, bowl, burns, statue, lard, laug...</td>\n",
       "    </tr>\n",
       "    <tr>\n",
       "      <th>597</th>\n",
       "      <td>598</td>\n",
       "      <td>28</td>\n",
       "      <td>2</td>\n",
       "      <td>Friends and Family</td>\n",
       "      <td>6.00</td>\n",
       "      <td>6.5</td>\n",
       "      <td>2016</td>\n",
       "      <td>10</td>\n",
       "      <td>2</td>\n",
       "      <td>[mr, burns, goes, appointment, counselor, deal...</td>\n",
       "      <td>226</td>\n",
       "      <td>[julia, virtual, burns, recordings, friendship...</td>\n",
       "    </tr>\n",
       "    <tr>\n",
       "      <th>598</th>\n",
       "      <td>599</td>\n",
       "      <td>28</td>\n",
       "      <td>3</td>\n",
       "      <td>The Town</td>\n",
       "      <td>3.22</td>\n",
       "      <td>7.0</td>\n",
       "      <td>2016</td>\n",
       "      <td>10</td>\n",
       "      <td>9</td>\n",
       "      <td>[homer, goes, moe, watch, football, game, spri...</td>\n",
       "      <td>234</td>\n",
       "      <td>[boston, americans, cap, cation, team, move, i...</td>\n",
       "    </tr>\n",
       "    <tr>\n",
       "      <th>599</th>\n",
       "      <td>600</td>\n",
       "      <td>28</td>\n",
       "      <td>4</td>\n",
       "      <td>Treehouse of Horror XXVII</td>\n",
       "      <td>7.44</td>\n",
       "      <td>6.9</td>\n",
       "      <td>2016</td>\n",
       "      <td>10</td>\n",
       "      <td>16</td>\n",
       "      <td>[homer, takes, family, buy, christmas, tree, h...</td>\n",
       "      <td>459</td>\n",
       "      <td>[rachel, sargent, sausage, reservoir, frank, f...</td>\n",
       "    </tr>\n",
       "  </tbody>\n",
       "</table>\n",
       "<p>600 rows × 12 columns</p>\n",
       "</div>"
      ],
      "text/plain": [
       "     no_overall  season  no_in_season                       episode_name  \\\n",
       "0             1       1             1  Simpsons Roasting on an Open Fire   \n",
       "1             2       1             2                    Bart the Genius   \n",
       "2             3       1             3                    Homer's Odyssey   \n",
       "3             4       1             4      There's No Disgrace Like Home   \n",
       "4             5       1             5                   Bart the General   \n",
       "..          ...     ...           ...                                ...   \n",
       "595         596      27            22           Orange Is the New Yellow   \n",
       "596         597      28             1        Monty Burns' Fleeing Circus   \n",
       "597         598      28             2                 Friends and Family   \n",
       "598         599      28             3                           The Town   \n",
       "599         600      28             4          Treehouse of Horror XXVII   \n",
       "\n",
       "     mil_viewers  rating  year  month  day  \\\n",
       "0          26.70     8.2  1989     12   17   \n",
       "1          24.50     7.7  1990      1   14   \n",
       "2          27.50     7.4  1990      1   21   \n",
       "3          20.20     7.7  1990      1   28   \n",
       "4          27.10     8.0  1990      2    4   \n",
       "..           ...     ...   ...    ...  ...   \n",
       "595         2.54     6.7  2016      5   22   \n",
       "596         3.36     6.0  2016      9   25   \n",
       "597         6.00     6.5  2016     10    2   \n",
       "598         3.22     7.0  2016     10    9   \n",
       "599         7.44     6.9  2016     10   16   \n",
       "\n",
       "                                                  desc   len  \\\n",
       "0    [homer, hastily, drives, family, sedan, marge,...  1227   \n",
       "1    [simpson, family, playing, scrabble, living, r...   704   \n",
       "2    [front, springfield, elementary, mrs, krabappe...   703   \n",
       "3    [bart, lisa, fighting, long, homer, quickly, r...   361   \n",
       "4    [inside, simpsons, kitchen, lisa, baking, cupc...   448   \n",
       "..                                                 ...   ...   \n",
       "595  [homer, leaving, power, plant, weekend, promis...   217   \n",
       "596  [simpsons, taking, walk, springfield, observe,...   303   \n",
       "597  [mr, burns, goes, appointment, counselor, deal...   226   \n",
       "598  [homer, goes, moe, watch, football, game, spri...   234   \n",
       "599  [homer, takes, family, buy, christmas, tree, h...   459   \n",
       "\n",
       "                                                tf_idf  \n",
       "0    [christmas, santa, tattoo, lights, bonus, whir...  \n",
       "1    [pryor, martin, test, kwyjibo, gifted, genius,...  \n",
       "2    [intersection, balcony, plant, safety, piggy, ...  \n",
       "3    [monroe, normal, family, neighborhood, dr, pic...  \n",
       "4    [nelson, grandpa, herman, cupcakes, inside, ar...  \n",
       "..                                                 ...  \n",
       "595  [prison, realized, homemaker, trouble, guard, ...  \n",
       "596  [presentation, bowl, burns, statue, lard, laug...  \n",
       "597  [julia, virtual, burns, recordings, friendship...  \n",
       "598  [boston, americans, cap, cation, team, move, i...  \n",
       "599  [rachel, sargent, sausage, reservoir, frank, f...  \n",
       "\n",
       "[600 rows x 12 columns]"
      ]
     },
     "execution_count": 80,
     "metadata": {},
     "output_type": "execute_result"
    }
   ],
   "source": [
    "df"
   ]
  },
  {
   "cell_type": "markdown",
   "metadata": {},
   "source": [
    "##  4. Descriptive Stats <a class=\"anchor\" id=\"four\"></a>"
   ]
  },
  {
   "cell_type": "markdown",
   "metadata": {},
   "source": [
    "The final data set is comprised of 600 rows where each row represents an episode of *The Simpsons*, and 12 feature columns. Each episode gets an overall rating between 0.0 and 10.0, although the minimum and maximum ratings in this dataset are $3.9$ and $9.3$ respectively. \n",
    "\n",
    "Each episode (row) has a feature called *desc* which holds the words used to describe the episode. "
   ]
  },
  {
   "cell_type": "code",
   "execution_count": 81,
   "metadata": {},
   "outputs": [
    {
     "data": {
      "text/plain": [
       "(600, 12)"
      ]
     },
     "execution_count": 81,
     "metadata": {},
     "output_type": "execute_result"
    }
   ],
   "source": [
    "df.shape"
   ]
  },
  {
   "cell_type": "markdown",
   "metadata": {},
   "source": [
    "The following tables show some basic stats about the data set."
   ]
  },
  {
   "cell_type": "code",
   "execution_count": 82,
   "metadata": {
    "scrolled": true
   },
   "outputs": [
    {
     "name": "stdout",
     "output_type": "stream",
     "text": [
      "<class 'pandas.core.frame.DataFrame'>\n",
      "Int64Index: 600 entries, 0 to 599\n",
      "Data columns (total 12 columns):\n",
      " #   Column        Non-Null Count  Dtype  \n",
      "---  ------        --------------  -----  \n",
      " 0   no_overall    600 non-null    int64  \n",
      " 1   season        600 non-null    int64  \n",
      " 2   no_in_season  600 non-null    int64  \n",
      " 3   episode_name  600 non-null    object \n",
      " 4   mil_viewers   600 non-null    float64\n",
      " 5   rating        600 non-null    float64\n",
      " 6   year          600 non-null    int64  \n",
      " 7   month         600 non-null    int64  \n",
      " 8   day           600 non-null    int64  \n",
      " 9   desc          600 non-null    object \n",
      " 10  len           600 non-null    int64  \n",
      " 11  tf_idf        600 non-null    object \n",
      "dtypes: float64(2), int64(7), object(3)\n",
      "memory usage: 60.9+ KB\n"
     ]
    }
   ],
   "source": [
    "df.info()"
   ]
  },
  {
   "cell_type": "code",
   "execution_count": 83,
   "metadata": {},
   "outputs": [
    {
     "data": {
      "text/html": [
       "<div>\n",
       "<style scoped>\n",
       "    .dataframe tbody tr th:only-of-type {\n",
       "        vertical-align: middle;\n",
       "    }\n",
       "\n",
       "    .dataframe tbody tr th {\n",
       "        vertical-align: top;\n",
       "    }\n",
       "\n",
       "    .dataframe thead th {\n",
       "        text-align: right;\n",
       "    }\n",
       "</style>\n",
       "<table border=\"1\" class=\"dataframe\">\n",
       "  <thead>\n",
       "    <tr style=\"text-align: right;\">\n",
       "      <th></th>\n",
       "      <th>no_overall</th>\n",
       "      <th>season</th>\n",
       "      <th>no_in_season</th>\n",
       "      <th>mil_viewers</th>\n",
       "      <th>rating</th>\n",
       "      <th>year</th>\n",
       "      <th>month</th>\n",
       "      <th>day</th>\n",
       "      <th>len</th>\n",
       "    </tr>\n",
       "  </thead>\n",
       "  <tbody>\n",
       "    <tr>\n",
       "      <th>count</th>\n",
       "      <td>600.000000</td>\n",
       "      <td>600.000000</td>\n",
       "      <td>600.000000</td>\n",
       "      <td>600.000000</td>\n",
       "      <td>600.00000</td>\n",
       "      <td>600.000000</td>\n",
       "      <td>600.000000</td>\n",
       "      <td>600.000000</td>\n",
       "      <td>600.000000</td>\n",
       "    </tr>\n",
       "    <tr>\n",
       "      <th>mean</th>\n",
       "      <td>300.500000</td>\n",
       "      <td>14.100000</td>\n",
       "      <td>11.585000</td>\n",
       "      <td>11.839150</td>\n",
       "      <td>7.31250</td>\n",
       "      <td>2002.713333</td>\n",
       "      <td>6.043333</td>\n",
       "      <td>14.936667</td>\n",
       "      <td>300.721667</td>\n",
       "    </tr>\n",
       "    <tr>\n",
       "      <th>std</th>\n",
       "      <td>173.349358</td>\n",
       "      <td>7.755444</td>\n",
       "      <td>6.549881</td>\n",
       "      <td>6.409896</td>\n",
       "      <td>0.82127</td>\n",
       "      <td>7.769283</td>\n",
       "      <td>3.928168</td>\n",
       "      <td>8.345782</td>\n",
       "      <td>183.229007</td>\n",
       "    </tr>\n",
       "    <tr>\n",
       "      <th>min</th>\n",
       "      <td>1.000000</td>\n",
       "      <td>1.000000</td>\n",
       "      <td>1.000000</td>\n",
       "      <td>2.320000</td>\n",
       "      <td>3.90000</td>\n",
       "      <td>1989.000000</td>\n",
       "      <td>1.000000</td>\n",
       "      <td>1.000000</td>\n",
       "      <td>0.000000</td>\n",
       "    </tr>\n",
       "    <tr>\n",
       "      <th>25%</th>\n",
       "      <td>150.750000</td>\n",
       "      <td>7.000000</td>\n",
       "      <td>6.000000</td>\n",
       "      <td>7.037500</td>\n",
       "      <td>6.70000</td>\n",
       "      <td>1996.000000</td>\n",
       "      <td>3.000000</td>\n",
       "      <td>8.000000</td>\n",
       "      <td>195.750000</td>\n",
       "    </tr>\n",
       "    <tr>\n",
       "      <th>50%</th>\n",
       "      <td>300.500000</td>\n",
       "      <td>14.000000</td>\n",
       "      <td>11.000000</td>\n",
       "      <td>10.300000</td>\n",
       "      <td>7.10000</td>\n",
       "      <td>2003.000000</td>\n",
       "      <td>5.000000</td>\n",
       "      <td>14.500000</td>\n",
       "      <td>269.000000</td>\n",
       "    </tr>\n",
       "    <tr>\n",
       "      <th>75%</th>\n",
       "      <td>450.250000</td>\n",
       "      <td>21.000000</td>\n",
       "      <td>17.000000</td>\n",
       "      <td>15.150000</td>\n",
       "      <td>8.00000</td>\n",
       "      <td>2010.000000</td>\n",
       "      <td>10.000000</td>\n",
       "      <td>21.000000</td>\n",
       "      <td>361.000000</td>\n",
       "    </tr>\n",
       "    <tr>\n",
       "      <th>max</th>\n",
       "      <td>600.000000</td>\n",
       "      <td>28.000000</td>\n",
       "      <td>25.000000</td>\n",
       "      <td>33.600000</td>\n",
       "      <td>9.30000</td>\n",
       "      <td>2016.000000</td>\n",
       "      <td>12.000000</td>\n",
       "      <td>31.000000</td>\n",
       "      <td>1422.000000</td>\n",
       "    </tr>\n",
       "  </tbody>\n",
       "</table>\n",
       "</div>"
      ],
      "text/plain": [
       "       no_overall      season  no_in_season  mil_viewers     rating  \\\n",
       "count  600.000000  600.000000    600.000000   600.000000  600.00000   \n",
       "mean   300.500000   14.100000     11.585000    11.839150    7.31250   \n",
       "std    173.349358    7.755444      6.549881     6.409896    0.82127   \n",
       "min      1.000000    1.000000      1.000000     2.320000    3.90000   \n",
       "25%    150.750000    7.000000      6.000000     7.037500    6.70000   \n",
       "50%    300.500000   14.000000     11.000000    10.300000    7.10000   \n",
       "75%    450.250000   21.000000     17.000000    15.150000    8.00000   \n",
       "max    600.000000   28.000000     25.000000    33.600000    9.30000   \n",
       "\n",
       "              year       month         day          len  \n",
       "count   600.000000  600.000000  600.000000   600.000000  \n",
       "mean   2002.713333    6.043333   14.936667   300.721667  \n",
       "std       7.769283    3.928168    8.345782   183.229007  \n",
       "min    1989.000000    1.000000    1.000000     0.000000  \n",
       "25%    1996.000000    3.000000    8.000000   195.750000  \n",
       "50%    2003.000000    5.000000   14.500000   269.000000  \n",
       "75%    2010.000000   10.000000   21.000000   361.000000  \n",
       "max    2016.000000   12.000000   31.000000  1422.000000  "
      ]
     },
     "execution_count": 83,
     "metadata": {},
     "output_type": "execute_result"
    }
   ],
   "source": [
    "df.describe()"
   ]
  },
  {
   "cell_type": "code",
   "execution_count": 84,
   "metadata": {},
   "outputs": [
    {
     "data": {
      "image/png": "[encoded data removed]",
      "text/plain": [
       "<Figure size 1152x720 with 1 Axes>"
      ]
     },
     "metadata": {},
     "output_type": "display_data"
    }
   ],
   "source": [
    "sns.lineplot(x='season',y='rating',data=df.groupby('season').mean()['rating'].reset_index())\n",
    "plt.title(\"Average rating per season\", size=16)\n",
    "plt.xlabel(\"Season\")\n",
    "plt.ylabel(\"Average Rating\")\n",
    "plt.show()"
   ]
  },
  {
   "cell_type": "code",
   "execution_count": 85,
   "metadata": {},
   "outputs": [
    {
     "data": {
      "image/png": "[encoded data removed]",
      "text/plain": [
       "<Figure size 1152x720 with 1 Axes>"
      ]
     },
     "metadata": {},
     "output_type": "display_data"
    }
   ],
   "source": [
    "sns.scatterplot(x='no_overall',y='rating',data=df)\n",
    "plt.title(\"Ratings of episodes\", size=16)\n",
    "plt.xlabel(\"No. of Episode\")\n",
    "plt.ylabel(\"Rating\")\n",
    "plt.show()"
   ]
  },
  {
   "cell_type": "code",
   "execution_count": 86,
   "metadata": {},
   "outputs": [
    {
     "data": {
      "image/png": "[encoded data removed]",
      "text/plain": [
       "<Figure size 1152x720 with 2 Axes>"
      ]
     },
     "metadata": {},
     "output_type": "display_data"
    }
   ],
   "source": [
    "ax = sns.heatmap(df[['rating','no_in_season','season']].pivot_table(columns='season',index='no_in_season',values='rating'),\n",
    "                 annot=True,\n",
    "                 cmap='coolwarm',\n",
    "                linewidth=0.05,\n",
    "                linecolor='black')\n",
    "bottom, top = ax.get_ylim()\n",
    "ax.set_ylim(bottom + 0.5, top - 0.5)\n",
    "plt.title(\"Heatmap showing the ratings for episodes\", size=16)\n",
    "plt.ylabel(\"Number of episode in season\")\n",
    "plt.xlabel(\"Season\")\n",
    "plt.show()"
   ]
  },
  {
   "cell_type": "markdown",
   "metadata": {},
   "source": [
    "The past three plots visualize the decline over the years. While each season has its lowpoints, the quality (rating) of episodes has been going down over the past years. "
   ]
  },
  {
   "cell_type": "code",
   "execution_count": 87,
   "metadata": {},
   "outputs": [
    {
     "data": {
      "image/png": "[encoded data removed]",
      "text/plain": [
       "<Figure size 1152x720 with 2 Axes>"
      ]
     },
     "metadata": {},
     "output_type": "display_data"
    }
   ],
   "source": [
    "ax = sns.heatmap(df.corr(), annot=True,vmin=0.0, vmax=1.0, cmap='coolwarm',linewidths=1) #notation: \"annot\" not \"annote\"\n",
    "bottom, top = ax.get_ylim()\n",
    "ax.set_ylim(bottom + 0.5, top - 0.5)\n",
    "plt.title(\"Heatplot showing the correlation between variables\", size=16)\n",
    "plt.show()"
   ]
  },
  {
   "cell_type": "markdown",
   "metadata": {},
   "source": [
    "There seems to be some correlation between how many are watching the episode and how highly it is rated. "
   ]
  },
  {
   "cell_type": "code",
   "execution_count": 88,
   "metadata": {},
   "outputs": [
    {
     "data": {
      "image/png": "[encoded data removed]",
      "text/plain": [
       "<Figure size 1152x720 with 1 Axes>"
      ]
     },
     "metadata": {},
     "output_type": "display_data"
    }
   ],
   "source": [
    "sns.set_palette('rainbow')\n",
    "sns.distplot(df['rating'], rug=True)\n",
    "plt.title(\"Distribution of ratings of episodes\", size=16)\n",
    "plt.xlabel(\"Rating (0-10)\")\n",
    "plt.ylabel(\"Frequency\")\n",
    "plt.show()"
   ]
  },
  {
   "cell_type": "markdown",
   "metadata": {},
   "source": [
    "Most episodes are scoring a rating between 6 and 8.5"
   ]
  },
  {
   "cell_type": "code",
   "execution_count": 89,
   "metadata": {},
   "outputs": [
    {
     "data": {
      "image/png": "[encoded data removed]",
      "text/plain": [
       "<Figure size 1152x720 with 1 Axes>"
      ]
     },
     "metadata": {},
     "output_type": "display_data"
    }
   ],
   "source": [
    "sns.distplot(df['mil_viewers'], rug=True)\n",
    "plt.title(\"Distribution of viewers for the episodes\", size=16)\n",
    "plt.xlabel(\"Viewers (millions)\")\n",
    "plt.ylabel(\"Frequency\")\n",
    "plt.show()"
   ]
  },
  {
   "cell_type": "markdown",
   "metadata": {},
   "source": [
    "Most episodes have around 5-15 million viewers. "
   ]
  },
  {
   "cell_type": "code",
   "execution_count": 90,
   "metadata": {
    "scrolled": false
   },
   "outputs": [
    {
     "data": {
      "image/png": "[encoded data removed]",
      "text/plain": [
       "<Figure size 1152x720 with 1 Axes>"
      ]
     },
     "metadata": {},
     "output_type": "display_data"
    }
   ],
   "source": [
    "sns.distplot(df[df['len']>0]['len'], rug=True)\n",
    "plt.title(\"The Distribution of the Lenght of Description of Episodes (words)\", size=16)\n",
    "plt.xlabel(\"Words in Description\")\n",
    "plt.ylabel(\"Frequency\")\n",
    "plt.show()"
   ]
  },
  {
   "cell_type": "markdown",
   "metadata": {},
   "source": [
    "In the plot above it can be seen that most episodes have quite a large text that describes it."
   ]
  },
  {
   "cell_type": "markdown",
   "metadata": {},
   "source": [
    "# Linear Regression - For comparison\n",
    "\n",
    "In order to see if the new topical model is more accurate than a normal linear regression model, a simple linear regression model was created in order to try and predict the rating of an episode. "
   ]
  },
  {
   "cell_type": "code",
   "execution_count": 91,
   "metadata": {},
   "outputs": [
    {
     "data": {
      "text/plain": [
       "Index(['no_overall', 'season', 'no_in_season', 'episode_name', 'mil_viewers',\n",
       "       'rating', 'year', 'month', 'day', 'desc', 'len', 'tf_idf'],\n",
       "      dtype='object')"
      ]
     },
     "execution_count": 91,
     "metadata": {},
     "output_type": "execute_result"
    }
   ],
   "source": [
    "df.columns"
   ]
  },
  {
   "cell_type": "code",
   "execution_count": 92,
   "metadata": {},
   "outputs": [],
   "source": [
    "X = df[['no_overall','no_in_season','season','mil_viewers','year','month','day']].values"
   ]
  },
  {
   "cell_type": "code",
   "execution_count": 93,
   "metadata": {},
   "outputs": [],
   "source": [
    "y = df['rating'].values"
   ]
  },
  {
   "cell_type": "code",
   "execution_count": 94,
   "metadata": {},
   "outputs": [],
   "source": [
    "X_mean = X.mean(axis=0)\n",
    "X_std = X.std(axis=0)\n",
    "X = (X - X_mean) / X_std"
   ]
  },
  {
   "cell_type": "code",
   "execution_count": 95,
   "metadata": {},
   "outputs": [],
   "source": [
    "y_mean = y.mean()\n",
    "y_std = y.std()\n",
    "y = (y - y_mean) / y_std"
   ]
  },
  {
   "cell_type": "code",
   "execution_count": 96,
   "metadata": {},
   "outputs": [],
   "source": [
    "X_train, X_test, y_train, y_test = train_test_split(X, y, test_size=0.3, random_state=101)"
   ]
  },
  {
   "cell_type": "code",
   "execution_count": 97,
   "metadata": {},
   "outputs": [],
   "source": [
    "lm = LinearRegression()"
   ]
  },
  {
   "cell_type": "code",
   "execution_count": 98,
   "metadata": {
    "scrolled": true
   },
   "outputs": [
    {
     "data": {
      "text/plain": [
       "LinearRegression(copy_X=True, fit_intercept=True, n_jobs=None, normalize=False)"
      ]
     },
     "execution_count": 98,
     "metadata": {},
     "output_type": "execute_result"
    }
   ],
   "source": [
    "lm.fit(X_train,y_train)"
   ]
  },
  {
   "cell_type": "code",
   "execution_count": 99,
   "metadata": {},
   "outputs": [],
   "source": [
    "predictions = lm.predict(X_test)"
   ]
  },
  {
   "cell_type": "code",
   "execution_count": 100,
   "metadata": {},
   "outputs": [
    {
     "data": {
      "image/png": "[encoded data removed]",
      "text/plain": [
       "<Figure size 1152x720 with 1 Axes>"
      ]
     },
     "metadata": {},
     "output_type": "display_data"
    }
   ],
   "source": [
    "plt.scatter(y_test,predictions)\n",
    "plt.title(\"Actual values vs. Predicted values of ratings of episodes\", size=16)\n",
    "plt.xlabel(\"Test value (Standardized)\")\n",
    "plt.ylabel(\"Predicted value (Standardized)\")\n",
    "plt.show()"
   ]
  },
  {
   "cell_type": "code",
   "execution_count": 101,
   "metadata": {},
   "outputs": [
    {
     "data": {
      "image/png": "[encoded data removed]",
      "text/plain": [
       "<Figure size 1152x720 with 1 Axes>"
      ]
     },
     "metadata": {},
     "output_type": "display_data"
    }
   ],
   "source": [
    "sns.distplot((y_test-predictions),bins=50);\n",
    "plt.title(\"Distribution of residuals\", size=16)\n",
    "plt.xlabel(\"Residual\")\n",
    "plt.ylabel(\"Frequency\")\n",
    "plt.show()"
   ]
  },
  {
   "cell_type": "code",
   "execution_count": 102,
   "metadata": {},
   "outputs": [
    {
     "name": "stdout",
     "output_type": "stream",
     "text": [
      "MAE: 0.42025278215654616\n",
      "MSE: 0.3620670236549205\n",
      "RMSE: 0.6017200542236568\n"
     ]
    }
   ],
   "source": [
    "print('MAE:', metrics.mean_absolute_error(y_test, predictions))\n",
    "print('MSE:', metrics.mean_squared_error(y_test, predictions))\n",
    "print('RMSE:', np.sqrt(metrics.mean_squared_error(y_test, predictions)))"
   ]
  },
  {
   "cell_type": "markdown",
   "metadata": {},
   "source": [
    "From this it can be seen that creating a linear regression model in order to predict an episode's rating from other features is somewhat achievable."
   ]
  },
  {
   "cell_type": "markdown",
   "metadata": {},
   "source": [
    "# 5. Research Question<a class=\"anchor\" id=\"five\"></a>"
   ]
  },
  {
   "cell_type": "markdown",
   "metadata": {},
   "source": [
    "By using *Topic Modeling* and *Latent Dirichlet Allocation*, we hope to uncover some of the hidden features of the episodes. We hope to see if there is any relation between the topic of episodes and their respective rating. \n",
    "\n",
    "We want to see how each episode relates to the topics, i.e. how the topic proportions align with the episodes and if that can be used to determine an episode's rating. If the topic allocations and proportions of an episode can help determine an episode's rating, not only have be created a better linear regression model, but we have proven a hypothesis which does seem logical - *an episode's rating is related to what is happening in the episode.* \n",
    "\n",
    "In order to carry out *topic modeling*, the number of topics, $K$, has to be assumed. "
   ]
  },
  {
   "cell_type": "markdown",
   "metadata": {},
   "source": [
    "# 6. Generative Story<a class=\"anchor\" id=\"six\"></a>"
   ]
  },
  {
   "cell_type": "markdown",
   "metadata": {},
   "source": [
    "As we will deploy *Latent Dirichlet Allocation* for our topic model, the generative story for the inference of topics will follow the same generative story LDA follows. Here, we have changed the wording to fit our project. The following will be the generative story our model will follow: \n",
    "\n",
    "1. For each topic $k \\in \\{1,2,...,K\\}$ where $K$ is the assumed total number of topics, there is a vector of $C$ words, $\\phi_k$, such that $p(\\theta_k|\\beta) = \\text{Dir}(\\beta)$\n",
    "\n",
    "2. For each document (*episode*) $i$:\n",
    "\n",
    ">a) There is a vector of $K$ topics, $\\theta_i$, such that $p(\\theta_i|\\alpha) = \\text{Dir}(\\alpha)$\n",
    "    \n",
    ">b) For each of the words $j$ in each episode $i$, where $j\\in \\{1,2,...,||w_i||\\}$, we have\n",
    "    \n",
    ">>i) A **topic assignment** $z_{i,j} \\in \\{1,2,...,K\\}$ such that $p(z_{i,j}|\\theta_i) = \\text{Cat}(\\theta_i)$\n",
    "    \n",
    ">>ii) A **word** $w_{i,j}$ such that $p(w_{i,j}|\\phi_{z_{i,j}}) = \\text{Cat}(\\phi_{z_{i,j}})$\n",
    "\n",
    "What this means is that each episode will get assigned topic proportions and each topic will get assigned word proportions. \n"
   ]
  },
  {
   "cell_type": "markdown",
   "metadata": {},
   "source": [
    "# 7. PGM <a class=\"anchor\" id=\"seven\"></a>"
   ]
  },
  {
   "cell_type": "markdown",
   "metadata": {},
   "source": [
    "![title](pgm.png)"
   ]
  },
  {
   "cell_type": "markdown",
   "metadata": {},
   "source": [
    "# 8. Stan Model <a class=\"anchor\" id=\"eight\"></a>"
   ]
  },
  {
   "cell_type": "code",
   "execution_count": 103,
   "metadata": {},
   "outputs": [],
   "source": [
    "LDA_STAN=\"\"\"\n",
    "data{\n",
    "    int<lower=1> I;\n",
    "    int<lower=1> J[I];  // We mean J=||W_i||\n",
    "    int<lower=2> K;\n",
    "    int<lower=2> C;\n",
    "    vector<lower=0>[K] alpha;\n",
    "    vector<lower=0>[C] beta;\n",
    "    int<lower=2> MAX_J;\n",
    "    int W[I,MAX_J];\n",
    "}\n",
    "\n",
    "parameters{\n",
    "    simplex[K] theta[I];\n",
    "    simplex[C] phi[K];\n",
    "}\n",
    "\n",
    "model{\n",
    "    for (k in 1:K)\n",
    "        phi[k]~dirichlet(beta);\n",
    "        \n",
    "    for (i in 1:I){\n",
    "        theta[i]~dirichlet(alpha);\n",
    "        \n",
    "        for (j in 1:J[i]){\n",
    "                real gamma[K];\n",
    "                for (k in 1:K)\n",
    "                    // log(P(z = k | theta)) + log(P(W | phi, z = k)) \n",
    "                    gamma[k]=log(theta[i,k])+log(phi[k,W[i][j]]);\n",
    "                \n",
    "                target+=(log_sum_exp(gamma));\n",
    "        }\n",
    "    }\n",
    "}\n",
    "\n",
    "\"\"\""
   ]
  },
  {
   "cell_type": "markdown",
   "metadata": {},
   "source": [
    "I: number of episodes"
   ]
  },
  {
   "cell_type": "code",
   "execution_count": 230,
   "metadata": {},
   "outputs": [
    {
     "data": {
      "text/plain": [
       "600"
      ]
     },
     "execution_count": 230,
     "metadata": {},
     "output_type": "execute_result"
    }
   ],
   "source": [
    "I = len(df)\n",
    "I = 100 # starting with this to narrow us down"
   ]
  },
  {
   "cell_type": "markdown",
   "metadata": {},
   "source": [
    "J = w_i|| word: number of words in each episode"
   ]
  },
  {
   "cell_type": "code",
   "execution_count": 251,
   "metadata": {
    "scrolled": true
   },
   "outputs": [
    {
     "data": {
      "text/plain": [
       "100"
      ]
     },
     "execution_count": 251,
     "metadata": {},
     "output_type": "execute_result"
    }
   ],
   "source": [
    "J = df['lenght'].tolist()\n",
    "J = J[:100] # starting with this to narrow us down"
   ]
  },
  {
   "cell_type": "markdown",
   "metadata": {},
   "source": [
    "K: number of topics that we will play around with"
   ]
  },
  {
   "cell_type": "code",
   "execution_count": 252,
   "metadata": {},
   "outputs": [],
   "source": [
    "K = 3"
   ]
  },
  {
   "cell_type": "markdown",
   "metadata": {},
   "source": [
    "C: number of words in our dictionary"
   ]
  },
  {
   "cell_type": "code",
   "execution_count": 256,
   "metadata": {},
   "outputs": [],
   "source": [
    "C = len(df.tf_idf.explode().unique())\n",
    "C = len(df.tf_idf[:100].explode().unique())# starting with this to narrow us down"
   ]
  },
  {
   "cell_type": "markdown",
   "metadata": {},
   "source": [
    "**$\\alpha$**:  The higher the value, the more concentrated is the distribution."
   ]
  },
  {
   "cell_type": "code",
   "execution_count": 261,
   "metadata": {},
   "outputs": [],
   "source": [
    "alpha = 0.5*np.ones(K) "
   ]
  },
  {
   "cell_type": "code",
   "execution_count": 262,
   "metadata": {
    "scrolled": true
   },
   "outputs": [],
   "source": [
    "beta = 0.5*np.ones(C) ## Size C"
   ]
  },
  {
   "cell_type": "raw",
   "metadata": {},
   "source": []
  },
  {
   "cell_type": "markdown",
   "metadata": {},
   "source": [
    "w = word proportion\n",
    "\n",
    "z = topic proportion"
   ]
  },
  {
   "cell_type": "code",
   "execution_count": 263,
   "metadata": {},
   "outputs": [],
   "source": [
    "w = np.zeros( (I, np.max(J)), dtype=int )"
   ]
  },
  {
   "cell_type": "code",
   "execution_count": 264,
   "metadata": {},
   "outputs": [
    {
     "data": {
      "text/plain": [
       "array([[0, 0, 0, ..., 0, 0, 0],\n",
       "       [0, 0, 0, ..., 0, 0, 0],\n",
       "       [0, 0, 0, ..., 0, 0, 0],\n",
       "       ...,\n",
       "       [0, 0, 0, ..., 0, 0, 0],\n",
       "       [0, 0, 0, ..., 0, 0, 0],\n",
       "       [0, 0, 0, ..., 0, 0, 0]])"
      ]
     },
     "execution_count": 264,
     "metadata": {},
     "output_type": "execute_result"
    }
   ],
   "source": [
    "w"
   ]
  },
  {
   "cell_type": "code",
   "execution_count": null,
   "metadata": {},
   "outputs": [],
   "source": []
  },
  {
   "cell_type": "code",
   "execution_count": 223,
   "metadata": {},
   "outputs": [],
   "source": [
    "## Define word vectors (for each topic) and normalize:\n",
    "phi = np.zeros( (K, C) );\n",
    "phi[0] = [0.9, 0.9, 0.9, 0.9, 0.9, 0.9, 0.9, 0.9, 0.9, 0.9,\n",
    "          0.01, 0.01, 0.01, 0.01, 0.01, 0.01, 0.01, 0.01, 0.01, 0.01,\n",
    "          0.01, 0.01, 0.01, 0.01, 0.01, 0.01, 0.01, 0.01, 0.01, 0.01]\n",
    "phi[0] *= 1/np.sum(phi[0])\n",
    "phi[1] = [0.01, 0.01, 0.01, 0.01, 0.01, 0.01, 0.01, 0.01, 0.01, 0.01,\n",
    "          0.9, 0.9, 0.9, 0.9, 0.9, 0.9, 0.9, 0.9, 0.9, 0.9,\n",
    "          0.01, 0.01, 0.01, 0.01, 0.01, 0.01, 0.01, 0.01, 0.01, 0.01]\n",
    "phi[1] *= 1/np.sum(phi[1])\n",
    "phi[2] = [0.01, 0.01, 0.01, 0.01, 0.01, 0.01, 0.01, 0.01, 0.01, 0.01,\n",
    "          0.01, 0.01, 0.01, 0.01, 0.01, 0.01, 0.01, 0.01, 0.01, 0.01,\n",
    "          0.9, 0.9, 0.9, 0.9, 0.9, 0.9, 0.9, 0.9, 0.9, 0.9]\n",
    "phi[2] *= 1/np.sum(phi[2])"
   ]
  },
  {
   "cell_type": "code",
   "execution_count": 224,
   "metadata": {},
   "outputs": [],
   "source": [
    "##Just to make things practical, we created this function for you\n",
    "## just read it or, try it, to see what it does...\n",
    "def categorical_sample(p):\n",
    "    return list(np.random.multinomial(1, p)).index(1)"
   ]
  },
  {
   "cell_type": "code",
   "execution_count": 225,
   "metadata": {},
   "outputs": [],
   "source": [
    "def ancestral_sampling(J, theta, phi):\n",
    "    ## Initialise\n",
    "    z = np.zeros( (I, np.max(J)), dtype=int )  #NOTICE that z and w are vectors of integers!\n",
    "    w = np.zeros( (I, np.max(J)), dtype=int )\n",
    "\n",
    "    for i in range(I):\n",
    "        for j in range(J[i]):\n",
    "            z[i, j] = categorical_sample(theta[i])\n",
    "            w[i, j] = categorical_sample(phi[int(z[i, j])])\n",
    "    return z, w"
   ]
  },
  {
   "cell_type": "code",
   "execution_count": 237,
   "metadata": {
    "scrolled": true
   },
   "outputs": [
    {
     "data": {
      "text/html": [
       "<div>\n",
       "<style scoped>\n",
       "    .dataframe tbody tr th:only-of-type {\n",
       "        vertical-align: middle;\n",
       "    }\n",
       "\n",
       "    .dataframe tbody tr th {\n",
       "        vertical-align: top;\n",
       "    }\n",
       "\n",
       "    .dataframe thead th {\n",
       "        text-align: right;\n",
       "    }\n",
       "</style>\n",
       "<table border=\"1\" class=\"dataframe\">\n",
       "  <thead>\n",
       "    <tr style=\"text-align: right;\">\n",
       "      <th></th>\n",
       "      <th>no_overall</th>\n",
       "      <th>season</th>\n",
       "      <th>no_in_season</th>\n",
       "      <th>episode_name</th>\n",
       "      <th>mil_viewers</th>\n",
       "      <th>rating</th>\n",
       "      <th>year</th>\n",
       "      <th>month</th>\n",
       "      <th>day</th>\n",
       "      <th>desc</th>\n",
       "      <th>len</th>\n",
       "      <th>tf_idf</th>\n",
       "      <th>lenght</th>\n",
       "    </tr>\n",
       "  </thead>\n",
       "  <tbody>\n",
       "    <tr>\n",
       "      <th>0</th>\n",
       "      <td>1</td>\n",
       "      <td>1</td>\n",
       "      <td>1</td>\n",
       "      <td>Simpsons Roasting on an Open Fire</td>\n",
       "      <td>26.70</td>\n",
       "      <td>8.2</td>\n",
       "      <td>1989</td>\n",
       "      <td>12</td>\n",
       "      <td>17</td>\n",
       "      <td>[homer, hastily, drives, family, sedan, marge,...</td>\n",
       "      <td>1227</td>\n",
       "      <td>[christmas, santa, tattoo, lights, bonus, whir...</td>\n",
       "      <td>200</td>\n",
       "    </tr>\n",
       "    <tr>\n",
       "      <th>1</th>\n",
       "      <td>2</td>\n",
       "      <td>1</td>\n",
       "      <td>2</td>\n",
       "      <td>Bart the Genius</td>\n",
       "      <td>24.50</td>\n",
       "      <td>7.7</td>\n",
       "      <td>1990</td>\n",
       "      <td>1</td>\n",
       "      <td>14</td>\n",
       "      <td>[simpson, family, playing, scrabble, living, r...</td>\n",
       "      <td>704</td>\n",
       "      <td>[pryor, martin, test, kwyjibo, gifted, genius,...</td>\n",
       "      <td>200</td>\n",
       "    </tr>\n",
       "    <tr>\n",
       "      <th>2</th>\n",
       "      <td>3</td>\n",
       "      <td>1</td>\n",
       "      <td>3</td>\n",
       "      <td>Homer's Odyssey</td>\n",
       "      <td>27.50</td>\n",
       "      <td>7.4</td>\n",
       "      <td>1990</td>\n",
       "      <td>1</td>\n",
       "      <td>21</td>\n",
       "      <td>[front, springfield, elementary, mrs, krabappe...</td>\n",
       "      <td>703</td>\n",
       "      <td>[intersection, balcony, plant, safety, piggy, ...</td>\n",
       "      <td>200</td>\n",
       "    </tr>\n",
       "    <tr>\n",
       "      <th>3</th>\n",
       "      <td>4</td>\n",
       "      <td>1</td>\n",
       "      <td>4</td>\n",
       "      <td>There's No Disgrace Like Home</td>\n",
       "      <td>20.20</td>\n",
       "      <td>7.7</td>\n",
       "      <td>1990</td>\n",
       "      <td>1</td>\n",
       "      <td>28</td>\n",
       "      <td>[bart, lisa, fighting, long, homer, quickly, r...</td>\n",
       "      <td>361</td>\n",
       "      <td>[monroe, normal, family, neighborhood, dr, pic...</td>\n",
       "      <td>200</td>\n",
       "    </tr>\n",
       "    <tr>\n",
       "      <th>4</th>\n",
       "      <td>5</td>\n",
       "      <td>1</td>\n",
       "      <td>5</td>\n",
       "      <td>Bart the General</td>\n",
       "      <td>27.10</td>\n",
       "      <td>8.0</td>\n",
       "      <td>1990</td>\n",
       "      <td>2</td>\n",
       "      <td>4</td>\n",
       "      <td>[inside, simpsons, kitchen, lisa, baking, cupc...</td>\n",
       "      <td>448</td>\n",
       "      <td>[nelson, grandpa, herman, cupcakes, inside, ar...</td>\n",
       "      <td>200</td>\n",
       "    </tr>\n",
       "    <tr>\n",
       "      <th>...</th>\n",
       "      <td>...</td>\n",
       "      <td>...</td>\n",
       "      <td>...</td>\n",
       "      <td>...</td>\n",
       "      <td>...</td>\n",
       "      <td>...</td>\n",
       "      <td>...</td>\n",
       "      <td>...</td>\n",
       "      <td>...</td>\n",
       "      <td>...</td>\n",
       "      <td>...</td>\n",
       "      <td>...</td>\n",
       "      <td>...</td>\n",
       "    </tr>\n",
       "    <tr>\n",
       "      <th>595</th>\n",
       "      <td>596</td>\n",
       "      <td>27</td>\n",
       "      <td>22</td>\n",
       "      <td>Orange Is the New Yellow</td>\n",
       "      <td>2.54</td>\n",
       "      <td>6.7</td>\n",
       "      <td>2016</td>\n",
       "      <td>5</td>\n",
       "      <td>22</td>\n",
       "      <td>[homer, leaving, power, plant, weekend, promis...</td>\n",
       "      <td>217</td>\n",
       "      <td>[prison, realized, homemaker, trouble, guard, ...</td>\n",
       "      <td>155</td>\n",
       "    </tr>\n",
       "    <tr>\n",
       "      <th>596</th>\n",
       "      <td>597</td>\n",
       "      <td>28</td>\n",
       "      <td>1</td>\n",
       "      <td>Monty Burns' Fleeing Circus</td>\n",
       "      <td>3.36</td>\n",
       "      <td>6.0</td>\n",
       "      <td>2016</td>\n",
       "      <td>9</td>\n",
       "      <td>25</td>\n",
       "      <td>[simpsons, taking, walk, springfield, observe,...</td>\n",
       "      <td>303</td>\n",
       "      <td>[presentation, bowl, burns, statue, lard, laug...</td>\n",
       "      <td>200</td>\n",
       "    </tr>\n",
       "    <tr>\n",
       "      <th>597</th>\n",
       "      <td>598</td>\n",
       "      <td>28</td>\n",
       "      <td>2</td>\n",
       "      <td>Friends and Family</td>\n",
       "      <td>6.00</td>\n",
       "      <td>6.5</td>\n",
       "      <td>2016</td>\n",
       "      <td>10</td>\n",
       "      <td>2</td>\n",
       "      <td>[mr, burns, goes, appointment, counselor, deal...</td>\n",
       "      <td>226</td>\n",
       "      <td>[julia, virtual, burns, recordings, friendship...</td>\n",
       "      <td>149</td>\n",
       "    </tr>\n",
       "    <tr>\n",
       "      <th>598</th>\n",
       "      <td>599</td>\n",
       "      <td>28</td>\n",
       "      <td>3</td>\n",
       "      <td>The Town</td>\n",
       "      <td>3.22</td>\n",
       "      <td>7.0</td>\n",
       "      <td>2016</td>\n",
       "      <td>10</td>\n",
       "      <td>9</td>\n",
       "      <td>[homer, goes, moe, watch, football, game, spri...</td>\n",
       "      <td>234</td>\n",
       "      <td>[boston, americans, cap, cation, team, move, i...</td>\n",
       "      <td>145</td>\n",
       "    </tr>\n",
       "    <tr>\n",
       "      <th>599</th>\n",
       "      <td>600</td>\n",
       "      <td>28</td>\n",
       "      <td>4</td>\n",
       "      <td>Treehouse of Horror XXVII</td>\n",
       "      <td>7.44</td>\n",
       "      <td>6.9</td>\n",
       "      <td>2016</td>\n",
       "      <td>10</td>\n",
       "      <td>16</td>\n",
       "      <td>[homer, takes, family, buy, christmas, tree, h...</td>\n",
       "      <td>459</td>\n",
       "      <td>[rachel, sargent, sausage, reservoir, frank, f...</td>\n",
       "      <td>200</td>\n",
       "    </tr>\n",
       "  </tbody>\n",
       "</table>\n",
       "<p>600 rows × 13 columns</p>\n",
       "</div>"
      ],
      "text/plain": [
       "     no_overall  season  no_in_season                       episode_name  \\\n",
       "0             1       1             1  Simpsons Roasting on an Open Fire   \n",
       "1             2       1             2                    Bart the Genius   \n",
       "2             3       1             3                    Homer's Odyssey   \n",
       "3             4       1             4      There's No Disgrace Like Home   \n",
       "4             5       1             5                   Bart the General   \n",
       "..          ...     ...           ...                                ...   \n",
       "595         596      27            22           Orange Is the New Yellow   \n",
       "596         597      28             1        Monty Burns' Fleeing Circus   \n",
       "597         598      28             2                 Friends and Family   \n",
       "598         599      28             3                           The Town   \n",
       "599         600      28             4          Treehouse of Horror XXVII   \n",
       "\n",
       "     mil_viewers  rating  year  month  day  \\\n",
       "0          26.70     8.2  1989     12   17   \n",
       "1          24.50     7.7  1990      1   14   \n",
       "2          27.50     7.4  1990      1   21   \n",
       "3          20.20     7.7  1990      1   28   \n",
       "4          27.10     8.0  1990      2    4   \n",
       "..           ...     ...   ...    ...  ...   \n",
       "595         2.54     6.7  2016      5   22   \n",
       "596         3.36     6.0  2016      9   25   \n",
       "597         6.00     6.5  2016     10    2   \n",
       "598         3.22     7.0  2016     10    9   \n",
       "599         7.44     6.9  2016     10   16   \n",
       "\n",
       "                                                  desc   len  \\\n",
       "0    [homer, hastily, drives, family, sedan, marge,...  1227   \n",
       "1    [simpson, family, playing, scrabble, living, r...   704   \n",
       "2    [front, springfield, elementary, mrs, krabappe...   703   \n",
       "3    [bart, lisa, fighting, long, homer, quickly, r...   361   \n",
       "4    [inside, simpsons, kitchen, lisa, baking, cupc...   448   \n",
       "..                                                 ...   ...   \n",
       "595  [homer, leaving, power, plant, weekend, promis...   217   \n",
       "596  [simpsons, taking, walk, springfield, observe,...   303   \n",
       "597  [mr, burns, goes, appointment, counselor, deal...   226   \n",
       "598  [homer, goes, moe, watch, football, game, spri...   234   \n",
       "599  [homer, takes, family, buy, christmas, tree, h...   459   \n",
       "\n",
       "                                                tf_idf  lenght  \n",
       "0    [christmas, santa, tattoo, lights, bonus, whir...     200  \n",
       "1    [pryor, martin, test, kwyjibo, gifted, genius,...     200  \n",
       "2    [intersection, balcony, plant, safety, piggy, ...     200  \n",
       "3    [monroe, normal, family, neighborhood, dr, pic...     200  \n",
       "4    [nelson, grandpa, herman, cupcakes, inside, ar...     200  \n",
       "..                                                 ...     ...  \n",
       "595  [prison, realized, homemaker, trouble, guard, ...     155  \n",
       "596  [presentation, bowl, burns, statue, lard, laug...     200  \n",
       "597  [julia, virtual, burns, recordings, friendship...     149  \n",
       "598  [boston, americans, cap, cation, team, move, i...     145  \n",
       "599  [rachel, sargent, sausage, reservoir, frank, f...     200  \n",
       "\n",
       "[600 rows x 13 columns]"
      ]
     },
     "execution_count": 237,
     "metadata": {},
     "output_type": "execute_result"
    }
   ],
   "source": [
    "df"
   ]
  },
  {
   "cell_type": "code",
   "execution_count": 244,
   "metadata": {},
   "outputs": [
    {
     "data": {
      "text/plain": [
       "list"
      ]
     },
     "execution_count": 244,
     "metadata": {},
     "output_type": "execute_result"
    }
   ],
   "source": [
    "type(df['tf_idf'][0])"
   ]
  },
  {
   "cell_type": "code",
   "execution_count": 248,
   "metadata": {},
   "outputs": [
    {
     "data": {
      "text/plain": [
       "1"
      ]
     },
     "execution_count": 248,
     "metadata": {},
     "output_type": "execute_result"
    }
   ],
   "source": [
    "list(np.random.multinomial(1, phi)).index(1)"
   ]
  },
  {
   "cell_type": "code",
   "execution_count": 245,
   "metadata": {
    "scrolled": false
   },
   "outputs": [
    {
     "ename": "ValueError",
     "evalue": "could not convert string to float: 'christmas'",
     "output_type": "error",
     "traceback": [
      "\u001b[0;31m---------------------------------------------------------------------------\u001b[0m",
      "\u001b[0;31mValueError\u001b[0m                                Traceback (most recent call last)",
      "\u001b[0;32m<ipython-input-245-efa49be26b10>\u001b[0m in \u001b[0;36m<module>\u001b[0;34m\u001b[0m\n\u001b[0;32m----> 1\u001b[0;31m \u001b[0mcategorical_sample\u001b[0m\u001b[0;34m(\u001b[0m\u001b[0mdf\u001b[0m\u001b[0;34m[\u001b[0m\u001b[0;34m'tf_idf'\u001b[0m\u001b[0;34m]\u001b[0m\u001b[0;34m[\u001b[0m\u001b[0;36m0\u001b[0m\u001b[0;34m]\u001b[0m\u001b[0;34m)\u001b[0m\u001b[0;34m\u001b[0m\u001b[0;34m\u001b[0m\u001b[0m\n\u001b[0m",
      "\u001b[0;32m<ipython-input-224-bde66740728a>\u001b[0m in \u001b[0;36mcategorical_sample\u001b[0;34m(p)\u001b[0m\n\u001b[1;32m      2\u001b[0m \u001b[0;31m## just read it or, try it, to see what it does...\u001b[0m\u001b[0;34m\u001b[0m\u001b[0;34m\u001b[0m\u001b[0;34m\u001b[0m\u001b[0m\n\u001b[1;32m      3\u001b[0m \u001b[0;32mdef\u001b[0m \u001b[0mcategorical_sample\u001b[0m\u001b[0;34m(\u001b[0m\u001b[0mp\u001b[0m\u001b[0;34m)\u001b[0m\u001b[0;34m:\u001b[0m\u001b[0;34m\u001b[0m\u001b[0;34m\u001b[0m\u001b[0m\n\u001b[0;32m----> 4\u001b[0;31m     \u001b[0;32mreturn\u001b[0m \u001b[0mlist\u001b[0m\u001b[0;34m(\u001b[0m\u001b[0mnp\u001b[0m\u001b[0;34m.\u001b[0m\u001b[0mrandom\u001b[0m\u001b[0;34m.\u001b[0m\u001b[0mmultinomial\u001b[0m\u001b[0;34m(\u001b[0m\u001b[0;36m1\u001b[0m\u001b[0;34m,\u001b[0m \u001b[0mp\u001b[0m\u001b[0;34m)\u001b[0m\u001b[0;34m)\u001b[0m\u001b[0;34m.\u001b[0m\u001b[0mindex\u001b[0m\u001b[0;34m(\u001b[0m\u001b[0;36m1\u001b[0m\u001b[0;34m)\u001b[0m\u001b[0;34m\u001b[0m\u001b[0;34m\u001b[0m\u001b[0m\n\u001b[0m",
      "\u001b[0;32mmtrand.pyx\u001b[0m in \u001b[0;36mnumpy.random.mtrand.RandomState.multinomial\u001b[0;34m()\u001b[0m\n",
      "\u001b[0;31mValueError\u001b[0m: could not convert string to float: 'christmas'"
     ]
    }
   ],
   "source": [
    "categorical_sample(df['tf_idf'][0])"
   ]
  },
  {
   "cell_type": "code",
   "execution_count": 226,
   "metadata": {},
   "outputs": [],
   "source": [
    "z, w = ancestral_sampling(J, theta, phi)"
   ]
  },
  {
   "cell_type": "code",
   "execution_count": 214,
   "metadata": {},
   "outputs": [
    {
     "data": {
      "text/plain": [
       "array([[14, 18, 11, ..., 13,  8, 12],\n",
       "       [ 7,  1,  1, ...,  8, 23,  2],\n",
       "       [12,  5, 10, ...,  2, 12, 11],\n",
       "       ...,\n",
       "       [25, 23, 20, ...,  0,  0,  0],\n",
       "       [ 6,  7, 23, ...,  0,  0,  0],\n",
       "       [ 5,  5, 16, ...,  0,  0,  0]])"
      ]
     },
     "execution_count": 214,
     "metadata": {},
     "output_type": "execute_result"
    }
   ],
   "source": [
    "w"
   ]
  },
  {
   "cell_type": "code",
   "execution_count": 183,
   "metadata": {
    "scrolled": false
   },
   "outputs": [],
   "source": [
    "w = df.tf_idf"
   ]
  },
  {
   "cell_type": "code",
   "execution_count": 168,
   "metadata": {},
   "outputs": [],
   "source": [
    "w = np.zeros( (I, np.max(J)), dtype=int )"
   ]
  },
  {
   "cell_type": "code",
   "execution_count": 170,
   "metadata": {},
   "outputs": [
    {
     "data": {
      "text/plain": [
       "0"
      ]
     },
     "execution_count": 170,
     "metadata": {},
     "output_type": "execute_result"
    }
   ],
   "source": [
    "w[0,0]"
   ]
  },
  {
   "cell_type": "code",
   "execution_count": 187,
   "metadata": {},
   "outputs": [
    {
     "data": {
      "text/plain": [
       "0      [christmas, santa, tattoo, lights, bonus, whir...\n",
       "1      [pryor, martin, test, kwyjibo, gifted, genius,...\n",
       "2      [intersection, balcony, plant, safety, piggy, ...\n",
       "3      [monroe, normal, family, neighborhood, dr, pic...\n",
       "4      [nelson, grandpa, herman, cupcakes, inside, ar...\n",
       "                             ...                        \n",
       "595    [prison, realized, homemaker, trouble, guard, ...\n",
       "596    [presentation, bowl, burns, statue, lard, laug...\n",
       "597    [julia, virtual, burns, recordings, friendship...\n",
       "598    [boston, americans, cap, cation, team, move, i...\n",
       "599    [rachel, sargent, sausage, reservoir, frank, f...\n",
       "Name: tf_idf, Length: 600, dtype: object"
      ]
     },
     "execution_count": 187,
     "metadata": {},
     "output_type": "execute_result"
    }
   ],
   "source": [
    "w"
   ]
  },
  {
   "cell_type": "code",
   "execution_count": 149,
   "metadata": {},
   "outputs": [],
   "source": [
    "import pystan"
   ]
  },
  {
   "cell_type": "code",
   "execution_count": 227,
   "metadata": {
    "colab": {},
    "colab_type": "code",
    "id": "42IESSJFkhH_",
    "outputId": "f277c285-17bd-4f06-e990-b0b6974dcf4b"
   },
   "outputs": [
    {
     "name": "stderr",
     "output_type": "stream",
     "text": [
      "INFO:pystan:COMPILING THE C++ CODE FOR MODEL anon_model_a600db5a8e2d18b62605068294eb492f NOW.\n"
     ]
    }
   ],
   "source": [
    "## Compile and collect data\n",
    "sm = pystan.StanModel(model_code=LDA_STAN)\n",
    "data={'I':I, 'J':J, 'K':K, 'C':C, 'alpha':alpha, 'beta':beta, 'MAX_J':np.max(J), 'W':w+1}"
   ]
  },
  {
   "cell_type": "code",
   "execution_count": 228,
   "metadata": {
    "colab": {},
    "colab_type": "code",
    "id": "6ha7wPzrkhIB",
    "outputId": "e7d5f799-1475-4594-9fe3-f8a643002232"
   },
   "outputs": [
    {
     "ename": "RuntimeError",
     "evalue": "Exception: mismatch in dimension declared and found in context; processing stage=data initialization; variable name=beta; position=0; dims declared=(30); dims found=(17741)  (in 'unknown file name' at line 8)\n",
     "output_type": "error",
     "traceback": [
      "\u001b[0;31m---------------------------------------------------------------------------\u001b[0m",
      "\u001b[0;31mRuntimeError\u001b[0m                              Traceback (most recent call last)",
      "\u001b[0;32m<ipython-input-228-faba36496b69>\u001b[0m in \u001b[0;36m<module>\u001b[0;34m\u001b[0m\n\u001b[1;32m      1\u001b[0m \u001b[0;31m## Sample with VB\u001b[0m\u001b[0;34m\u001b[0m\u001b[0;34m\u001b[0m\u001b[0;34m\u001b[0m\u001b[0m\n\u001b[0;32m----> 2\u001b[0;31m \u001b[0mfit\u001b[0m \u001b[0;34m=\u001b[0m \u001b[0msm\u001b[0m\u001b[0;34m.\u001b[0m\u001b[0mvb\u001b[0m\u001b[0;34m(\u001b[0m\u001b[0mdata\u001b[0m\u001b[0;34m=\u001b[0m\u001b[0mdata\u001b[0m\u001b[0;34m,\u001b[0m \u001b[0miter\u001b[0m\u001b[0;34m=\u001b[0m\u001b[0;36m10000\u001b[0m\u001b[0;34m,\u001b[0m \u001b[0malgorithm\u001b[0m\u001b[0;34m=\u001b[0m\u001b[0;34m\"meanfield\"\u001b[0m\u001b[0;34m,\u001b[0m \u001b[0melbo_samples\u001b[0m\u001b[0;34m=\u001b[0m\u001b[0;36m100\u001b[0m\u001b[0;34m,\u001b[0m \u001b[0mgrad_samples\u001b[0m\u001b[0;34m=\u001b[0m\u001b[0;36m20\u001b[0m\u001b[0;34m,\u001b[0m \u001b[0mseed\u001b[0m\u001b[0;34m=\u001b[0m\u001b[0;36m42\u001b[0m\u001b[0;34m,\u001b[0m \u001b[0mverbose\u001b[0m\u001b[0;34m=\u001b[0m\u001b[0;32mTrue\u001b[0m\u001b[0;34m)\u001b[0m\u001b[0;34m\u001b[0m\u001b[0;34m\u001b[0m\u001b[0m\n\u001b[0m",
      "\u001b[0;32m~/general_venv/lib/python3.7/site-packages/pystan/model.py\u001b[0m in \u001b[0;36mvb\u001b[0;34m(self, data, pars, iter, seed, init, sample_file, diagnostic_file, verbose, algorithm, **kwargs)\u001b[0m\n\u001b[1;32m    956\u001b[0m             \u001b[0;32mraise\u001b[0m \u001b[0mValueError\u001b[0m\u001b[0;34m(\u001b[0m\u001b[0;34m\"Algorithm must be one of {}\"\u001b[0m\u001b[0;34m.\u001b[0m\u001b[0mformat\u001b[0m\u001b[0;34m(\u001b[0m\u001b[0malgorithms\u001b[0m\u001b[0;34m)\u001b[0m\u001b[0;34m)\u001b[0m\u001b[0;34m\u001b[0m\u001b[0;34m\u001b[0m\u001b[0m\n\u001b[1;32m    957\u001b[0m         \u001b[0mseed\u001b[0m \u001b[0;34m=\u001b[0m \u001b[0mpystan\u001b[0m\u001b[0;34m.\u001b[0m\u001b[0mmisc\u001b[0m\u001b[0;34m.\u001b[0m\u001b[0m_check_seed\u001b[0m\u001b[0;34m(\u001b[0m\u001b[0mseed\u001b[0m\u001b[0;34m)\u001b[0m\u001b[0;34m\u001b[0m\u001b[0;34m\u001b[0m\u001b[0m\n\u001b[0;32m--> 958\u001b[0;31m         \u001b[0mfit\u001b[0m \u001b[0;34m=\u001b[0m \u001b[0mself\u001b[0m\u001b[0;34m.\u001b[0m\u001b[0mfit_class\u001b[0m\u001b[0;34m(\u001b[0m\u001b[0mdata\u001b[0m\u001b[0;34m,\u001b[0m \u001b[0mseed\u001b[0m\u001b[0;34m)\u001b[0m\u001b[0;34m\u001b[0m\u001b[0;34m\u001b[0m\u001b[0m\n\u001b[0m\u001b[1;32m    959\u001b[0m \u001b[0;34m\u001b[0m\u001b[0m\n\u001b[1;32m    960\u001b[0m         \u001b[0mm_pars\u001b[0m \u001b[0;34m=\u001b[0m \u001b[0mfit\u001b[0m\u001b[0;34m.\u001b[0m\u001b[0m_get_param_names\u001b[0m\u001b[0;34m(\u001b[0m\u001b[0;34m)\u001b[0m\u001b[0;34m\u001b[0m\u001b[0;34m\u001b[0m\u001b[0m\n",
      "\u001b[0;32mstanfit4anon_model_a600db5a8e2d18b62605068294eb492f_3950359745934041514.pyx\u001b[0m in \u001b[0;36mstanfit4anon_model_a600db5a8e2d18b62605068294eb492f_3950359745934041514.StanFit4Model.__cinit__\u001b[0;34m()\u001b[0m\n",
      "\u001b[0;31mRuntimeError\u001b[0m: Exception: mismatch in dimension declared and found in context; processing stage=data initialization; variable name=beta; position=0; dims declared=(30); dims found=(17741)  (in 'unknown file name' at line 8)\n"
     ]
    }
   ],
   "source": [
    "## Sample with VB\n",
    "fit = sm.vb(data=data, iter=10000, algorithm=\"meanfield\", elbo_samples=100, grad_samples=20, seed=42, verbose=True)"
   ]
  },
  {
   "cell_type": "code",
   "execution_count": 229,
   "metadata": {
    "scrolled": true
   },
   "outputs": [
    {
     "data": {
      "text/plain": [
       "{'I': 100,\n",
       " 'J': [200,\n",
       "  200,\n",
       "  200,\n",
       "  200,\n",
       "  200,\n",
       "  200,\n",
       "  200,\n",
       "  200,\n",
       "  200,\n",
       "  200,\n",
       "  179,\n",
       "  200,\n",
       "  200,\n",
       "  185,\n",
       "  200,\n",
       "  200,\n",
       "  200,\n",
       "  93,\n",
       "  154,\n",
       "  200,\n",
       "  167,\n",
       "  3,\n",
       "  200,\n",
       "  173,\n",
       "  200,\n",
       "  200,\n",
       "  200,\n",
       "  200,\n",
       "  109,\n",
       "  200,\n",
       "  161,\n",
       "  142,\n",
       "  200,\n",
       "  150,\n",
       "  133,\n",
       "  190,\n",
       "  200,\n",
       "  200,\n",
       "  200,\n",
       "  200,\n",
       "  144,\n",
       "  200,\n",
       "  200,\n",
       "  200,\n",
       "  111,\n",
       "  200,\n",
       "  200,\n",
       "  66,\n",
       "  200,\n",
       "  200,\n",
       "  200,\n",
       "  170,\n",
       "  200,\n",
       "  175,\n",
       "  49,\n",
       "  46,\n",
       "  200,\n",
       "  147,\n",
       "  54,\n",
       "  200,\n",
       "  200,\n",
       "  194,\n",
       "  200,\n",
       "  200,\n",
       "  172,\n",
       "  200,\n",
       "  154,\n",
       "  176,\n",
       "  158,\n",
       "  200,\n",
       "  200,\n",
       "  104,\n",
       "  200,\n",
       "  200,\n",
       "  200,\n",
       "  200,\n",
       "  126,\n",
       "  160,\n",
       "  200,\n",
       "  200,\n",
       "  45,\n",
       "  200,\n",
       "  191,\n",
       "  147,\n",
       "  72,\n",
       "  49,\n",
       "  133,\n",
       "  200,\n",
       "  104,\n",
       "  200,\n",
       "  78,\n",
       "  116,\n",
       "  141,\n",
       "  149,\n",
       "  200,\n",
       "  158,\n",
       "  184,\n",
       "  196,\n",
       "  118,\n",
       "  144],\n",
       " 'K': 3,\n",
       " 'C': 30,\n",
       " 'alpha': array([0.5, 0.5, 0.5]),\n",
       " 'beta': array([0.5, 0.5, 0.5, ..., 0.5, 0.5, 0.5]),\n",
       " 'MAX_J': 200,\n",
       " 'W': array([[ 2, 13, 13, ..., 13, 15, 17],\n",
       "        [ 8, 17,  4, ...,  8,  6, 29],\n",
       "        [11, 18,  2, ...,  4,  8, 12],\n",
       "        ...,\n",
       "        [23, 13, 24, ...,  1,  1,  1],\n",
       "        [10,  7, 10, ...,  1,  1,  1],\n",
       "        [14,  4, 11, ...,  1,  1,  1]])}"
      ]
     },
     "execution_count": 229,
     "metadata": {},
     "output_type": "execute_result"
    }
   ],
   "source": [
    "data"
   ]
  },
  {
   "cell_type": "markdown",
   "metadata": {
    "colab_type": "text",
    "id": "8MxkMdWukhID"
   },
   "source": [
    "Extract results from STAN:"
   ]
  },
  {
   "cell_type": "code",
   "execution_count": null,
   "metadata": {
    "colab": {},
    "colab_type": "code",
    "id": "tIeNRMy5khID"
   },
   "outputs": [],
   "source": [
    "theta_hat = pystan_utils.vb_extract_variable(fit, \"theta\", var_type=\"matrix\", dims=[I,K])\n",
    "phi_hat = pystan_utils.vb_extract_variable(fit, \"phi\", var_type=\"matrix\", dims=[K,C])"
   ]
  },
  {
   "cell_type": "markdown",
   "metadata": {
    "colab_type": "text",
    "id": "BZ1RqPaKkhIL"
   },
   "source": [
    "Compare estimated $\\hat{\\phi}$ with true values of $\\phi$ used to generate the data:"
   ]
  },
  {
   "cell_type": "code",
   "execution_count": null,
   "metadata": {
    "colab": {},
    "colab_type": "code",
    "id": "Wa-7T4NUkhIM",
    "outputId": "64b8990b-86ab-4f0f-a003-d36f7baf85c2"
   },
   "outputs": [],
   "source": [
    "np.argmax(phi, axis=0)"
   ]
  },
  {
   "cell_type": "code",
   "execution_count": null,
   "metadata": {
    "colab": {},
    "colab_type": "code",
    "id": "NHzDl0tskhIO",
    "outputId": "33fc4cee-9d37-4891-fe63-6ce44b8d8aad"
   },
   "outputs": [],
   "source": [
    "np.argmax(phi_hat, axis=0)"
   ]
  },
  {
   "cell_type": "markdown",
   "metadata": {
    "colab_type": "text",
    "id": "Krtc1mFJkhIQ"
   },
   "source": [
    "Notice anything interesting? Do the results match exactly? Remember that if we call \"topic 1\" -> \"topic 2\", and we call \"topic 2\" -> \"topic 1\", the resulting model is still the same! We just \"renamed\" the topics. This is another case of the problem of model identifiability...\n",
    "\n"
   ]
  },
  {
   "cell_type": "code",
   "execution_count": null,
   "metadata": {},
   "outputs": [],
   "source": []
  },
  {
   "cell_type": "code",
   "execution_count": null,
   "metadata": {},
   "outputs": [],
   "source": []
  },
  {
   "cell_type": "markdown",
   "metadata": {},
   "source": [
    "## testa ekki-stan modelið héðan; https://towardsdatascience.com/evaluate-topic-model-in-python-latent-dirichlet-allocation-lda-7d57484bb5d0"
   ]
  },
  {
   "cell_type": "code",
   "execution_count": 271,
   "metadata": {
    "scrolled": true
   },
   "outputs": [],
   "source": [
    "data_lemmatized = df['tf_idf'].to_list()"
   ]
  },
  {
   "cell_type": "code",
   "execution_count": 276,
   "metadata": {},
   "outputs": [
    {
     "name": "stderr",
     "output_type": "stream",
     "text": [
      "INFO:gensim.corpora.dictionary:adding document #0 to Dictionary(0 unique tokens: [])\n",
      "INFO:gensim.corpora.dictionary:built Dictionary(17740 unique tokens: ['120', '13', 'aboard', 'across', 'admire']...) from 600 documents (total 99378 corpus positions)\n"
     ]
    },
    {
     "name": "stdout",
     "output_type": "stream",
     "text": [
      "[[(0, 1), (1, 1), (2, 1), (3, 1), (4, 1), (5, 1), (6, 1), (7, 1), (8, 1), (9, 1), (10, 1), (11, 1), (12, 1), (13, 1), (14, 1), (15, 1), (16, 1), (17, 1), (18, 1), (19, 1), (20, 1), (21, 1), (22, 1), (23, 1), (24, 1), (25, 1), (26, 1), (27, 1), (28, 1), (29, 1), (30, 1), (31, 1), (32, 1), (33, 1), (34, 1), (35, 1), (36, 1), (37, 1), (38, 1), (39, 1), (40, 1), (41, 1), (42, 1), (43, 1), (44, 1), (45, 1), (46, 1), (47, 1), (48, 1), (49, 1), (50, 1), (51, 1), (52, 1), (53, 1), (54, 1), (55, 1), (56, 1), (57, 1), (58, 1), (59, 1), (60, 1), (61, 1), (62, 1), (63, 1), (64, 1), (65, 1), (66, 1), (67, 1), (68, 1), (69, 1), (70, 1), (71, 1), (72, 1), (73, 1), (74, 1), (75, 1), (76, 1), (77, 1), (78, 1), (79, 1), (80, 1), (81, 1), (82, 1), (83, 1), (84, 1), (85, 1), (86, 1), (87, 1), (88, 1), (89, 1), (90, 1), (91, 1), (92, 1), (93, 1), (94, 1), (95, 1), (96, 1), (97, 1), (98, 1), (99, 1), (100, 1), (101, 1), (102, 1), (103, 1), (104, 1), (105, 1), (106, 1), (107, 1), (108, 1), (109, 1), (110, 1), (111, 1), (112, 1), (113, 1), (114, 1), (115, 1), (116, 1), (117, 1), (118, 1), (119, 1), (120, 1), (121, 1), (122, 1), (123, 1), (124, 1), (125, 1), (126, 1), (127, 1), (128, 1), (129, 1), (130, 1), (131, 1), (132, 1), (133, 1), (134, 1), (135, 1), (136, 1), (137, 1), (138, 1), (139, 1), (140, 1), (141, 1), (142, 1), (143, 1), (144, 1), (145, 1), (146, 1), (147, 1), (148, 1), (149, 1), (150, 1), (151, 1), (152, 1), (153, 1), (154, 1), (155, 1), (156, 1), (157, 1), (158, 1), (159, 1), (160, 1), (161, 1), (162, 1), (163, 1), (164, 1), (165, 1), (166, 1), (167, 1), (168, 1), (169, 1), (170, 1), (171, 1), (172, 1), (173, 1), (174, 1), (175, 1), (176, 1), (177, 1), (178, 1), (179, 1), (180, 1), (181, 1), (182, 1), (183, 1), (184, 1), (185, 1), (186, 1), (187, 1), (188, 1), (189, 1), (190, 1), (191, 1), (192, 1), (193, 1), (194, 1), (195, 1), (196, 1), (197, 1), (198, 1), (199, 1)], [(18, 1), (31, 1), (79, 1), (200, 1), (201, 1), (202, 1), (203, 1), (204, 1), (205, 1), (206, 1), (207, 1), (208, 1), (209, 1), (210, 1), (211, 1), (212, 1), (213, 1), (214, 1), (215, 1), (216, 1), (217, 1), (218, 1), (219, 1), (220, 1), (221, 1), (222, 1), (223, 1), (224, 1), (225, 1), (226, 1), (227, 1), (228, 1), (229, 1), (230, 1), (231, 1), (232, 1), (233, 1), (234, 1), (235, 1), (236, 1), (237, 1), (238, 1), (239, 1), (240, 1), (241, 1), (242, 1), (243, 1), (244, 1), (245, 1), (246, 1), (247, 1), (248, 1), (249, 1), (250, 1), (251, 1), (252, 1), (253, 1), (254, 1), (255, 1), (256, 1), (257, 1), (258, 1), (259, 1), (260, 1), (261, 1), (262, 1), (263, 1), (264, 1), (265, 1), (266, 1), (267, 1), (268, 1), (269, 1), (270, 1), (271, 1), (272, 1), (273, 1), (274, 1), (275, 1), (276, 1), (277, 1), (278, 1), (279, 1), (280, 1), (281, 1), (282, 1), (283, 1), (284, 1), (285, 1), (286, 1), (287, 1), (288, 1), (289, 1), (290, 1), (291, 1), (292, 1), (293, 1), (294, 1), (295, 1), (296, 1), (297, 1), (298, 1), (299, 1), (300, 1), (301, 1), (302, 1), (303, 1), (304, 1), (305, 1), (306, 1), (307, 1), (308, 1), (309, 1), (310, 1), (311, 1), (312, 1), (313, 1), (314, 1), (315, 1), (316, 1), (317, 1), (318, 1), (319, 1), (320, 1), (321, 1), (322, 1), (323, 1), (324, 1), (325, 1), (326, 1), (327, 1), (328, 1), (329, 1), (330, 1), (331, 1), (332, 1), (333, 1), (334, 1), (335, 1), (336, 1), (337, 1), (338, 1), (339, 1), (340, 1), (341, 1), (342, 1), (343, 1), (344, 1), (345, 1), (346, 1), (347, 1), (348, 1), (349, 1), (350, 1), (351, 1), (352, 1), (353, 1), (354, 1), (355, 1), (356, 1), (357, 1), (358, 1), (359, 1), (360, 1), (361, 1), (362, 1), (363, 1), (364, 1), (365, 1), (366, 1), (367, 1), (368, 1), (369, 1), (370, 1), (371, 1), (372, 1), (373, 1), (374, 1), (375, 1), (376, 1), (377, 1), (378, 1), (379, 1), (380, 1), (381, 1), (382, 1), (383, 1), (384, 1), (385, 1), (386, 1), (387, 1), (388, 1), (389, 1), (390, 1), (391, 1), (392, 1), (393, 1), (394, 1), (395, 1), (396, 1)], [(18, 1), (50, 1), (73, 1), (92, 1), (99, 1), (128, 1), (226, 1), (258, 1), (287, 1), (294, 1), (307, 1), (309, 1), (312, 1), (325, 1), (357, 1), (363, 1), (365, 1), (377, 1), (397, 1), (398, 1), (399, 1), (400, 1), (401, 1), (402, 1), (403, 1), (404, 1), (405, 1), (406, 1), (407, 1), (408, 1), (409, 1), (410, 1), (411, 1), (412, 1), (413, 1), (414, 1), (415, 1), (416, 1), (417, 1), (418, 1), (419, 1), (420, 1), (421, 1), (422, 1), (423, 1), (424, 1), (425, 1), (426, 1), (427, 1), (428, 1), (429, 1), (430, 1), (431, 1), (432, 1), (433, 1), (434, 1), (435, 1), (436, 1), (437, 1), (438, 1), (439, 1), (440, 1), (441, 1), (442, 1), (443, 1), (444, 1), (445, 1), (446, 1), (447, 1), (448, 1), (449, 1), (450, 1), (451, 1), (452, 1), (453, 1), (454, 1), (455, 1), (456, 1), (457, 1), (458, 1), (459, 1), (460, 1), (461, 1), (462, 1), (463, 1), (464, 1), (465, 1), (466, 1), (467, 1), (468, 1), (469, 1), (470, 1), (471, 1), (472, 1), (473, 1), (474, 1), (475, 1), (476, 1), (477, 1), (478, 1), (479, 1), (480, 1), (481, 1), (482, 1), (483, 1), (484, 1), (485, 1), (486, 1), (487, 1), (488, 1), (489, 1), (490, 1), (491, 1), (492, 1), (493, 1), (494, 1), (495, 1), (496, 1), (497, 1), (498, 1), (499, 1), (500, 1), (501, 1), (502, 1), (503, 1), (504, 1), (505, 1), (506, 1), (507, 1), (508, 1), (509, 1), (510, 1), (511, 1), (512, 1), (513, 1), (514, 1), (515, 1), (516, 1), (517, 1), (518, 1), (519, 1), (520, 1), (521, 1), (522, 1), (523, 1), (524, 1), (525, 1), (526, 1), (527, 1), (528, 1), (529, 1), (530, 1), (531, 1), (532, 1), (533, 1), (534, 1), (535, 1), (536, 1), (537, 1), (538, 1), (539, 1), (540, 1), (541, 1), (542, 1), (543, 1), (544, 1), (545, 1), (546, 1), (547, 1), (548, 1), (549, 1), (550, 1), (551, 1), (552, 1), (553, 1), (554, 1), (555, 1), (556, 1), (557, 1), (558, 1), (559, 1), (560, 1), (561, 1), (562, 1), (563, 1), (564, 1), (565, 1), (566, 1), (567, 1), (568, 1), (569, 1), (570, 1), (571, 1), (572, 1), (573, 1), (574, 1), (575, 1), (576, 1), (577, 1), (578, 1)], [(11, 1), (17, 1), (51, 1), (62, 1), (68, 1), (73, 1), (90, 1), (99, 1), (117, 1), (136, 1), (142, 1), (146, 1), (181, 1), (208, 1), (211, 1), (246, 1), (247, 1), (284, 1), (312, 1), (315, 1), (324, 1), (330, 1), (368, 1), (371, 1), (389, 1), (413, 1), (444, 1), (453, 1), (466, 1), (483, 1), (488, 1), (526, 1), (549, 1), (558, 1), (561, 1), (579, 1), (580, 1), (581, 1), (582, 1), (583, 1), (584, 1), (585, 1), (586, 1), (587, 1), (588, 1), (589, 1), (590, 1), (591, 1), (592, 1), (593, 1), (594, 1), (595, 1), (596, 1), (597, 1), (598, 1), (599, 1), (600, 1), (601, 1), (602, 1), (603, 1), (604, 1), (605, 1), (606, 1), (607, 1), (608, 1), (609, 1), (610, 1), (611, 1), (612, 1), (613, 1), (614, 1), (615, 1), (616, 1), (617, 1), (618, 1), (619, 1), (620, 1), (621, 1), (622, 1), (623, 1), (624, 1), (625, 1), (626, 1), (627, 1), (628, 1), (629, 1), (630, 1), (631, 1), (632, 1), (633, 1), (634, 1), (635, 1), (636, 1), (637, 1), (638, 1), (639, 1), (640, 1), (641, 1), (642, 1), (643, 1), (644, 1), (645, 1), (646, 1), (647, 1), (648, 1), (649, 1), (650, 1), (651, 1), (652, 1), (653, 1), (654, 1), (655, 1), (656, 1), (657, 1), (658, 1), (659, 1), (660, 1), (661, 1), (662, 1), (663, 1), (664, 1), (665, 1), (666, 1), (667, 1), (668, 1), (669, 1), (670, 1), (671, 1), (672, 1), (673, 1), (674, 1), (675, 1), (676, 1), (677, 1), (678, 1), (679, 1), (680, 1), (681, 1), (682, 1), (683, 1), (684, 1), (685, 1), (686, 1), (687, 1), (688, 1), (689, 1), (690, 1), (691, 1), (692, 1), (693, 1), (694, 1), (695, 1), (696, 1), (697, 1), (698, 1), (699, 1), (700, 1), (701, 1), (702, 1), (703, 1), (704, 1), (705, 1), (706, 1), (707, 1), (708, 1), (709, 1), (710, 1), (711, 1), (712, 1), (713, 1), (714, 1), (715, 1), (716, 1), (717, 1), (718, 1), (719, 1), (720, 1), (721, 1), (722, 1), (723, 1), (724, 1), (725, 1), (726, 1), (727, 1), (728, 1), (729, 1), (730, 1), (731, 1), (732, 1), (733, 1), (734, 1), (735, 1), (736, 1), (737, 1), (738, 1), (739, 1), (740, 1), (741, 1), (742, 1), (743, 1)], [(11, 1), (18, 1), (62, 1), (73, 1), (86, 1), (92, 1), (99, 1), (138, 1), (161, 1), (179, 1), (180, 1), (188, 1), (228, 1), (278, 1), (321, 1), (322, 1), (331, 1), (347, 1), (348, 1), (368, 1), (371, 1), (389, 1), (433, 1), (461, 1), (466, 1), (477, 1), (486, 1), (493, 1), (535, 1), (537, 1), (541, 1), (549, 1), (587, 1), (611, 1), (636, 1), (705, 1), (739, 1), (744, 1), (745, 1), (746, 1), (747, 1), (748, 1), (749, 1), (750, 1), (751, 1), (752, 1), (753, 1), (754, 1), (755, 1), (756, 1), (757, 1), (758, 1), (759, 1), (760, 1), (761, 1), (762, 1), (763, 1), (764, 1), (765, 1), (766, 1), (767, 1), (768, 1), (769, 1), (770, 1), (771, 1), (772, 1), (773, 1), (774, 1), (775, 1), (776, 1), (777, 1), (778, 1), (779, 1), (780, 1), (781, 1), (782, 1), (783, 1), (784, 1), (785, 1), (786, 1), (787, 1), (788, 1), (789, 1), (790, 1), (791, 1), (792, 1), (793, 1), (794, 1), (795, 1), (796, 1), (797, 1), (798, 1), (799, 1), (800, 1), (801, 1), (802, 1), (803, 1), (804, 1), (805, 1), (806, 1), (807, 1), (808, 1), (809, 1), (810, 1), (811, 1), (812, 1), (813, 1), (814, 1), (815, 1), (816, 1), (817, 1), (818, 1), (819, 1), (820, 1), (821, 1), (822, 1), (823, 1), (824, 1), (825, 1), (826, 1), (827, 1), (828, 1), (829, 1), (830, 1), (831, 1), (832, 1), (833, 1), (834, 1), (835, 1), (836, 1), (837, 1), (838, 1), (839, 1), (840, 1), (841, 1), (842, 1), (843, 1), (844, 1), (845, 1), (846, 1), (847, 1), (848, 1), (849, 1), (850, 1), (851, 1), (852, 1), (853, 1), (854, 1), (855, 1), (856, 1), (857, 1), (858, 1), (859, 1), (860, 1), (861, 1), (862, 1), (863, 1), (864, 1), (865, 1), (866, 1), (867, 1), (868, 1), (869, 1), (870, 1), (871, 1), (872, 1), (873, 1), (874, 1), (875, 1), (876, 1), (877, 1), (878, 1), (879, 1), (880, 1), (881, 1), (882, 1), (883, 1), (884, 1), (885, 1), (886, 1), (887, 1), (888, 1), (889, 1), (890, 1), (891, 1), (892, 1), (893, 1), (894, 1), (895, 1), (896, 1), (897, 1), (898, 1), (899, 1), (900, 1), (901, 1), (902, 1), (903, 1), (904, 1), (905, 1), (906, 1)], [(7, 1), (18, 1), (46, 1), (50, 1), (73, 1), (83, 1), (92, 1), (96, 1), (110, 1), (113, 1), (191, 1), (210, 1), (212, 1), (230, 1), (245, 1), (282, 1), (297, 1), (322, 1), (347, 1), (371, 1), (389, 1), (411, 1), (434, 1), (440, 1), (453, 1), (477, 1), (493, 1), (528, 1), (577, 1), (593, 1), (631, 1), (636, 1), (639, 1), (659, 1), (662, 1), (663, 1), (666, 1), (669, 1), (678, 1), (705, 1), (734, 1), (753, 1), (775, 1), (777, 1), (781, 1), (793, 1), (811, 1), (812, 1), (814, 1), (820, 1), (872, 1), (874, 1), (906, 1), (907, 1), (908, 1), (909, 1), (910, 1), (911, 1), (912, 1), (913, 1), (914, 1), (915, 1), (916, 1), (917, 1), (918, 1), (919, 1), (920, 1), (921, 1), (922, 1), (923, 1), (924, 1), (925, 1), (926, 1), (927, 1), (928, 1), (929, 1), (930, 1), (931, 1), (932, 1), (933, 1), (934, 1), (935, 1), (936, 1), (937, 1), (938, 1), (939, 1), (940, 1), (941, 1), (942, 1), (943, 1), (944, 1), (945, 1), (946, 1), (947, 1), (948, 1), (949, 1), (950, 1), (951, 1), (952, 1), (953, 1), (954, 1), (955, 1), (956, 1), (957, 1), (958, 1), (959, 1), (960, 1), (961, 1), (962, 1), (963, 1), (964, 1), (965, 1), (966, 1), (967, 1), (968, 1), (969, 1), (970, 1), (971, 1), (972, 1), (973, 1), (974, 1), (975, 1), (976, 1), (977, 1), (978, 1), (979, 1), (980, 1), (981, 1), (982, 1), (983, 1), (984, 1), (985, 1), (986, 1), (987, 1), (988, 1), (989, 1), (990, 1), (991, 1), (992, 1), (993, 1), (994, 1), (995, 1), (996, 1), (997, 1), (998, 1), (999, 1), (1000, 1), (1001, 1), (1002, 1), (1003, 1), (1004, 1), (1005, 1), (1006, 1), (1007, 1), (1008, 1), (1009, 1), (1010, 1), (1011, 1), (1012, 1), (1013, 1), (1014, 1), (1015, 1), (1016, 1), (1017, 1), (1018, 1), (1019, 1), (1020, 1), (1021, 1), (1022, 1), (1023, 1), (1024, 1), (1025, 1), (1026, 1), (1027, 1), (1028, 1), (1029, 1), (1030, 1), (1031, 1), (1032, 1), (1033, 1), (1034, 1), (1035, 1), (1036, 1), (1037, 1), (1038, 1), (1039, 1), (1040, 1), (1041, 1), (1042, 1), (1043, 1), (1044, 1), (1045, 1), (1046, 1), (1047, 1), (1048, 1), (1049, 1), (1050, 1), (1051, 1), (1052, 1), (1053, 1)], [(3, 1), (68, 1), (71, 1), (108, 1), (110, 1), (277, 1), (346, 1), (398, 1), (404, 1), (409, 1), (431, 1), (435, 1), (440, 1), (549, 1), (561, 1), (668, 1), (674, 1), (718, 1), (741, 1), (745, 1), (755, 1), (832, 1), (841, 1), (954, 1), (992, 1), (995, 1), (1017, 1), (1054, 1), (1055, 1), (1056, 1), (1057, 1), (1058, 1), (1059, 1), (1060, 1), (1061, 1), (1062, 1), (1063, 1), (1064, 1), (1065, 1), (1066, 1), (1067, 1), (1068, 1), (1069, 1), (1070, 1), (1071, 1), (1072, 1), (1073, 1), (1074, 1), (1075, 1), (1076, 1), (1077, 1), (1078, 1), (1079, 1), (1080, 1), (1081, 1), (1082, 1), (1083, 1), (1084, 1), (1085, 1), (1086, 1), (1087, 1), (1088, 1), (1089, 1), (1090, 1), (1091, 1), (1092, 1), (1093, 1), (1094, 1), (1095, 1), (1096, 1), (1097, 1), (1098, 1), (1099, 1), (1100, 1), (1101, 1), (1102, 1), (1103, 1), (1104, 1), (1105, 1), (1106, 1), (1107, 1), (1108, 1), (1109, 1), (1110, 1), (1111, 1), (1112, 1), (1113, 1), (1114, 1), (1115, 1), (1116, 1), (1117, 1), (1118, 1), (1119, 1), (1120, 1), (1121, 1), (1122, 1), (1123, 1), (1124, 1), (1125, 1), (1126, 1), (1127, 1), (1128, 1), (1129, 1), (1130, 1), (1131, 1), (1132, 1), (1133, 1), (1134, 1), (1135, 1), (1136, 1), (1137, 1), (1138, 1), (1139, 1), (1140, 1), (1141, 1), (1142, 1), (1143, 1), (1144, 1), (1145, 1), (1146, 1), (1147, 1), (1148, 1), (1149, 1), (1150, 1), (1151, 1), (1152, 1), (1153, 1), (1154, 1), (1155, 1), (1156, 1), (1157, 1), (1158, 1), (1159, 1), (1160, 1), (1161, 1), (1162, 1), (1163, 1), (1164, 1), (1165, 1), (1166, 1), (1167, 1), (1168, 1), (1169, 1), (1170, 1), (1171, 1), (1172, 1), (1173, 1), (1174, 1), (1175, 1), (1176, 1), (1177, 1), (1178, 1), (1179, 1), (1180, 1), (1181, 1), (1182, 1), (1183, 1), (1184, 1), (1185, 1), (1186, 1), (1187, 1), (1188, 1), (1189, 1), (1190, 1), (1191, 1), (1192, 1), (1193, 1), (1194, 1), (1195, 1), (1196, 1), (1197, 1), (1198, 1), (1199, 1), (1200, 1), (1201, 1), (1202, 1), (1203, 1), (1204, 1), (1205, 1), (1206, 1), (1207, 1), (1208, 1), (1209, 1), (1210, 1), (1211, 1), (1212, 1), (1213, 1), (1214, 1), (1215, 1), (1216, 1), (1217, 1), (1218, 1), (1219, 1), (1220, 1), (1221, 1), (1222, 1), (1223, 1), (1224, 1), (1225, 1), (1226, 1)], [(18, 1), (62, 1), (85, 1), (99, 1), (248, 1), (258, 1), (298, 1), (309, 1), (347, 1), (352, 1), (371, 1), (379, 1), (389, 1), (403, 1), (433, 1), (440, 1), (453, 1), (466, 1), (477, 1), (488, 1), (514, 1), (588, 1), (594, 1), (626, 1), (644, 1), (651, 1), (656, 1), (660, 1), (661, 1), (662, 1), (669, 1), (698, 1), (702, 1), (712, 1), (742, 1), (802, 1), (814, 1), (826, 1), (855, 1), (864, 1), (873, 1), (916, 1), (954, 1), (964, 1), (992, 1), (998, 1), (1037, 1), (1044, 1), (1046, 1), (1055, 1), (1101, 1), (1183, 1), (1205, 1), (1217, 1), (1227, 1), (1228, 1), (1229, 1), (1230, 1), (1231, 1), (1232, 1), (1233, 1), (1234, 1), (1235, 1), (1236, 1), (1237, 1), (1238, 1), (1239, 1), (1240, 1), (1241, 1), (1242, 1), (1243, 1), (1244, 1), (1245, 1), (1246, 1), (1247, 1), (1248, 1), (1249, 1), (1250, 1), (1251, 1), (1252, 1), (1253, 1), (1254, 1), (1255, 1), (1256, 1), (1257, 1), (1258, 1), (1259, 1), (1260, 1), (1261, 1), (1262, 1), (1263, 1), (1264, 1), (1265, 1), (1266, 1), (1267, 1), (1268, 1), (1269, 1), (1270, 1), (1271, 1), (1272, 1), (1273, 1), (1274, 1), (1275, 1), (1276, 1), (1277, 1), (1278, 1), (1279, 1), (1280, 1), (1281, 1), (1282, 1), (1283, 1), (1284, 1), (1285, 1), (1286, 1), (1287, 1), (1288, 1), (1289, 1), (1290, 1), (1291, 1), (1292, 1), (1293, 1), (1294, 1), (1295, 1), (1296, 1), (1297, 1), (1298, 1), (1299, 1), (1300, 1), (1301, 1), (1302, 1), (1303, 1), (1304, 1), (1305, 1), (1306, 1), (1307, 1), (1308, 1), (1309, 1), (1310, 1), (1311, 1), (1312, 1), (1313, 1), (1314, 1), (1315, 1), (1316, 1), (1317, 1), (1318, 1), (1319, 1), (1320, 1), (1321, 1), (1322, 1), (1323, 1), (1324, 1), (1325, 1), (1326, 1), (1327, 1), (1328, 1), (1329, 1), (1330, 1), (1331, 1), (1332, 1), (1333, 1), (1334, 1), (1335, 1), (1336, 1), (1337, 1), (1338, 1), (1339, 1), (1340, 1), (1341, 1), (1342, 1), (1343, 1), (1344, 1), (1345, 1), (1346, 1), (1347, 1), (1348, 1), (1349, 1), (1350, 1), (1351, 1), (1352, 1), (1353, 1), (1354, 1), (1355, 1), (1356, 1), (1357, 1), (1358, 1), (1359, 1), (1360, 1), (1361, 1), (1362, 1), (1363, 1), (1364, 1), (1365, 1), (1366, 1), (1367, 1), (1368, 1), (1369, 1), (1370, 1), (1371, 1), (1372, 1)], [(92, 1), (99, 1), (112, 1), (113, 1), (135, 1), (142, 1), (158, 1), (163, 1), (297, 1), (306, 1), (308, 1), (309, 1), (311, 1), (333, 1), (389, 1), (403, 1), (404, 1), (427, 1), (440, 1), (444, 1), (447, 1), (467, 1), (514, 1), (585, 1), (588, 1), (616, 1), (644, 1), (645, 1), (655, 1), (656, 1), (722, 1), (729, 1), (758, 1), (768, 1), (812, 1), (821, 1), (825, 1), (837, 1), (859, 1), (865, 1), (875, 1), (905, 1), (917, 1), (927, 1), (936, 1), (950, 1), (951, 1), (958, 1), (1011, 1), (1025, 1), (1027, 1), (1046, 1), (1065, 1), (1147, 1), (1224, 1), (1234, 1), (1246, 1), (1275, 1), (1317, 1), (1318, 1), (1321, 1), (1329, 1), (1330, 1), (1371, 1), (1373, 1), (1374, 1), (1375, 1), (1376, 1), (1377, 1), (1378, 1), (1379, 1), (1380, 1), (1381, 1), (1382, 1), (1383, 1), (1384, 1), (1385, 1), (1386, 1), (1387, 1), (1388, 1), (1389, 1), (1390, 1), (1391, 1), (1392, 1), (1393, 1), (1394, 1), (1395, 1), (1396, 1), (1397, 1), (1398, 1), (1399, 1), (1400, 1), (1401, 1), (1402, 1), (1403, 1), (1404, 1), (1405, 1), (1406, 1), (1407, 1), (1408, 1), (1409, 1), (1410, 1), (1411, 1), (1412, 1), (1413, 1), (1414, 1), (1415, 1), (1416, 1), (1417, 1), (1418, 1), (1419, 1), (1420, 1), (1421, 1), (1422, 1), (1423, 1), (1424, 1), (1425, 1), (1426, 1), (1427, 1), (1428, 1), (1429, 1), (1430, 1), (1431, 1), (1432, 1), (1433, 1), (1434, 1), (1435, 1), (1436, 1), (1437, 1), (1438, 1), (1439, 1), (1440, 1), (1441, 1), (1442, 1), (1443, 1), (1444, 1), (1445, 1), (1446, 1), (1447, 1), (1448, 1), (1449, 1), (1450, 1), (1451, 1), (1452, 1), (1453, 1), (1454, 1), (1455, 1), (1456, 1), (1457, 1), (1458, 1), (1459, 1), (1460, 1), (1461, 1), (1462, 1), (1463, 1), (1464, 1), (1465, 1), (1466, 1), (1467, 1), (1468, 1), (1469, 1), (1470, 1), (1471, 1), (1472, 1), (1473, 1), (1474, 1), (1475, 1), (1476, 1), (1477, 1), (1478, 1), (1479, 1), (1480, 1), (1481, 1), (1482, 1), (1483, 1), (1484, 1), (1485, 1), (1486, 1), (1487, 1), (1488, 1), (1489, 1), (1490, 1), (1491, 1), (1492, 1), (1493, 1), (1494, 1), (1495, 1), (1496, 1), (1497, 1), (1498, 1), (1499, 1), (1500, 1), (1501, 1), (1502, 1), (1503, 1), (1504, 1), (1505, 1), (1506, 1), (1507, 1), (1508, 1)], [(11, 1), (17, 1), (18, 1), (28, 1), (42, 1), (57, 1), (73, 1), (85, 1), (96, 1), (99, 1), (113, 1), (117, 1), (141, 1), (178, 1), (226, 1), (245, 1), (258, 1), (299, 1), (309, 1), (354, 1), (368, 1), (413, 1), (427, 1), (483, 1), (488, 1), (499, 1), (503, 1), (504, 1), (555, 1), (584, 1), (586, 1), (605, 1), (633, 1), (635, 1), (643, 1), (645, 1), (646, 1), (652, 1), (656, 1), (658, 1), (666, 1), (677, 1), (698, 1), (705, 1), (709, 1), (720, 1), (738, 1), (740, 1), (782, 1), (812, 1), (825, 1), (866, 1), (905, 1), (937, 1), (986, 1), (994, 1), (1015, 1), (1046, 1), (1134, 1), (1233, 1), (1235, 1), (1305, 1), (1317, 1), (1330, 1), (1348, 1), (1365, 1), (1367, 1), (1369, 1), (1377, 1), (1412, 1), (1461, 1), (1500, 1), (1509, 1), (1510, 1), (1511, 1), (1512, 1), (1513, 1), (1514, 1), (1515, 1), (1516, 1), (1517, 1), (1518, 1), (1519, 1), (1520, 1), (1521, 1), (1522, 1), (1523, 1), (1524, 1), (1525, 1), (1526, 1), (1527, 1), (1528, 1), (1529, 1), (1530, 1), (1531, 1), (1532, 1), (1533, 1), (1534, 1), (1535, 1), (1536, 1), (1537, 1), (1538, 1), (1539, 1), (1540, 1), (1541, 1), (1542, 1), (1543, 1), (1544, 1), (1545, 1), (1546, 1), (1547, 1), (1548, 1), (1549, 1), (1550, 1), (1551, 1), (1552, 1), (1553, 1), (1554, 1), (1555, 1), (1556, 1), (1557, 1), (1558, 1), (1559, 1), (1560, 1), (1561, 1), (1562, 1), (1563, 1), (1564, 1), (1565, 1), (1566, 1), (1567, 1), (1568, 1), (1569, 1), (1570, 1), (1571, 1), (1572, 1), (1573, 1), (1574, 1), (1575, 1), (1576, 1), (1577, 1), (1578, 1), (1579, 1), (1580, 1), (1581, 1), (1582, 1), (1583, 1), (1584, 1), (1585, 1), (1586, 1), (1587, 1), (1588, 1), (1589, 1), (1590, 1), (1591, 1), (1592, 1), (1593, 1), (1594, 1), (1595, 1), (1596, 1), (1597, 1), (1598, 1), (1599, 1), (1600, 1), (1601, 1), (1602, 1), (1603, 1), (1604, 1), (1605, 1), (1606, 1), (1607, 1), (1608, 1), (1609, 1), (1610, 1), (1611, 1), (1612, 1), (1613, 1), (1614, 1), (1615, 1), (1616, 1), (1617, 1), (1618, 1), (1619, 1), (1620, 1), (1621, 1), (1622, 1), (1623, 1), (1624, 1), (1625, 1), (1626, 1), (1627, 1), (1628, 1), (1629, 1), (1630, 1), (1631, 1), (1632, 1), (1633, 1), (1634, 1), (1635, 1), (1636, 1)], [(11, 1), (18, 1), (65, 1), (68, 1), (76, 1), (83, 1), (85, 1), (113, 1), (222, 1), (256, 1), (292, 1), (323, 1), (342, 1), (347, 1), (352, 1), (355, 1), (367, 1), (371, 1), (404, 1), (457, 1), (494, 1), (503, 1), (529, 1), (552, 1), (571, 1), (581, 1), (583, 1), (591, 1), (605, 1), (644, 1), (651, 1), (659, 1), (661, 1), (663, 1), (665, 1), (677, 1), (705, 1), (712, 1), (720, 1), (732, 1), (735, 1), (739, 1), (809, 1), (812, 1), (848, 1), (850, 1), (872, 1), (882, 1), (905, 1), (929, 1), (946, 1), (979, 1), (986, 1), (1002, 1), (1005, 1), (1032, 1), (1175, 1), (1221, 1), (1233, 1), (1259, 1), (1262, 1), (1410, 1), (1419, 1), (1424, 1), (1453, 1), (1510, 1), (1567, 1), (1569, 1), (1570, 1), (1578, 1), (1619, 1), (1637, 1), (1638, 1), (1639, 1), (1640, 1), (1641, 1), (1642, 1), (1643, 1), (1644, 1), (1645, 1), (1646, 1), (1647, 1), (1648, 1), (1649, 1), (1650, 1), (1651, 1), (1652, 1), (1653, 1), (1654, 1), (1655, 1), (1656, 1), (1657, 1), (1658, 1), (1659, 1), (1660, 1), (1661, 1), (1662, 1), (1663, 1), (1664, 1), (1665, 1), (1666, 1), (1667, 1), (1668, 1), (1669, 1), (1670, 1), (1671, 1), (1672, 1), (1673, 1), (1674, 1), (1675, 1), (1676, 1), (1677, 1), (1678, 1), (1679, 1), (1680, 1), (1681, 1), (1682, 1), (1683, 1), (1684, 1), (1685, 1), (1686, 1), (1687, 1), (1688, 1), (1689, 1), (1690, 1), (1691, 1), (1692, 1), (1693, 1), (1694, 1), (1695, 1), (1696, 1), (1697, 1), (1698, 1), (1699, 1), (1700, 1), (1701, 1), (1702, 1), (1703, 1), (1704, 1), (1705, 1), (1706, 1), (1707, 1), (1708, 1), (1709, 1), (1710, 1), (1711, 1), (1712, 1), (1713, 1), (1714, 1), (1715, 1), (1716, 1), (1717, 1), (1718, 1), (1719, 1), (1720, 1), (1721, 1), (1722, 1), (1723, 1), (1724, 1), (1725, 1), (1726, 1), (1727, 1), (1728, 1), (1729, 1), (1730, 1), (1731, 1), (1732, 1), (1733, 1), (1734, 1), (1735, 1), (1736, 1), (1737, 1), (1738, 1), (1739, 1), (1740, 1), (1741, 1), (1742, 1), (1743, 1), (1744, 1)], [(66, 1), (115, 1), (135, 1), (146, 1), (158, 1), (181, 1), (285, 1), (361, 1), (389, 1), (440, 1), (654, 1), (682, 1), (708, 1), (730, 1), (734, 1), (736, 1), (990, 1), (1013, 1), (1045, 1), (1070, 1), (1107, 1), (1293, 1), (1297, 1), (1307, 1), (1313, 1), (1366, 1), (1484, 1), (1505, 1), (1518, 1), (1610, 1), (1621, 1), (1702, 1), (1705, 1), (1713, 1), (1745, 1), (1746, 1), (1747, 1), (1748, 1), (1749, 1), (1750, 1), (1751, 1), (1752, 1), (1753, 1), (1754, 1), (1755, 1), (1756, 1), (1757, 1), (1758, 1), (1759, 1), (1760, 1), (1761, 1), (1762, 1), (1763, 1), (1764, 1), (1765, 1), (1766, 1), (1767, 1), (1768, 1), (1769, 1), (1770, 1), (1771, 1), (1772, 1), (1773, 1), (1774, 1), (1775, 1), (1776, 1), (1777, 1), (1778, 1), (1779, 1), (1780, 1), (1781, 1), (1782, 1), (1783, 1), (1784, 1), (1785, 1), (1786, 1), (1787, 1), (1788, 1), (1789, 1), (1790, 1), (1791, 1), (1792, 1), (1793, 1), (1794, 1), (1795, 1), (1796, 1), (1797, 1), (1798, 1), (1799, 1), (1800, 1), (1801, 1), (1802, 1), (1803, 1), (1804, 1), (1805, 1), (1806, 1), (1807, 1), (1808, 1), (1809, 1), (1810, 1), (1811, 1), (1812, 1), (1813, 1), (1814, 1), (1815, 1), (1816, 1), (1817, 1), (1818, 1), (1819, 1), (1820, 1), (1821, 1), (1822, 1), (1823, 1), (1824, 1), (1825, 1), (1826, 1), (1827, 1), (1828, 1), (1829, 1), (1830, 1), (1831, 1), (1832, 1), (1833, 1), (1834, 1), (1835, 1), (1836, 1), (1837, 1), (1838, 1), (1839, 1), (1840, 1), (1841, 1), (1842, 1), (1843, 1), (1844, 1), (1845, 1), (1846, 1), (1847, 1), (1848, 1), (1849, 1), (1850, 1), (1851, 1), (1852, 1), (1853, 1), (1854, 1), (1855, 1), (1856, 1), (1857, 1), (1858, 1), (1859, 1), (1860, 1), (1861, 1), (1862, 1), (1863, 1), (1864, 1), (1865, 1), (1866, 1), (1867, 1), (1868, 1), (1869, 1), (1870, 1), (1871, 1), (1872, 1), (1873, 1), (1874, 1), (1875, 1), (1876, 1), (1877, 1), (1878, 1), (1879, 1), (1880, 1), (1881, 1), (1882, 1), (1883, 1), (1884, 1), (1885, 1), (1886, 1), (1887, 1), (1888, 1), (1889, 1), (1890, 1), (1891, 1), (1892, 1), (1893, 1), (1894, 1), (1895, 1), (1896, 1), (1897, 1), (1898, 1), (1899, 1), (1900, 1), (1901, 1), (1902, 1), (1903, 1), (1904, 1), (1905, 1), (1906, 1), (1907, 1), (1908, 1), (1909, 1), (1910, 1)], [(18, 1), (31, 1), (50, 1), (55, 1), (83, 1), (85, 1), (107, 1), (110, 1), (113, 1), (136, 1), (138, 1), (161, 1), (322, 1), (356, 1), (366, 1), (371, 1), (377, 1), (382, 1), (434, 1), (441, 1), (468, 1), (477, 1), (483, 1), (485, 1), (500, 1), (522, 1), (564, 1), (626, 1), (652, 1), (663, 1), (668, 1), (674, 1), (682, 1), (701, 1), (705, 1), (721, 1), (724, 1), (729, 1), (731, 1), (741, 1), (829, 1), (888, 1), (893, 1), (913, 1), (979, 1), (1002, 1), (1042, 1), (1065, 1), (1082, 1), (1101, 1), (1153, 1), (1203, 1), (1230, 1), (1271, 1), (1320, 1), (1357, 1), (1428, 1), (1445, 1), (1524, 1), (1646, 1), (1687, 1), (1723, 1), (1816, 1), (1875, 1), (1903, 1), (1911, 1), (1912, 1), (1913, 1), (1914, 1), (1915, 1), (1916, 1), (1917, 1), (1918, 1), (1919, 1), (1920, 1), (1921, 1), (1922, 1), (1923, 1), (1924, 1), (1925, 1), (1926, 1), (1927, 1), (1928, 1), (1929, 1), (1930, 1), (1931, 1), (1932, 1), (1933, 1), (1934, 1), (1935, 1), (1936, 1), (1937, 1), (1938, 1), (1939, 1), (1940, 1), (1941, 1), (1942, 1), (1943, 1), (1944, 1), (1945, 1), (1946, 1), (1947, 1), (1948, 1), (1949, 1), (1950, 1), (1951, 1), (1952, 1), (1953, 1), (1954, 1), (1955, 1), (1956, 1), (1957, 1), (1958, 1), (1959, 1), (1960, 1), (1961, 1), (1962, 1), (1963, 1), (1964, 1), (1965, 1), (1966, 1), (1967, 1), (1968, 1), (1969, 1), (1970, 1), (1971, 1), (1972, 1), (1973, 1), (1974, 1), (1975, 1), (1976, 1), (1977, 1), (1978, 1), (1979, 1), (1980, 1), (1981, 1), (1982, 1), (1983, 1), (1984, 1), (1985, 1), (1986, 1), (1987, 1), (1988, 1), (1989, 1), (1990, 1), (1991, 1), (1992, 1), (1993, 1), (1994, 1), (1995, 1), (1996, 1), (1997, 1), (1998, 1), (1999, 1), (2000, 1), (2001, 1), (2002, 1), (2003, 1), (2004, 1), (2005, 1), (2006, 1), (2007, 1), (2008, 1), (2009, 1), (2010, 1), (2011, 1), (2012, 1), (2013, 1), (2014, 1), (2015, 1), (2016, 1), (2017, 1), (2018, 1), (2019, 1), (2020, 1), (2021, 1), (2022, 1), (2023, 1), (2024, 1), (2025, 1), (2026, 1), (2027, 1), (2028, 1), (2029, 1), (2030, 1), (2031, 1), (2032, 1), (2033, 1), (2034, 1), (2035, 1), (2036, 1), (2037, 1), (2038, 1), (2039, 1), (2040, 1), (2041, 1), (2042, 1), (2043, 1), (2044, 1), (2045, 1)], [(18, 1), (40, 1), (62, 1), (78, 1), (85, 1), (113, 1), (128, 1), (136, 1), (140, 1), (167, 1), (192, 1), (208, 1), (226, 1), (246, 1), (258, 1), (287, 1), (294, 1), (296, 1), (299, 1), (306, 1), (307, 1), (308, 1), (309, 1), (326, 1), (332, 1), (337, 1), (347, 1), (364, 1), (365, 1), (373, 1), (393, 1), (404, 1), (422, 1), (447, 1), (460, 1), (492, 1), (514, 1), (532, 1), (539, 1), (559, 1), (590, 1), (593, 1), (644, 1), (652, 1), (655, 1), (665, 1), (666, 1), (702, 1), (707, 1), (713, 1), (731, 1), (746, 1), (792, 1), (826, 1), (829, 1), (856, 1), (864, 1), (906, 1), (911, 1), (916, 1), (921, 1), (954, 1), (963, 1), (979, 1), (997, 1), (1008, 1), (1032, 1), (1057, 1), (1130, 1), (1234, 1), (1253, 1), (1259, 1), (1267, 1), (1282, 1), (1314, 1), (1330, 1), (1340, 1), (1352, 1), (1366, 1), (1396, 1), (1412, 1), (1424, 1), (1446, 1), (1538, 1), (1567, 1), (1572, 1), (1586, 1), (1616, 1), (1626, 1), (1635, 1), (1648, 1), (1674, 1), (1684, 1), (1685, 1), (1688, 1), (1703, 1), (1727, 1), (1804, 1), (1968, 1), (1988, 1), (2040, 1), (2046, 1), (2047, 1), (2048, 1), (2049, 1), (2050, 1), (2051, 1), (2052, 1), (2053, 1), (2054, 1), (2055, 1), (2056, 1), (2057, 1), (2058, 1), (2059, 1), (2060, 1), (2061, 1), (2062, 1), (2063, 1), (2064, 1), (2065, 1), (2066, 1), (2067, 1), (2068, 1), (2069, 1), (2070, 1), (2071, 1), (2072, 1), (2073, 1), (2074, 1), (2075, 1), (2076, 1), (2077, 1), (2078, 1), (2079, 1), (2080, 1), (2081, 1), (2082, 1), (2083, 1), (2084, 1), (2085, 1), (2086, 1), (2087, 1), (2088, 1), (2089, 1), (2090, 1), (2091, 1), (2092, 1), (2093, 1), (2094, 1), (2095, 1), (2096, 1), (2097, 1), (2098, 1), (2099, 1), (2100, 1), (2101, 1), (2102, 1), (2103, 1), (2104, 1), (2105, 1), (2106, 1), (2107, 1), (2108, 1), (2109, 1), (2110, 1), (2111, 1), (2112, 1), (2113, 1), (2114, 1), (2115, 1), (2116, 1), (2117, 1), (2118, 1), (2119, 1), (2120, 1), (2121, 1), (2122, 1), (2123, 1), (2124, 1), (2125, 1), (2126, 1), (2127, 1), (2128, 1), (2129, 1)], [(19, 1), (56, 1), (140, 1), (278, 1), (301, 1), (316, 1), (325, 1), (351, 1), (399, 1), (413, 1), (473, 1), (488, 1), (503, 1), (504, 1), (544, 1), (575, 1), (576, 1), (609, 1), (610, 1), (611, 1), (628, 1), (667, 1), (669, 1), (710, 1), (734, 1), (739, 1), (848, 1), (905, 1), (906, 1), (911, 1), (994, 1), (1050, 1), (1095, 1), (1114, 1), (1117, 1), (1225, 1), (1269, 1), (1282, 1), (1321, 1), (1330, 1), (1375, 1), (1518, 1), (1560, 1), (1561, 1), (1639, 1), (1654, 1), (1673, 1), (1718, 1), (1757, 1), (1805, 1), (1876, 1), (1935, 1), (2017, 1), (2058, 1), (2130, 1), (2131, 1), (2132, 1), (2133, 1), (2134, 1), (2135, 1), (2136, 1), (2137, 1), (2138, 1), (2139, 1), (2140, 1), (2141, 1), (2142, 1), (2143, 1), (2144, 1), (2145, 1), (2146, 1), (2147, 1), (2148, 1), (2149, 1), (2150, 1), (2151, 1), (2152, 1), (2153, 1), (2154, 1), (2155, 1), (2156, 1), (2157, 1), (2158, 1), (2159, 1), (2160, 1), (2161, 1), (2162, 1), (2163, 1), (2164, 1), (2165, 1), (2166, 1), (2167, 1), (2168, 1), (2169, 1), (2170, 1), (2171, 1), (2172, 1), (2173, 1), (2174, 1), (2175, 1), (2176, 1), (2177, 1), (2178, 1), (2179, 1), (2180, 1), (2181, 1), (2182, 1), (2183, 1), (2184, 1), (2185, 1), (2186, 1), (2187, 1), (2188, 1), (2189, 1), (2190, 1), (2191, 1), (2192, 1), (2193, 1), (2194, 1), (2195, 1), (2196, 1), (2197, 1), (2198, 1), (2199, 1), (2200, 1), (2201, 1), (2202, 1), (2203, 1), (2204, 1), (2205, 1), (2206, 1), (2207, 1), (2208, 1), (2209, 1), (2210, 1), (2211, 1), (2212, 1), (2213, 1), (2214, 1), (2215, 1), (2216, 1), (2217, 1), (2218, 1), (2219, 1), (2220, 1), (2221, 1), (2222, 1), (2223, 1), (2224, 1), (2225, 1), (2226, 1), (2227, 1), (2228, 1), (2229, 1), (2230, 1), (2231, 1), (2232, 1), (2233, 1), (2234, 1), (2235, 1), (2236, 1), (2237, 1), (2238, 1), (2239, 1), (2240, 1), (2241, 1), (2242, 1), (2243, 1), (2244, 1), (2245, 1), (2246, 1), (2247, 1), (2248, 1), (2249, 1), (2250, 1), (2251, 1), (2252, 1), (2253, 1), (2254, 1), (2255, 1), (2256, 1), (2257, 1), (2258, 1), (2259, 1), (2260, 1), (2261, 1), (2262, 1), (2263, 1), (2264, 1), (2265, 1), (2266, 1), (2267, 1), (2268, 1), (2269, 1), (2270, 1), (2271, 1), (2272, 1), (2273, 1), (2274, 1), (2275, 1)], [(31, 1), (62, 1), (68, 1), (202, 1), (245, 1), (353, 1), (392, 1), (427, 1), (477, 1), (493, 1), (552, 1), (571, 1), (578, 1), (583, 1), (623, 1), (646, 1), (658, 1), (664, 1), (680, 1), (705, 1), (712, 1), (726, 1), (730, 1), (790, 1), (812, 1), (864, 1), (869, 1), (889, 1), (895, 1), (922, 1), (932, 1), (979, 1), (1012, 1), (1027, 1), (1034, 1), (1050, 1), (1065, 1), (1091, 1), (1119, 1), (1161, 1), (1183, 1), (1225, 1), (1243, 1), (1275, 1), (1280, 1), (1347, 1), (1357, 1), (1358, 1), (1381, 1), (1383, 1), (1421, 1), (1471, 1), (1485, 1), (1493, 1), (1575, 1), (1631, 1), (1706, 1), (1738, 1), (1748, 1), (1758, 1), (1946, 1), (1965, 1), (1976, 1), (1978, 1), (2056, 1), (2276, 1), (2277, 1), (2278, 1), (2279, 1), (2280, 1), (2281, 1), (2282, 1), (2283, 1), (2284, 1), (2285, 1), (2286, 1), (2287, 1), (2288, 1), (2289, 1), (2290, 1), (2291, 1), (2292, 1), (2293, 1), (2294, 1), (2295, 1), (2296, 1), (2297, 1), (2298, 1), (2299, 1), (2300, 1), (2301, 1), (2302, 1), (2303, 1), (2304, 1), (2305, 1), (2306, 1), (2307, 1), (2308, 1), (2309, 1), (2310, 1), (2311, 1), (2312, 1), (2313, 1), (2314, 1), (2315, 1), (2316, 1), (2317, 1), (2318, 1), (2319, 1), (2320, 1), (2321, 1), (2322, 1), (2323, 1), (2324, 1), (2325, 1), (2326, 1), (2327, 1), (2328, 1), (2329, 1), (2330, 1), (2331, 1), (2332, 1), (2333, 1), (2334, 1), (2335, 1), (2336, 1), (2337, 1), (2338, 1), (2339, 1), (2340, 1), (2341, 1), (2342, 1), (2343, 1), (2344, 1), (2345, 1), (2346, 1), (2347, 1), (2348, 1), (2349, 1), (2350, 1), (2351, 1), (2352, 1), (2353, 1), (2354, 1), (2355, 1), (2356, 1), (2357, 1), (2358, 1), (2359, 1), (2360, 1), (2361, 1), (2362, 1), (2363, 1), (2364, 1), (2365, 1), (2366, 1), (2367, 1), (2368, 1), (2369, 1), (2370, 1), (2371, 1), (2372, 1), (2373, 1), (2374, 1), (2375, 1), (2376, 1), (2377, 1), (2378, 1), (2379, 1), (2380, 1), (2381, 1), (2382, 1), (2383, 1), (2384, 1), (2385, 1), (2386, 1), (2387, 1), (2388, 1), (2389, 1), (2390, 1), (2391, 1), (2392, 1), (2393, 1), (2394, 1), (2395, 1), (2396, 1), (2397, 1), (2398, 1), (2399, 1), (2400, 1), (2401, 1), (2402, 1), (2403, 1), (2404, 1), (2405, 1), (2406, 1), (2407, 1), (2408, 1), (2409, 1), (2410, 1)], [(3, 1), (58, 1), (68, 1), (129, 1), (290, 1), (324, 1), (366, 1), (367, 1), (368, 1), (382, 1), (413, 1), (415, 1), (424, 1), (488, 1), (503, 1), (504, 1), (544, 1), (554, 1), (560, 1), (576, 1), (585, 1), (606, 1), (607, 1), (609, 1), (616, 1), (705, 1), (707, 1), (713, 1), (781, 1), (837, 1), (951, 1), (1008, 1), (1020, 1), (1050, 1), (1071, 1), (1092, 1), (1095, 1), (1098, 1), (1113, 1), (1124, 1), (1158, 1), (1194, 1), (1277, 1), (1325, 1), (1351, 1), (1358, 1), (1376, 1), (1410, 1), (1434, 1), (1525, 1), (1572, 1), (1583, 1), (1598, 1), (1642, 1), (1687, 1), (1690, 1), (1702, 1), (1772, 1), (1858, 1), (1911, 1), (1939, 1), (1968, 1), (2006, 1), (2035, 1), (2092, 1), (2116, 1), (2218, 1), (2262, 1), (2318, 1), (2323, 1), (2356, 1), (2411, 1), (2412, 1), (2413, 1), (2414, 1), (2415, 1), (2416, 1), (2417, 1), (2418, 1), (2419, 1), (2420, 1), (2421, 1), (2422, 1), (2423, 1), (2424, 1), (2425, 1), (2426, 1), (2427, 1), (2428, 1), (2429, 1), (2430, 1), (2431, 1), (2432, 1), (2433, 1), (2434, 1), (2435, 1), (2436, 1), (2437, 1), (2438, 1), (2439, 1), (2440, 1), (2441, 1), (2442, 1), (2443, 1), (2444, 1), (2445, 1), (2446, 1), (2447, 1), (2448, 1), (2449, 1), (2450, 1), (2451, 1), (2452, 1), (2453, 1), (2454, 1), (2455, 1), (2456, 1), (2457, 1), (2458, 1), (2459, 1), (2460, 1), (2461, 1), (2462, 1), (2463, 1), (2464, 1), (2465, 1), (2466, 1), (2467, 1), (2468, 1), (2469, 1), (2470, 1), (2471, 1), (2472, 1), (2473, 1), (2474, 1), (2475, 1), (2476, 1), (2477, 1), (2478, 1), (2479, 1), (2480, 1), (2481, 1), (2482, 1), (2483, 1), (2484, 1), (2485, 1), (2486, 1), (2487, 1), (2488, 1), (2489, 1), (2490, 1), (2491, 1), (2492, 1), (2493, 1), (2494, 1), (2495, 1), (2496, 1), (2497, 1), (2498, 1), (2499, 1), (2500, 1), (2501, 1), (2502, 1), (2503, 1), (2504, 1), (2505, 1), (2506, 1), (2507, 1), (2508, 1), (2509, 1), (2510, 1), (2511, 1), (2512, 1), (2513, 1), (2514, 1), (2515, 1), (2516, 1), (2517, 1), (2518, 1), (2519, 1), (2520, 1), (2521, 1), (2522, 1), (2523, 1), (2524, 1), (2525, 1), (2526, 1), (2527, 1), (2528, 1), (2529, 1), (2530, 1), (2531, 1), (2532, 1), (2533, 1), (2534, 1), (2535, 1), (2536, 1), (2537, 1), (2538, 1), (2539, 1)], [(31, 1), (90, 1), (289, 1), (371, 1), (413, 1), (438, 1), (454, 1), (457, 1), (485, 1), (488, 1), (494, 1), (503, 1), (598, 1), (638, 1), (665, 1), (712, 1), (721, 1), (723, 1), (738, 1), (800, 1), (837, 1), (850, 1), (874, 1), (941, 1), (964, 1), (1032, 1), (1198, 1), (1329, 1), (1340, 1), (1347, 1), (1357, 1), (1572, 1), (1582, 1), (1583, 1), (1621, 1), (1655, 1), (1674, 1), (1685, 1), (1757, 1), (1759, 1), (2027, 1), (2072, 1), (2078, 1), (2177, 1), (2210, 1), (2457, 1), (2530, 1), (2540, 1), (2541, 1), (2542, 1), (2543, 1), (2544, 1), (2545, 1), (2546, 1), (2547, 1), (2548, 1), (2549, 1), (2550, 1), (2551, 1), (2552, 1), (2553, 1), (2554, 1), (2555, 1), (2556, 1), (2557, 1), (2558, 1), (2559, 1), (2560, 1), (2561, 1), (2562, 1), (2563, 1), (2564, 1), (2565, 1), (2566, 1), (2567, 1), (2568, 1), (2569, 1), (2570, 1), (2571, 1), (2572, 1), (2573, 1), (2574, 1), (2575, 1), (2576, 1), (2577, 1), (2578, 1), (2579, 1), (2580, 1), (2581, 1), (2582, 1), (2583, 1), (2584, 1), (2585, 1)], [(18, 1), (21, 1), (68, 1), (71, 1), (113, 1), (120, 1), (176, 1), (202, 1), (208, 1), (298, 1), (337, 1), (367, 1), (382, 1), (396, 1), (407, 1), (432, 1), (483, 1), (493, 1), (583, 1), (594, 1), (596, 1), (604, 1), (627, 1), (633, 1), (656, 1), (658, 1), (671, 1), (686, 1), (705, 1), (710, 1), (712, 1), (780, 1), (812, 1), (835, 1), (837, 1), (864, 1), (888, 1), (913, 1), (937, 1), (959, 1), (963, 1), (970, 1), (979, 1), (987, 1), (1001, 1), (1032, 1), (1046, 1), (1050, 1), (1143, 1), (1179, 1), (1180, 1), (1198, 1), (1205, 1), (1234, 1), (1238, 1), (1269, 1), (1282, 1), (1295, 1), (1349, 1), (1398, 1), (1472, 1), (1479, 1), (1509, 1), (1524, 1), (1538, 1), (1543, 1), (1568, 1), (1586, 1), (1594, 1), (1626, 1), (1647, 1), (1650, 1), (1660, 1), (1674, 1), (1681, 1), (1685, 1), (1695, 1), (1758, 1), (1804, 1), (1988, 1), (1993, 1), (2067, 1), (2143, 1), (2450, 1), (2531, 1), (2583, 1), (2584, 1), (2586, 1), (2587, 1), (2588, 1), (2589, 1), (2590, 1), (2591, 1), (2592, 1), (2593, 1), (2594, 1), (2595, 1), (2596, 1), (2597, 1), (2598, 1), (2599, 1), (2600, 1), (2601, 1), (2602, 1), (2603, 1), (2604, 1), (2605, 1), (2606, 1), (2607, 1), (2608, 1), (2609, 1), (2610, 1), (2611, 1), (2612, 1), (2613, 1), (2614, 1), (2615, 1), (2616, 1), (2617, 1), (2618, 1), (2619, 1), (2620, 1), (2621, 1), (2622, 1), (2623, 1), (2624, 1), (2625, 1), (2626, 1), (2627, 1), (2628, 1), (2629, 1), (2630, 1), (2631, 1), (2632, 1), (2633, 1), (2634, 1), (2635, 1), (2636, 1), (2637, 1), (2638, 1), (2639, 1), (2640, 1), (2641, 1), (2642, 1), (2643, 1), (2644, 1), (2645, 1), (2646, 1), (2647, 1), (2648, 1), (2649, 1), (2650, 1), (2651, 1), (2652, 1)], [(18, 1), (51, 1), (68, 1), (84, 1), (85, 1), (95, 1), (107, 1), (117, 1), (128, 1), (140, 1), (151, 1), (154, 1), (195, 1), (248, 1), (258, 1), (368, 1), (406, 1), (431, 1), (447, 1), (477, 1), (479, 1), (588, 1), (616, 1), (646, 1), (649, 1), (657, 1), (690, 1), (698, 1), (705, 1), (720, 1), (734, 1), (743, 1), (775, 1), (781, 1), (805, 1), (813, 1), (821, 1), (826, 1), (866, 1), (914, 1), (958, 1), (966, 1), (979, 1), (1008, 1), (1016, 1), (1045, 1), (1057, 1), (1172, 1), (1188, 1), (1217, 1), (1218, 1), (1251, 1), (1261, 1), (1319, 1), (1329, 1), (1338, 1), (1345, 1), (1356, 1), (1360, 1), (1422, 1), (1445, 1), (1479, 1), (1508, 1), (1509, 1), (1513, 1), (1514, 1), (1531, 1), (1539, 1), (1560, 1), (1636, 1), (1653, 1), (1705, 1), (1733, 1), (1760, 1), (1826, 1), (1939, 1), (1961, 1), (2020, 1), (2030, 1), (2051, 1), (2078, 1), (2090, 1), (2095, 1), (2102, 1), (2120, 1), (2142, 1), (2157, 1), (2245, 1), (2317, 1), (2319, 1), (2337, 1), (2449, 1), (2477, 1), (2488, 1), (2563, 1), (2576, 1), (2583, 1), (2617, 1), (2653, 1), (2654, 1), (2655, 1), (2656, 1), (2657, 1), (2658, 1), (2659, 1), (2660, 1), (2661, 1), (2662, 1), (2663, 1), (2664, 1), (2665, 1), (2666, 1), (2667, 1), (2668, 1), (2669, 1), (2670, 1), (2671, 1), (2672, 1), (2673, 1), (2674, 1), (2675, 1), (2676, 1), (2677, 1), (2678, 1), (2679, 1), (2680, 1), (2681, 1), (2682, 1), (2683, 1), (2684, 1), (2685, 1), (2686, 1), (2687, 1), (2688, 1), (2689, 1), (2690, 1), (2691, 1), (2692, 1), (2693, 1), (2694, 1), (2695, 1), (2696, 1), (2697, 1), (2698, 1), (2699, 1), (2700, 1), (2701, 1), (2702, 1), (2703, 1), (2704, 1), (2705, 1), (2706, 1), (2707, 1), (2708, 1), (2709, 1), (2710, 1), (2711, 1), (2712, 1), (2713, 1), (2714, 1), (2715, 1), (2716, 1), (2717, 1), (2718, 1), (2719, 1), (2720, 1), (2721, 1), (2722, 1), (2723, 1), (2724, 1), (2725, 1), (2726, 1), (2727, 1), (2728, 1), (2729, 1), (2730, 1), (2731, 1), (2732, 1), (2733, 1), (2734, 1), (2735, 1), (2736, 1), (2737, 1), (2738, 1), (2739, 1), (2740, 1), (2741, 1), (2742, 1), (2743, 1), (2744, 1), (2745, 1), (2746, 1), (2747, 1), (2748, 1), (2749, 1), (2750, 1), (2751, 1), (2752, 1), (2753, 1), (2754, 1)]]\n"
     ]
    }
   ],
   "source": [
    "data_lemmatized \n",
    "\n",
    "import gensim.corpora as corpora\n",
    "# Create Dictionary\n",
    "id2word = corpora.Dictionary(data_lemmatized)\n",
    "# Create Corpus\n",
    "texts = data_lemmatized\n",
    "# Term Document Frequency\n",
    "corpus = [id2word.doc2bow(text) for text in texts]\n",
    "# View\n",
    "print(corpus[:20])"
   ]
  },
  {
   "cell_type": "markdown",
   "metadata": {},
   "source": [
    "\"Gensim creates a unique id for each word in the document. The produced corpus shown above is a mapping of (word_id, word_frequency). For example, (0, 7) above implies, word id 0 occurs seven times in the first document.\""
   ]
  },
  {
   "cell_type": "code",
   "execution_count": 278,
   "metadata": {},
   "outputs": [],
   "source": [
    "import gensim"
   ]
  },
  {
   "cell_type": "code",
   "execution_count": 279,
   "metadata": {},
   "outputs": [
    {
     "name": "stderr",
     "output_type": "stream",
     "text": [
      "INFO:gensim.models.ldamodel:using symmetric alpha at 0.1\n",
      "INFO:gensim.models.ldamodel:using symmetric eta at 0.1\n",
      "INFO:gensim.models.ldamodel:using serial LDA version on this node\n",
      "INFO:gensim.models.ldamulticore:running online LDA training, 10 topics, 10 passes over the supplied corpus of 600 documents, updating every 300 documents, evaluating every ~600 documents, iterating 50x with a convergence threshold of 0.001000\n",
      "INFO:gensim.models.ldamulticore:training LDA model using 3 processes\n",
      "INFO:gensim.models.ldamulticore:PROGRESS: pass 0, dispatched chunk #0 = documents up to #100/600, outstanding queue size 1\n",
      "INFO:gensim.models.ldamulticore:PROGRESS: pass 0, dispatched chunk #1 = documents up to #200/600, outstanding queue size 2\n",
      "INFO:gensim.models.ldamulticore:PROGRESS: pass 0, dispatched chunk #2 = documents up to #300/600, outstanding queue size 3\n",
      "INFO:gensim.models.ldamulticore:PROGRESS: pass 0, dispatched chunk #3 = documents up to #400/600, outstanding queue size 4\n",
      "INFO:gensim.models.ldamulticore:PROGRESS: pass 0, dispatched chunk #4 = documents up to #500/600, outstanding queue size 5\n",
      "INFO:gensim.models.ldamulticore:PROGRESS: pass 0, dispatched chunk #5 = documents up to #600/600, outstanding queue size 6\n",
      "INFO:gensim.models.ldamodel:merging changes from 300 documents into a model of 600 documents\n",
      "INFO:gensim.models.ldamodel:topic #6 (0.100): 0.003*\"bart\" + 0.003*\"lisa\" + 0.002*\"marge\" + 0.002*\"homer\" + 0.002*\"springfield\" + 0.002*\"mr\" + 0.002*\"time\" + 0.002*\"flanders\" + 0.002*\"family\" + 0.001*\"however\"\n",
      "INFO:gensim.models.ldamodel:topic #3 (0.100): 0.003*\"homer\" + 0.002*\"family\" + 0.002*\"lisa\" + 0.002*\"bart\" + 0.002*\"springfield\" + 0.002*\"marge\" + 0.002*\"gets\" + 0.002*\"tells\" + 0.001*\"help\" + 0.001*\"day\"\n",
      "INFO:gensim.models.ldamodel:topic #0 (0.100): 0.003*\"marge\" + 0.002*\"lisa\" + 0.002*\"bart\" + 0.002*\"homer\" + 0.002*\"family\" + 0.002*\"kids\" + 0.002*\"get\" + 0.002*\"tells\" + 0.002*\"go\" + 0.001*\"day\"\n",
      "INFO:gensim.models.ldamodel:topic #1 (0.100): 0.003*\"homer\" + 0.003*\"bart\" + 0.003*\"marge\" + 0.002*\"lisa\" + 0.002*\"family\" + 0.002*\"back\" + 0.002*\"gets\" + 0.002*\"tries\" + 0.002*\"night\" + 0.002*\"home\"\n",
      "INFO:gensim.models.ldamodel:topic #4 (0.100): 0.002*\"homer\" + 0.002*\"family\" + 0.002*\"springfield\" + 0.002*\"bart\" + 0.001*\"ends\" + 0.001*\"get\" + 0.001*\"krusty\" + 0.001*\"school\" + 0.001*\"marge\" + 0.001*\"new\"\n",
      "INFO:gensim.models.ldamodel:topic diff=4.750407, rho=1.000000\n",
      "INFO:gensim.models.ldamodel:-11.142 per-word bound, 2260.2 perplexity estimate based on a held-out corpus of 100 documents with 15810 words\n",
      "INFO:gensim.models.ldamodel:merging changes from 300 documents into a model of 600 documents\n",
      "INFO:gensim.models.ldamodel:topic #6 (0.100): 0.003*\"bart\" + 0.003*\"lisa\" + 0.002*\"marge\" + 0.002*\"homer\" + 0.002*\"springfield\" + 0.002*\"time\" + 0.002*\"mr\" + 0.002*\"back\" + 0.002*\"family\" + 0.001*\"burns\"\n",
      "INFO:gensim.models.ldamodel:topic #0 (0.100): 0.003*\"marge\" + 0.003*\"homer\" + 0.003*\"lisa\" + 0.003*\"bart\" + 0.002*\"get\" + 0.002*\"go\" + 0.002*\"takes\" + 0.002*\"family\" + 0.002*\"kids\" + 0.002*\"tells\"\n",
      "INFO:gensim.models.ldamodel:topic #2 (0.100): 0.003*\"homer\" + 0.002*\"bart\" + 0.002*\"lisa\" + 0.002*\"springfield\" + 0.002*\"marge\" + 0.002*\"family\" + 0.002*\"however\" + 0.002*\"home\" + 0.002*\"day\" + 0.002*\"back\"\n",
      "INFO:gensim.models.ldamodel:topic #5 (0.100): 0.003*\"homer\" + 0.003*\"marge\" + 0.003*\"bart\" + 0.003*\"lisa\" + 0.003*\"family\" + 0.002*\"springfield\" + 0.002*\"however\" + 0.002*\"go\" + 0.002*\"tells\" + 0.002*\"simpsons\"\n",
      "INFO:gensim.models.ldamodel:topic #1 (0.100): 0.004*\"homer\" + 0.003*\"marge\" + 0.003*\"bart\" + 0.003*\"lisa\" + 0.002*\"back\" + 0.002*\"gets\" + 0.002*\"plans\" + 0.002*\"home\" + 0.002*\"new\" + 0.002*\"burns\"\n",
      "INFO:gensim.models.ldamodel:topic diff=2.156518, rho=0.500000\n",
      "INFO:gensim.models.ldamodel:-9.930 per-word bound, 975.7 perplexity estimate based on a held-out corpus of 100 documents with 15810 words\n",
      "INFO:gensim.models.ldamulticore:PROGRESS: pass 1, dispatched chunk #0 = documents up to #100/600, outstanding queue size 1\n",
      "INFO:gensim.models.ldamulticore:PROGRESS: pass 1, dispatched chunk #1 = documents up to #200/600, outstanding queue size 2\n",
      "INFO:gensim.models.ldamulticore:PROGRESS: pass 1, dispatched chunk #2 = documents up to #300/600, outstanding queue size 3\n",
      "INFO:gensim.models.ldamulticore:PROGRESS: pass 1, dispatched chunk #3 = documents up to #400/600, outstanding queue size 4\n",
      "INFO:gensim.models.ldamulticore:PROGRESS: pass 1, dispatched chunk #4 = documents up to #500/600, outstanding queue size 5\n",
      "INFO:gensim.models.ldamulticore:PROGRESS: pass 1, dispatched chunk #5 = documents up to #600/600, outstanding queue size 6\n",
      "INFO:gensim.models.ldamodel:merging changes from 300 documents into a model of 600 documents\n",
      "INFO:gensim.models.ldamodel:topic #7 (0.100): 0.002*\"lisa\" + 0.002*\"bart\" + 0.002*\"homer\" + 0.001*\"however\" + 0.001*\"home\" + 0.001*\"springfield\" + 0.001*\"marge\" + 0.001*\"family\" + 0.001*\"due\" + 0.001*\"burns\"\n",
      "INFO:gensim.models.ldamodel:topic #1 (0.100): 0.003*\"homer\" + 0.003*\"bart\" + 0.003*\"marge\" + 0.003*\"lisa\" + 0.002*\"back\" + 0.002*\"springfield\" + 0.002*\"gets\" + 0.002*\"family\" + 0.002*\"home\" + 0.002*\"get\"\n",
      "INFO:gensim.models.ldamodel:topic #6 (0.100): 0.003*\"bart\" + 0.003*\"lisa\" + 0.002*\"marge\" + 0.002*\"homer\" + 0.002*\"time\" + 0.002*\"springfield\" + 0.002*\"mr\" + 0.002*\"family\" + 0.002*\"burns\" + 0.001*\"go\"\n",
      "INFO:gensim.models.ldamodel:topic #5 (0.100): 0.003*\"homer\" + 0.003*\"marge\" + 0.003*\"bart\" + 0.003*\"lisa\" + 0.003*\"family\" + 0.002*\"springfield\" + 0.002*\"however\" + 0.002*\"simpsons\" + 0.002*\"tells\" + 0.002*\"tries\"\n",
      "INFO:gensim.models.ldamodel:topic #3 (0.100): 0.003*\"homer\" + 0.002*\"family\" + 0.002*\"marge\" + 0.002*\"lisa\" + 0.002*\"bart\" + 0.002*\"gets\" + 0.002*\"springfield\" + 0.002*\"tells\" + 0.002*\"take\" + 0.002*\"goes\"\n",
      "INFO:gensim.models.ldamodel:topic diff=0.783529, rho=0.353553\n",
      "INFO:gensim.models.ldamodel:-10.087 per-word bound, 1087.4 perplexity estimate based on a held-out corpus of 100 documents with 15810 words\n",
      "INFO:gensim.models.ldamodel:merging changes from 300 documents into a model of 600 documents\n",
      "INFO:gensim.models.ldamodel:topic #3 (0.100): 0.003*\"homer\" + 0.002*\"family\" + 0.002*\"marge\" + 0.002*\"bart\" + 0.002*\"gets\" + 0.002*\"lisa\" + 0.002*\"tells\" + 0.002*\"springfield\" + 0.002*\"take\" + 0.002*\"goes\"\n",
      "INFO:gensim.models.ldamodel:topic #2 (0.100): 0.003*\"homer\" + 0.002*\"bart\" + 0.002*\"lisa\" + 0.002*\"springfield\" + 0.002*\"marge\" + 0.002*\"family\" + 0.002*\"school\" + 0.002*\"home\" + 0.002*\"finds\" + 0.002*\"tells\"\n",
      "INFO:gensim.models.ldamodel:topic #0 (0.100): 0.003*\"marge\" + 0.003*\"lisa\" + 0.003*\"bart\" + 0.003*\"homer\" + 0.002*\"get\" + 0.002*\"family\" + 0.002*\"takes\" + 0.002*\"however\" + 0.002*\"go\" + 0.002*\"take\"\n",
      "INFO:gensim.models.ldamodel:topic #8 (0.100): 0.003*\"bart\" + 0.003*\"marge\" + 0.003*\"homer\" + 0.002*\"lisa\" + 0.002*\"however\" + 0.002*\"school\" + 0.002*\"tells\" + 0.002*\"springfield\" + 0.002*\"home\" + 0.002*\"get\"\n",
      "INFO:gensim.models.ldamodel:topic #1 (0.100): 0.003*\"homer\" + 0.003*\"bart\" + 0.003*\"marge\" + 0.003*\"lisa\" + 0.002*\"back\" + 0.002*\"new\" + 0.002*\"gets\" + 0.002*\"plans\" + 0.002*\"get\" + 0.002*\"springfield\"\n",
      "INFO:gensim.models.ldamodel:topic diff=0.794628, rho=0.353553\n",
      "INFO:gensim.models.ldamodel:-9.489 per-word bound, 718.8 perplexity estimate based on a held-out corpus of 100 documents with 15810 words\n",
      "INFO:gensim.models.ldamulticore:PROGRESS: pass 2, dispatched chunk #0 = documents up to #100/600, outstanding queue size 1\n",
      "INFO:gensim.models.ldamulticore:PROGRESS: pass 2, dispatched chunk #1 = documents up to #200/600, outstanding queue size 2\n",
      "INFO:gensim.models.ldamulticore:PROGRESS: pass 2, dispatched chunk #2 = documents up to #300/600, outstanding queue size 3\n",
      "INFO:gensim.models.ldamulticore:PROGRESS: pass 2, dispatched chunk #3 = documents up to #400/600, outstanding queue size 4\n",
      "INFO:gensim.models.ldamulticore:PROGRESS: pass 2, dispatched chunk #4 = documents up to #500/600, outstanding queue size 5\n",
      "INFO:gensim.models.ldamulticore:PROGRESS: pass 2, dispatched chunk #5 = documents up to #600/600, outstanding queue size 6\n",
      "INFO:gensim.models.ldamodel:merging changes from 300 documents into a model of 600 documents\n",
      "INFO:gensim.models.ldamodel:topic #3 (0.100): 0.003*\"homer\" + 0.002*\"marge\" + 0.002*\"family\" + 0.002*\"bart\" + 0.002*\"gets\" + 0.002*\"lisa\" + 0.002*\"springfield\" + 0.002*\"goes\" + 0.002*\"tells\" + 0.002*\"take\"\n"
     ]
    },
    {
     "name": "stderr",
     "output_type": "stream",
     "text": [
      "INFO:gensim.models.ldamodel:topic #1 (0.100): 0.003*\"homer\" + 0.003*\"bart\" + 0.003*\"marge\" + 0.003*\"lisa\" + 0.002*\"back\" + 0.002*\"springfield\" + 0.002*\"get\" + 0.002*\"gets\" + 0.002*\"new\" + 0.002*\"one\"\n",
      "INFO:gensim.models.ldamodel:topic #2 (0.100): 0.003*\"homer\" + 0.002*\"bart\" + 0.002*\"lisa\" + 0.002*\"springfield\" + 0.002*\"marge\" + 0.002*\"family\" + 0.002*\"finds\" + 0.002*\"tells\" + 0.002*\"day\" + 0.002*\"home\"\n",
      "INFO:gensim.models.ldamodel:topic #0 (0.100): 0.003*\"marge\" + 0.003*\"bart\" + 0.003*\"lisa\" + 0.003*\"homer\" + 0.002*\"family\" + 0.002*\"get\" + 0.002*\"however\" + 0.002*\"takes\" + 0.002*\"tells\" + 0.002*\"go\"\n",
      "INFO:gensim.models.ldamodel:topic #9 (0.100): 0.003*\"bart\" + 0.003*\"lisa\" + 0.003*\"marge\" + 0.002*\"homer\" + 0.002*\"springfield\" + 0.002*\"goes\" + 0.002*\"back\" + 0.002*\"go\" + 0.002*\"get\" + 0.002*\"mr\"\n",
      "INFO:gensim.models.ldamodel:topic diff=0.622892, rho=0.333333\n",
      "INFO:gensim.models.ldamodel:-9.664 per-word bound, 811.4 perplexity estimate based on a held-out corpus of 100 documents with 15810 words\n",
      "INFO:gensim.models.ldamodel:merging changes from 300 documents into a model of 600 documents\n",
      "INFO:gensim.models.ldamodel:topic #8 (0.100): 0.003*\"bart\" + 0.003*\"marge\" + 0.003*\"homer\" + 0.003*\"lisa\" + 0.002*\"however\" + 0.002*\"school\" + 0.002*\"tells\" + 0.002*\"home\" + 0.002*\"springfield\" + 0.002*\"get\"\n",
      "INFO:gensim.models.ldamodel:topic #5 (0.100): 0.003*\"homer\" + 0.003*\"bart\" + 0.003*\"lisa\" + 0.003*\"marge\" + 0.003*\"family\" + 0.002*\"however\" + 0.002*\"go\" + 0.002*\"springfield\" + 0.002*\"tells\" + 0.002*\"new\"\n",
      "INFO:gensim.models.ldamodel:topic #0 (0.100): 0.003*\"lisa\" + 0.003*\"marge\" + 0.003*\"bart\" + 0.003*\"homer\" + 0.002*\"family\" + 0.002*\"get\" + 0.002*\"however\" + 0.002*\"takes\" + 0.002*\"take\" + 0.002*\"tells\"\n",
      "INFO:gensim.models.ldamodel:topic #4 (0.100): 0.001*\"family\" + 0.001*\"springfield\" + 0.001*\"school\" + 0.001*\"homer\" + 0.001*\"simpsons\" + 0.001*\"krusty\" + 0.001*\"time\" + 0.001*\"bart\" + 0.001*\"house\" + 0.001*\"due\"\n",
      "INFO:gensim.models.ldamodel:topic #6 (0.100): 0.003*\"bart\" + 0.003*\"lisa\" + 0.003*\"homer\" + 0.003*\"marge\" + 0.002*\"back\" + 0.002*\"family\" + 0.002*\"springfield\" + 0.002*\"time\" + 0.002*\"gets\" + 0.002*\"mr\"\n",
      "INFO:gensim.models.ldamodel:topic diff=0.578465, rho=0.333333\n",
      "INFO:gensim.models.ldamodel:-9.321 per-word bound, 639.4 perplexity estimate based on a held-out corpus of 100 documents with 15810 words\n",
      "INFO:gensim.models.ldamulticore:PROGRESS: pass 3, dispatched chunk #0 = documents up to #100/600, outstanding queue size 1\n",
      "INFO:gensim.models.ldamulticore:PROGRESS: pass 3, dispatched chunk #1 = documents up to #200/600, outstanding queue size 2\n",
      "INFO:gensim.models.ldamulticore:PROGRESS: pass 3, dispatched chunk #2 = documents up to #300/600, outstanding queue size 3\n",
      "INFO:gensim.models.ldamulticore:PROGRESS: pass 3, dispatched chunk #3 = documents up to #400/600, outstanding queue size 4\n",
      "INFO:gensim.models.ldamulticore:PROGRESS: pass 3, dispatched chunk #4 = documents up to #500/600, outstanding queue size 5\n",
      "INFO:gensim.models.ldamulticore:PROGRESS: pass 3, dispatched chunk #5 = documents up to #600/600, outstanding queue size 6\n",
      "INFO:gensim.models.ldamodel:merging changes from 300 documents into a model of 600 documents\n",
      "INFO:gensim.models.ldamodel:topic #2 (0.100): 0.003*\"homer\" + 0.002*\"bart\" + 0.002*\"lisa\" + 0.002*\"marge\" + 0.002*\"springfield\" + 0.002*\"finds\" + 0.002*\"family\" + 0.002*\"tells\" + 0.002*\"school\" + 0.002*\"home\"\n",
      "INFO:gensim.models.ldamodel:topic #8 (0.100): 0.003*\"bart\" + 0.003*\"homer\" + 0.003*\"marge\" + 0.003*\"lisa\" + 0.002*\"school\" + 0.002*\"however\" + 0.002*\"tells\" + 0.002*\"home\" + 0.002*\"springfield\" + 0.002*\"get\"\n",
      "INFO:gensim.models.ldamodel:topic #9 (0.100): 0.003*\"bart\" + 0.003*\"lisa\" + 0.003*\"homer\" + 0.003*\"marge\" + 0.002*\"springfield\" + 0.002*\"goes\" + 0.002*\"back\" + 0.002*\"go\" + 0.002*\"get\" + 0.002*\"everyone\"\n",
      "INFO:gensim.models.ldamodel:topic #3 (0.100): 0.003*\"homer\" + 0.003*\"marge\" + 0.002*\"family\" + 0.002*\"bart\" + 0.002*\"gets\" + 0.002*\"lisa\" + 0.002*\"goes\" + 0.002*\"springfield\" + 0.002*\"tells\" + 0.002*\"take\"\n",
      "INFO:gensim.models.ldamodel:topic #0 (0.100): 0.003*\"marge\" + 0.003*\"bart\" + 0.003*\"lisa\" + 0.003*\"homer\" + 0.002*\"family\" + 0.002*\"get\" + 0.002*\"however\" + 0.002*\"takes\" + 0.002*\"tells\" + 0.002*\"making\"\n",
      "INFO:gensim.models.ldamodel:topic diff=0.461682, rho=0.316228\n",
      "INFO:gensim.models.ldamodel:-9.503 per-word bound, 725.6 perplexity estimate based on a held-out corpus of 100 documents with 15810 words\n",
      "INFO:gensim.models.ldamodel:merging changes from 300 documents into a model of 600 documents\n",
      "INFO:gensim.models.ldamodel:topic #7 (0.100): 0.002*\"lisa\" + 0.001*\"bart\" + 0.001*\"due\" + 0.001*\"itchy\" + 0.001*\"scratchy\" + 0.001*\"milhouse\" + 0.001*\"000\" + 0.001*\"life\" + 0.001*\"home\" + 0.001*\"family\"\n",
      "INFO:gensim.models.ldamodel:topic #9 (0.100): 0.003*\"bart\" + 0.003*\"lisa\" + 0.002*\"homer\" + 0.002*\"marge\" + 0.002*\"springfield\" + 0.002*\"goes\" + 0.002*\"go\" + 0.002*\"back\" + 0.002*\"gets\" + 0.002*\"get\"\n",
      "INFO:gensim.models.ldamodel:topic #5 (0.100): 0.003*\"homer\" + 0.003*\"bart\" + 0.003*\"lisa\" + 0.003*\"marge\" + 0.003*\"family\" + 0.002*\"however\" + 0.002*\"go\" + 0.002*\"springfield\" + 0.002*\"tells\" + 0.002*\"new\"\n",
      "INFO:gensim.models.ldamodel:topic #0 (0.100): 0.003*\"lisa\" + 0.003*\"bart\" + 0.003*\"homer\" + 0.003*\"marge\" + 0.002*\"family\" + 0.002*\"get\" + 0.002*\"however\" + 0.002*\"takes\" + 0.002*\"tells\" + 0.002*\"take\"\n",
      "INFO:gensim.models.ldamodel:topic #4 (0.100): 0.001*\"family\" + 0.001*\"school\" + 0.001*\"springfield\" + 0.001*\"simpsons\" + 0.001*\"krusty\" + 0.001*\"time\" + 0.001*\"due\" + 0.001*\"homer\" + 0.001*\"house\" + 0.001*\"even\"\n",
      "INFO:gensim.models.ldamodel:topic diff=0.415565, rho=0.316228\n",
      "INFO:gensim.models.ldamodel:-9.249 per-word bound, 608.6 perplexity estimate based on a held-out corpus of 100 documents with 15810 words\n",
      "INFO:gensim.models.ldamulticore:PROGRESS: pass 4, dispatched chunk #0 = documents up to #100/600, outstanding queue size 1\n",
      "INFO:gensim.models.ldamulticore:PROGRESS: pass 4, dispatched chunk #1 = documents up to #200/600, outstanding queue size 2\n",
      "INFO:gensim.models.ldamulticore:PROGRESS: pass 4, dispatched chunk #2 = documents up to #300/600, outstanding queue size 3\n",
      "INFO:gensim.models.ldamulticore:PROGRESS: pass 4, dispatched chunk #3 = documents up to #400/600, outstanding queue size 4\n",
      "INFO:gensim.models.ldamulticore:PROGRESS: pass 4, dispatched chunk #4 = documents up to #500/600, outstanding queue size 5\n",
      "INFO:gensim.models.ldamulticore:PROGRESS: pass 4, dispatched chunk #5 = documents up to #600/600, outstanding queue size 6\n",
      "INFO:gensim.models.ldamodel:merging changes from 300 documents into a model of 600 documents\n",
      "INFO:gensim.models.ldamodel:topic #9 (0.100): 0.003*\"bart\" + 0.003*\"lisa\" + 0.003*\"homer\" + 0.003*\"marge\" + 0.002*\"springfield\" + 0.002*\"goes\" + 0.002*\"back\" + 0.002*\"go\" + 0.002*\"family\" + 0.002*\"everyone\"\n",
      "INFO:gensim.models.ldamodel:topic #8 (0.100): 0.003*\"bart\" + 0.003*\"homer\" + 0.003*\"marge\" + 0.003*\"lisa\" + 0.002*\"school\" + 0.002*\"however\" + 0.002*\"tells\" + 0.002*\"home\" + 0.002*\"get\" + 0.002*\"springfield\"\n",
      "INFO:gensim.models.ldamodel:topic #4 (0.100): 0.001*\"krusty\" + 0.001*\"family\" + 0.001*\"school\" + 0.001*\"springfield\" + 0.001*\"simpsons\" + 0.001*\"due\" + 0.001*\"time\" + 0.001*\"finally\" + 0.001*\"homer\" + 0.001*\"house\"\n",
      "INFO:gensim.models.ldamodel:topic #0 (0.100): 0.003*\"bart\" + 0.003*\"lisa\" + 0.003*\"marge\" + 0.003*\"homer\" + 0.002*\"family\" + 0.002*\"get\" + 0.002*\"however\" + 0.002*\"takes\" + 0.002*\"tells\" + 0.002*\"makes\"\n",
      "INFO:gensim.models.ldamodel:topic #7 (0.100): 0.002*\"lisa\" + 0.001*\"due\" + 0.001*\"bart\" + 0.001*\"itchy\" + 0.001*\"scratchy\" + 0.001*\"flanders\" + 0.001*\"burns\" + 0.001*\"000\" + 0.001*\"home\" + 0.001*\"marge\"\n",
      "INFO:gensim.models.ldamodel:topic diff=0.330814, rho=0.301511\n",
      "INFO:gensim.models.ldamodel:-9.428 per-word bound, 689.0 perplexity estimate based on a held-out corpus of 100 documents with 15810 words\n",
      "INFO:gensim.models.ldamodel:merging changes from 300 documents into a model of 600 documents\n",
      "INFO:gensim.models.ldamodel:topic #1 (0.100): 0.003*\"bart\" + 0.003*\"homer\" + 0.003*\"marge\" + 0.003*\"lisa\" + 0.002*\"back\" + 0.002*\"get\" + 0.002*\"springfield\" + 0.002*\"new\" + 0.002*\"gets\" + 0.002*\"go\"\n",
      "INFO:gensim.models.ldamodel:topic #9 (0.100): 0.003*\"bart\" + 0.003*\"lisa\" + 0.002*\"homer\" + 0.002*\"marge\" + 0.002*\"springfield\" + 0.002*\"goes\" + 0.002*\"go\" + 0.002*\"back\" + 0.002*\"gets\" + 0.002*\"give\"\n"
     ]
    },
    {
     "name": "stderr",
     "output_type": "stream",
     "text": [
      "INFO:gensim.models.ldamodel:topic #6 (0.100): 0.003*\"bart\" + 0.003*\"homer\" + 0.003*\"lisa\" + 0.003*\"marge\" + 0.002*\"back\" + 0.002*\"family\" + 0.002*\"springfield\" + 0.002*\"gets\" + 0.002*\"mr\" + 0.002*\"time\"\n",
      "INFO:gensim.models.ldamodel:topic #0 (0.100): 0.003*\"bart\" + 0.003*\"lisa\" + 0.003*\"homer\" + 0.003*\"marge\" + 0.002*\"family\" + 0.002*\"get\" + 0.002*\"however\" + 0.002*\"takes\" + 0.002*\"tells\" + 0.002*\"makes\"\n",
      "INFO:gensim.models.ldamodel:topic #2 (0.100): 0.003*\"bart\" + 0.002*\"homer\" + 0.002*\"lisa\" + 0.002*\"marge\" + 0.002*\"springfield\" + 0.002*\"finds\" + 0.002*\"school\" + 0.002*\"old\" + 0.002*\"family\" + 0.002*\"tells\"\n",
      "INFO:gensim.models.ldamodel:topic diff=0.297182, rho=0.301511\n",
      "INFO:gensim.models.ldamodel:-9.218 per-word bound, 595.4 perplexity estimate based on a held-out corpus of 100 documents with 15810 words\n",
      "INFO:gensim.models.ldamulticore:PROGRESS: pass 5, dispatched chunk #0 = documents up to #100/600, outstanding queue size 1\n",
      "INFO:gensim.models.ldamulticore:PROGRESS: pass 5, dispatched chunk #1 = documents up to #200/600, outstanding queue size 2\n",
      "INFO:gensim.models.ldamulticore:PROGRESS: pass 5, dispatched chunk #2 = documents up to #300/600, outstanding queue size 3\n",
      "INFO:gensim.models.ldamulticore:PROGRESS: pass 5, dispatched chunk #3 = documents up to #400/600, outstanding queue size 4\n",
      "INFO:gensim.models.ldamulticore:PROGRESS: pass 5, dispatched chunk #4 = documents up to #500/600, outstanding queue size 5\n",
      "INFO:gensim.models.ldamulticore:PROGRESS: pass 5, dispatched chunk #5 = documents up to #600/600, outstanding queue size 6\n",
      "INFO:gensim.models.ldamodel:merging changes from 300 documents into a model of 600 documents\n",
      "INFO:gensim.models.ldamodel:topic #5 (0.100): 0.003*\"bart\" + 0.003*\"homer\" + 0.003*\"lisa\" + 0.003*\"marge\" + 0.003*\"family\" + 0.002*\"springfield\" + 0.002*\"however\" + 0.002*\"tells\" + 0.002*\"simpsons\" + 0.002*\"new\"\n",
      "INFO:gensim.models.ldamodel:topic #2 (0.100): 0.003*\"homer\" + 0.002*\"bart\" + 0.002*\"lisa\" + 0.002*\"marge\" + 0.002*\"finds\" + 0.002*\"springfield\" + 0.002*\"family\" + 0.002*\"tells\" + 0.002*\"school\" + 0.002*\"still\"\n",
      "INFO:gensim.models.ldamodel:topic #9 (0.100): 0.003*\"bart\" + 0.003*\"lisa\" + 0.003*\"homer\" + 0.003*\"marge\" + 0.002*\"springfield\" + 0.002*\"goes\" + 0.002*\"back\" + 0.002*\"go\" + 0.002*\"family\" + 0.002*\"everyone\"\n",
      "INFO:gensim.models.ldamodel:topic #1 (0.100): 0.003*\"bart\" + 0.003*\"homer\" + 0.003*\"marge\" + 0.003*\"lisa\" + 0.002*\"back\" + 0.002*\"springfield\" + 0.002*\"get\" + 0.002*\"gets\" + 0.002*\"house\" + 0.002*\"new\"\n",
      "INFO:gensim.models.ldamodel:topic #4 (0.100): 0.001*\"krusty\" + 0.001*\"school\" + 0.001*\"family\" + 0.001*\"simpsons\" + 0.001*\"springfield\" + 0.001*\"due\" + 0.001*\"finally\" + 0.001*\"time\" + 0.001*\"including\" + 0.001*\"selma\"\n",
      "INFO:gensim.models.ldamodel:topic diff=0.239454, rho=0.288675\n",
      "INFO:gensim.models.ldamodel:-9.390 per-word bound, 670.9 perplexity estimate based on a held-out corpus of 100 documents with 15810 words\n",
      "INFO:gensim.models.ldamodel:merging changes from 300 documents into a model of 600 documents\n",
      "INFO:gensim.models.ldamodel:topic #8 (0.100): 0.003*\"bart\" + 0.003*\"homer\" + 0.003*\"marge\" + 0.003*\"lisa\" + 0.002*\"however\" + 0.002*\"tells\" + 0.002*\"home\" + 0.002*\"becomes\" + 0.002*\"get\" + 0.002*\"springfield\"\n",
      "INFO:gensim.models.ldamodel:topic #2 (0.100): 0.003*\"bart\" + 0.002*\"homer\" + 0.002*\"lisa\" + 0.002*\"marge\" + 0.002*\"springfield\" + 0.002*\"finds\" + 0.002*\"school\" + 0.002*\"old\" + 0.002*\"tells\" + 0.002*\"family\"\n",
      "INFO:gensim.models.ldamodel:topic #6 (0.100): 0.003*\"bart\" + 0.003*\"homer\" + 0.003*\"lisa\" + 0.003*\"marge\" + 0.002*\"back\" + 0.002*\"family\" + 0.002*\"springfield\" + 0.002*\"gets\" + 0.002*\"mr\" + 0.002*\"time\"\n",
      "INFO:gensim.models.ldamodel:topic #0 (0.100): 0.004*\"bart\" + 0.003*\"lisa\" + 0.003*\"homer\" + 0.003*\"marge\" + 0.002*\"family\" + 0.002*\"get\" + 0.002*\"however\" + 0.002*\"takes\" + 0.002*\"makes\" + 0.002*\"tells\"\n",
      "INFO:gensim.models.ldamodel:topic #5 (0.100): 0.003*\"bart\" + 0.003*\"homer\" + 0.003*\"lisa\" + 0.003*\"marge\" + 0.003*\"family\" + 0.002*\"however\" + 0.002*\"tells\" + 0.002*\"springfield\" + 0.002*\"go\" + 0.002*\"new\"\n",
      "INFO:gensim.models.ldamodel:topic diff=0.219111, rho=0.288675\n",
      "INFO:gensim.models.ldamodel:-9.202 per-word bound, 588.9 perplexity estimate based on a held-out corpus of 100 documents with 15810 words\n",
      "INFO:gensim.models.ldamulticore:PROGRESS: pass 6, dispatched chunk #0 = documents up to #100/600, outstanding queue size 1\n",
      "INFO:gensim.models.ldamulticore:PROGRESS: pass 6, dispatched chunk #1 = documents up to #200/600, outstanding queue size 2\n",
      "INFO:gensim.models.ldamulticore:PROGRESS: pass 6, dispatched chunk #2 = documents up to #300/600, outstanding queue size 3\n",
      "INFO:gensim.models.ldamulticore:PROGRESS: pass 6, dispatched chunk #3 = documents up to #400/600, outstanding queue size 4\n",
      "INFO:gensim.models.ldamulticore:PROGRESS: pass 6, dispatched chunk #4 = documents up to #500/600, outstanding queue size 5\n",
      "INFO:gensim.models.ldamulticore:PROGRESS: pass 6, dispatched chunk #5 = documents up to #600/600, outstanding queue size 6\n",
      "INFO:gensim.models.ldamodel:merging changes from 300 documents into a model of 600 documents\n",
      "INFO:gensim.models.ldamodel:topic #0 (0.100): 0.003*\"bart\" + 0.003*\"lisa\" + 0.003*\"homer\" + 0.003*\"marge\" + 0.002*\"family\" + 0.002*\"get\" + 0.002*\"however\" + 0.002*\"takes\" + 0.002*\"tells\" + 0.002*\"makes\"\n",
      "INFO:gensim.models.ldamodel:topic #9 (0.100): 0.003*\"bart\" + 0.003*\"lisa\" + 0.003*\"homer\" + 0.003*\"marge\" + 0.002*\"springfield\" + 0.002*\"goes\" + 0.002*\"back\" + 0.002*\"go\" + 0.002*\"family\" + 0.002*\"everyone\"\n",
      "INFO:gensim.models.ldamodel:topic #6 (0.100): 0.003*\"bart\" + 0.003*\"homer\" + 0.002*\"lisa\" + 0.002*\"marge\" + 0.002*\"family\" + 0.002*\"back\" + 0.002*\"springfield\" + 0.002*\"mr\" + 0.002*\"gets\" + 0.002*\"time\"\n",
      "INFO:gensim.models.ldamodel:topic #4 (0.100): 0.001*\"krusty\" + 0.001*\"school\" + 0.001*\"family\" + 0.001*\"simpsons\" + 0.001*\"due\" + 0.001*\"springfield\" + 0.001*\"finally\" + 0.001*\"remarks\" + 0.001*\"including\" + 0.001*\"time\"\n",
      "INFO:gensim.models.ldamodel:topic #5 (0.100): 0.003*\"bart\" + 0.003*\"homer\" + 0.003*\"lisa\" + 0.003*\"marge\" + 0.003*\"family\" + 0.002*\"springfield\" + 0.002*\"however\" + 0.002*\"tells\" + 0.002*\"simpsons\" + 0.002*\"new\"\n",
      "INFO:gensim.models.ldamodel:topic diff=0.181400, rho=0.277350\n",
      "INFO:gensim.models.ldamodel:-9.366 per-word bound, 659.8 perplexity estimate based on a held-out corpus of 100 documents with 15810 words\n",
      "INFO:gensim.models.ldamodel:merging changes from 300 documents into a model of 600 documents\n",
      "INFO:gensim.models.ldamodel:topic #0 (0.100): 0.004*\"bart\" + 0.003*\"lisa\" + 0.003*\"homer\" + 0.003*\"marge\" + 0.002*\"family\" + 0.002*\"get\" + 0.002*\"however\" + 0.002*\"takes\" + 0.002*\"makes\" + 0.002*\"tells\"\n",
      "INFO:gensim.models.ldamodel:topic #6 (0.100): 0.003*\"bart\" + 0.003*\"homer\" + 0.003*\"lisa\" + 0.003*\"marge\" + 0.002*\"back\" + 0.002*\"family\" + 0.002*\"gets\" + 0.002*\"springfield\" + 0.002*\"mr\" + 0.002*\"time\"\n",
      "INFO:gensim.models.ldamodel:topic #7 (0.100): 0.002*\"lisa\" + 0.001*\"itchy\" + 0.001*\"scratchy\" + 0.001*\"due\" + 0.001*\"000\" + 0.001*\"bart\" + 0.001*\"milhouse\" + 0.001*\"project\" + 0.001*\"made\" + 0.001*\"yells\"\n",
      "INFO:gensim.models.ldamodel:topic #2 (0.100): 0.003*\"bart\" + 0.002*\"homer\" + 0.002*\"lisa\" + 0.002*\"marge\" + 0.002*\"springfield\" + 0.002*\"finds\" + 0.002*\"school\" + 0.002*\"old\" + 0.002*\"tells\" + 0.002*\"family\"\n",
      "INFO:gensim.models.ldamodel:topic #5 (0.100): 0.003*\"bart\" + 0.003*\"homer\" + 0.003*\"lisa\" + 0.003*\"marge\" + 0.003*\"family\" + 0.002*\"however\" + 0.002*\"tells\" + 0.002*\"springfield\" + 0.002*\"go\" + 0.002*\"new\"\n",
      "INFO:gensim.models.ldamodel:topic diff=0.170265, rho=0.277350\n",
      "INFO:gensim.models.ldamodel:-9.194 per-word bound, 585.6 perplexity estimate based on a held-out corpus of 100 documents with 15810 words\n",
      "INFO:gensim.models.ldamulticore:PROGRESS: pass 7, dispatched chunk #0 = documents up to #100/600, outstanding queue size 1\n",
      "INFO:gensim.models.ldamulticore:PROGRESS: pass 7, dispatched chunk #1 = documents up to #200/600, outstanding queue size 2\n",
      "INFO:gensim.models.ldamulticore:PROGRESS: pass 7, dispatched chunk #2 = documents up to #300/600, outstanding queue size 3\n",
      "INFO:gensim.models.ldamulticore:PROGRESS: pass 7, dispatched chunk #3 = documents up to #400/600, outstanding queue size 4\n",
      "INFO:gensim.models.ldamulticore:PROGRESS: pass 7, dispatched chunk #4 = documents up to #500/600, outstanding queue size 5\n"
     ]
    },
    {
     "name": "stderr",
     "output_type": "stream",
     "text": [
      "INFO:gensim.models.ldamulticore:PROGRESS: pass 7, dispatched chunk #5 = documents up to #600/600, outstanding queue size 6\n",
      "INFO:gensim.models.ldamodel:merging changes from 300 documents into a model of 600 documents\n",
      "INFO:gensim.models.ldamodel:topic #5 (0.100): 0.003*\"bart\" + 0.003*\"homer\" + 0.003*\"lisa\" + 0.003*\"marge\" + 0.003*\"family\" + 0.002*\"springfield\" + 0.002*\"however\" + 0.002*\"tells\" + 0.002*\"simpsons\" + 0.002*\"new\"\n",
      "INFO:gensim.models.ldamodel:topic #8 (0.100): 0.003*\"bart\" + 0.003*\"homer\" + 0.003*\"lisa\" + 0.003*\"marge\" + 0.002*\"however\" + 0.002*\"school\" + 0.002*\"tells\" + 0.002*\"home\" + 0.002*\"springfield\" + 0.002*\"get\"\n",
      "INFO:gensim.models.ldamodel:topic #9 (0.100): 0.003*\"bart\" + 0.003*\"lisa\" + 0.003*\"homer\" + 0.003*\"marge\" + 0.002*\"springfield\" + 0.002*\"goes\" + 0.002*\"back\" + 0.002*\"go\" + 0.002*\"family\" + 0.002*\"gets\"\n",
      "INFO:gensim.models.ldamodel:topic #4 (0.100): 0.001*\"krusty\" + 0.001*\"school\" + 0.001*\"family\" + 0.001*\"due\" + 0.001*\"simpsons\" + 0.001*\"finally\" + 0.001*\"remarks\" + 0.001*\"springfield\" + 0.001*\"including\" + 0.001*\"prepare\"\n",
      "INFO:gensim.models.ldamodel:topic #3 (0.100): 0.003*\"marge\" + 0.003*\"homer\" + 0.002*\"family\" + 0.002*\"gets\" + 0.002*\"goes\" + 0.002*\"bart\" + 0.002*\"lisa\" + 0.002*\"tells\" + 0.002*\"take\" + 0.002*\"first\"\n",
      "INFO:gensim.models.ldamodel:topic diff=0.146853, rho=0.267261\n",
      "INFO:gensim.models.ldamodel:-9.350 per-word bound, 652.6 perplexity estimate based on a held-out corpus of 100 documents with 15810 words\n",
      "INFO:gensim.models.ldamodel:merging changes from 300 documents into a model of 600 documents\n",
      "INFO:gensim.models.ldamodel:topic #4 (0.100): 0.001*\"family\" + 0.001*\"school\" + 0.001*\"due\" + 0.001*\"krusty\" + 0.001*\"kids\" + 0.001*\"simpsons\" + 0.001*\"maggie\" + 0.001*\"box\" + 0.001*\"selma\" + 0.001*\"finally\"\n",
      "INFO:gensim.models.ldamodel:topic #5 (0.100): 0.003*\"bart\" + 0.003*\"homer\" + 0.003*\"lisa\" + 0.003*\"marge\" + 0.003*\"family\" + 0.002*\"however\" + 0.002*\"tells\" + 0.002*\"springfield\" + 0.002*\"go\" + 0.002*\"new\"\n",
      "INFO:gensim.models.ldamodel:topic #1 (0.100): 0.003*\"bart\" + 0.003*\"homer\" + 0.003*\"marge\" + 0.003*\"lisa\" + 0.002*\"back\" + 0.002*\"get\" + 0.002*\"springfield\" + 0.002*\"gets\" + 0.002*\"new\" + 0.002*\"however\"\n",
      "INFO:gensim.models.ldamodel:topic #2 (0.100): 0.003*\"bart\" + 0.002*\"homer\" + 0.002*\"lisa\" + 0.002*\"marge\" + 0.002*\"springfield\" + 0.002*\"finds\" + 0.002*\"school\" + 0.002*\"old\" + 0.002*\"tells\" + 0.002*\"family\"\n",
      "INFO:gensim.models.ldamodel:topic #0 (0.100): 0.004*\"bart\" + 0.003*\"lisa\" + 0.003*\"homer\" + 0.003*\"marge\" + 0.002*\"family\" + 0.002*\"get\" + 0.002*\"however\" + 0.002*\"takes\" + 0.002*\"makes\" + 0.002*\"tells\"\n",
      "INFO:gensim.models.ldamodel:topic diff=0.140727, rho=0.267261\n",
      "INFO:gensim.models.ldamodel:-9.189 per-word bound, 583.6 perplexity estimate based on a held-out corpus of 100 documents with 15810 words\n",
      "INFO:gensim.models.ldamulticore:PROGRESS: pass 8, dispatched chunk #0 = documents up to #100/600, outstanding queue size 1\n",
      "INFO:gensim.models.ldamulticore:PROGRESS: pass 8, dispatched chunk #1 = documents up to #200/600, outstanding queue size 2\n",
      "INFO:gensim.models.ldamulticore:PROGRESS: pass 8, dispatched chunk #2 = documents up to #300/600, outstanding queue size 3\n",
      "INFO:gensim.models.ldamulticore:PROGRESS: pass 8, dispatched chunk #3 = documents up to #400/600, outstanding queue size 4\n",
      "INFO:gensim.models.ldamulticore:PROGRESS: pass 8, dispatched chunk #4 = documents up to #500/600, outstanding queue size 5\n",
      "INFO:gensim.models.ldamulticore:PROGRESS: pass 8, dispatched chunk #5 = documents up to #600/600, outstanding queue size 6\n",
      "INFO:gensim.models.ldamodel:merging changes from 300 documents into a model of 600 documents\n",
      "INFO:gensim.models.ldamodel:topic #5 (0.100): 0.003*\"bart\" + 0.003*\"homer\" + 0.003*\"lisa\" + 0.003*\"marge\" + 0.003*\"family\" + 0.002*\"springfield\" + 0.002*\"however\" + 0.002*\"tells\" + 0.002*\"simpsons\" + 0.002*\"new\"\n",
      "INFO:gensim.models.ldamodel:topic #3 (0.100): 0.003*\"marge\" + 0.003*\"homer\" + 0.002*\"family\" + 0.002*\"gets\" + 0.002*\"goes\" + 0.002*\"bart\" + 0.002*\"lisa\" + 0.002*\"take\" + 0.002*\"tells\" + 0.002*\"first\"\n",
      "INFO:gensim.models.ldamodel:topic #0 (0.100): 0.003*\"bart\" + 0.003*\"lisa\" + 0.003*\"homer\" + 0.003*\"marge\" + 0.003*\"family\" + 0.002*\"get\" + 0.002*\"however\" + 0.002*\"takes\" + 0.002*\"tells\" + 0.002*\"makes\"\n",
      "INFO:gensim.models.ldamodel:topic #2 (0.100): 0.002*\"bart\" + 0.002*\"homer\" + 0.002*\"lisa\" + 0.002*\"finds\" + 0.002*\"marge\" + 0.002*\"springfield\" + 0.002*\"tells\" + 0.002*\"family\" + 0.002*\"school\" + 0.002*\"still\"\n",
      "INFO:gensim.models.ldamodel:topic #1 (0.100): 0.003*\"bart\" + 0.003*\"homer\" + 0.003*\"marge\" + 0.003*\"lisa\" + 0.002*\"springfield\" + 0.002*\"back\" + 0.002*\"get\" + 0.002*\"house\" + 0.002*\"however\" + 0.002*\"gets\"\n",
      "INFO:gensim.models.ldamodel:topic diff=0.126267, rho=0.258199\n",
      "INFO:gensim.models.ldamodel:-9.338 per-word bound, 647.1 perplexity estimate based on a held-out corpus of 100 documents with 15810 words\n",
      "INFO:gensim.models.ldamodel:merging changes from 300 documents into a model of 600 documents\n",
      "INFO:gensim.models.ldamodel:topic #1 (0.100): 0.003*\"bart\" + 0.003*\"homer\" + 0.003*\"marge\" + 0.003*\"lisa\" + 0.002*\"back\" + 0.002*\"get\" + 0.002*\"springfield\" + 0.002*\"gets\" + 0.002*\"new\" + 0.002*\"however\"\n",
      "INFO:gensim.models.ldamodel:topic #3 (0.100): 0.003*\"marge\" + 0.003*\"homer\" + 0.002*\"family\" + 0.002*\"gets\" + 0.002*\"goes\" + 0.002*\"bart\" + 0.002*\"tells\" + 0.002*\"take\" + 0.002*\"lisa\" + 0.002*\"simpsons\"\n",
      "INFO:gensim.models.ldamodel:topic #2 (0.100): 0.002*\"bart\" + 0.002*\"homer\" + 0.002*\"lisa\" + 0.002*\"marge\" + 0.002*\"springfield\" + 0.002*\"finds\" + 0.002*\"school\" + 0.002*\"old\" + 0.002*\"tells\" + 0.002*\"family\"\n",
      "INFO:gensim.models.ldamodel:topic #7 (0.100): 0.002*\"lisa\" + 0.001*\"scratchy\" + 0.001*\"itchy\" + 0.001*\"due\" + 0.001*\"000\" + 0.001*\"project\" + 0.001*\"milhouse\" + 0.001*\"made\" + 0.001*\"bart\" + 0.001*\"yells\"\n",
      "INFO:gensim.models.ldamodel:topic #9 (0.100): 0.003*\"bart\" + 0.003*\"lisa\" + 0.003*\"homer\" + 0.002*\"marge\" + 0.002*\"springfield\" + 0.002*\"goes\" + 0.002*\"go\" + 0.002*\"back\" + 0.002*\"gets\" + 0.002*\"give\"\n",
      "INFO:gensim.models.ldamodel:topic diff=0.122729, rho=0.258199\n",
      "INFO:gensim.models.ldamodel:-9.185 per-word bound, 582.2 perplexity estimate based on a held-out corpus of 100 documents with 15810 words\n",
      "INFO:gensim.models.ldamulticore:PROGRESS: pass 9, dispatched chunk #0 = documents up to #100/600, outstanding queue size 1\n",
      "INFO:gensim.models.ldamulticore:PROGRESS: pass 9, dispatched chunk #1 = documents up to #200/600, outstanding queue size 2\n",
      "INFO:gensim.models.ldamulticore:PROGRESS: pass 9, dispatched chunk #2 = documents up to #300/600, outstanding queue size 3\n",
      "INFO:gensim.models.ldamulticore:PROGRESS: pass 9, dispatched chunk #3 = documents up to #400/600, outstanding queue size 4\n",
      "INFO:gensim.models.ldamulticore:PROGRESS: pass 9, dispatched chunk #4 = documents up to #500/600, outstanding queue size 5\n",
      "INFO:gensim.models.ldamulticore:PROGRESS: pass 9, dispatched chunk #5 = documents up to #600/600, outstanding queue size 6\n",
      "INFO:gensim.models.ldamodel:merging changes from 300 documents into a model of 600 documents\n",
      "INFO:gensim.models.ldamodel:topic #4 (0.100): 0.001*\"krusty\" + 0.001*\"school\" + 0.001*\"family\" + 0.001*\"due\" + 0.001*\"finally\" + 0.001*\"remarks\" + 0.001*\"simpsons\" + 0.001*\"prepare\" + 0.001*\"including\" + 0.001*\"announces\"\n",
      "INFO:gensim.models.ldamodel:topic #9 (0.100): 0.003*\"bart\" + 0.003*\"lisa\" + 0.003*\"homer\" + 0.003*\"marge\" + 0.003*\"springfield\" + 0.002*\"goes\" + 0.002*\"back\" + 0.002*\"go\" + 0.002*\"gets\" + 0.002*\"family\"\n",
      "INFO:gensim.models.ldamodel:topic #6 (0.100): 0.003*\"bart\" + 0.003*\"homer\" + 0.002*\"marge\" + 0.002*\"lisa\" + 0.002*\"family\" + 0.002*\"back\" + 0.002*\"springfield\" + 0.002*\"mr\" + 0.002*\"gets\" + 0.002*\"time\"\n",
      "INFO:gensim.models.ldamodel:topic #3 (0.100): 0.003*\"marge\" + 0.002*\"homer\" + 0.002*\"family\" + 0.002*\"gets\" + 0.002*\"goes\" + 0.002*\"bart\" + 0.002*\"take\" + 0.002*\"lisa\" + 0.002*\"tells\" + 0.002*\"first\"\n",
      "INFO:gensim.models.ldamodel:topic #5 (0.100): 0.003*\"bart\" + 0.003*\"homer\" + 0.003*\"lisa\" + 0.003*\"marge\" + 0.003*\"family\" + 0.002*\"springfield\" + 0.002*\"however\" + 0.002*\"tells\" + 0.002*\"simpsons\" + 0.002*\"new\"\n",
      "INFO:gensim.models.ldamodel:topic diff=0.113710, rho=0.250000\n",
      "INFO:gensim.models.ldamodel:-9.328 per-word bound, 642.7 perplexity estimate based on a held-out corpus of 100 documents with 15810 words\n"
     ]
    },
    {
     "name": "stderr",
     "output_type": "stream",
     "text": [
      "INFO:gensim.models.ldamodel:merging changes from 300 documents into a model of 600 documents\n",
      "INFO:gensim.models.ldamodel:topic #3 (0.100): 0.003*\"marge\" + 0.003*\"homer\" + 0.002*\"family\" + 0.002*\"gets\" + 0.002*\"goes\" + 0.002*\"bart\" + 0.002*\"tells\" + 0.002*\"take\" + 0.002*\"lisa\" + 0.002*\"simpsons\"\n",
      "INFO:gensim.models.ldamodel:topic #1 (0.100): 0.003*\"bart\" + 0.003*\"homer\" + 0.003*\"marge\" + 0.003*\"lisa\" + 0.002*\"back\" + 0.002*\"get\" + 0.002*\"springfield\" + 0.002*\"gets\" + 0.002*\"however\" + 0.002*\"house\"\n",
      "INFO:gensim.models.ldamodel:topic #0 (0.100): 0.004*\"bart\" + 0.003*\"lisa\" + 0.003*\"homer\" + 0.003*\"marge\" + 0.002*\"family\" + 0.002*\"get\" + 0.002*\"however\" + 0.002*\"takes\" + 0.002*\"makes\" + 0.002*\"tells\"\n",
      "INFO:gensim.models.ldamodel:topic #5 (0.100): 0.003*\"bart\" + 0.003*\"homer\" + 0.003*\"lisa\" + 0.003*\"marge\" + 0.003*\"family\" + 0.002*\"however\" + 0.002*\"tells\" + 0.002*\"springfield\" + 0.002*\"go\" + 0.002*\"new\"\n",
      "INFO:gensim.models.ldamodel:topic #2 (0.100): 0.002*\"bart\" + 0.002*\"homer\" + 0.002*\"lisa\" + 0.002*\"marge\" + 0.002*\"springfield\" + 0.002*\"finds\" + 0.002*\"school\" + 0.002*\"old\" + 0.002*\"tells\" + 0.002*\"family\"\n",
      "INFO:gensim.models.ldamodel:topic diff=0.111447, rho=0.250000\n",
      "INFO:gensim.models.ldamodel:-9.183 per-word bound, 581.4 perplexity estimate based on a held-out corpus of 100 documents with 15810 words\n"
     ]
    }
   ],
   "source": [
    "# Build LDA model\n",
    "lda_model = gensim.models.LdaMulticore(corpus=corpus,\n",
    "                                       id2word=id2word,\n",
    "                                       num_topics=10, \n",
    "                                       random_state=100,\n",
    "                                       chunksize=100,\n",
    "                                       passes=10,\n",
    "                                       per_word_topics=True)"
   ]
  },
  {
   "cell_type": "code",
   "execution_count": 280,
   "metadata": {},
   "outputs": [
    {
     "name": "stderr",
     "output_type": "stream",
     "text": [
      "INFO:gensim.models.ldamodel:topic #0 (0.100): 0.004*\"bart\" + 0.003*\"lisa\" + 0.003*\"homer\" + 0.003*\"marge\" + 0.002*\"family\" + 0.002*\"get\" + 0.002*\"however\" + 0.002*\"takes\" + 0.002*\"makes\" + 0.002*\"tells\"\n",
      "INFO:gensim.models.ldamodel:topic #1 (0.100): 0.003*\"bart\" + 0.003*\"homer\" + 0.003*\"marge\" + 0.003*\"lisa\" + 0.002*\"back\" + 0.002*\"get\" + 0.002*\"springfield\" + 0.002*\"gets\" + 0.002*\"however\" + 0.002*\"house\"\n",
      "INFO:gensim.models.ldamodel:topic #2 (0.100): 0.002*\"bart\" + 0.002*\"homer\" + 0.002*\"lisa\" + 0.002*\"marge\" + 0.002*\"springfield\" + 0.002*\"finds\" + 0.002*\"school\" + 0.002*\"old\" + 0.002*\"tells\" + 0.002*\"family\"\n",
      "INFO:gensim.models.ldamodel:topic #3 (0.100): 0.003*\"marge\" + 0.003*\"homer\" + 0.002*\"family\" + 0.002*\"gets\" + 0.002*\"goes\" + 0.002*\"bart\" + 0.002*\"tells\" + 0.002*\"take\" + 0.002*\"lisa\" + 0.002*\"simpsons\"\n",
      "INFO:gensim.models.ldamodel:topic #4 (0.100): 0.001*\"due\" + 0.001*\"family\" + 0.001*\"school\" + 0.001*\"kids\" + 0.001*\"krusty\" + 0.001*\"maggie\" + 0.001*\"box\" + 0.001*\"simpsons\" + 0.001*\"finally\" + 0.001*\"selma\"\n",
      "INFO:gensim.models.ldamodel:topic #5 (0.100): 0.003*\"bart\" + 0.003*\"homer\" + 0.003*\"lisa\" + 0.003*\"marge\" + 0.003*\"family\" + 0.002*\"however\" + 0.002*\"tells\" + 0.002*\"springfield\" + 0.002*\"go\" + 0.002*\"new\"\n",
      "INFO:gensim.models.ldamodel:topic #6 (0.100): 0.003*\"bart\" + 0.003*\"homer\" + 0.002*\"lisa\" + 0.002*\"marge\" + 0.002*\"back\" + 0.002*\"family\" + 0.002*\"gets\" + 0.002*\"springfield\" + 0.002*\"mr\" + 0.002*\"go\"\n",
      "INFO:gensim.models.ldamodel:topic #7 (0.100): 0.002*\"lisa\" + 0.001*\"scratchy\" + 0.001*\"itchy\" + 0.001*\"000\" + 0.001*\"due\" + 0.001*\"project\" + 0.001*\"made\" + 0.001*\"milhouse\" + 0.001*\"plead\" + 0.001*\"bart\"\n",
      "INFO:gensim.models.ldamodel:topic #8 (0.100): 0.003*\"bart\" + 0.003*\"homer\" + 0.003*\"marge\" + 0.003*\"lisa\" + 0.002*\"however\" + 0.002*\"tells\" + 0.002*\"home\" + 0.002*\"becomes\" + 0.002*\"springfield\" + 0.002*\"get\"\n",
      "INFO:gensim.models.ldamodel:topic #9 (0.100): 0.003*\"bart\" + 0.003*\"lisa\" + 0.003*\"homer\" + 0.002*\"marge\" + 0.002*\"springfield\" + 0.002*\"goes\" + 0.002*\"go\" + 0.002*\"back\" + 0.002*\"gets\" + 0.002*\"give\"\n"
     ]
    },
    {
     "name": "stdout",
     "output_type": "stream",
     "text": [
      "[(0,\n",
      "  '0.004*\"bart\" + 0.003*\"lisa\" + 0.003*\"homer\" + 0.003*\"marge\" + '\n",
      "  '0.002*\"family\" + 0.002*\"get\" + 0.002*\"however\" + 0.002*\"takes\" + '\n",
      "  '0.002*\"makes\" + 0.002*\"tells\"'),\n",
      " (1,\n",
      "  '0.003*\"bart\" + 0.003*\"homer\" + 0.003*\"marge\" + 0.003*\"lisa\" + 0.002*\"back\" '\n",
      "  '+ 0.002*\"get\" + 0.002*\"springfield\" + 0.002*\"gets\" + 0.002*\"however\" + '\n",
      "  '0.002*\"house\"'),\n",
      " (2,\n",
      "  '0.002*\"bart\" + 0.002*\"homer\" + 0.002*\"lisa\" + 0.002*\"marge\" + '\n",
      "  '0.002*\"springfield\" + 0.002*\"finds\" + 0.002*\"school\" + 0.002*\"old\" + '\n",
      "  '0.002*\"tells\" + 0.002*\"family\"'),\n",
      " (3,\n",
      "  '0.003*\"marge\" + 0.003*\"homer\" + 0.002*\"family\" + 0.002*\"gets\" + '\n",
      "  '0.002*\"goes\" + 0.002*\"bart\" + 0.002*\"tells\" + 0.002*\"take\" + 0.002*\"lisa\" + '\n",
      "  '0.002*\"simpsons\"'),\n",
      " (4,\n",
      "  '0.001*\"due\" + 0.001*\"family\" + 0.001*\"school\" + 0.001*\"kids\" + '\n",
      "  '0.001*\"krusty\" + 0.001*\"maggie\" + 0.001*\"box\" + 0.001*\"simpsons\" + '\n",
      "  '0.001*\"finally\" + 0.001*\"selma\"'),\n",
      " (5,\n",
      "  '0.003*\"bart\" + 0.003*\"homer\" + 0.003*\"lisa\" + 0.003*\"marge\" + '\n",
      "  '0.003*\"family\" + 0.002*\"however\" + 0.002*\"tells\" + 0.002*\"springfield\" + '\n",
      "  '0.002*\"go\" + 0.002*\"new\"'),\n",
      " (6,\n",
      "  '0.003*\"bart\" + 0.003*\"homer\" + 0.002*\"lisa\" + 0.002*\"marge\" + 0.002*\"back\" '\n",
      "  '+ 0.002*\"family\" + 0.002*\"gets\" + 0.002*\"springfield\" + 0.002*\"mr\" + '\n",
      "  '0.002*\"go\"'),\n",
      " (7,\n",
      "  '0.002*\"lisa\" + 0.001*\"scratchy\" + 0.001*\"itchy\" + 0.001*\"000\" + 0.001*\"due\" '\n",
      "  '+ 0.001*\"project\" + 0.001*\"made\" + 0.001*\"milhouse\" + 0.001*\"plead\" + '\n",
      "  '0.001*\"bart\"'),\n",
      " (8,\n",
      "  '0.003*\"bart\" + 0.003*\"homer\" + 0.003*\"marge\" + 0.003*\"lisa\" + '\n",
      "  '0.002*\"however\" + 0.002*\"tells\" + 0.002*\"home\" + 0.002*\"becomes\" + '\n",
      "  '0.002*\"springfield\" + 0.002*\"get\"'),\n",
      " (9,\n",
      "  '0.003*\"bart\" + 0.003*\"lisa\" + 0.003*\"homer\" + 0.002*\"marge\" + '\n",
      "  '0.002*\"springfield\" + 0.002*\"goes\" + 0.002*\"go\" + 0.002*\"back\" + '\n",
      "  '0.002*\"gets\" + 0.002*\"give\"')]\n"
     ]
    }
   ],
   "source": [
    "from pprint import pprint\n",
    "# Print the Keyword in the 10 topics\n",
    "pprint(lda_model.print_topics())\n",
    "doc_lda = lda_model[corpus]"
   ]
  },
  {
   "cell_type": "code",
   "execution_count": 281,
   "metadata": {},
   "outputs": [
    {
     "name": "stderr",
     "output_type": "stream",
     "text": [
      "INFO:gensim.topic_coherence.probability_estimation:using ParallelWordOccurrenceAccumulator(processes=3, batch_size=64) to estimate probabilities from sliding windows\n",
      "INFO:gensim.topic_coherence.text_analysis:1 batches submitted to accumulate stats from 64 documents (4219 virtual)\n",
      "INFO:gensim.topic_coherence.text_analysis:2 batches submitted to accumulate stats from 128 documents (7580 virtual)\n",
      "INFO:gensim.topic_coherence.text_analysis:3 batches submitted to accumulate stats from 192 documents (10835 virtual)\n",
      "INFO:gensim.topic_coherence.text_analysis:4 batches submitted to accumulate stats from 256 documents (14182 virtual)\n",
      "INFO:gensim.topic_coherence.text_analysis:5 batches submitted to accumulate stats from 320 documents (18796 virtual)\n",
      "INFO:gensim.topic_coherence.text_analysis:6 batches submitted to accumulate stats from 384 documents (23360 virtual)\n",
      "INFO:gensim.topic_coherence.text_analysis:7 batches submitted to accumulate stats from 448 documents (27635 virtual)\n",
      "INFO:gensim.topic_coherence.text_analysis:8 batches submitted to accumulate stats from 512 documents (30583 virtual)\n",
      "INFO:gensim.topic_coherence.text_analysis:9 batches submitted to accumulate stats from 576 documents (33647 virtual)\n",
      "INFO:gensim.topic_coherence.text_analysis:10 batches submitted to accumulate stats from 640 documents (34729 virtual)\n",
      "INFO:gensim.topic_coherence.text_analysis:serializing accumulator to return to master...\n",
      "INFO:gensim.topic_coherence.text_analysis:serializing accumulator to return to master...\n",
      "INFO:gensim.topic_coherence.text_analysis:accumulator serialized\n",
      "INFO:gensim.topic_coherence.text_analysis:accumulator serialized\n",
      "INFO:gensim.topic_coherence.text_analysis:serializing accumulator to return to master...\n",
      "INFO:gensim.topic_coherence.text_analysis:accumulator serialized\n",
      "INFO:gensim.topic_coherence.text_analysis:3 accumulators retrieved from output queue\n",
      "INFO:gensim.topic_coherence.text_analysis:accumulated word occurrence stats for 37418 virtual documents\n"
     ]
    },
    {
     "name": "stdout",
     "output_type": "stream",
     "text": [
      "\n",
      "Coherence Score:  0.6874414772555866\n"
     ]
    }
   ],
   "source": [
    "from gensim.models import CoherenceModel\n",
    "# Compute Coherence Score\n",
    "coherence_model_lda = CoherenceModel(model=lda_model, texts=data_lemmatized, dictionary=id2word, coherence='c_v')\n",
    "coherence_lda = coherence_model_lda.get_coherence()\n",
    "print('\\nCoherence Score: ', coherence_lda)"
   ]
  },
  {
   "cell_type": "code",
   "execution_count": 282,
   "metadata": {},
   "outputs": [],
   "source": [
    "# supporting function\n",
    "def compute_coherence_values(corpus, dictionary, k, a, b):\n",
    "    \n",
    "    lda_model = gensim.models.LdaMulticore(corpus=corpus,\n",
    "                                           id2word=id2word,\n",
    "                                           num_topics=10, \n",
    "                                           random_state=100,\n",
    "                                           chunksize=100,\n",
    "                                           passes=10,\n",
    "                                           alpha=a,\n",
    "                                           eta=b,\n",
    "                                           per_word_topics=True)\n",
    "    \n",
    "    coherence_model_lda = CoherenceModel(model=lda_model, texts=data_lemmatized, dictionary=id2word, coherence='c_v')\n",
    "    \n",
    "    return coherence_model_lda.get_coherence()"
   ]
  },
  {
   "cell_type": "code",
   "execution_count": 284,
   "metadata": {},
   "outputs": [
    {
     "name": "stderr",
     "output_type": "stream",
     "text": [
      "INFO:gensim.models.ldamodel:using serial LDA version on this node\n",
      "INFO:gensim.models.ldamulticore:running online LDA training, 8 topics, 10 passes over the supplied corpus of 600 documents, updating every 300 documents, evaluating every ~600 documents, iterating 50x with a convergence threshold of 0.001000\n",
      "INFO:gensim.models.ldamulticore:training LDA model using 3 processes\n",
      "INFO:gensim.models.ldamulticore:PROGRESS: pass 0, dispatched chunk #0 = documents up to #100/600, outstanding queue size 1\n",
      "INFO:gensim.models.ldamulticore:PROGRESS: pass 0, dispatched chunk #1 = documents up to #200/600, outstanding queue size 2\n",
      "INFO:gensim.models.ldamulticore:PROGRESS: pass 0, dispatched chunk #2 = documents up to #300/600, outstanding queue size 3\n",
      "INFO:gensim.models.ldamulticore:PROGRESS: pass 0, dispatched chunk #3 = documents up to #400/600, outstanding queue size 4\n",
      "INFO:gensim.models.ldamulticore:PROGRESS: pass 0, dispatched chunk #4 = documents up to #500/600, outstanding queue size 5\n",
      "INFO:gensim.models.ldamulticore:PROGRESS: pass 0, dispatched chunk #5 = documents up to #600/600, outstanding queue size 6\n",
      "INFO:gensim.models.ldamodel:merging changes from 300 documents into a model of 600 documents\n",
      "INFO:gensim.models.ldamodel:topic #0 (0.010): 0.001*\"marge\" + 0.001*\"bart\" + 0.001*\"lisa\" + 0.001*\"homer\" + 0.001*\"tells\" + 0.001*\"family\" + 0.001*\"kids\" + 0.001*\"get\" + 0.001*\"go\" + 0.001*\"work\"\n",
      "INFO:gensim.models.ldamodel:topic #6 (0.010): 0.002*\"bart\" + 0.001*\"lisa\" + 0.001*\"marge\" + 0.001*\"time\" + 0.001*\"homer\" + 0.001*\"mr\" + 0.001*\"springfield\" + 0.001*\"however\" + 0.001*\"flanders\" + 0.001*\"get\"\n",
      "INFO:gensim.models.ldamodel:topic #1 (0.010): 0.002*\"homer\" + 0.002*\"bart\" + 0.002*\"marge\" + 0.001*\"lisa\" + 0.001*\"family\" + 0.001*\"back\" + 0.001*\"gets\" + 0.001*\"springfield\" + 0.001*\"tries\" + 0.001*\"home\"\n",
      "INFO:gensim.models.ldamodel:topic #2 (0.010): 0.001*\"homer\" + 0.001*\"bart\" + 0.001*\"lisa\" + 0.001*\"family\" + 0.001*\"springfield\" + 0.001*\"day\" + 0.001*\"however\" + 0.001*\"back\" + 0.001*\"goes\" + 0.001*\"marge\"\n",
      "INFO:gensim.models.ldamodel:topic #3 (0.010): 0.001*\"bart\" + 0.001*\"homer\" + 0.001*\"lisa\" + 0.001*\"family\" + 0.001*\"springfield\" + 0.001*\"marge\" + 0.001*\"gets\" + 0.001*\"tells\" + 0.001*\"goes\" + 0.001*\"car\"\n",
      "INFO:gensim.models.ldamodel:topic diff=0.672241, rho=1.000000\n",
      "INFO:gensim.models.ldamodel:-9.570 per-word bound, 759.8 perplexity estimate based on a held-out corpus of 100 documents with 15810 words\n",
      "INFO:gensim.models.ldamodel:merging changes from 300 documents into a model of 600 documents\n",
      "INFO:gensim.models.ldamodel:topic #4 (0.010): 0.001*\"homer\" + 0.001*\"springfield\" + 0.001*\"family\" + 0.001*\"bart\" + 0.001*\"school\" + 0.001*\"marge\" + 0.001*\"gets\" + 0.001*\"lisa\" + 0.001*\"get\" + 0.001*\"however\"\n",
      "INFO:gensim.models.ldamodel:topic #6 (0.010): 0.002*\"bart\" + 0.001*\"lisa\" + 0.001*\"marge\" + 0.001*\"homer\" + 0.001*\"springfield\" + 0.001*\"time\" + 0.001*\"mr\" + 0.001*\"back\" + 0.001*\"however\" + 0.001*\"go\"\n",
      "INFO:gensim.models.ldamodel:topic #1 (0.010): 0.002*\"homer\" + 0.002*\"bart\" + 0.002*\"marge\" + 0.002*\"lisa\" + 0.001*\"back\" + 0.001*\"gets\" + 0.001*\"home\" + 0.001*\"plans\" + 0.001*\"family\" + 0.001*\"get\"\n",
      "INFO:gensim.models.ldamodel:topic #0 (0.010): 0.002*\"marge\" + 0.002*\"bart\" + 0.002*\"lisa\" + 0.001*\"homer\" + 0.001*\"get\" + 0.001*\"go\" + 0.001*\"takes\" + 0.001*\"back\" + 0.001*\"tells\" + 0.001*\"family\"\n",
      "INFO:gensim.models.ldamodel:topic #7 (0.010): 0.001*\"lisa\" + 0.001*\"bart\" + 0.001*\"homer\" + 0.001*\"springfield\" + 0.001*\"however\" + 0.001*\"one\" + 0.001*\"everyone\" + 0.001*\"family\" + 0.001*\"home\" + 0.001*\"marge\"\n",
      "INFO:gensim.models.ldamodel:topic diff=0.216908, rho=0.500000\n",
      "INFO:gensim.models.ldamodel:-9.328 per-word bound, 642.9 perplexity estimate based on a held-out corpus of 100 documents with 15810 words\n",
      "INFO:gensim.models.ldamulticore:PROGRESS: pass 1, dispatched chunk #0 = documents up to #100/600, outstanding queue size 1\n",
      "INFO:gensim.models.ldamulticore:PROGRESS: pass 1, dispatched chunk #1 = documents up to #200/600, outstanding queue size 2\n",
      "INFO:gensim.models.ldamulticore:PROGRESS: pass 1, dispatched chunk #2 = documents up to #300/600, outstanding queue size 3\n",
      "INFO:gensim.models.ldamulticore:PROGRESS: pass 1, dispatched chunk #3 = documents up to #400/600, outstanding queue size 4\n",
      "INFO:gensim.models.ldamulticore:PROGRESS: pass 1, dispatched chunk #4 = documents up to #500/600, outstanding queue size 5\n",
      "INFO:gensim.models.ldamulticore:PROGRESS: pass 1, dispatched chunk #5 = documents up to #600/600, outstanding queue size 6\n",
      "INFO:gensim.models.ldamodel:merging changes from 300 documents into a model of 600 documents\n",
      "INFO:gensim.models.ldamodel:topic #7 (0.010): 0.001*\"lisa\" + 0.001*\"bart\" + 0.001*\"homer\" + 0.001*\"springfield\" + 0.001*\"one\" + 0.001*\"however\" + 0.000*\"everyone\" + 0.000*\"burns\" + 0.000*\"family\" + 0.000*\"home\"\n",
      "INFO:gensim.models.ldamodel:topic #6 (0.010): 0.001*\"bart\" + 0.001*\"lisa\" + 0.001*\"marge\" + 0.001*\"homer\" + 0.001*\"mr\" + 0.001*\"time\" + 0.001*\"springfield\" + 0.001*\"burns\" + 0.001*\"family\" + 0.001*\"back\"\n",
      "INFO:gensim.models.ldamodel:topic #2 (0.010): 0.002*\"bart\" + 0.001*\"homer\" + 0.001*\"lisa\" + 0.001*\"springfield\" + 0.001*\"family\" + 0.001*\"tells\" + 0.001*\"marge\" + 0.001*\"school\" + 0.001*\"home\" + 0.001*\"however\"\n",
      "INFO:gensim.models.ldamodel:topic #0 (0.010): 0.002*\"marge\" + 0.002*\"bart\" + 0.001*\"lisa\" + 0.001*\"homer\" + 0.001*\"go\" + 0.001*\"get\" + 0.001*\"tells\" + 0.001*\"takes\" + 0.001*\"family\" + 0.001*\"kids\"\n",
      "INFO:gensim.models.ldamodel:topic #4 (0.010): 0.001*\"springfield\" + 0.001*\"homer\" + 0.001*\"family\" + 0.001*\"bart\" + 0.001*\"school\" + 0.001*\"marge\" + 0.001*\"get\" + 0.001*\"gets\" + 0.000*\"lisa\" + 0.000*\"krusty\"\n",
      "INFO:gensim.models.ldamodel:topic diff=0.130279, rho=0.353553\n",
      "INFO:gensim.models.ldamodel:-9.328 per-word bound, 642.9 perplexity estimate based on a held-out corpus of 100 documents with 15810 words\n",
      "INFO:gensim.models.ldamodel:merging changes from 300 documents into a model of 600 documents\n",
      "INFO:gensim.models.ldamodel:topic #3 (0.010): 0.001*\"homer\" + 0.001*\"bart\" + 0.001*\"marge\" + 0.001*\"lisa\" + 0.001*\"gets\" + 0.001*\"family\" + 0.001*\"springfield\" + 0.001*\"tells\" + 0.001*\"take\" + 0.001*\"goes\"\n",
      "INFO:gensim.models.ldamodel:topic #5 (0.010): 0.002*\"homer\" + 0.002*\"bart\" + 0.002*\"marge\" + 0.002*\"lisa\" + 0.001*\"family\" + 0.001*\"springfield\" + 0.001*\"however\" + 0.001*\"go\" + 0.001*\"goes\" + 0.001*\"tells\"\n",
      "INFO:gensim.models.ldamodel:topic #1 (0.010): 0.003*\"homer\" + 0.003*\"bart\" + 0.003*\"marge\" + 0.002*\"lisa\" + 0.002*\"back\" + 0.002*\"gets\" + 0.002*\"springfield\" + 0.002*\"get\" + 0.002*\"family\" + 0.002*\"however\"\n",
      "INFO:gensim.models.ldamodel:topic #6 (0.010): 0.001*\"bart\" + 0.001*\"lisa\" + 0.001*\"marge\" + 0.001*\"time\" + 0.001*\"mr\" + 0.001*\"homer\" + 0.001*\"springfield\" + 0.001*\"back\" + 0.001*\"burns\" + 0.001*\"go\"\n",
      "INFO:gensim.models.ldamodel:topic #7 (0.010): 0.001*\"lisa\" + 0.000*\"bart\" + 0.000*\"homer\" + 0.000*\"one\" + 0.000*\"springfield\" + 0.000*\"family\" + 0.000*\"however\" + 0.000*\"everyone\" + 0.000*\"burns\" + 0.000*\"skinner\"\n",
      "INFO:gensim.models.ldamodel:topic diff=0.131991, rho=0.353553\n",
      "INFO:gensim.models.ldamodel:-9.069 per-word bound, 537.1 perplexity estimate based on a held-out corpus of 100 documents with 15810 words\n",
      "INFO:gensim.models.ldamulticore:PROGRESS: pass 2, dispatched chunk #0 = documents up to #100/600, outstanding queue size 1\n",
      "INFO:gensim.models.ldamulticore:PROGRESS: pass 2, dispatched chunk #1 = documents up to #200/600, outstanding queue size 2\n",
      "INFO:gensim.models.ldamulticore:PROGRESS: pass 2, dispatched chunk #2 = documents up to #300/600, outstanding queue size 3\n",
      "INFO:gensim.models.ldamulticore:PROGRESS: pass 2, dispatched chunk #3 = documents up to #400/600, outstanding queue size 4\n",
      "INFO:gensim.models.ldamulticore:PROGRESS: pass 2, dispatched chunk #4 = documents up to #500/600, outstanding queue size 5\n",
      "INFO:gensim.models.ldamulticore:PROGRESS: pass 2, dispatched chunk #5 = documents up to #600/600, outstanding queue size 6\n",
      "INFO:gensim.models.ldamodel:merging changes from 300 documents into a model of 600 documents\n",
      "INFO:gensim.models.ldamodel:topic #1 (0.010): 0.003*\"homer\" + 0.003*\"bart\" + 0.003*\"marge\" + 0.002*\"lisa\" + 0.002*\"springfield\" + 0.002*\"family\" + 0.002*\"back\" + 0.002*\"gets\" + 0.002*\"get\" + 0.002*\"however\"\n",
      "INFO:gensim.models.ldamodel:topic #7 (0.010): 0.000*\"lisa\" + 0.000*\"bart\" + 0.000*\"burns\" + 0.000*\"one\" + 0.000*\"due\" + 0.000*\"flanders\" + 0.000*\"skinner\" + 0.000*\"homer\" + 0.000*\"money\" + 0.000*\"springfield\"\n"
     ]
    },
    {
     "name": "stderr",
     "output_type": "stream",
     "text": [
      "INFO:gensim.models.ldamodel:topic #0 (0.010): 0.001*\"bart\" + 0.001*\"marge\" + 0.001*\"lisa\" + 0.001*\"homer\" + 0.001*\"get\" + 0.001*\"takes\" + 0.001*\"kids\" + 0.001*\"tells\" + 0.001*\"family\" + 0.001*\"however\"\n",
      "INFO:gensim.models.ldamodel:topic #6 (0.010): 0.001*\"bart\" + 0.001*\"lisa\" + 0.001*\"marge\" + 0.001*\"mr\" + 0.001*\"time\" + 0.000*\"homer\" + 0.000*\"springfield\" + 0.000*\"burns\" + 0.000*\"family\" + 0.000*\"back\"\n",
      "INFO:gensim.models.ldamodel:topic #3 (0.010): 0.001*\"homer\" + 0.001*\"lisa\" + 0.001*\"marge\" + 0.001*\"bart\" + 0.001*\"family\" + 0.001*\"gets\" + 0.001*\"springfield\" + 0.001*\"tells\" + 0.001*\"burns\" + 0.001*\"take\"\n",
      "INFO:gensim.models.ldamodel:topic diff=0.105304, rho=0.333333\n",
      "INFO:gensim.models.ldamodel:-9.090 per-word bound, 544.9 perplexity estimate based on a held-out corpus of 100 documents with 15810 words\n",
      "INFO:gensim.models.ldamodel:merging changes from 300 documents into a model of 600 documents\n",
      "INFO:gensim.models.ldamodel:topic #6 (0.010): 0.001*\"bart\" + 0.001*\"lisa\" + 0.000*\"marge\" + 0.000*\"time\" + 0.000*\"mr\" + 0.000*\"go\" + 0.000*\"burns\" + 0.000*\"springfield\" + 0.000*\"milhouse\" + 0.000*\"back\"\n",
      "INFO:gensim.models.ldamodel:topic #0 (0.010): 0.001*\"bart\" + 0.001*\"marge\" + 0.001*\"lisa\" + 0.001*\"homer\" + 0.001*\"milhouse\" + 0.001*\"get\" + 0.001*\"takes\" + 0.001*\"kids\" + 0.001*\"however\" + 0.001*\"work\"\n",
      "INFO:gensim.models.ldamodel:topic #7 (0.010): 0.000*\"lisa\" + 0.000*\"bart\" + 0.000*\"skinner\" + 0.000*\"burns\" + 0.000*\"family\" + 0.000*\"time\" + 0.000*\"one\" + 0.000*\"due\" + 0.000*\"story\" + 0.000*\"flanders\"\n",
      "INFO:gensim.models.ldamodel:topic #4 (0.010): 0.000*\"krusty\" + 0.000*\"school\" + 0.000*\"springfield\" + 0.000*\"finally\" + 0.000*\"bart\" + 0.000*\"family\" + 0.000*\"homer\" + 0.000*\"selma\" + 0.000*\"mr\" + 0.000*\"story\"\n",
      "INFO:gensim.models.ldamodel:topic #1 (0.010): 0.003*\"homer\" + 0.003*\"bart\" + 0.003*\"marge\" + 0.003*\"lisa\" + 0.002*\"back\" + 0.002*\"springfield\" + 0.002*\"gets\" + 0.002*\"family\" + 0.002*\"get\" + 0.002*\"however\"\n",
      "INFO:gensim.models.ldamodel:topic diff=0.100771, rho=0.333333\n",
      "INFO:gensim.models.ldamodel:-8.941 per-word bound, 491.3 perplexity estimate based on a held-out corpus of 100 documents with 15810 words\n",
      "INFO:gensim.models.ldamulticore:PROGRESS: pass 3, dispatched chunk #0 = documents up to #100/600, outstanding queue size 1\n",
      "INFO:gensim.models.ldamulticore:PROGRESS: pass 3, dispatched chunk #1 = documents up to #200/600, outstanding queue size 2\n",
      "INFO:gensim.models.ldamulticore:PROGRESS: pass 3, dispatched chunk #2 = documents up to #300/600, outstanding queue size 3\n",
      "INFO:gensim.models.ldamulticore:PROGRESS: pass 3, dispatched chunk #3 = documents up to #400/600, outstanding queue size 4\n",
      "INFO:gensim.models.ldamulticore:PROGRESS: pass 3, dispatched chunk #4 = documents up to #500/600, outstanding queue size 5\n",
      "INFO:gensim.models.ldamulticore:PROGRESS: pass 3, dispatched chunk #5 = documents up to #600/600, outstanding queue size 6\n",
      "INFO:gensim.models.ldamodel:merging changes from 300 documents into a model of 600 documents\n",
      "INFO:gensim.models.ldamodel:topic #3 (0.010): 0.000*\"lisa\" + 0.000*\"homer\" + 0.000*\"burns\" + 0.000*\"family\" + 0.000*\"marge\" + 0.000*\"gets\" + 0.000*\"bart\" + 0.000*\"tells\" + 0.000*\"take\" + 0.000*\"time\"\n",
      "INFO:gensim.models.ldamodel:topic #2 (0.010): 0.001*\"bart\" + 0.001*\"lisa\" + 0.001*\"school\" + 0.001*\"family\" + 0.001*\"springfield\" + 0.001*\"homer\" + 0.001*\"tells\" + 0.001*\"marge\" + 0.001*\"home\" + 0.000*\"money\"\n",
      "INFO:gensim.models.ldamodel:topic #6 (0.010): 0.001*\"bart\" + 0.000*\"lisa\" + 0.000*\"marge\" + 0.000*\"mr\" + 0.000*\"time\" + 0.000*\"burns\" + 0.000*\"milhouse\" + 0.000*\"go\" + 0.000*\"family\" + 0.000*\"springfield\"\n",
      "INFO:gensim.models.ldamodel:topic #0 (0.010): 0.001*\"bart\" + 0.001*\"marge\" + 0.001*\"lisa\" + 0.001*\"homer\" + 0.000*\"takes\" + 0.000*\"milhouse\" + 0.000*\"tells\" + 0.000*\"family\" + 0.000*\"work\" + 0.000*\"get\"\n",
      "INFO:gensim.models.ldamodel:topic #7 (0.010): 0.000*\"lisa\" + 0.000*\"burns\" + 0.000*\"flanders\" + 0.000*\"story\" + 0.000*\"bart\" + 0.000*\"skinner\" + 0.000*\"due\" + 0.000*\"car\" + 0.000*\"time\" + 0.000*\"tv\"\n",
      "INFO:gensim.models.ldamodel:topic diff=0.086478, rho=0.316228\n",
      "INFO:gensim.models.ldamodel:-8.983 per-word bound, 505.9 perplexity estimate based on a held-out corpus of 100 documents with 15810 words\n",
      "INFO:gensim.models.ldamodel:merging changes from 300 documents into a model of 600 documents\n",
      "INFO:gensim.models.ldamodel:topic #4 (0.010): 0.000*\"krusty\" + 0.000*\"finally\" + 0.000*\"maggie\" + 0.000*\"parody\" + 0.000*\"flag\" + 0.000*\"story\" + 0.000*\"mr\" + 0.000*\"hibbert\" + 0.000*\"selma\" + 0.000*\"resembling\"\n",
      "INFO:gensim.models.ldamodel:topic #0 (0.010): 0.001*\"bart\" + 0.001*\"marge\" + 0.001*\"lisa\" + 0.000*\"homer\" + 0.000*\"milhouse\" + 0.000*\"work\" + 0.000*\"tells\" + 0.000*\"takes\" + 0.000*\"however\" + 0.000*\"kids\"\n",
      "INFO:gensim.models.ldamodel:topic #2 (0.010): 0.001*\"bart\" + 0.001*\"school\" + 0.001*\"lisa\" + 0.001*\"family\" + 0.001*\"springfield\" + 0.000*\"car\" + 0.000*\"homer\" + 0.000*\"everyone\" + 0.000*\"old\" + 0.000*\"tells\"\n",
      "INFO:gensim.models.ldamodel:topic #7 (0.010): 0.000*\"lisa\" + 0.000*\"martin\" + 0.000*\"project\" + 0.000*\"story\" + 0.000*\"skinner\" + 0.000*\"bart\" + 0.000*\"nevertheless\" + 0.000*\"based\" + 0.000*\"burns\" + 0.000*\"film\"\n",
      "INFO:gensim.models.ldamodel:topic #6 (0.010): 0.000*\"bart\" + 0.000*\"lisa\" + 0.000*\"milhouse\" + 0.000*\"mr\" + 0.000*\"nelson\" + 0.000*\"marge\" + 0.000*\"time\" + 0.000*\"ned\" + 0.000*\"go\" + 0.000*\"burns\"\n",
      "INFO:gensim.models.ldamodel:topic diff=0.081251, rho=0.316228\n",
      "INFO:gensim.models.ldamodel:-8.883 per-word bound, 472.1 perplexity estimate based on a held-out corpus of 100 documents with 15810 words\n",
      "INFO:gensim.models.ldamulticore:PROGRESS: pass 4, dispatched chunk #0 = documents up to #100/600, outstanding queue size 1\n",
      "INFO:gensim.models.ldamulticore:PROGRESS: pass 4, dispatched chunk #1 = documents up to #200/600, outstanding queue size 2\n",
      "INFO:gensim.models.ldamulticore:PROGRESS: pass 4, dispatched chunk #2 = documents up to #300/600, outstanding queue size 3\n",
      "INFO:gensim.models.ldamulticore:PROGRESS: pass 4, dispatched chunk #3 = documents up to #400/600, outstanding queue size 4\n",
      "INFO:gensim.models.ldamulticore:PROGRESS: pass 4, dispatched chunk #4 = documents up to #500/600, outstanding queue size 5\n",
      "INFO:gensim.models.ldamulticore:PROGRESS: pass 4, dispatched chunk #5 = documents up to #600/600, outstanding queue size 6\n",
      "INFO:gensim.models.ldamodel:merging changes from 300 documents into a model of 600 documents\n",
      "INFO:gensim.models.ldamodel:topic #4 (0.010): 0.000*\"krusty\" + 0.000*\"finally\" + 0.000*\"flag\" + 0.000*\"mr\" + 0.000*\"prepare\" + 0.000*\"clinton\" + 0.000*\"sue\" + 0.000*\"catchphrase\" + 0.000*\"delight\" + 0.000*\"burns\"\n",
      "INFO:gensim.models.ldamodel:topic #5 (0.010): 0.001*\"bart\" + 0.001*\"lisa\" + 0.001*\"homer\" + 0.001*\"springfield\" + 0.001*\"marge\" + 0.001*\"family\" + 0.001*\"however\" + 0.001*\"simpsons\" + 0.001*\"skinner\" + 0.001*\"new\"\n",
      "INFO:gensim.models.ldamodel:topic #0 (0.010): 0.001*\"bart\" + 0.000*\"lisa\" + 0.000*\"marge\" + 0.000*\"homer\" + 0.000*\"flanders\" + 0.000*\"milhouse\" + 0.000*\"work\" + 0.000*\"takes\" + 0.000*\"tells\" + 0.000*\"family\"\n",
      "INFO:gensim.models.ldamodel:topic #6 (0.010): 0.000*\"bart\" + 0.000*\"lisa\" + 0.000*\"milhouse\" + 0.000*\"mr\" + 0.000*\"phone\" + 0.000*\"cameras\" + 0.000*\"nelson\" + 0.000*\"makeshift\" + 0.000*\"ned\" + 0.000*\"marge\"\n",
      "INFO:gensim.models.ldamodel:topic #3 (0.010): 0.000*\"lisa\" + 0.000*\"burns\" + 0.000*\"family\" + 0.000*\"homer\" + 0.000*\"room\" + 0.000*\"time\" + 0.000*\"place\" + 0.000*\"says\" + 0.000*\"lucky\" + 0.000*\"grabs\"\n",
      "INFO:gensim.models.ldamodel:topic diff=0.072214, rho=0.301511\n",
      "INFO:gensim.models.ldamodel:-8.931 per-word bound, 488.1 perplexity estimate based on a held-out corpus of 100 documents with 15810 words\n",
      "INFO:gensim.models.ldamodel:merging changes from 300 documents into a model of 600 documents\n",
      "INFO:gensim.models.ldamodel:topic #0 (0.010): 0.000*\"bart\" + 0.000*\"marge\" + 0.000*\"lisa\" + 0.000*\"milhouse\" + 0.000*\"accompanied\" + 0.000*\"work\" + 0.000*\"homer\" + 0.000*\"flanders\" + 0.000*\"nelson\" + 0.000*\"tells\"\n",
      "INFO:gensim.models.ldamodel:topic #5 (0.010): 0.001*\"bart\" + 0.001*\"springfield\" + 0.001*\"lisa\" + 0.001*\"marge\" + 0.001*\"homer\" + 0.001*\"family\" + 0.000*\"simpsons\" + 0.000*\"skinner\" + 0.000*\"quimby\" + 0.000*\"however\"\n",
      "INFO:gensim.models.ldamodel:topic #4 (0.010): 0.000*\"krusty\" + 0.000*\"maggie\" + 0.000*\"parody\" + 0.000*\"resembling\" + 0.000*\"flag\" + 0.000*\"finally\" + 0.000*\"objections\" + 0.000*\"dr\" + 0.000*\"hibbert\" + 0.000*\"story\"\n"
     ]
    },
    {
     "name": "stderr",
     "output_type": "stream",
     "text": [
      "INFO:gensim.models.ldamodel:topic #3 (0.010): 0.000*\"lisa\" + 0.000*\"lucky\" + 0.000*\"burns\" + 0.000*\"simpsons\" + 0.000*\"time\" + 0.000*\"grabs\" + 0.000*\"place\" + 0.000*\"couple\" + 0.000*\"room\" + 0.000*\"says\"\n",
      "INFO:gensim.models.ldamodel:topic #1 (0.010): 0.003*\"bart\" + 0.003*\"homer\" + 0.003*\"marge\" + 0.003*\"lisa\" + 0.002*\"springfield\" + 0.002*\"family\" + 0.002*\"back\" + 0.002*\"gets\" + 0.002*\"however\" + 0.002*\"get\"\n",
      "INFO:gensim.models.ldamodel:topic diff=0.066345, rho=0.301511\n",
      "INFO:gensim.models.ldamodel:-8.855 per-word bound, 463.0 perplexity estimate based on a held-out corpus of 100 documents with 15810 words\n",
      "INFO:gensim.models.ldamulticore:PROGRESS: pass 5, dispatched chunk #0 = documents up to #100/600, outstanding queue size 1\n",
      "INFO:gensim.models.ldamulticore:PROGRESS: pass 5, dispatched chunk #1 = documents up to #200/600, outstanding queue size 2\n",
      "INFO:gensim.models.ldamulticore:PROGRESS: pass 5, dispatched chunk #2 = documents up to #300/600, outstanding queue size 3\n",
      "INFO:gensim.models.ldamulticore:PROGRESS: pass 5, dispatched chunk #3 = documents up to #400/600, outstanding queue size 4\n",
      "INFO:gensim.models.ldamulticore:PROGRESS: pass 5, dispatched chunk #4 = documents up to #500/600, outstanding queue size 5\n",
      "INFO:gensim.models.ldamulticore:PROGRESS: pass 5, dispatched chunk #5 = documents up to #600/600, outstanding queue size 6\n",
      "INFO:gensim.models.ldamodel:merging changes from 300 documents into a model of 600 documents\n",
      "INFO:gensim.models.ldamodel:topic #5 (0.010): 0.001*\"bart\" + 0.000*\"springfield\" + 0.000*\"family\" + 0.000*\"lisa\" + 0.000*\"marge\" + 0.000*\"homer\" + 0.000*\"skinner\" + 0.000*\"simpsons\" + 0.000*\"quimby\" + 0.000*\"tries\"\n",
      "INFO:gensim.models.ldamodel:topic #4 (0.010): 0.000*\"krusty\" + 0.000*\"flag\" + 0.000*\"finally\" + 0.000*\"clinton\" + 0.000*\"sue\" + 0.000*\"catchphrase\" + 0.000*\"delight\" + 0.000*\"daddy\" + 0.000*\"objections\" + 0.000*\"round\"\n",
      "INFO:gensim.models.ldamodel:topic #3 (0.010): 0.000*\"lucky\" + 0.000*\"lisa\" + 0.000*\"burns\" + 0.000*\"grabs\" + 0.000*\"national\" + 0.000*\"place\" + 0.000*\"room\" + 0.000*\"placed\" + 0.000*\"concludes\" + 0.000*\"cuts\"\n",
      "INFO:gensim.models.ldamodel:topic #1 (0.010): 0.003*\"bart\" + 0.003*\"homer\" + 0.003*\"marge\" + 0.003*\"lisa\" + 0.002*\"springfield\" + 0.002*\"family\" + 0.002*\"back\" + 0.002*\"however\" + 0.002*\"gets\" + 0.002*\"get\"\n",
      "INFO:gensim.models.ldamodel:topic #2 (0.010): 0.000*\"bart\" + 0.000*\"lisa\" + 0.000*\"family\" + 0.000*\"school\" + 0.000*\"inside\" + 0.000*\"springfield\" + 0.000*\"finally\" + 0.000*\"car\" + 0.000*\"everyone\" + 0.000*\"phone\"\n",
      "INFO:gensim.models.ldamodel:topic diff=0.060673, rho=0.288675\n",
      "INFO:gensim.models.ldamodel:-8.904 per-word bound, 479.1 perplexity estimate based on a held-out corpus of 100 documents with 15810 words\n",
      "INFO:gensim.models.ldamodel:merging changes from 300 documents into a model of 600 documents\n",
      "INFO:gensim.models.ldamodel:topic #6 (0.010): 0.000*\"chocolate\" + 0.000*\"cameras\" + 0.000*\"lisa\" + 0.000*\"milhouse\" + 0.000*\"bart\" + 0.000*\"woman\" + 0.000*\"judge\" + 0.000*\"wig\" + 0.000*\"instead\" + 0.000*\"proof\"\n",
      "INFO:gensim.models.ldamodel:topic #2 (0.010): 0.000*\"bart\" + 0.000*\"family\" + 0.000*\"phone\" + 0.000*\"school\" + 0.000*\"inside\" + 0.000*\"lisa\" + 0.000*\"springfield\" + 0.000*\"plan\" + 0.000*\"everyone\" + 0.000*\"car\"\n",
      "INFO:gensim.models.ldamodel:topic #4 (0.010): 0.000*\"krusty\" + 0.000*\"parody\" + 0.000*\"resembling\" + 0.000*\"maggie\" + 0.000*\"flag\" + 0.000*\"objections\" + 0.000*\"background\" + 0.000*\"george\" + 0.000*\"dr\" + 0.000*\"keys\"\n",
      "INFO:gensim.models.ldamodel:topic #1 (0.010): 0.003*\"bart\" + 0.003*\"homer\" + 0.003*\"marge\" + 0.003*\"lisa\" + 0.002*\"springfield\" + 0.002*\"family\" + 0.002*\"back\" + 0.002*\"gets\" + 0.002*\"however\" + 0.002*\"get\"\n",
      "INFO:gensim.models.ldamodel:topic #0 (0.010): 0.000*\"accompanied\" + 0.000*\"bart\" + 0.000*\"milhouse\" + 0.000*\"marge\" + 0.000*\"lisa\" + 0.000*\"crowd\" + 0.000*\"work\" + 0.000*\"flanders\" + 0.000*\"skinner\" + 0.000*\"absolutely\"\n",
      "INFO:gensim.models.ldamodel:topic diff=0.056492, rho=0.288675\n",
      "INFO:gensim.models.ldamodel:-8.841 per-word bound, 458.5 perplexity estimate based on a held-out corpus of 100 documents with 15810 words\n",
      "INFO:gensim.models.ldamulticore:PROGRESS: pass 6, dispatched chunk #0 = documents up to #100/600, outstanding queue size 1\n",
      "INFO:gensim.models.ldamulticore:PROGRESS: pass 6, dispatched chunk #1 = documents up to #200/600, outstanding queue size 2\n",
      "INFO:gensim.models.ldamulticore:PROGRESS: pass 6, dispatched chunk #2 = documents up to #300/600, outstanding queue size 3\n",
      "INFO:gensim.models.ldamulticore:PROGRESS: pass 6, dispatched chunk #3 = documents up to #400/600, outstanding queue size 4\n",
      "INFO:gensim.models.ldamulticore:PROGRESS: pass 6, dispatched chunk #4 = documents up to #500/600, outstanding queue size 5\n",
      "INFO:gensim.models.ldamulticore:PROGRESS: pass 6, dispatched chunk #5 = documents up to #600/600, outstanding queue size 6\n",
      "INFO:gensim.models.ldamodel:merging changes from 300 documents into a model of 600 documents\n",
      "INFO:gensim.models.ldamodel:topic #6 (0.010): 0.000*\"cameras\" + 0.000*\"makeshift\" + 0.000*\"distracts\" + 0.000*\"chocolate\" + 0.000*\"tower\" + 0.000*\"woman\" + 0.000*\"period\" + 0.000*\"milhouse\" + 0.000*\"lisa\" + 0.000*\"happens\"\n",
      "INFO:gensim.models.ldamodel:topic #4 (0.010): 0.000*\"krusty\" + 0.000*\"flag\" + 0.000*\"sue\" + 0.000*\"catchphrase\" + 0.000*\"clinton\" + 0.000*\"objections\" + 0.000*\"daddy\" + 0.000*\"delight\" + 0.000*\"round\" + 0.000*\"finally\"\n",
      "INFO:gensim.models.ldamodel:topic #2 (0.010): 0.000*\"bart\" + 0.000*\"inside\" + 0.000*\"bridge\" + 0.000*\"family\" + 0.000*\"phone\" + 0.000*\"lisa\" + 0.000*\"finally\" + 0.000*\"school\" + 0.000*\"books\" + 0.000*\"declares\"\n",
      "INFO:gensim.models.ldamodel:topic #7 (0.010): 0.000*\"halloween\" + 0.000*\"crotch\" + 0.000*\"nevertheless\" + 0.000*\"martin\" + 0.000*\"story\" + 0.000*\"maniacally\" + 0.000*\"helpfully\" + 0.000*\"pirate\" + 0.000*\"based\" + 0.000*\"hauling\"\n",
      "INFO:gensim.models.ldamodel:topic #0 (0.010): 0.000*\"flanders\" + 0.000*\"bart\" + 0.000*\"accompanied\" + 0.000*\"crowd\" + 0.000*\"milhouse\" + 0.000*\"lisa\" + 0.000*\"interest\" + 0.000*\"marge\" + 0.000*\"newfound\" + 0.000*\"tour\"\n",
      "INFO:gensim.models.ldamodel:topic diff=0.052830, rho=0.277350\n",
      "INFO:gensim.models.ldamodel:-8.889 per-word bound, 474.0 perplexity estimate based on a held-out corpus of 100 documents with 15810 words\n",
      "INFO:gensim.models.ldamodel:merging changes from 300 documents into a model of 600 documents\n",
      "INFO:gensim.models.ldamodel:topic #3 (0.010): 0.000*\"lucky\" + 0.000*\"headquarters\" + 0.000*\"space\" + 0.000*\"patrons\" + 0.000*\"national\" + 0.000*\"concludes\" + 0.000*\"grabs\" + 0.000*\"bounty\" + 0.000*\"halloween\" + 0.000*\"massage\"\n",
      "INFO:gensim.models.ldamodel:topic #6 (0.010): 0.000*\"cameras\" + 0.000*\"chocolate\" + 0.000*\"judge\" + 0.000*\"wig\" + 0.000*\"woman\" + 0.000*\"milhouse\" + 0.000*\"lisa\" + 0.000*\"proof\" + 0.000*\"insult\" + 0.000*\"enormous\"\n",
      "INFO:gensim.models.ldamodel:topic #2 (0.010): 0.000*\"bart\" + 0.000*\"phone\" + 0.000*\"bridge\" + 0.000*\"family\" + 0.000*\"plan\" + 0.000*\"inside\" + 0.000*\"declares\" + 0.000*\"mall\" + 0.000*\"store\" + 0.000*\"books\"\n",
      "INFO:gensim.models.ldamodel:topic #7 (0.010): 0.000*\"nevertheless\" + 0.000*\"martin\" + 0.000*\"halloween\" + 0.000*\"based\" + 0.000*\"crotch\" + 0.000*\"project\" + 0.000*\"film\" + 0.000*\"want\" + 0.000*\"death\" + 0.000*\"kills\"\n",
      "INFO:gensim.models.ldamodel:topic #4 (0.010): 0.000*\"krusty\" + 0.000*\"resembling\" + 0.000*\"parody\" + 0.000*\"maggie\" + 0.000*\"objections\" + 0.000*\"background\" + 0.000*\"flag\" + 0.000*\"george\" + 0.000*\"keys\" + 0.000*\"catchphrase\"\n",
      "INFO:gensim.models.ldamodel:topic diff=0.049408, rho=0.277350\n",
      "INFO:gensim.models.ldamodel:-8.833 per-word bound, 456.0 perplexity estimate based on a held-out corpus of 100 documents with 15810 words\n",
      "INFO:gensim.models.ldamulticore:PROGRESS: pass 7, dispatched chunk #0 = documents up to #100/600, outstanding queue size 1\n",
      "INFO:gensim.models.ldamulticore:PROGRESS: pass 7, dispatched chunk #1 = documents up to #200/600, outstanding queue size 2\n",
      "INFO:gensim.models.ldamulticore:PROGRESS: pass 7, dispatched chunk #2 = documents up to #300/600, outstanding queue size 3\n",
      "INFO:gensim.models.ldamulticore:PROGRESS: pass 7, dispatched chunk #3 = documents up to #400/600, outstanding queue size 4\n",
      "INFO:gensim.models.ldamulticore:PROGRESS: pass 7, dispatched chunk #4 = documents up to #500/600, outstanding queue size 5\n"
     ]
    },
    {
     "name": "stderr",
     "output_type": "stream",
     "text": [
      "INFO:gensim.models.ldamulticore:PROGRESS: pass 7, dispatched chunk #5 = documents up to #600/600, outstanding queue size 6\n",
      "INFO:gensim.models.ldamodel:merging changes from 300 documents into a model of 600 documents\n",
      "INFO:gensim.models.ldamodel:topic #7 (0.010): 0.000*\"halloween\" + 0.000*\"crotch\" + 0.000*\"nevertheless\" + 0.000*\"martin\" + 0.000*\"maniacally\" + 0.000*\"helpfully\" + 0.000*\"based\" + 0.000*\"pirate\" + 0.000*\"hauling\" + 0.000*\"kong\"\n",
      "INFO:gensim.models.ldamodel:topic #4 (0.010): 0.000*\"krusty\" + 0.000*\"catchphrase\" + 0.000*\"flag\" + 0.000*\"sue\" + 0.000*\"objections\" + 0.000*\"daddy\" + 0.000*\"delight\" + 0.000*\"resembling\" + 0.000*\"clinton\" + 0.000*\"round\"\n",
      "INFO:gensim.models.ldamodel:topic #0 (0.010): 0.000*\"accompanied\" + 0.000*\"flanders\" + 0.000*\"crowd\" + 0.000*\"interest\" + 0.000*\"newfound\" + 0.000*\"okay\" + 0.000*\"ruin\" + 0.000*\"price\" + 0.000*\"note\" + 0.000*\"milhouse\"\n",
      "INFO:gensim.models.ldamodel:topic #2 (0.010): 0.000*\"bridge\" + 0.000*\"bart\" + 0.000*\"phone\" + 0.000*\"inside\" + 0.000*\"books\" + 0.000*\"burning\" + 0.000*\"interrupts\" + 0.000*\"explodes\" + 0.000*\"family\" + 0.000*\"store\"\n",
      "INFO:gensim.models.ldamodel:topic #1 (0.010): 0.003*\"bart\" + 0.003*\"homer\" + 0.003*\"marge\" + 0.003*\"lisa\" + 0.002*\"springfield\" + 0.002*\"family\" + 0.002*\"back\" + 0.002*\"however\" + 0.002*\"gets\" + 0.002*\"get\"\n",
      "INFO:gensim.models.ldamodel:topic diff=0.046803, rho=0.267261\n",
      "INFO:gensim.models.ldamodel:-8.880 per-word bound, 471.0 perplexity estimate based on a held-out corpus of 100 documents with 15810 words\n",
      "INFO:gensim.models.ldamodel:merging changes from 300 documents into a model of 600 documents\n",
      "INFO:gensim.models.ldamodel:topic #0 (0.010): 0.000*\"accompanied\" + 0.000*\"crowd\" + 0.000*\"milhouse\" + 0.000*\"note\" + 0.000*\"interest\" + 0.000*\"loaded\" + 0.000*\"fraud\" + 0.000*\"newfound\" + 0.000*\"okay\" + 0.000*\"work\"\n",
      "INFO:gensim.models.ldamodel:topic #1 (0.010): 0.003*\"bart\" + 0.003*\"homer\" + 0.003*\"marge\" + 0.003*\"lisa\" + 0.002*\"springfield\" + 0.002*\"family\" + 0.002*\"back\" + 0.002*\"gets\" + 0.002*\"however\" + 0.002*\"get\"\n",
      "INFO:gensim.models.ldamodel:topic #5 (0.010): 0.000*\"bart\" + 0.000*\"quimby\" + 0.000*\"move\" + 0.000*\"village\" + 0.000*\"republican\" + 0.000*\"shorts\" + 0.000*\"air\" + 0.000*\"apu\" + 0.000*\"simpsons\" + 0.000*\"face\"\n",
      "INFO:gensim.models.ldamodel:topic #2 (0.010): 0.000*\"phone\" + 0.000*\"bridge\" + 0.000*\"interrupts\" + 0.000*\"burning\" + 0.000*\"bart\" + 0.000*\"books\" + 0.000*\"mall\" + 0.000*\"plan\" + 0.000*\"explodes\" + 0.000*\"declares\"\n",
      "INFO:gensim.models.ldamodel:topic #3 (0.010): 0.000*\"lucky\" + 0.000*\"headquarters\" + 0.000*\"space\" + 0.000*\"national\" + 0.000*\"patrons\" + 0.000*\"concludes\" + 0.000*\"massage\" + 0.000*\"bait\" + 0.000*\"halloween\" + 0.000*\"bounty\"\n",
      "INFO:gensim.models.ldamodel:topic diff=0.044362, rho=0.267261\n",
      "INFO:gensim.models.ldamodel:-8.828 per-word bound, 454.6 perplexity estimate based on a held-out corpus of 100 documents with 15810 words\n",
      "INFO:gensim.models.ldamulticore:PROGRESS: pass 8, dispatched chunk #0 = documents up to #100/600, outstanding queue size 1\n",
      "INFO:gensim.models.ldamulticore:PROGRESS: pass 8, dispatched chunk #1 = documents up to #200/600, outstanding queue size 2\n",
      "INFO:gensim.models.ldamulticore:PROGRESS: pass 8, dispatched chunk #2 = documents up to #300/600, outstanding queue size 3\n",
      "INFO:gensim.models.ldamulticore:PROGRESS: pass 8, dispatched chunk #3 = documents up to #400/600, outstanding queue size 4\n",
      "INFO:gensim.models.ldamulticore:PROGRESS: pass 8, dispatched chunk #4 = documents up to #500/600, outstanding queue size 5\n",
      "INFO:gensim.models.ldamulticore:PROGRESS: pass 8, dispatched chunk #5 = documents up to #600/600, outstanding queue size 6\n",
      "INFO:gensim.models.ldamodel:merging changes from 300 documents into a model of 600 documents\n",
      "INFO:gensim.models.ldamodel:topic #2 (0.010): 0.000*\"bridge\" + 0.000*\"phone\" + 0.000*\"burning\" + 0.000*\"interrupts\" + 0.000*\"sticking\" + 0.000*\"books\" + 0.000*\"explodes\" + 0.000*\"fridge\" + 0.000*\"mall\" + 0.000*\"bart\"\n",
      "INFO:gensim.models.ldamodel:topic #3 (0.010): 0.000*\"lucky\" + 0.000*\"national\" + 0.000*\"space\" + 0.000*\"concludes\" + 0.000*\"judges\" + 0.000*\"critic\" + 0.000*\"placed\" + 0.000*\"massage\" + 0.000*\"bait\" + 0.000*\"lightning\"\n",
      "INFO:gensim.models.ldamodel:topic #0 (0.010): 0.000*\"accompanied\" + 0.000*\"newfound\" + 0.000*\"okay\" + 0.000*\"interest\" + 0.000*\"crowd\" + 0.000*\"ruin\" + 0.000*\"flanders\" + 0.000*\"price\" + 0.000*\"crashing\" + 0.000*\"gains\"\n",
      "INFO:gensim.models.ldamodel:topic #5 (0.010): 0.000*\"bart\" + 0.000*\"quimby\" + 0.000*\"republican\" + 0.000*\"shorts\" + 0.000*\"village\" + 0.000*\"apu\" + 0.000*\"face\" + 0.000*\"move\" + 0.000*\"assumes\" + 0.000*\"skinner\"\n",
      "INFO:gensim.models.ldamodel:topic #6 (0.010): 0.000*\"cameras\" + 0.000*\"makeshift\" + 0.000*\"distracts\" + 0.000*\"chocolate\" + 0.000*\"tower\" + 0.000*\"period\" + 0.000*\"enormous\" + 0.000*\"insult\" + 0.000*\"woman\" + 0.000*\"wig\"\n",
      "INFO:gensim.models.ldamodel:topic diff=0.042442, rho=0.258199\n",
      "INFO:gensim.models.ldamodel:-8.874 per-word bound, 469.1 perplexity estimate based on a held-out corpus of 100 documents with 15810 words\n",
      "INFO:gensim.models.ldamodel:merging changes from 300 documents into a model of 600 documents\n",
      "INFO:gensim.models.ldamodel:topic #0 (0.010): 0.000*\"accompanied\" + 0.000*\"crowd\" + 0.000*\"note\" + 0.000*\"loaded\" + 0.000*\"milhouse\" + 0.000*\"fraud\" + 0.000*\"okay\" + 0.000*\"newfound\" + 0.000*\"interest\" + 0.000*\"ruin\"\n",
      "INFO:gensim.models.ldamodel:topic #6 (0.010): 0.000*\"cameras\" + 0.000*\"chocolate\" + 0.000*\"wig\" + 0.000*\"judge\" + 0.000*\"woman\" + 0.000*\"insult\" + 0.000*\"enormous\" + 0.000*\"contact\" + 0.000*\"proof\" + 0.000*\"disappears\"\n",
      "INFO:gensim.models.ldamodel:topic #4 (0.010): 0.000*\"krusty\" + 0.000*\"resembling\" + 0.000*\"parody\" + 0.000*\"objections\" + 0.000*\"maggie\" + 0.000*\"background\" + 0.000*\"catchphrase\" + 0.000*\"flag\" + 0.000*\"george\" + 0.000*\"keys\"\n",
      "INFO:gensim.models.ldamodel:topic #7 (0.010): 0.000*\"nevertheless\" + 0.000*\"halloween\" + 0.000*\"martin\" + 0.000*\"based\" + 0.000*\"crotch\" + 0.000*\"project\" + 0.000*\"film\" + 0.000*\"riches\" + 0.000*\"plead\" + 0.000*\"kills\"\n",
      "INFO:gensim.models.ldamodel:topic #1 (0.010): 0.003*\"bart\" + 0.003*\"homer\" + 0.003*\"marge\" + 0.003*\"lisa\" + 0.002*\"springfield\" + 0.002*\"family\" + 0.002*\"back\" + 0.002*\"however\" + 0.002*\"gets\" + 0.002*\"get\"\n",
      "INFO:gensim.models.ldamodel:topic diff=0.040461, rho=0.258199\n",
      "INFO:gensim.models.ldamodel:-8.826 per-word bound, 453.9 perplexity estimate based on a held-out corpus of 100 documents with 15810 words\n",
      "INFO:gensim.models.ldamulticore:PROGRESS: pass 9, dispatched chunk #0 = documents up to #100/600, outstanding queue size 1\n",
      "INFO:gensim.models.ldamulticore:PROGRESS: pass 9, dispatched chunk #1 = documents up to #200/600, outstanding queue size 2\n",
      "INFO:gensim.models.ldamulticore:PROGRESS: pass 9, dispatched chunk #2 = documents up to #300/600, outstanding queue size 3\n",
      "INFO:gensim.models.ldamulticore:PROGRESS: pass 9, dispatched chunk #3 = documents up to #400/600, outstanding queue size 4\n",
      "INFO:gensim.models.ldamulticore:PROGRESS: pass 9, dispatched chunk #4 = documents up to #500/600, outstanding queue size 5\n",
      "INFO:gensim.models.ldamulticore:PROGRESS: pass 9, dispatched chunk #5 = documents up to #600/600, outstanding queue size 6\n",
      "INFO:gensim.models.ldamodel:merging changes from 300 documents into a model of 600 documents\n",
      "INFO:gensim.models.ldamodel:topic #1 (0.010): 0.003*\"bart\" + 0.003*\"homer\" + 0.003*\"marge\" + 0.003*\"lisa\" + 0.002*\"springfield\" + 0.002*\"family\" + 0.002*\"back\" + 0.002*\"however\" + 0.002*\"gets\" + 0.002*\"get\"\n",
      "INFO:gensim.models.ldamodel:topic #5 (0.010): 0.000*\"shorts\" + 0.000*\"republican\" + 0.000*\"quimby\" + 0.000*\"bart\" + 0.000*\"village\" + 0.000*\"assumes\" + 0.000*\"bribe\" + 0.000*\"loose\" + 0.000*\"tear\" + 0.000*\"move\"\n",
      "INFO:gensim.models.ldamodel:topic #6 (0.010): 0.000*\"cameras\" + 0.000*\"distracts\" + 0.000*\"makeshift\" + 0.000*\"chocolate\" + 0.000*\"tower\" + 0.000*\"insult\" + 0.000*\"enormous\" + 0.000*\"period\" + 0.000*\"wig\" + 0.000*\"woman\"\n",
      "INFO:gensim.models.ldamodel:topic #4 (0.010): 0.000*\"krusty\" + 0.000*\"catchphrase\" + 0.000*\"objections\" + 0.000*\"sue\" + 0.000*\"daddy\" + 0.000*\"resembling\" + 0.000*\"flag\" + 0.000*\"delight\" + 0.000*\"parody\" + 0.000*\"round\"\n",
      "INFO:gensim.models.ldamodel:topic #2 (0.010): 0.000*\"bridge\" + 0.000*\"sticking\" + 0.000*\"interrupts\" + 0.000*\"burning\" + 0.000*\"books\" + 0.000*\"phone\" + 0.000*\"explodes\" + 0.000*\"fridge\" + 0.000*\"jury\" + 0.000*\"mall\"\n"
     ]
    },
    {
     "name": "stderr",
     "output_type": "stream",
     "text": [
      "INFO:gensim.models.ldamodel:topic diff=0.039246, rho=0.250000\n",
      "INFO:gensim.models.ldamodel:-8.870 per-word bound, 467.8 perplexity estimate based on a held-out corpus of 100 documents with 15810 words\n",
      "INFO:gensim.models.ldamodel:merging changes from 300 documents into a model of 600 documents\n",
      "INFO:gensim.models.ldamodel:topic #6 (0.010): 0.000*\"cameras\" + 0.000*\"chocolate\" + 0.000*\"wig\" + 0.000*\"judge\" + 0.000*\"woman\" + 0.000*\"insult\" + 0.000*\"enormous\" + 0.000*\"contact\" + 0.000*\"distracts\" + 0.000*\"proof\"\n",
      "INFO:gensim.models.ldamodel:topic #4 (0.010): 0.000*\"resembling\" + 0.000*\"krusty\" + 0.000*\"parody\" + 0.000*\"objections\" + 0.000*\"maggie\" + 0.000*\"background\" + 0.000*\"catchphrase\" + 0.000*\"george\" + 0.000*\"keys\" + 0.000*\"flag\"\n",
      "INFO:gensim.models.ldamodel:topic #7 (0.010): 0.000*\"nevertheless\" + 0.000*\"halloween\" + 0.000*\"martin\" + 0.000*\"based\" + 0.000*\"crotch\" + 0.000*\"project\" + 0.000*\"film\" + 0.000*\"riches\" + 0.000*\"plead\" + 0.000*\"log\"\n",
      "INFO:gensim.models.ldamodel:topic #3 (0.010): 0.000*\"lucky\" + 0.000*\"headquarters\" + 0.000*\"space\" + 0.000*\"massage\" + 0.000*\"bait\" + 0.000*\"halloween\" + 0.000*\"transforms\" + 0.000*\"robotic\" + 0.000*\"permits\" + 0.000*\"patrons\"\n",
      "INFO:gensim.models.ldamodel:topic #2 (0.010): 0.000*\"bridge\" + 0.000*\"sticking\" + 0.000*\"phone\" + 0.000*\"interrupts\" + 0.000*\"burning\" + 0.000*\"books\" + 0.000*\"explodes\" + 0.000*\"spare\" + 0.000*\"awaits\" + 0.000*\"reconsider\"\n",
      "INFO:gensim.models.ldamodel:topic diff=0.037158, rho=0.250000\n",
      "INFO:gensim.models.ldamodel:-8.825 per-word bound, 453.6 perplexity estimate based on a held-out corpus of 100 documents with 15810 words\n"
     ]
    }
   ],
   "source": [
    "lda_model = gensim.models.LdaMulticore(corpus=corpus,\n",
    "                                           id2word=id2word,\n",
    "                                           num_topics=8, \n",
    "                                           random_state=100,\n",
    "                                           chunksize=100,\n",
    "                                           passes=10,\n",
    "                                           alpha=0.01,\n",
    "                                           eta=0.9)"
   ]
  },
  {
   "cell_type": "code",
   "execution_count": 286,
   "metadata": {},
   "outputs": [
    {
     "data": {
      "text/html": [
       "\n",
       "<link rel=\"stylesheet\" type=\"text/css\" href=\"https://cdn.rawgit.com/bmabey/pyLDAvis/files/ldavis.v1.0.0.css\">\n",
       "\n",
       "\n",
       "<div id=\"ldavis_el2062449489445922867883045\"></div>\n",
       "<script type=\"text/javascript\">\n",
       "\n",
       "var ldavis_el2062449489445922867883045_data = {\"mdsDat\": {\"x\": [0.1473256944559268, -0.013098160590378409, -0.01647287589161522, -0.024418349003784205, -0.022427466866365577, -0.0210187185110123, -0.025276967349360347, -0.02461315624341073], \"y\": [0.0003520941810857781, -0.011871043150642508, 0.007802585997476096, 0.0005805141490762151, 0.002605734177716363, 0.0017651788349721492, -0.0007349450326028183, -0.0005001191570813673], \"topics\": [1, 2, 3, 4, 5, 6, 7, 8], \"cluster\": [1, 1, 1, 1, 1, 1, 1, 1], \"Freq\": [88.00633239746094, 2.5205633640289307, 1.862011432647705, 1.7464256286621094, 1.703585147857666, 1.69791579246521, 1.503481388092041, 0.9596894383430481]}, \"tinfo\": {\"Term\": [\"kill\", \"parody\", \"milhouse\", \"story\", \"full\", \"krusty\", \"nelson\", \"ned\", \"martin\", \"death\", \"phone\", \"face\", \"quimby\", \"willie\", \"film\", \"comic\", \"machine\", \"woman\", \"suggests\", \"plan\", \"judge\", \"unfortunately\", \"crowd\", \"year\", \"walks\", \"dr\", \"hair\", \"sideshow\", \"store\", \"simpsons\", \"homer\", \"marge\", \"back\", \"gets\", \"however\", \"springfield\", \"lisa\", \"get\", \"one\", \"go\", \"goes\", \"bart\", \"tells\", \"takes\", \"make\", \"becomes\", \"take\", \"later\", \"help\", \"even\", \"day\", \"family\", \"meanwhile\", \"new\", \"home\", \"finds\", \"first\", \"plans\", \"find\", \"two\", \"burns\", \"time\", \"tries\", \"school\", \"simpsons\", \"mr\", \"subscription\", \"sarcastic\", \"impersonates\", \"matador\", \"troops\", \"survey\", \"reconsider\", \"escorts\", \"retainers\", \"reindeer\", \"grumbling\", \"wiseguy\", \"awaits\", \"twin\", \"users\", \"garlic\", \"speaker\", \"accommodate\", \"swimsuit\", \"sticking\", \"uncontrollably\", \"recent\", \"boulder\", \"tossed\", \"rounds\", \"zaps\", \"dong\", \"ding\", \"torches\", \"hostility\", \"cardboard\", \"pads\", \"figured\", \"urge\", \"lord\", \"optimistic\", \"bridge\", \"decorated\", \"fridge\", \"defend\", \"mexican\", \"floating\", \"menu\", \"jury\", \"explodes\", \"interrupts\", \"spare\", \"lap\", \"burning\", \"luigi\", \"books\", \"phone\", \"jewish\", \"cigarette\", \"mall\", \"proud\", \"killing\", \"display\", \"addicted\", \"tear\", \"oven\", \"check\", \"declares\", \"plan\", \"pious\", \"conditioning\", \"sullivan\", \"wrestles\", \"ronald\", \"tread\", \"stung\", \"interrogating\", \"tandem\", \"potter\", \"recognizing\", \"introduced\", \"cheats\", \"subdue\", \"enforcement\", \"recycling\", \"opponent\", \"helpless\", \"shoplifting\", \"transplanted\", \"monitored\", \"effigies\", \"cascades\", \"dumbledore\", \"pees\", \"interpretation\", \"fudging\", \"incarceration\", \"sutures\", \"prosecute\", \"nonsensical\", \"republican\", \"shorts\", \"reciting\", \"branch\", \"moore\", \"village\", \"ted\", \"loans\", \"hosts\", \"paperwork\", \"jealousy\", \"loose\", \"tear\", \"bribe\", \"trophy\", \"assumes\", \"enjoyed\", \"shoot\", \"international\", \"quimby\", \"move\", \"beliefs\", \"deliberately\", \"popularity\", \"guards\", \"bart\", \"peace\", \"dungeon\", \"gym\", \"face\", \"likely\", \"discussion\", \"simpsons\", \"group\", \"objections\", \"likeness\", \"vampire\", \"terrifying\", \"alice\", \"booberella\", \"descends\", \"crediting\", \"resembling\", \"platform\", \"steel\", \"ignore\", \"doc\", \"architectural\", \"ambitions\", \"woodland\", \"ellsworth\", \"jodie\", \"soliloquy\", \"beam\", \"stains\", \"toohey\", \"drunky\", \"depicted\", \"dispatches\", \"vertising\", \"dwarves\", \"warship\", \"unfavorable\", \"compared\", \"victim\", \"scripts\", \"mishap\", \"pleased\", \"catchphrase\", \"rigged\", \"sue\", \"gerald\", \"carved\", \"portrayed\", \"command\", \"advances\", \"aptly\", \"background\", \"maiden\", \"creature\", \"driveway\", \"costumes\", \"clock\", \"thanksgiving\", \"zombie\", \"parody\", \"keys\", \"george\", \"daddy\", \"krusty\", \"tales\", \"commit\", \"flag\", \"maggie\", \"alarm\", \"delight\", \"halloween\", \"blood\", \"brand\", \"classic\", \"killing\", \"revenge\", \"bean\", \"smoothie\", \"blonde\", \"luxurious\", \"hippo\", \"elizabeth\", \"carriage\", \"swept\", \"enrages\", \"await\", \"ignore\", \"royal\", \"logically\", \"external\", \"thirdly\", \"easels\", \"secondly\", \"podiums\", \"diplegia\", \"gelatine\", \"terrorism\", \"lectern\", \"payroll\", \"assistants\", \"supremacist\", \"brunettes\", \"manipulative\", \"cushions\", \"liberals\", \"squash\", \"reflect\", \"insist\", \"wig\", \"witch\", \"cameras\", \"essentially\", \"lift\", \"enormous\", \"disappears\", \"pasta\", \"occurring\", \"mentor\", \"distracts\", \"london\", \"insult\", \"deadly\", \"refers\", \"reaching\", \"chocolate\", \"proof\", \"england\", \"contact\", \"threat\", \"judge\", \"strange\", \"tower\", \"woman\", \"collect\", \"arriving\", \"hammock\", \"makeshift\", \"period\", \"seven\", \"happens\", \"ned\", \"milhouse\", \"rundown\", \"gathered\", \"vat\", \"communicates\", \"bases\", \"compound\", \"beans\", \"ninth\", \"mutters\", \"sacagawea\", \"vienna\", \"salieri\", \"composer\", \"sonatas\", \"anne\", \"explorers\", \"antendees\", \"prenup\", \"wolfgang\", \"meriwether\", \"nincompoop\", \"tenderly\", \"mozart\", \"relations\", \"befuddled\", \"gi\", \"potion\", \"toga\", \"immortalized\", \"aragon\", \"realises\", \"starred\", \"accompanied\", \"assistance\", \"awe\", \"identifies\", \"assembled\", \"aircraft\", \"relax\", \"tim\", \"clark\", \"loaded\", \"impression\", \"conference\", \"fraud\", \"crashing\", \"abuse\", \"ruin\", \"obstacle\", \"viewing\", \"attract\", \"serves\", \"suggested\", \"okay\", \"price\", \"newfound\", \"cast\", \"interest\", \"note\", \"library\", \"naegle\", \"crowd\", \"develops\", \"talent\", \"humiliated\", \"hired\", \"milhouse\", \"fly\", \"shirt\", \"helen\", \"work\", \"death\", \"riches\", \"toupee\", \"november\", \"swapped\", \"haverbrook\", \"ketchup\", \"hauling\", \"maniacally\", \"qui\", \"coordination\", \"greedo\", \"dumas\", \"bartman\", \"sy\", \"gagdet\", \"jabba\", \"shuttlecock\", \"fett\", \"cristo\", \"darth\", \"posting\", \"suns\", \"kenobi\", \"obi\", \"jinn\", \"dak\", \"grievous\", \"jango\", \"dug\", \"organa\", \"log\", \"techniques\", \"taped\", \"frankenstein\", \"wronged\", \"creative\", \"plead\", \"crotch\", \"hobo\", \"helpfully\", \"foam\", \"nevertheless\", \"twilight\", \"kong\", \"halloween\", \"implies\", \"stuffing\", \"brains\", \"crashed\", \"treats\", \"based\", \"begging\", \"swearing\", \"kills\", \"15\", \"martin\", \"project\", \"wish\", \"film\", \"death\", \"want\", \"story\", \"permits\", \"squarepants\", \"holophonor\", \"multiplying\", \"asimov\", \"glugging\", \"morbo\", \"shadowy\", \"zoidberg\", \"hedonismbot\", \"isaac\", \"eyeball\", \"formulates\", \"hermes\", \"freemium\", \"laboratory\", \"evolving\", \"amy\", \"panucci\", \"mugs\", \"elaborates\", \"johnsons\", \"evolve\", \"civic\", \"sepia\", \"saxo\", \"simpsonized\", \"lrrr\", \"ooze\", \"slates\", \"ndnd\", \"discouragement\", \"headquarters\", \"massage\", \"bounty\", \"critic\", \"lucky\", \"bait\", \"robotic\", \"transforms\", \"races\", \"creatures\", \"boo\", \"patrons\", \"halloween\", \"bat\", \"judges\", \"lift\", \"express\", \"space\", \"york\", \"national\", \"concludes\", \"touched\", \"mission\", \"pizza\", \"basement\", \"lightning\", \"killed\", \"future\", \"jimbo\", \"duff\", \"kill\"], \"Freq\": [43.0, 30.0, 109.0, 60.0, 41.0, 71.0, 63.0, 83.0, 30.0, 31.0, 37.0, 46.0, 42.0, 48.0, 33.0, 30.0, 28.0, 28.0, 53.0, 70.0, 23.0, 40.0, 39.0, 38.0, 40.0, 56.0, 34.0, 29.0, 51.0, 132.0, 270.6181640625, 251.5543212890625, 167.835693359375, 160.06365966796875, 160.32640075683594, 185.0546417236328, 250.45494079589844, 152.833984375, 141.33824157714844, 152.23072814941406, 143.7970733642578, 281.5460205078125, 152.29074096679688, 127.81855010986328, 116.2459487915039, 116.64524841308594, 126.59587097167969, 117.74395751953125, 112.79423522949219, 111.12519836425781, 119.82731628417969, 180.6362762451172, 116.65213775634766, 131.91233825683594, 142.73550415039062, 104.59992218017578, 109.57892608642578, 112.9930648803711, 107.389404296875, 98.3174057006836, 124.75737762451172, 123.81378936767578, 119.56224060058594, 129.5450439453125, 130.96023559570312, 116.54183197021484, 0.4142247140407562, 0.4099689722061157, 0.4080115258693695, 0.4076983630657196, 0.4037989675998688, 0.40910497307777405, 0.51832515001297, 0.3738175928592682, 0.39632928371429443, 0.3739772439002991, 0.3737531006336212, 0.36371874809265137, 0.520683228969574, 0.3642277121543884, 0.3545617163181305, 0.32734209299087524, 0.3931823670864105, 0.35796502232551575, 0.32374393939971924, 0.5968538522720337, 0.35523176193237305, 0.3657151162624359, 0.34668639302253723, 0.4095124900341034, 0.3686911463737488, 0.31784588098526, 0.3180563449859619, 0.31802305579185486, 0.32505902647972107, 0.35580337047576904, 0.4037480354309082, 0.3900713324546814, 0.40606653690338135, 0.39847609400749207, 0.49622365832328796, 0.4073171615600586, 0.6694796085357666, 0.4527849853038788, 0.5125401020050049, 0.5173167586326599, 0.4886995851993561, 0.48286551237106323, 0.46193698048591614, 0.47414296865463257, 0.534105658531189, 0.5810320377349854, 0.5249411463737488, 0.4870591163635254, 0.5627537965774536, 0.4990359842777252, 0.5373661518096924, 0.592910647392273, 0.47503966093063354, 0.46168753504753113, 0.5143539309501648, 0.4911227822303772, 0.5000573992729187, 0.4781494736671448, 0.4675433337688446, 0.4440253973007202, 0.43299803137779236, 0.47037839889526367, 0.4609852433204651, 0.45857498049736023, 0.2908743917942047, 0.3075403869152069, 0.2867337763309479, 0.3053451478481293, 0.3043854236602783, 0.2807093560695648, 0.27423977851867676, 0.27201732993125916, 0.2700516879558563, 0.3050939440727234, 0.2672368288040161, 0.2584631145000458, 0.2532062530517578, 0.29045090079307556, 0.277521014213562, 0.258027046918869, 0.3285084664821625, 0.3263252377510071, 0.24104514718055725, 0.20581239461898804, 0.20581170916557312, 0.20580542087554932, 0.20580413937568665, 0.20579946041107178, 0.2057964950799942, 0.20579621195793152, 0.20579269528388977, 0.2057884782552719, 0.2057870626449585, 0.2057870626449585, 0.24178770184516907, 0.4241231679916382, 0.4267767071723938, 0.265027791261673, 0.28990185260772705, 0.2976493835449219, 0.43860408663749695, 0.2997051179409027, 0.2858499586582184, 0.30925002694129944, 0.28872576355934143, 0.32184216380119324, 0.3968362808227539, 0.3453008234500885, 0.3967054784297943, 0.33681797981262207, 0.356759637594223, 0.3352311849594116, 0.3851512670516968, 0.34753626585006714, 0.4151849150657654, 0.3857026696205139, 0.312897264957428, 0.3107971251010895, 0.3366047441959381, 0.3206936717033386, 0.417315274477005, 0.3256125748157501, 0.3198877274990082, 0.3214806020259857, 0.34143272042274475, 0.3210527300834656, 0.31383347511291504, 0.30778753757476807, 0.3076951205730438, 0.3902445137500763, 0.30698391795158386, 0.30637967586517334, 0.28041741251945496, 0.27793630957603455, 0.2944028079509735, 0.2490950971841812, 0.26570385694503784, 0.42110317945480347, 0.2686366140842438, 0.2506934702396393, 0.2506290376186371, 0.19900427758693695, 0.19899870455265045, 0.19900214672088623, 0.19899982213974, 0.198996439576149, 0.19900064170360565, 0.1989971399307251, 0.19900302588939667, 0.19899703562259674, 0.19899658858776093, 0.19899246096611023, 0.19899503886699677, 0.19899046421051025, 0.1990005224943161, 0.19898948073387146, 0.1989922672510147, 0.19899390637874603, 0.1989900916814804, 0.3105463981628418, 0.28802382946014404, 0.27472397685050964, 0.28060758113861084, 0.34679093956947327, 0.29711276292800903, 0.2900877594947815, 0.3077598214149475, 0.29478487372398376, 0.3105962872505188, 0.31053510308265686, 0.28006482124328613, 0.24288809299468994, 0.3742509186267853, 0.31071963906288147, 0.30668988823890686, 0.30635303258895874, 0.27278968691825867, 0.31069812178611755, 0.29950788617134094, 0.3055969774723053, 0.402807354927063, 0.32544487714767456, 0.33210572600364685, 0.3116440176963806, 0.4090684950351715, 0.3107777535915375, 0.3107110559940338, 0.3237655758857727, 0.3769195079803467, 0.31063368916511536, 0.31618911027908325, 0.3081600069999695, 0.3133309483528137, 0.31206852197647095, 0.30462998151779175, 0.3109532594680786, 0.3110160529613495, 0.2985718846321106, 0.2934495806694031, 0.3006472587585449, 0.28939566016197205, 0.2698344886302948, 0.30078110098838806, 0.27232739329338074, 0.269783616065979, 0.2699342370033264, 0.29154378175735474, 0.2673787474632263, 0.25548630952835083, 0.1928129345178604, 0.19280993938446045, 0.19280537962913513, 0.19280368089675903, 0.19280318915843964, 0.19280385971069336, 0.19280192255973816, 0.19279971718788147, 0.19279928505420685, 0.19279906153678894, 0.19279953837394714, 0.1927984207868576, 0.19279563426971436, 0.192795068025589, 0.19279427826404572, 0.1927945464849472, 0.19279427826404572, 0.1927928477525711, 0.2714649438858032, 0.29936936497688293, 0.40746212005615234, 0.29974377155303955, 0.43818122148513794, 0.2605384290218353, 0.3222637176513672, 0.3606923222541809, 0.3347049653530121, 0.27581194043159485, 0.234283447265625, 0.2620644271373749, 0.3381288945674896, 0.2994743585586548, 0.36469584703445435, 0.30024686455726624, 0.270167738199234, 0.2670437693595886, 0.4144003391265869, 0.3349088430404663, 0.2991861402988434, 0.3508376181125641, 0.33237719535827637, 0.3924587070941925, 0.3128482699394226, 0.316685289144516, 0.3710392713546753, 0.29813456535339355, 0.31939631700515747, 0.3001992106437683, 0.29089856147766113, 0.29387718439102173, 0.29991066455841064, 0.30796152353286743, 0.30785995721817017, 0.3077397048473358, 0.2994006872177124, 0.3006965219974518, 0.2727256417274475, 0.2712152302265167, 0.2586706578731537, 0.2556993067264557, 0.2363564670085907, 0.25646287202835083, 0.23645129799842834, 0.19325825572013855, 0.19325557351112366, 0.19325768947601318, 0.19325517117977142, 0.19325228035449982, 0.19325336813926697, 0.1932559311389923, 0.1932503879070282, 0.19324719905853271, 0.19325071573257446, 0.19324883818626404, 0.19324436783790588, 0.1932457983493805, 0.19324399530887604, 0.1932472139596939, 0.19324328005313873, 0.1932450383901596, 0.19324685633182526, 0.19324493408203125, 0.19324274361133575, 0.19323931634426117, 0.29634159803390503, 0.19324928522109985, 0.498844712972641, 0.270150363445282, 0.26872387528419495, 0.26199865341186523, 0.2657618522644043, 0.22729691863059998, 0.2801250219345093, 0.2679544687271118, 0.2735053598880768, 0.3263695538043976, 0.2692325711250305, 0.31666383147239685, 0.32455533742904663, 0.30298975110054016, 0.25980767607688904, 0.3257099390029907, 0.2106117606163025, 0.2578578591346741, 0.2646685242652893, 0.2699558734893799, 0.2579841911792755, 0.3239104747772217, 0.3147515058517456, 0.3229106664657593, 0.29527926445007324, 0.3138345181941986, 0.3180881440639496, 0.3054307997226715, 0.2935292720794678, 0.3352278470993042, 0.29294446110725403, 0.29283010959625244, 0.28577721118927, 0.28493887186050415, 0.3027085065841675, 0.2818765640258789, 0.27817314863204956, 0.27570733428001404, 0.27935877442359924, 0.2755798101425171, 0.2723183035850525, 0.24656637012958527, 0.2462681382894516, 0.2444426566362381, 0.24020247161388397, 0.24032028019428253, 0.21332694590091705, 0.22045046091079712, 0.17459428310394287, 0.17459163069725037, 0.17459256947040558, 0.1745934784412384, 0.17459188401699066, 0.17458964884281158, 0.1745908260345459, 0.17459027469158173, 0.17458891868591309, 0.17458689212799072, 0.1745910346508026, 0.17458708584308624, 0.1745806634426117, 0.17458651959896088, 0.17458724975585938, 0.17458631098270416, 0.174586683511734, 0.17458458244800568, 0.17458492517471313, 0.17458488047122955, 0.17458614706993103, 0.17458480596542358, 0.2706978917121887, 0.24570204317569733, 0.24084292352199554, 0.24531379342079163, 0.17458708584308624, 0.2703336477279663, 0.2719701826572418, 0.29752498865127563, 0.2456604391336441, 0.21841919422149658, 0.268500953912735, 0.31475916504859924, 0.2435966432094574, 0.2128036916255951, 0.3104786276817322, 0.2251489907503128, 0.24488024413585663, 0.2429884672164917, 0.22423776984214783, 0.24257495999336243, 0.29976651072502136, 0.2310687005519867, 0.2434188723564148, 0.27053937315940857, 0.26177772879600525, 0.3058982491493225, 0.2733549475669861, 0.25779637694358826, 0.27307575941085815, 0.26700377464294434, 0.26311278343200684, 0.24273322522640228, 0.1509067714214325, 0.11472584307193756, 0.11465667188167572, 0.1146535724401474, 0.11465707421302795, 0.1146584078669548, 0.11465629935264587, 0.11465221643447876, 0.11464929580688477, 0.11465121805667877, 0.11465074121952057, 0.11465074121952057, 0.11464940756559372, 0.11465159803628922, 0.11465245485305786, 0.11465290933847427, 0.11464999616146088, 0.11465403437614441, 0.11464844644069672, 0.11465200036764145, 0.11464831233024597, 0.11465082317590714, 0.11465249210596085, 0.11464663594961166, 0.11465150862932205, 0.11464983224868774, 0.11464957147836685, 0.11465087532997131, 0.11464780569076538, 0.11464729905128479, 0.11464900523424149, 0.11465007811784744, 0.1793706715106964, 0.16094791889190674, 0.14964991807937622, 0.13506914675235748, 0.20608459413051605, 0.15967236459255219, 0.1511744260787964, 0.15121357142925262, 0.14957652986049652, 0.14907698333263397, 0.14092160761356354, 0.15050312876701355, 0.1578013151884079, 0.14100529253482819, 0.13677749037742615, 0.13310162723064423, 0.14984668791294098, 0.1686696708202362, 0.14863057434558868, 0.1498916894197464, 0.14629438519477844, 0.14406034350395203, 0.13395577669143677, 0.13146035373210907, 0.1408693492412567, 0.12891803681850433, 0.13967661559581757, 0.1392917037010193, 0.13893556594848633, 0.13252893090248108, 0.13366542756557465], \"Total\": [43.0, 30.0, 109.0, 60.0, 41.0, 71.0, 63.0, 83.0, 30.0, 31.0, 37.0, 46.0, 42.0, 48.0, 33.0, 30.0, 28.0, 28.0, 53.0, 70.0, 23.0, 40.0, 39.0, 38.0, 40.0, 56.0, 34.0, 29.0, 51.0, 132.0, 271.3472900390625, 252.46437072753906, 168.5342254638672, 160.7460479736328, 161.0242919921875, 185.88182067871094, 251.6127471923828, 153.5491485595703, 142.0062713623047, 152.95196533203125, 144.4883575439453, 282.906494140625, 153.02838134765625, 128.5321044921875, 116.90847778320312, 117.31304168701172, 127.32830810546875, 118.43329620361328, 113.46419525146484, 111.7888412475586, 120.54521179199219, 181.74807739257812, 117.38204956054688, 132.7447052001953, 143.6361846923828, 105.28795623779297, 110.30148315429688, 113.74224853515625, 108.10608673095703, 99.01237487792969, 125.65031433105469, 124.6939926147461, 120.42127227783203, 130.63858032226562, 132.18966674804688, 117.39945220947266, 1.6729073524475098, 1.6959418058395386, 1.7054356336593628, 1.7087030410766602, 1.729310393333435, 1.7791556119918823, 2.274409055709839, 1.6418256759643555, 1.7715184688568115, 1.7408337593078613, 1.7434347867965698, 1.6976048946380615, 2.531963586807251, 1.7924916744232178, 1.7476978302001953, 1.6419373750686646, 1.9893109798431396, 1.8401308059692383, 1.6643904447555542, 3.0767569541931152, 1.8313244581222534, 1.8865998983383179, 1.791846513748169, 2.1620309352874756, 1.9645111560821533, 1.6940805912017822, 1.6961759328842163, 1.6961818933486938, 1.7660679817199707, 1.9360902309417725, 2.383471727371216, 2.275258779525757, 2.4454843997955322, 2.4053757190704346, 3.393385410308838, 2.567552328109741, 11.429170608520508, 3.953425407409668, 5.767273426055908, 6.251840591430664, 5.334339141845703, 5.243216037750244, 4.590943336486816, 5.085443496704102, 8.341118812561035, 12.983065605163574, 8.785750389099121, 6.175068378448486, 13.29182243347168, 7.342099666595459, 16.955272674560547, 37.53546142578125, 7.723671913146973, 6.62431001663208, 20.709753036499023, 15.448471069335938, 19.964433670043945, 11.691113471984863, 10.653608322143555, 5.496841907501221, 4.169145107269287, 20.52931022644043, 20.238378524780273, 70.23702239990234, 1.575342059135437, 1.70545494556427, 1.6046972274780273, 1.72111976146698, 1.7289810180664062, 1.6489107608795166, 1.6984367370605469, 1.7154669761657715, 1.729715347290039, 1.998374104499817, 1.7510091066360474, 1.6935440301895142, 1.6647157669067383, 1.915118932723999, 1.8599193096160889, 1.7560296058654785, 2.2743148803710938, 2.2888057231903076, 1.6912860870361328, 1.4859490394592285, 1.4859511852264404, 1.4859471321105957, 1.4859479665756226, 1.4859473705291748, 1.485947608947754, 1.4859479665756226, 1.4859497547149658, 1.4859482049942017, 1.485947608947754, 1.485947847366333, 1.7717304229736328, 3.38862943649292, 4.051680088043213, 2.211667537689209, 2.569495677947998, 2.69101881980896, 5.0863752365112305, 2.7517008781433105, 2.5903818607330322, 2.9979896545410156, 2.6651558876037598, 3.7707161903381348, 7.475600719451904, 5.496841907501221, 11.083419799804688, 5.661347389221191, 7.747979640960693, 6.039224147796631, 13.341235160827637, 8.00428295135498, 42.77573013305664, 24.36992835998535, 5.112819194793701, 4.994715690612793, 13.273407936096191, 7.822505950927734, 282.906494140625, 10.147416114807129, 9.582393646240234, 11.436943054199219, 46.14030838012695, 12.186348915100098, 7.582221984863281, 132.18966674804688, 44.5428352355957, 1.698210597038269, 1.6201945543289185, 1.624285101890564, 1.5716348886489868, 1.591173768043518, 1.7179217338562012, 1.5597968101501465, 1.687375783920288, 2.6871302127838135, 1.7725965976715088, 1.6819069385528564, 1.7828105688095093, 1.4822090864181519, 1.4821783304214478, 1.4822044372558594, 1.4822345972061157, 1.4822190999984741, 1.482250452041626, 1.4822413921356201, 1.4822858572006226, 1.4822419881820679, 1.4822388887405396, 1.4822099208831787, 1.4822345972061157, 1.4822046756744385, 1.482283592224121, 1.4822081327438354, 1.4822287559509277, 1.482242226600647, 1.4822229146957397, 2.5365636348724365, 2.4988203048706055, 2.346069812774658, 2.55550217628479, 3.987607955932617, 3.1527087688446045, 3.19762921333313, 3.7536327838897705, 3.5369720458984375, 3.9996562004089355, 4.04517936706543, 3.3103227615356445, 2.4446449279785156, 7.4171061515808105, 4.81179141998291, 4.738475799560547, 4.931600093841553, 3.730923891067505, 5.597864151000977, 5.084414958953857, 5.478044033050537, 30.43351936340332, 8.643723487854004, 10.195319175720215, 6.684157848358154, 71.05944061279297, 7.319688320159912, 7.3968505859375, 12.406059265136719, 91.22242736816406, 9.052488327026367, 12.421401023864746, 7.9557061195373535, 12.99106502532959, 13.141529083251953, 6.877997875213623, 19.964433670043945, 24.63738250732422, 1.608595848083496, 1.649766445159912, 1.7228209972381592, 1.6820112466812134, 1.5841611623764038, 1.809954047203064, 1.6731106042861938, 1.6758389472961426, 1.7147570848464966, 1.9328453540802002, 1.7828105688095093, 1.9112077951431274, 1.4787276983261108, 1.4787297248840332, 1.4787358045578003, 1.4787299633026123, 1.4787324666976929, 1.4787416458129883, 1.4787323474884033, 1.4787334203720093, 1.478732705116272, 1.4787322282791138, 1.4787373542785645, 1.4787331819534302, 1.478735327720642, 1.4787312746047974, 1.4787354469299316, 1.478738784790039, 1.478737711906433, 1.4787330627441406, 2.286247968673706, 2.8051705360412598, 4.650189399719238, 2.9358177185058594, 5.3404035568237305, 2.388219118118286, 3.543337345123291, 4.466704845428467, 4.023945331573486, 2.8805224895477295, 2.125408411026001, 2.6342294216156006, 4.49780797958374, 3.578495979309082, 5.370850563049316, 3.84515118598938, 3.1370418071746826, 3.118976593017578, 9.05949878692627, 6.01590633392334, 4.473117351531982, 8.334000587463379, 7.616068363189697, 23.725801467895508, 6.323939800262451, 7.108217716217041, 28.073015213012695, 4.886507987976074, 11.623174667358398, 5.583218097686768, 4.147566318511963, 4.923523426055908, 8.057928085327148, 16.956310272216797, 83.98419952392578, 109.56666564941406, 1.6044365167617798, 1.707315444946289, 1.5627986192703247, 1.692267656326294, 1.6762468814849854, 1.6995890140533447, 1.6005109548568726, 1.8775373697280884, 1.7826389074325562, 1.4789752960205078, 1.478966474533081, 1.4789886474609375, 1.478977084159851, 1.4789646863937378, 1.4789762496948242, 1.4789961576461792, 1.4789836406707764, 1.478967547416687, 1.479001760482788, 1.4790010452270508, 1.4789718389511108, 1.4789851903915405, 1.4789836406707764, 1.4790095090866089, 1.478981375694275, 1.4789975881576538, 1.4790122509002686, 1.4789984226226807, 1.4789847135543823, 1.4789596796035767, 2.35127329826355, 1.4790455102920532, 4.844610214233398, 2.531940460205078, 2.558317184448242, 2.5080268383026123, 2.5860207080841064, 2.1641409397125244, 3.6040773391723633, 3.3136849403381348, 3.531001329421997, 5.973494052886963, 3.8076164722442627, 6.381591796875, 7.249265670776367, 5.967365741729736, 3.69338321685791, 9.109334945678711, 1.9992140531539917, 4.263249397277832, 4.734649658203125, 5.200869083404541, 4.3920979499816895, 11.178346633911133, 10.519065856933594, 13.766672134399414, 8.88452434539795, 13.689427375793457, 16.83225440979004, 12.877861022949219, 10.659138679504395, 39.64125061035156, 11.487441062927246, 12.600714683532715, 11.112710952758789, 12.048795700073242, 109.56666564941406, 22.295976638793945, 12.027311325073242, 17.330211639404297, 77.60244750976562, 31.567596435546875, 1.6761271953582764, 1.5438461303710938, 1.546091079711914, 1.5625578165054321, 1.5996885299682617, 1.7135496139526367, 1.6793707609176636, 1.7638249397277832, 1.4684721231460571, 1.4684590101242065, 1.4684902429580688, 1.4685075283050537, 1.468496322631836, 1.4684784412384033, 1.4684940576553345, 1.4684895277023315, 1.468485951423645, 1.4684714078903198, 1.4685086011886597, 1.4684760570526123, 1.4684245586395264, 1.4684791564941406, 1.4684860706329346, 1.4684951305389404, 1.4684985876083374, 1.468482494354248, 1.4684886932373047, 1.468493103981018, 1.4685038328170776, 1.4684937000274658, 2.309812068939209, 2.2772111892700195, 2.3208155632019043, 2.585794448852539, 1.4685206413269043, 3.2765088081359863, 3.5052125453948975, 4.87691068649292, 3.2905590534210205, 2.5280821323394775, 4.3169355392456055, 6.686992168426514, 3.764319896697998, 2.5805273056030273, 7.9557061195373535, 3.201004981994629, 4.19264030456543, 4.568463325500488, 3.6979928016662598, 5.744993209838867, 15.077506065368652, 4.865452289581299, 6.488157749176025, 10.958789825439453, 9.392380714416504, 30.912580490112305, 20.219478607177734, 12.641373634338379, 33.00507736206055, 31.567596435546875, 55.054473876953125, 60.3484992980957, 1.80291748046875, 1.4347596168518066, 1.4350111484527588, 1.4350080490112305, 1.4350532293319702, 1.4350751638412476, 1.4350684881210327, 1.43503737449646, 1.4350166320800781, 1.4350440502166748, 1.4350392818450928, 1.4350398778915405, 1.435051441192627, 1.435081124305725, 1.4350953102111816, 1.4351022243499756, 1.4350666999816895, 1.4351197481155396, 1.4350504875183105, 1.4351054430007935, 1.4350634813308716, 1.4351091384887695, 1.4351333379745483, 1.4350627660751343, 1.4351269006729126, 1.4351062774658203, 1.435104489326477, 1.4351247549057007, 1.435089349746704, 1.435086965560913, 1.4351104497909546, 1.4351270198822021, 4.338775634765625, 3.4337916374206543, 2.9076828956604004, 2.3327407836914062, 9.416251182556152, 4.354262828826904, 3.767335891723633, 4.023721694946289, 4.350861072540283, 4.678174018859863, 3.9075701236724854, 5.999499797821045, 7.9557061195373535, 4.399240016937256, 4.2000861167907715, 3.543337345123291, 8.004110336303711, 19.501230239868164, 8.868215560913086, 13.417789459228516, 11.090970993041992, 13.420665740966797, 7.550843715667725, 7.810271263122559, 21.18897819519043, 7.276544570922852, 23.179126739501953, 24.73850440979004, 28.132709503173828, 23.94754409790039, 43.54439926147461], \"Category\": [\"Default\", \"Default\", \"Default\", \"Default\", \"Default\", \"Default\", \"Default\", \"Default\", \"Default\", \"Default\", \"Default\", \"Default\", \"Default\", \"Default\", \"Default\", \"Default\", \"Default\", \"Default\", \"Default\", \"Default\", \"Default\", \"Default\", \"Default\", \"Default\", \"Default\", \"Default\", \"Default\", \"Default\", \"Default\", \"Default\", \"Topic1\", \"Topic1\", \"Topic1\", \"Topic1\", \"Topic1\", \"Topic1\", \"Topic1\", \"Topic1\", \"Topic1\", \"Topic1\", \"Topic1\", \"Topic1\", \"Topic1\", \"Topic1\", \"Topic1\", \"Topic1\", \"Topic1\", \"Topic1\", \"Topic1\", \"Topic1\", \"Topic1\", \"Topic1\", \"Topic1\", \"Topic1\", \"Topic1\", \"Topic1\", \"Topic1\", \"Topic1\", \"Topic1\", \"Topic1\", \"Topic1\", \"Topic1\", \"Topic1\", \"Topic1\", \"Topic1\", \"Topic1\", \"Topic2\", \"Topic2\", \"Topic2\", \"Topic2\", \"Topic2\", \"Topic2\", \"Topic2\", \"Topic2\", \"Topic2\", \"Topic2\", \"Topic2\", \"Topic2\", \"Topic2\", \"Topic2\", \"Topic2\", \"Topic2\", \"Topic2\", \"Topic2\", \"Topic2\", \"Topic2\", \"Topic2\", \"Topic2\", \"Topic2\", \"Topic2\", \"Topic2\", \"Topic2\", \"Topic2\", \"Topic2\", \"Topic2\", \"Topic2\", \"Topic2\", \"Topic2\", \"Topic2\", \"Topic2\", \"Topic2\", \"Topic2\", \"Topic2\", \"Topic2\", \"Topic2\", \"Topic2\", \"Topic2\", \"Topic2\", \"Topic2\", \"Topic2\", \"Topic2\", \"Topic2\", \"Topic2\", \"Topic2\", \"Topic2\", \"Topic2\", \"Topic2\", \"Topic2\", \"Topic2\", \"Topic2\", \"Topic2\", \"Topic2\", \"Topic2\", \"Topic2\", \"Topic2\", \"Topic2\", \"Topic2\", \"Topic2\", \"Topic2\", \"Topic2\", \"Topic3\", \"Topic3\", \"Topic3\", \"Topic3\", \"Topic3\", \"Topic3\", \"Topic3\", \"Topic3\", \"Topic3\", \"Topic3\", \"Topic3\", \"Topic3\", \"Topic3\", \"Topic3\", \"Topic3\", \"Topic3\", \"Topic3\", \"Topic3\", \"Topic3\", \"Topic3\", \"Topic3\", \"Topic3\", \"Topic3\", \"Topic3\", \"Topic3\", \"Topic3\", \"Topic3\", \"Topic3\", \"Topic3\", \"Topic3\", \"Topic3\", \"Topic3\", \"Topic3\", \"Topic3\", \"Topic3\", \"Topic3\", \"Topic3\", \"Topic3\", \"Topic3\", \"Topic3\", \"Topic3\", \"Topic3\", \"Topic3\", \"Topic3\", \"Topic3\", \"Topic3\", \"Topic3\", \"Topic3\", \"Topic3\", \"Topic3\", \"Topic3\", \"Topic3\", \"Topic3\", \"Topic3\", \"Topic3\", \"Topic3\", \"Topic3\", \"Topic3\", \"Topic3\", \"Topic3\", \"Topic3\", \"Topic3\", \"Topic3\", \"Topic3\", \"Topic3\", \"Topic4\", \"Topic4\", \"Topic4\", \"Topic4\", \"Topic4\", \"Topic4\", \"Topic4\", \"Topic4\", \"Topic4\", \"Topic4\", \"Topic4\", \"Topic4\", \"Topic4\", \"Topic4\", \"Topic4\", \"Topic4\", \"Topic4\", \"Topic4\", \"Topic4\", \"Topic4\", \"Topic4\", \"Topic4\", \"Topic4\", \"Topic4\", \"Topic4\", \"Topic4\", \"Topic4\", \"Topic4\", \"Topic4\", \"Topic4\", \"Topic4\", \"Topic4\", \"Topic4\", \"Topic4\", \"Topic4\", \"Topic4\", \"Topic4\", \"Topic4\", \"Topic4\", \"Topic4\", \"Topic4\", \"Topic4\", \"Topic4\", \"Topic4\", \"Topic4\", \"Topic4\", \"Topic4\", \"Topic4\", \"Topic4\", \"Topic4\", \"Topic4\", \"Topic4\", \"Topic4\", \"Topic4\", \"Topic4\", \"Topic4\", \"Topic4\", \"Topic4\", \"Topic4\", \"Topic4\", \"Topic4\", \"Topic4\", \"Topic4\", \"Topic4\", \"Topic4\", \"Topic4\", \"Topic4\", \"Topic4\", \"Topic5\", \"Topic5\", \"Topic5\", \"Topic5\", \"Topic5\", \"Topic5\", \"Topic5\", \"Topic5\", \"Topic5\", \"Topic5\", \"Topic5\", \"Topic5\", \"Topic5\", \"Topic5\", \"Topic5\", \"Topic5\", \"Topic5\", \"Topic5\", \"Topic5\", \"Topic5\", \"Topic5\", \"Topic5\", \"Topic5\", \"Topic5\", \"Topic5\", \"Topic5\", \"Topic5\", \"Topic5\", \"Topic5\", \"Topic5\", \"Topic5\", \"Topic5\", \"Topic5\", \"Topic5\", \"Topic5\", \"Topic5\", \"Topic5\", \"Topic5\", \"Topic5\", \"Topic5\", \"Topic5\", \"Topic5\", \"Topic5\", \"Topic5\", \"Topic5\", \"Topic5\", \"Topic5\", \"Topic5\", \"Topic5\", \"Topic5\", \"Topic5\", \"Topic5\", \"Topic5\", \"Topic5\", \"Topic5\", \"Topic5\", \"Topic5\", \"Topic5\", \"Topic5\", \"Topic5\", \"Topic5\", \"Topic5\", \"Topic5\", \"Topic5\", \"Topic5\", \"Topic5\", \"Topic6\", \"Topic6\", \"Topic6\", \"Topic6\", \"Topic6\", \"Topic6\", \"Topic6\", \"Topic6\", \"Topic6\", \"Topic6\", \"Topic6\", \"Topic6\", \"Topic6\", \"Topic6\", \"Topic6\", \"Topic6\", \"Topic6\", \"Topic6\", \"Topic6\", \"Topic6\", \"Topic6\", \"Topic6\", \"Topic6\", \"Topic6\", \"Topic6\", \"Topic6\", \"Topic6\", \"Topic6\", \"Topic6\", \"Topic6\", \"Topic6\", \"Topic6\", \"Topic6\", \"Topic6\", \"Topic6\", \"Topic6\", \"Topic6\", \"Topic6\", \"Topic6\", \"Topic6\", \"Topic6\", \"Topic6\", \"Topic6\", \"Topic6\", \"Topic6\", \"Topic6\", \"Topic6\", \"Topic6\", \"Topic6\", \"Topic6\", \"Topic6\", \"Topic6\", \"Topic6\", \"Topic6\", \"Topic6\", \"Topic6\", \"Topic6\", \"Topic6\", \"Topic6\", \"Topic6\", \"Topic6\", \"Topic6\", \"Topic6\", \"Topic6\", \"Topic6\", \"Topic6\", \"Topic6\", \"Topic6\", \"Topic6\", \"Topic6\", \"Topic6\", \"Topic6\", \"Topic7\", \"Topic7\", \"Topic7\", \"Topic7\", \"Topic7\", \"Topic7\", \"Topic7\", \"Topic7\", \"Topic7\", \"Topic7\", \"Topic7\", \"Topic7\", \"Topic7\", \"Topic7\", \"Topic7\", \"Topic7\", \"Topic7\", \"Topic7\", \"Topic7\", \"Topic7\", \"Topic7\", \"Topic7\", \"Topic7\", \"Topic7\", \"Topic7\", \"Topic7\", \"Topic7\", \"Topic7\", \"Topic7\", \"Topic7\", \"Topic7\", \"Topic7\", \"Topic7\", \"Topic7\", \"Topic7\", \"Topic7\", \"Topic7\", \"Topic7\", \"Topic7\", \"Topic7\", \"Topic7\", \"Topic7\", \"Topic7\", \"Topic7\", \"Topic7\", \"Topic7\", \"Topic7\", \"Topic7\", \"Topic7\", \"Topic7\", \"Topic7\", \"Topic7\", \"Topic7\", \"Topic7\", \"Topic7\", \"Topic7\", \"Topic7\", \"Topic7\", \"Topic7\", \"Topic7\", \"Topic7\", \"Topic7\", \"Topic8\", \"Topic8\", \"Topic8\", \"Topic8\", \"Topic8\", \"Topic8\", \"Topic8\", \"Topic8\", \"Topic8\", \"Topic8\", \"Topic8\", \"Topic8\", \"Topic8\", \"Topic8\", \"Topic8\", \"Topic8\", \"Topic8\", \"Topic8\", \"Topic8\", \"Topic8\", \"Topic8\", \"Topic8\", \"Topic8\", \"Topic8\", \"Topic8\", \"Topic8\", \"Topic8\", \"Topic8\", \"Topic8\", \"Topic8\", \"Topic8\", \"Topic8\", \"Topic8\", \"Topic8\", \"Topic8\", \"Topic8\", \"Topic8\", \"Topic8\", \"Topic8\", \"Topic8\", \"Topic8\", \"Topic8\", \"Topic8\", \"Topic8\", \"Topic8\", \"Topic8\", \"Topic8\", \"Topic8\", \"Topic8\", \"Topic8\", \"Topic8\", \"Topic8\", \"Topic8\", \"Topic8\", \"Topic8\", \"Topic8\", \"Topic8\", \"Topic8\", \"Topic8\", \"Topic8\", \"Topic8\", \"Topic8\", \"Topic8\"], \"logprob\": [30.0, 29.0, 28.0, 27.0, 26.0, 25.0, 24.0, 23.0, 22.0, 21.0, 20.0, 19.0, 18.0, 17.0, 16.0, 15.0, 14.0, 13.0, 12.0, 11.0, 10.0, 9.0, 8.0, 7.0, 6.0, 5.0, 4.0, 3.0, 2.0, 1.0, -5.778200149536133, -5.85129976272583, -6.255899906158447, -6.303400039672852, -6.301700115203857, -6.158299922943115, -5.855599880218506, -6.349599838256836, -6.427800178527832, -6.353499889373779, -6.4105000495910645, -5.73859977722168, -6.353099822998047, -6.528299808502197, -6.623199939727783, -6.619800090789795, -6.537899971008301, -6.610400199890137, -6.65339994430542, -6.668300151824951, -6.592899799346924, -6.182400226593018, -6.619699954986572, -6.496799945831299, -6.417900085449219, -6.728799819946289, -6.682300090789795, -6.651599884033203, -6.702499866485596, -6.7906999588012695, -6.552599906921387, -6.560100078582764, -6.595099925994873, -6.514900207519531, -6.504000186920166, -6.620699882507324, -8.707300186157227, -8.717700004577637, -8.72249984741211, -8.723199844360352, -8.732799530029297, -8.719799995422363, -8.483099937438965, -8.8100004196167, -8.751500129699707, -8.809599876403809, -8.810199737548828, -8.837400436401367, -8.478599548339844, -8.836000442504883, -8.862899780273438, -8.942700386047363, -8.759499549865723, -8.853300094604492, -8.953800201416016, -8.342100143432617, -8.861000061035156, -8.831899642944336, -8.885299682617188, -8.718799591064453, -8.823800086975098, -8.972200393676758, -8.971500396728516, -8.971599578857422, -8.949700355529785, -8.859399795532227, -8.732999801635742, -8.767399787902832, -8.72719955444336, -8.746100425720215, -8.526700019836426, -8.724200248718262, -8.227299690246582, -8.618300437927246, -8.494400024414062, -8.485099792480469, -8.541999816894531, -8.553999900817871, -8.598299980163574, -8.572199821472168, -8.453200340270996, -8.368900299072266, -8.470499992370605, -8.54539966583252, -8.400899887084961, -8.521100044250488, -8.447099685668945, -8.348699569702148, -8.57040023803711, -8.598899841308594, -8.490799903869629, -8.537099838256836, -8.519000053405762, -8.563799858093262, -8.586299896240234, -8.637900352478027, -8.663000106811523, -8.5802001953125, -8.6003999710083, -8.605600357055664, -8.758000373840332, -8.702300071716309, -8.77239990234375, -8.709500312805176, -8.712599754333496, -8.793600082397461, -8.816900253295898, -8.82509994506836, -8.832300186157227, -8.71030044555664, -8.84280014038086, -8.876199722290039, -8.896699905395508, -8.759499549865723, -8.805000305175781, -8.877900123596191, -8.63640022277832, -8.642999649047852, -8.945899963378906, -9.104000091552734, -9.104000091552734, -9.104000091552734, -9.104000091552734, -9.104000091552734, -9.104000091552734, -9.104000091552734, -9.104100227355957, -9.104100227355957, -9.104100227355957, -9.104100227355957, -8.942899703979492, -8.380900382995605, -8.374699592590332, -8.851099967956543, -8.76140022277832, -8.734999656677246, -8.347299575805664, -8.728099822998047, -8.775500297546387, -8.696800231933594, -8.76550006866455, -8.656900405883789, -8.447400093078613, -8.58650016784668, -8.447699546813965, -8.61139965057373, -8.553899765014648, -8.616100311279297, -8.477299690246582, -8.580100059509277, -8.402199745178223, -8.475899696350098, -8.685099601745605, -8.691800117492676, -8.612000465393066, -8.660400390625, -8.397100448608398, -8.6451997756958, -8.663000106811523, -8.657999992370605, -8.597800254821777, -8.659299850463867, -8.682100296020508, -8.701499938964844, -8.701800346374512, -8.400099754333496, -8.640000343322754, -8.642000198364258, -8.730600357055664, -8.739399909973145, -8.681900024414062, -8.848999977111816, -8.784500122070312, -8.324000358581543, -8.773500442504883, -8.842599868774414, -8.842900276184082, -9.07349967956543, -9.07349967956543, -9.07349967956543, -9.07349967956543, -9.073599815368652, -9.07349967956543, -9.073599815368652, -9.07349967956543, -9.073599815368652, -9.073599815368652, -9.073599815368652, -9.073599815368652, -9.073599815368652, -9.07349967956543, -9.073599815368652, -9.073599815368652, -9.073599815368652, -9.073599815368652, -8.628499984741211, -8.703800201416016, -8.751099586486816, -8.729900360107422, -8.518099784851074, -8.672699928283691, -8.696700096130371, -8.637499809265137, -8.6806001663208, -8.628299713134766, -8.628499984741211, -8.731800079345703, -8.874199867248535, -8.441900253295898, -8.628000259399414, -8.640999794006348, -8.64210033416748, -8.758099555969238, -8.628000259399414, -8.66469955444336, -8.644599914550781, -8.368399620056152, -8.581600189208984, -8.561400413513184, -8.625, -8.352999687194824, -8.627799987792969, -8.628000259399414, -8.586799621582031, -8.434800148010254, -8.628199577331543, -8.61050033569336, -8.636199951171875, -8.619600296020508, -8.623600006103516, -8.647700309753418, -8.62720012664795, -8.626999855041504, -8.642999649047852, -8.660300254821777, -8.636099815368652, -8.674200057983398, -8.744199752807617, -8.635600090026855, -8.734999656677246, -8.744400024414062, -8.743800163269043, -8.666799545288086, -8.753299713134766, -8.798800468444824, -9.080300331115723, -9.080300331115723, -9.080300331115723, -9.080300331115723, -9.080300331115723, -9.080300331115723, -9.080300331115723, -9.080400466918945, -9.080400466918945, -9.080400466918945, -9.080400466918945, -9.080400466918945, -9.080400466918945, -9.080400466918945, -9.080400466918945, -9.080400466918945, -9.080400466918945, -9.080400466918945, -8.738200187683105, -8.640299797058105, -8.332099914550781, -8.639100074768066, -8.259400367736816, -8.77929973602295, -8.56659984588623, -8.454000473022461, -8.528800010681152, -8.722299575805664, -8.885499954223633, -8.77340030670166, -8.518600463867188, -8.640000343322754, -8.442899703979492, -8.637399673461914, -8.743000030517578, -8.754599571228027, -8.315199851989746, -8.52810001373291, -8.640899658203125, -8.48169994354248, -8.535699844360352, -8.369600296020508, -8.59630012512207, -8.584099769592285, -8.425700187683105, -8.644499778747559, -8.575599670410156, -8.63759994506836, -8.668999671936035, -8.65880012512207, -8.638500213623047, -8.612000465393066, -8.61240005493164, -8.612799644470215, -8.636899948120117, -8.632599830627441, -8.730199813842773, -8.735799789428711, -8.783100128173828, -8.794699668884277, -8.873299598693848, -8.79170036315918, -8.872900009155273, -9.074600219726562, -9.074700355529785, -9.074600219726562, -9.074700355529785, -9.074700355529785, -9.074700355529785, -9.074700355529785, -9.074700355529785, -9.074700355529785, -9.074700355529785, -9.074700355529785, -9.074700355529785, -9.074700355529785, -9.074700355529785, -9.074700355529785, -9.074700355529785, -9.074700355529785, -9.074700355529785, -9.074700355529785, -9.074700355529785, -9.074700355529785, -8.647199630737305, -9.074700355529785, -8.126399993896484, -8.739700317382812, -8.744999885559082, -8.770299911499023, -8.756099700927734, -8.912400245666504, -8.703399658203125, -8.747900009155273, -8.727399826049805, -8.550600051879883, -8.7431001663208, -8.58080005645752, -8.55620002746582, -8.625, -8.77869987487793, -8.55270004272461, -8.988699913024902, -8.786299705505371, -8.760199546813965, -8.740400314331055, -8.785799980163574, -8.558199882507324, -8.586899757385254, -8.561300277709961, -8.650799751281738, -8.589799880981445, -8.576299667358398, -8.616900444030762, -8.656700134277344, -8.523900032043457, -8.658699989318848, -8.659099578857422, -8.683500289916992, -8.686400413513184, -8.625900268554688, -8.697199821472168, -8.710399627685547, -8.719300270080566, -8.706199645996094, -8.719799995422363, -8.610099792480469, -8.709400177001953, -8.710599899291992, -8.718099594116211, -8.735600471496582, -8.735099792480469, -8.85420036315918, -8.821399688720703, -9.05459976196289, -9.05459976196289, -9.05459976196289, -9.05459976196289, -9.05459976196289, -9.05459976196289, -9.05459976196289, -9.05459976196289, -9.05459976196289, -9.05459976196289, -9.05459976196289, -9.05459976196289, -9.054699897766113, -9.05459976196289, -9.05459976196289, -9.05459976196289, -9.05459976196289, -9.05459976196289, -9.05459976196289, -9.05459976196289, -9.05459976196289, -9.05459976196289, -8.616000175476074, -8.712900161743164, -8.73289966583252, -8.714500427246094, -9.05459976196289, -8.617400169372559, -8.61139965057373, -8.521599769592285, -8.71310043334961, -8.830599784851074, -8.624199867248535, -8.465200424194336, -8.721500396728516, -8.85669994354248, -8.478899955749512, -8.800299644470215, -8.716300010681152, -8.723999977111816, -8.804300308227539, -8.725700378417969, -8.513999938964844, -8.774299621582031, -8.722299575805664, -8.616600036621094, -8.6496000289917, -8.493800163269043, -8.606300354003906, -8.664899826049805, -8.6072998046875, -8.629799842834473, -8.644499778747559, -8.725099563598633, -8.751500129699707, -9.02560043334961, -9.026200294494629, -9.026200294494629, -9.026200294494629, -9.026200294494629, -9.026200294494629, -9.026200294494629, -9.026200294494629, -9.026200294494629, -9.026200294494629, -9.026200294494629, -9.026200294494629, -9.026200294494629, -9.026200294494629, -9.026200294494629, -9.026200294494629, -9.026200294494629, -9.026300430297852, -9.026200294494629, -9.026300430297852, -9.026200294494629, -9.026200294494629, -9.026300430297852, -9.026200294494629, -9.026200294494629, -9.026200294494629, -9.026200294494629, -9.026300430297852, -9.026300430297852, -9.026200294494629, -9.026200294494629, -8.578700065612793, -8.687000274658203, -8.75979995727539, -8.862299919128418, -8.439800262451172, -8.694999694824219, -8.749699592590332, -8.74940013885498, -8.760299682617188, -8.763699531555176, -8.819899559020996, -8.75409984588623, -8.70680046081543, -8.819299697875977, -8.849800109863281, -8.876999855041504, -8.758500099182129, -8.640199661254883, -8.76669979095459, -8.758199691772461, -8.782500267028809, -8.797900199890137, -8.870599746704102, -8.889399528503418, -8.820300102233887, -8.908900260925293, -8.828800201416016, -8.831600189208984, -8.834099769592285, -8.88129997253418, -8.87279987335205], \"loglift\": [30.0, 29.0, 28.0, 27.0, 26.0, 25.0, 24.0, 23.0, 22.0, 21.0, 20.0, 19.0, 18.0, 17.0, 16.0, 15.0, 14.0, 13.0, 12.0, 11.0, 10.0, 9.0, 8.0, 7.0, 6.0, 5.0, 4.0, 3.0, 2.0, 1.0, 0.1251000016927719, 0.1242000013589859, 0.12359999865293503, 0.12349999696016312, 0.1234000027179718, 0.12330000102519989, 0.12309999763965607, 0.12309999763965607, 0.12300000339746475, 0.12300000339746475, 0.12300000339746475, 0.12290000170469284, 0.12290000170469284, 0.12219999730587006, 0.12210000306367874, 0.12210000306367874, 0.12200000137090683, 0.12189999967813492, 0.121799997985363, 0.121799997985363, 0.121799997985363, 0.12160000205039978, 0.12150000035762787, 0.12150000035762787, 0.12150000035762787, 0.12120000272989273, 0.12120000272989273, 0.12120000272989273, 0.12110000103712082, 0.12070000171661377, 0.12060000002384186, 0.12070000171661377, 0.12060000002384186, 0.11940000206232071, 0.11840000003576279, 0.12039999663829803, 2.2848000526428223, 2.2607998847961426, 2.2504000663757324, 2.2476999759674072, 2.226099967956543, 2.2107999324798584, 2.2018001079559326, 2.200900077819824, 2.183300018310547, 2.1428000926971436, 2.140700101852417, 2.1401000022888184, 2.099100112915039, 2.087100028991699, 2.0855000019073486, 2.0680999755859375, 2.0594000816345215, 2.0434999465942383, 2.0434000492095947, 2.0406999588012695, 2.0406999588012695, 2.0399999618530273, 2.038100004196167, 2.016900062561035, 2.0076000690460205, 2.0074000358581543, 2.0067999362945557, 2.006700038909912, 1.9881999492645264, 1.9866000413894653, 1.9052000045776367, 1.917199969291687, 1.885200023651123, 1.8828999996185303, 1.7581000328063965, 1.8395999670028687, 0.8432999849319458, 1.513800024986267, 1.26010000705719, 1.1886999607086182, 1.2905000448226929, 1.295699954032898, 1.3842999935150146, 1.3080999851226807, 0.9322999715805054, 0.5741000175476074, 0.863099992275238, 1.1407999992370605, 0.5185999870300293, 0.9919999837875366, 0.2290000021457672, -0.4672999978065491, 0.8920000195503235, 1.0170999765396118, -0.014800000004470348, 0.2320999950170517, -0.006300000008195639, 0.48399999737739563, 0.5544999837875366, 1.1646000146865845, 1.4160000085830688, -0.09539999812841415, -0.10130000114440918, -1.3508000373840332, 2.2941999435424805, 2.2704999446868896, 2.261399984359741, 2.254199981689453, 2.246500015258789, 2.2130000591278076, 2.160099983215332, 2.141900062561035, 2.1263999938964844, 2.1040000915527344, 2.1036999225616455, 2.1036999225616455, 2.1003000736236572, 2.097399950027466, 2.0810999870300293, 2.0657999515533447, 2.0485999584198, 2.035599946975708, 2.0353000164031982, 2.006700038909912, 2.006700038909912, 2.0065999031066895, 2.0065999031066895, 2.0065999031066895, 2.0065999031066895, 2.0065999031066895, 2.0065999031066895, 2.0065999031066895, 2.006500005722046, 2.006500005722046, 1.9918999671936035, 1.905400037765503, 1.7329000234603882, 1.861799955368042, 1.8015999794006348, 1.7818000316619873, 1.5327999591827393, 1.7662999629974365, 1.7793999910354614, 1.7120000123977661, 1.7610000371932983, 1.5226000547409058, 1.0476000308990479, 1.215999960899353, 0.6535000205039978, 1.1615999937057495, 0.9053999781608582, 1.0923000574111938, 0.43849998712539673, 0.8465999960899353, -0.6514999866485596, -0.16249999403953552, 1.1899000406265259, 1.2065000534057617, 0.30889999866485596, 0.7892000079154968, -2.5355000495910645, 0.5442000031471252, 0.5838000178337097, 0.41179999709129333, -0.9228000044822693, 0.34700000286102295, 0.798799991607666, -2.0790998935699463, -0.991599977016449, 2.5769999027252197, 2.3840999603271484, 2.3796000480651855, 2.3239998817443848, 2.302799940109253, 2.2836999893188477, 2.213099956512451, 2.1991000175476074, 2.194200038909912, 2.160799980163574, 2.1440999507904053, 2.085599899291992, 2.039599895477295, 2.039599895477295, 2.039599895477295, 2.039599895477295, 2.039599895477295, 2.039599895477295, 2.039599895477295, 2.039599895477295, 2.039599895477295, 2.039599895477295, 2.039599895477295, 2.039599895477295, 2.039599895477295, 2.039599895477295, 2.039599895477295, 2.039599895477295, 2.039599895477295, 2.039599895477295, 1.9473999738693237, 1.8870999813079834, 1.902899980545044, 1.8386000394821167, 1.6053999662399292, 1.6857000589370728, 1.6476000547409058, 1.5463999509811401, 1.5628000497817993, 1.4921000003814697, 1.4805999994277954, 1.5778000354766846, 1.7384999990463257, 1.0609999895095825, 1.3077000379562378, 1.309999942779541, 1.2689000368118286, 1.4319000244140625, 1.1562999486923218, 1.2158000469207764, 1.1613999605178833, -0.27720001339912415, 0.7681999802589417, 0.6233999729156494, 0.9819999933242798, -1.1097999811172485, 0.8884000182151794, 0.8776999711990356, 0.4016999900341034, -1.4414000511169434, 0.6754000186920166, 0.376800000667572, 0.7965999841690063, 0.32280001044273376, 0.30730000138282776, 0.9305999875068665, -0.1145000010728836, -0.3246000111103058, 2.3882999420166016, 2.3457999229431152, 2.32669997215271, 2.3125, 2.3024001121520996, 2.2778000831604004, 2.256999969482422, 2.246000051498413, 2.223599910736084, 2.1809000968933105, 2.1751999855041504, 2.0601000785827637, 2.0352001190185547, 2.0352001190185547, 2.0352001190185547, 2.0352001190185547, 2.0352001190185547, 2.0352001190185547, 2.0352001190185547, 2.035099983215332, 2.035099983215332, 2.035099983215332, 2.035099983215332, 2.035099983215332, 2.035099983215332, 2.035099983215332, 2.035099983215332, 2.035099983215332, 2.035099983215332, 2.035099983215332, 1.94159996509552, 1.8349000215530396, 1.6376999616622925, 1.7905999422073364, 1.5720000267028809, 1.8568999767303467, 1.6749999523162842, 1.5561000108718872, 1.5857000350952148, 1.7264000177383423, 1.8672000169754028, 1.7647000551223755, 1.4845000505447388, 1.5917999744415283, 1.3827999830245972, 1.5225000381469727, 1.6203999519348145, 1.6145999431610107, 0.9876999855041504, 1.1841000318527222, 1.3676999807357788, 0.904699981212616, 0.9406999945640564, -0.029500000178813934, 1.066100001335144, 0.9613000154495239, -0.25380000472068787, 1.2756999731063843, 0.4781000018119812, 1.149399995803833, 1.4150999784469604, 1.2538000345230103, 0.781499981880188, 0.06400000303983688, -1.5362999439239502, -1.8026000261306763, 2.3970000743865967, 2.339200019836426, 2.3299999237060547, 2.2448999881744385, 2.2070000171661377, 2.1816000938415527, 2.1630001068115234, 2.0850000381469727, 2.0557000637054443, 2.0406999588012695, 2.0406999588012695, 2.0406999588012695, 2.0406999588012695, 2.0406999588012695, 2.0406999588012695, 2.0406999588012695, 2.040600061416626, 2.040600061416626, 2.040600061416626, 2.040600061416626, 2.040600061416626, 2.040600061416626, 2.040600061416626, 2.040600061416626, 2.040600061416626, 2.040600061416626, 2.040600061416626, 2.040600061416626, 2.040600061416626, 2.040600061416626, 2.0046000480651855, 2.040600061416626, 1.80239999294281, 1.8380000591278076, 1.8222999572753906, 1.8169000148773193, 1.8005000352859497, 1.8221999406814575, 1.5211999416351318, 1.5607999563217163, 1.517799973487854, 1.1686999797821045, 1.4265999794006348, 1.0723999738693237, 0.9696000218391418, 1.0953999757766724, 1.4213999509811401, 0.744700014591217, 1.8252999782562256, 1.270400047302246, 1.19159996509552, 1.117400050163269, 1.2410999536514282, 0.534500002861023, 0.5666000247001648, 0.3231000006198883, 0.6715999841690063, 0.3003000020980835, 0.10700000077486038, 0.334199994802475, 0.483599990606308, -0.6970000267028809, 0.4066999852657318, 0.3138999938964844, 0.41510000824928284, 0.3312999904155731, -1.8157000541687012, -0.29490000009536743, 0.3091000020503998, -0.06509999930858612, -1.5511000156402588, -0.6651999950408936, 2.3801000118255615, 2.36299991607666, 2.360300064086914, 2.3422999382019043, 2.301300048828125, 2.2330000400543213, 2.134000062942505, 2.117799997329712, 2.0678999423980713, 2.0678999423980713, 2.0678999423980713, 2.0678000450134277, 2.0678000450134277, 2.0678000450134277, 2.0678000450134277, 2.0678000450134277, 2.0678000450134277, 2.0678000450134277, 2.0678000450134277, 2.0678000450134277, 2.0678000450134277, 2.0678000450134277, 2.0678000450134277, 2.0678000450134277, 2.0678000450134277, 2.0678000450134277, 2.0678000450134277, 2.0678000450134277, 2.0678000450134277, 2.0678000450134277, 2.053499937057495, 1.9708000421524048, 1.9319000244140625, 1.8421000242233276, 2.0678000450134277, 1.7024999856948853, 1.6411000490188599, 1.4005999565124512, 1.6024999618530273, 1.7486000061035156, 1.4198999404907227, 1.1412999629974365, 1.4595999717712402, 1.7020000219345093, 0.9538999795913696, 1.5428999662399292, 1.357100009918213, 1.2634999752044678, 1.3945000171661377, 1.0326000452041626, 0.2793999910354614, 1.1502000093460083, 0.9143999814987183, 0.4959000051021576, 0.6172000169754028, -0.41830000281333923, -0.10620000213384628, 0.30480000376701355, -0.5972999930381775, -0.5752000212669373, -1.1461000442504883, -1.31850004196167, 2.165800094604492, 2.1201000213623047, 2.11929988861084, 2.11929988861084, 2.11929988861084, 2.11929988861084, 2.11929988861084, 2.11929988861084, 2.11929988861084, 2.11929988861084, 2.11929988861084, 2.11929988861084, 2.1191999912261963, 2.1191999912261963, 2.1191999912261963, 2.1191999912261963, 2.1191999912261963, 2.1191999912261963, 2.1191999912261963, 2.1191999912261963, 2.1191999912261963, 2.1191999912261963, 2.1191999912261963, 2.1191999912261963, 2.1191999912261963, 2.1191999912261963, 2.1191999912261963, 2.1191999912261963, 2.1191999912261963, 2.1191999912261963, 2.1191999912261963, 2.1191999912261963, 1.4603999853134155, 1.5859999656677246, 1.6794999837875366, 1.7972999811172485, 0.824400007724762, 1.340499997138977, 1.4306000471115112, 1.3650000095367432, 1.2760000228881836, 1.2000999450683594, 1.323799967765808, 0.9609000086784363, 0.7260000109672546, 1.205899953842163, 1.2217999696731567, 1.3645999431610107, 0.6682000160217285, -0.10400000214576721, 0.5576000213623047, 0.15189999341964722, 0.3181000053882599, 0.1120000034570694, 0.6144000291824341, 0.5618000030517578, -0.3671000003814697, 0.613099992275238, -0.46540001034736633, -0.5332000255584717, -0.6643999814987183, -0.5504999756813049, -1.1398999691009521]}, \"token.table\": {\"Topic\": [1, 1, 1, 1, 1, 1, 1, 1, 1, 1, 1, 1, 1, 1, 1, 1, 1, 1, 1, 1, 1, 1, 1, 1, 1, 2, 1, 1, 1, 1, 1, 1, 1, 1, 1, 1, 1, 1, 1, 1, 1, 1, 1, 1, 1, 1, 1, 1, 2, 1, 1, 1, 1, 1, 1, 1, 2, 1, 1, 2, 1, 1, 1, 1, 1, 1, 1, 1, 1, 1, 1, 1, 1, 1, 1, 1, 1, 1, 1, 1, 1, 1, 1, 1, 1, 1, 1, 1, 1, 1, 1, 1, 1, 1, 1, 1, 1, 1, 1, 1, 1, 1, 1, 1, 1, 1, 1, 1, 1, 1, 2, 1, 1, 1, 1, 1, 1, 1, 1, 1, 1, 1, 1, 1, 1, 1, 1, 1, 1, 1, 1, 1, 1, 1, 1, 1, 1, 1, 1, 1, 1, 1, 1, 1, 1, 1, 1, 1, 1, 1, 1, 2, 1, 1, 1, 1, 1, 1, 1, 1, 1, 1, 1, 1, 1, 1, 1, 1, 1, 1, 1, 1, 1, 2, 1, 1, 1, 1, 1, 1, 1, 1, 1, 1, 1, 1, 1, 1, 1, 1, 1, 1, 1, 1, 1, 1, 1, 1, 1, 1, 1, 1, 1, 1, 1, 1, 1, 1, 1, 1, 1, 1, 1, 1, 1, 1, 1, 1, 1, 1, 1, 1, 1, 1, 1, 1, 1, 1, 1, 1, 1, 1, 2, 1, 1, 1, 1, 1, 1, 1, 1, 1, 1, 1, 1, 1, 1, 1, 1, 1, 1, 1, 2, 1, 1, 1, 1, 1, 1, 1, 1, 1, 1, 1, 1, 1, 1, 1, 1, 1, 1, 1, 1, 1, 1, 1, 1, 1, 1, 1, 1, 1, 1, 1, 2, 1, 1, 1, 1, 1, 1, 1, 1, 1, 1, 1, 1, 1, 1, 1, 1, 1, 1, 1, 1, 1, 1, 1, 1, 1, 1, 1, 1, 1, 1, 1, 1, 1, 1, 1, 1, 1, 1, 1, 1, 1, 1, 1, 1, 1, 1, 1, 1, 1, 1, 1, 1, 1, 1, 1, 1, 1, 1, 1, 2, 1, 1, 1, 1, 1, 1, 1, 1, 1, 1, 1, 1, 1, 1, 1, 1, 1, 1, 1, 1, 1, 1, 1, 1, 1, 1, 1, 1, 2, 1, 1, 1, 1, 1, 1, 1, 1, 1, 1, 1, 1, 1, 1, 1, 1, 1, 1, 1, 1, 1, 1, 1, 1, 1, 1, 1, 1, 1, 1, 1, 1, 1, 1, 1, 1, 1, 1, 1, 1, 1, 1, 1, 2, 1, 1, 1, 1, 1, 1, 1, 1, 2, 1, 1, 1, 1, 1, 1, 1, 1, 1, 1, 1, 1, 1, 1, 1, 1, 1, 1, 1, 1, 1, 1, 1, 1, 1, 1, 1, 1, 1, 1, 1, 1, 1, 1, 1, 1, 1, 1, 1, 1, 1, 1, 1, 1, 1, 1, 1, 1, 1, 1, 1, 1, 1, 1, 1, 1, 1, 1, 1, 1, 1, 1, 1, 1, 1, 1, 1, 1, 1, 1, 1, 1, 1, 1, 1, 1, 1, 1, 1, 1, 1, 1, 1, 1, 1, 1], \"Freq\": [0.8517542481422424, 0.8122633695602417, 0.5434396266937256, 0.8256598114967346, 0.9386491179466248, 0.6041706800460815, 0.4620771110057831, 0.883734941482544, 0.6284668445587158, 0.6746707558631897, 0.6968059539794922, 0.6761434078216553, 0.6761400103569031, 0.818114697933197, 0.6761509776115417, 0.6746826767921448, 0.9463851451873779, 0.6968382596969604, 0.7733890414237976, 0.7899079918861389, 0.6762545108795166, 0.9034613370895386, 0.8448354601860046, 0.5173719525337219, 0.7899007797241211, 0.39495038986206055, 0.7817639112472534, 0.9968301653862, 0.8089408278465271, 0.9186400175094604, 0.9967957735061646, 0.680968701839447, 0.928535521030426, 0.943886935710907, 0.5965708494186401, 0.6819359660148621, 0.6746336817741394, 0.6216601729393005, 0.624800443649292, 0.9973315596580505, 0.6761410236358643, 0.8221229314804077, 0.7823472619056702, 0.5804433822631836, 0.9237117767333984, 0.7677405476570129, 0.5820987224578857, 0.943659245967865, 0.05897870287299156, 0.5580835342407227, 0.6878328919410706, 0.8755679130554199, 0.7783628702163696, 0.9131357669830322, 0.9022486209869385, 0.874954104423523, 0.08749541640281677, 0.6762554049491882, 0.9028107523918152, 0.07523422688245773, 0.9948244094848633, 0.7490070462226868, 0.41955605149269104, 0.5976890921592712, 0.8481830954551697, 0.6729710698127747, 0.9004421234130859, 0.7523307204246521, 0.6007031202316284, 0.9255059957504272, 0.8830510377883911, 0.9057546854019165, 0.696833610534668, 0.8496173620223999, 0.8723468780517578, 0.8931978344917297, 0.8185804486274719, 0.9699001312255859, 0.7416234612464905, 0.8111560344696045, 0.5909230709075928, 0.6746623516082764, 0.6761429905891418, 0.5883775353431702, 0.9016343355178833, 0.5863537788391113, 0.9402042627334595, 0.8399327397346497, 0.6809859871864319, 0.8040903806686401, 0.8112509250640869, 0.8378906846046448, 0.6104058027267456, 0.8441532850265503, 0.8550344705581665, 0.592636227607727, 0.6809629797935486, 0.8573606014251709, 0.8201913833618164, 0.9838236570358276, 0.6762519478797913, 0.8976448774337769, 0.680975079536438, 0.6809780597686768, 0.9954771399497986, 0.7802034020423889, 0.9820196628570557, 0.938810408115387, 0.7588356137275696, 0.7997644543647766, 0.15995289385318756, 0.8008463978767395, 0.885568380355835, 0.6746570467948914, 0.6411091685295105, 0.9575674533843994, 0.5895594358444214, 0.67625492811203, 0.7455369830131531, 0.6968024373054504, 0.9232122302055359, 0.6746706366539001, 0.9408855438232422, 0.8893221020698547, 0.6746686697006226, 0.5895614624023438, 0.9867876172065735, 0.8110957741737366, 0.6746682524681091, 0.9604325294494629, 0.6809651851654053, 0.6809634566307068, 0.6729713678359985, 0.8348644971847534, 0.674669086933136, 0.676256000995636, 0.6729714274406433, 0.6968333125114441, 0.5525001883506775, 0.6746640801429749, 0.5376577377319336, 0.6706731915473938, 0.8279209136962891, 0.6716360449790955, 0.5831729769706726, 0.609078049659729, 0.8374440670013428, 0.9929434657096863, 0.6967993378639221, 0.6968317031860352, 0.8392159342765808, 0.11988799273967743, 0.6761342883110046, 0.8745506405830383, 0.6762561202049255, 0.696844756603241, 0.975286066532135, 0.9958840012550354, 0.6809802055358887, 0.8178339004516602, 0.9695478081703186, 0.9897685050964355, 0.9972650408744812, 0.9972667098045349, 0.9672693014144897, 0.7628905773162842, 0.9418739676475525, 0.9265832304954529, 0.6968391537666321, 0.7734566926956177, 0.8276700377464294, 0.6968178153038025, 0.8669608235359192, 0.1733921617269516, 0.6729702353477478, 0.9645954370498657, 0.9701475501060486, 0.6809697151184082, 0.6090366244316101, 0.5857148170471191, 0.676254391670227, 0.8827580213546753, 0.7992257475852966, 0.996423602104187, 0.9953588247299194, 0.6761336326599121, 0.6968275904655457, 0.9937760233879089, 0.9966201186180115, 0.6809715032577515, 0.6809722185134888, 0.9878131747245789, 0.5735803842544556, 0.8948538899421692, 0.961795449256897, 0.9642575979232788, 0.8798716068267822, 0.8955408930778503, 0.9436014890670776, 0.5954611301422119, 0.6251217126846313, 0.921919047832489, 0.6968427300453186, 0.9232432246208191, 0.9959088563919067, 0.791113555431366, 0.4369090795516968, 0.6968247294425964, 0.6312488913536072, 0.9129543304443359, 0.6077994704246521, 0.6968587040901184, 0.9955708384513855, 0.998720109462738, 0.5165048241615295, 0.667113721370697, 0.9936388731002808, 0.8998704552650452, 0.7974396347999573, 0.5609120726585388, 0.6761395335197449, 0.5863604545593262, 0.6248037815093994, 0.7878944873809814, 0.6729709506034851, 0.7129691243171692, 0.7447609901428223, 0.9496379494667053, 0.8745318055152893, 0.6729710698127747, 0.582931637763977, 0.9242809414863586, 0.07702340930700302, 0.590477705001831, 0.6968450546264648, 0.6809718012809753, 0.6809701919555664, 0.7956048250198364, 0.906304657459259, 0.9597369432449341, 0.6809676289558411, 0.6746498346328735, 0.6968111395835876, 0.9694087505340576, 0.714271068572998, 0.7865587472915649, 0.6809734106063843, 0.5835838913917542, 0.925527036190033, 0.9645327925682068, 0.9491298198699951, 0.9516924023628235, 0.050089072436094284, 0.9125095009803772, 0.7750353813171387, 0.9850907921791077, 0.6968144774436951, 0.8097076416015625, 0.9963414072990417, 0.67625492811203, 0.6762524247169495, 0.9318317770957947, 0.8466594219207764, 0.9619950652122498, 0.9026493430137634, 0.6172098517417908, 0.9935903549194336, 0.8370310664176941, 0.7720869183540344, 0.8658713102340698, 0.6762570142745972, 0.8383410573005676, 0.8026111125946045, 0.5893819332122803, 0.6968035101890564, 0.9557943940162659, 0.8172049522399902, 0.5945263504981995, 0.9687008261680603, 0.9865995049476624, 0.8312911987304688, 0.992229163646698, 0.7233157157897949, 0.9657285809516907, 0.048286426812410355, 0.5669496655464172, 0.6762534976005554, 0.9981606602668762, 0.9704786539077759, 0.8736698031425476, 0.5852391719818115, 0.996745228767395, 0.7592353224754333, 0.8712806105613708, 0.6761320233345032, 0.749858558177948, 0.9857012629508972, 0.8524895310401917, 0.9270487427711487, 0.6729696393013, 0.7432129383087158, 0.6968308687210083, 0.9437861442565918, 0.6761400103569031, 0.9965974688529968, 0.6968129277229309, 0.6968601942062378, 0.5609660744667053, 0.938162088394165, 0.8943350911140442, 0.6968104839324951, 0.9882811307907104, 0.9867449402809143, 0.8972644209861755, 0.9943899512290955, 0.9443095326423645, 0.6761453747749329, 0.5326125621795654, 0.5644199252128601, 0.9505559802055359, 0.6467924118041992, 0.68096923828125, 0.5888550877571106, 0.5001965761184692, 0.47049781680107117, 0.8945866823196411, 0.9929139018058777, 0.6968207359313965, 0.4396928548812866, 0.7789520025253296, 0.6809698939323425, 0.7195720076560974, 0.43951043486595154, 0.6968395709991455, 0.7504251599311829, 0.9528967142105103, 0.6943184733390808, 0.8334028124809265, 0.6762526035308838, 0.8869252800941467, 0.672971248626709, 0.8124263286590576, 0.5546565651893616, 0.9590930342674255, 0.026641473174095154, 0.6347827911376953, 0.8962556719779968, 0.982387900352478, 0.9934743046760559, 0.5641441345214844, 0.8558682203292847, 0.7826250195503235, 0.6762506365776062, 0.9040632247924805, 0.750064492225647, 0.6810019612312317, 0.6761268973350525, 0.500406801700592, 0.6761473417282104, 0.9506547451019287, 0.9396879076957703, 0.8311299681663513, 0.6729711294174194, 0.9062385559082031, 0.6809799075126648, 0.9818651676177979, 0.9193582534790039, 0.6412359476089478, 0.850602924823761, 0.5300540924072266, 0.452147513628006, 0.5710992813110352, 0.43967464566230774, 0.43967464566230774, 0.5694664716720581, 0.6375433206558228, 0.8747957348823547, 0.5744373798370361, 0.6761281490325928, 0.832390546798706, 0.5902091264724731, 0.744288444519043, 0.5644874572753906, 0.9741294384002686, 0.5966134071350098, 0.6343750953674316, 0.7963187098503113, 0.5783753395080566, 0.5090324878692627, 0.5232293605804443, 0.8782199621200562, 0.6232717633247375, 0.6761438250541687, 0.6761376857757568, 0.5896428823471069, 0.6968125104904175, 0.995111882686615, 0.8003776669502258, 0.6762548685073853, 0.6968024969100952, 0.7691022157669067, 0.8687096834182739, 0.6968459486961365, 0.9145851135253906, 0.8994669318199158, 0.5912660360336304, 0.7404335737228394, 0.680973470211029, 0.956426203250885, 0.6968133449554443, 0.9910002946853638, 0.6968218684196472, 0.6061463952064514, 0.674653947353363, 0.6761486530303955, 0.9742975234985352, 0.9105653762817383, 0.11382067203521729, 0.502686619758606, 0.9952560067176819, 0.696980893611908, 0.6762545704841614, 0.6746536493301392, 0.6761116981506348, 0.5945632457733154, 0.6500350832939148, 0.3250175416469574, 0.9782846570014954, 0.9776548147201538, 0.7906463742256165, 0.7155395746231079, 0.588776707649231, 0.5221607685089111, 0.5977617502212524, 0.6254633665084839, 0.6830448508262634, 0.9841839075088501, 0.6231704950332642, 0.6809766292572021, 0.6762535572052002, 0.5620644092559814, 0.672971248626709, 0.6399763226509094, 0.9247617125511169, 0.596716046333313, 0.6008205413818359, 0.6809769868850708, 0.9974215626716614, 0.9958601593971252, 0.9523269534111023, 0.8197070360183716, 0.5781298279762268, 0.8617660403251648, 0.727690577507019, 0.878267228603363, 0.7268232107162476, 0.9932798147201538, 0.6761392951011658, 0.6362801194190979, 0.6762547492980957, 0.7867178320884705, 0.6762533187866211, 0.9191094040870667, 0.9053364992141724, 0.9944344162940979, 0.6761332154273987, 0.6746550798416138, 0.5662296414375305, 0.4625280797481537, 0.9686553478240967, 0.6477329730987549, 0.8440934419631958, 0.745578408241272, 0.6729705929756165, 0.6064609289169312, 0.8703230619430542, 0.9965016841888428, 0.5782651901245117, 0.8831819891929626, 0.7969567179679871, 0.5578826665878296, 0.9897752404212952, 0.546052873134613, 0.6746535897254944, 0.9824100732803345, 0.4157354533672333, 0.5721812844276428, 0.6156554818153381, 0.6398777365684509, 0.6746347546577454, 0.7884683012962341, 0.6761478781700134, 0.7036886215209961, 0.786414623260498, 0.9819636344909668, 0.9808467030525208, 0.6746596693992615, 0.8601800203323364, 0.97963547706604, 0.5890651941299438, 0.9492639303207397, 0.6812412142753601, 0.6761317253112793, 0.9617776870727539, 0.6746570467948914, 0.9922367334365845, 0.5810170769691467, 0.6809573769569397, 0.9648983478546143, 0.9020980596542358, 0.5902906656265259, 0.6968560218811035, 0.9127345681190491], \"Term\": [\"15\", \"abuse\", \"accommodate\", \"accompanied\", \"addicted\", \"advances\", \"aircraft\", \"alarm\", \"alice\", \"ambitions\", \"amy\", \"anne\", \"antendees\", \"aptly\", \"aragon\", \"architectural\", \"arriving\", \"asimov\", \"assembled\", \"assistance\", \"assistants\", \"assumes\", \"attract\", \"await\", \"awaits\", \"awaits\", \"awe\", \"back\", \"background\", \"bait\", \"bart\", \"bartman\", \"based\", \"basement\", \"bases\", \"bat\", \"beam\", \"bean\", \"beans\", \"becomes\", \"befuddled\", \"begging\", \"beliefs\", \"blonde\", \"blood\", \"boo\", \"booberella\", \"books\", \"books\", \"boulder\", \"bounty\", \"brains\", \"branch\", \"brand\", \"bribe\", \"bridge\", \"bridge\", \"brunettes\", \"burning\", \"burning\", \"burns\", \"cameras\", \"cardboard\", \"carriage\", \"carved\", \"cascades\", \"cast\", \"catchphrase\", \"cheats\", \"check\", \"chocolate\", \"cigarette\", \"civic\", \"clark\", \"classic\", \"clock\", \"collect\", \"comic\", \"command\", \"commit\", \"communicates\", \"compared\", \"composer\", \"compound\", \"concludes\", \"conditioning\", \"conference\", \"contact\", \"coordination\", \"costumes\", \"crashed\", \"crashing\", \"creative\", \"creature\", \"creatures\", \"crediting\", \"cristo\", \"critic\", \"crotch\", \"crowd\", \"cushions\", \"daddy\", \"dak\", \"darth\", \"day\", \"deadly\", \"death\", \"declares\", \"decorated\", \"defend\", \"defend\", \"deliberately\", \"delight\", \"depicted\", \"descends\", \"develops\", \"ding\", \"diplegia\", \"disappears\", \"discouragement\", \"discussion\", \"dispatches\", \"display\", \"distracts\", \"doc\", \"dong\", \"dr\", \"driveway\", \"drunky\", \"duff\", \"dug\", \"dumas\", \"dumbledore\", \"dungeon\", \"dwarves\", \"easels\", \"effigies\", \"elaborates\", \"elizabeth\", \"ellsworth\", \"enforcement\", \"england\", \"enjoyed\", \"enormous\", \"enrages\", \"escorts\", \"essentially\", \"even\", \"evolve\", \"evolving\", \"explodes\", \"explodes\", \"explorers\", \"express\", \"external\", \"eyeball\", \"face\", \"family\", \"fett\", \"figured\", \"film\", \"find\", \"finds\", \"first\", \"flag\", \"floating\", \"fly\", \"foam\", \"formulates\", \"frankenstein\", \"fraud\", \"freemium\", \"fridge\", \"fridge\", \"fudging\", \"full\", \"future\", \"gagdet\", \"garlic\", \"gathered\", \"gelatine\", \"george\", \"gerald\", \"get\", \"gets\", \"gi\", \"glugging\", \"go\", \"goes\", \"greedo\", \"grievous\", \"group\", \"grumbling\", \"guards\", \"gym\", \"hair\", \"halloween\", \"hammock\", \"happens\", \"hauling\", \"haverbrook\", \"headquarters\", \"hedonismbot\", \"helen\", \"help\", \"helpfully\", \"helpless\", \"hermes\", \"hippo\", \"hired\", \"hobo\", \"holophonor\", \"home\", \"homer\", \"hostility\", \"hosts\", \"however\", \"humiliated\", \"identifies\", \"ignore\", \"immortalized\", \"impersonates\", \"implies\", \"impression\", \"incarceration\", \"insist\", \"insult\", \"interest\", \"international\", \"interpretation\", \"interrogating\", \"interrupts\", \"interrupts\", \"introduced\", \"isaac\", \"jabba\", \"jango\", \"jealousy\", \"jewish\", \"jimbo\", \"jinn\", \"jodie\", \"johnsons\", \"judge\", \"judges\", \"jury\", \"kenobi\", \"ketchup\", \"keys\", \"kill\", \"killed\", \"killing\", \"killing\", \"kills\", \"kong\", \"krusty\", \"laboratory\", \"lap\", \"later\", \"lectern\", \"liberals\", \"library\", \"lift\", \"lightning\", \"likely\", \"likeness\", \"lisa\", \"loaded\", \"loans\", \"log\", \"logically\", \"london\", \"loose\", \"lord\", \"lrrr\", \"lucky\", \"luigi\", \"luxurious\", \"machine\", \"maggie\", \"maiden\", \"make\", \"makeshift\", \"mall\", \"mall\", \"maniacally\", \"manipulative\", \"marge\", \"martin\", \"massage\", \"matador\", \"meanwhile\", \"mentor\", \"menu\", \"meriwether\", \"mexican\", \"milhouse\", \"mishap\", \"mission\", \"monitored\", \"moore\", \"morbo\", \"move\", \"mozart\", \"mr\", \"mugs\", \"multiplying\", \"mutters\", \"naegle\", \"national\", \"ndnd\", \"ned\", \"nelson\", \"nevertheless\", \"new\", \"newfound\", \"nincompoop\", \"ninth\", \"nonsensical\", \"note\", \"november\", \"obi\", \"objections\", \"obstacle\", \"occurring\", \"okay\", \"one\", \"ooze\", \"opponent\", \"optimistic\", \"organa\", \"oven\", \"pads\", \"panucci\", \"paperwork\", \"parody\", \"pasta\", \"patrons\", \"payroll\", \"peace\", \"pees\", \"period\", \"permits\", \"phone\", \"phone\", \"pious\", \"pizza\", \"plan\", \"plans\", \"platform\", \"plead\", \"pleased\", \"podiums\", \"popularity\", \"portrayed\", \"posting\", \"potion\", \"potter\", \"prenup\", \"price\", \"project\", \"proof\", \"prosecute\", \"proud\", \"qui\", \"quimby\", \"races\", \"reaching\", \"realises\", \"recent\", \"reciting\", \"recognizing\", \"reconsider\", \"reconsider\", \"recycling\", \"refers\", \"reflect\", \"reindeer\", \"relations\", \"relax\", \"republican\", \"resembling\", \"retainers\", \"revenge\", \"riches\", \"rigged\", \"robotic\", \"ronald\", \"rounds\", \"royal\", \"ruin\", \"rundown\", \"sacagawea\", \"salieri\", \"sarcastic\", \"saxo\", \"school\", \"scripts\", \"secondly\", \"sepia\", \"serves\", \"seven\", \"shadowy\", \"shirt\", \"shoot\", \"shoplifting\", \"shorts\", \"shuttlecock\", \"sideshow\", \"simpsonized\", \"simpsons\", \"slates\", \"smoothie\", \"soliloquy\", \"sonatas\", \"space\", \"spare\", \"spare\", \"speaker\", \"springfield\", \"squarepants\", \"squash\", \"stains\", \"starred\", \"steel\", \"sticking\", \"sticking\", \"store\", \"story\", \"strange\", \"stuffing\", \"stung\", \"subdue\", \"subscription\", \"sue\", \"suggested\", \"suggests\", \"sullivan\", \"suns\", \"supremacist\", \"survey\", \"sutures\", \"swapped\", \"swearing\", \"swept\", \"swimsuit\", \"sy\", \"take\", \"takes\", \"talent\", \"tales\", \"tandem\", \"taped\", \"tear\", \"techniques\", \"ted\", \"tells\", \"tenderly\", \"terrifying\", \"terrorism\", \"thanksgiving\", \"thirdly\", \"threat\", \"tim\", \"time\", \"toga\", \"toohey\", \"torches\", \"tossed\", \"touched\", \"toupee\", \"tower\", \"transforms\", \"transplanted\", \"tread\", \"treats\", \"tries\", \"troops\", \"trophy\", \"twilight\", \"twin\", \"two\", \"uncontrollably\", \"unfavorable\", \"unfortunately\", \"urge\", \"users\", \"vampire\", \"vat\", \"vertising\", \"victim\", \"vienna\", \"viewing\", \"village\", \"walks\", \"want\", \"warship\", \"wig\", \"willie\", \"wiseguy\", \"wish\", \"witch\", \"wolfgang\", \"woman\", \"woodland\", \"work\", \"wrestles\", \"wronged\", \"year\", \"york\", \"zaps\", \"zoidberg\", \"zombie\"]}, \"R\": 30, \"lambda.step\": 0.01, \"plot.opts\": {\"xlab\": \"PC1\", \"ylab\": \"PC2\"}, \"topic.order\": [2, 3, 6, 5, 7, 1, 8, 4]};\n",
       "\n",
       "function LDAvis_load_lib(url, callback){\n",
       "  var s = document.createElement('script');\n",
       "  s.src = url;\n",
       "  s.async = true;\n",
       "  s.onreadystatechange = s.onload = callback;\n",
       "  s.onerror = function(){console.warn(\"failed to load library \" + url);};\n",
       "  document.getElementsByTagName(\"head\")[0].appendChild(s);\n",
       "}\n",
       "\n",
       "if(typeof(LDAvis) !== \"undefined\"){\n",
       "   // already loaded: just create the visualization\n",
       "   !function(LDAvis){\n",
       "       new LDAvis(\"#\" + \"ldavis_el2062449489445922867883045\", ldavis_el2062449489445922867883045_data);\n",
       "   }(LDAvis);\n",
       "}else if(typeof define === \"function\" && define.amd){\n",
       "   // require.js is available: use it to load d3/LDAvis\n",
       "   require.config({paths: {d3: \"https://cdnjs.cloudflare.com/ajax/libs/d3/3.5.5/d3.min\"}});\n",
       "   require([\"d3\"], function(d3){\n",
       "      window.d3 = d3;\n",
       "      LDAvis_load_lib(\"https://cdn.rawgit.com/bmabey/pyLDAvis/files/ldavis.v1.0.0.js\", function(){\n",
       "        new LDAvis(\"#\" + \"ldavis_el2062449489445922867883045\", ldavis_el2062449489445922867883045_data);\n",
       "      });\n",
       "    });\n",
       "}else{\n",
       "    // require.js not available: dynamically load d3 & LDAvis\n",
       "    LDAvis_load_lib(\"https://cdnjs.cloudflare.com/ajax/libs/d3/3.5.5/d3.min.js\", function(){\n",
       "         LDAvis_load_lib(\"https://cdn.rawgit.com/bmabey/pyLDAvis/files/ldavis.v1.0.0.js\", function(){\n",
       "                 new LDAvis(\"#\" + \"ldavis_el2062449489445922867883045\", ldavis_el2062449489445922867883045_data);\n",
       "            })\n",
       "         });\n",
       "}\n",
       "</script>"
      ],
      "text/plain": [
       "PreparedData(topic_coordinates=              x         y  topics  cluster       Freq\n",
       "topic                                                \n",
       "1      0.147326  0.000352       1        1  88.006332\n",
       "2     -0.013098 -0.011871       2        1   2.520563\n",
       "5     -0.016473  0.007803       3        1   1.862011\n",
       "4     -0.024418  0.000581       4        1   1.746426\n",
       "6     -0.022427  0.002606       5        1   1.703585\n",
       "0     -0.021019  0.001765       6        1   1.697916\n",
       "7     -0.025277 -0.000735       7        1   1.503481\n",
       "3     -0.024613 -0.000500       8        1   0.959689, topic_info=          Term        Freq       Total Category  logprob  loglift\n",
       "2987      kill   43.000000   43.000000  Default  30.0000  30.0000\n",
       "2368    parody   30.000000   30.000000  Default  29.0000  29.0000\n",
       "1567  milhouse  109.000000  109.000000  Default  28.0000  28.0000\n",
       "1347     story   60.000000   60.000000  Default  27.0000  27.0000\n",
       "74        full   41.000000   41.000000  Default  26.0000  26.0000\n",
       "...        ...         ...         ...      ...      ...      ...\n",
       "3999    killed    0.139677   23.179127   Topic8  -8.8288  -0.4654\n",
       "4782    future    0.139292   24.738504   Topic8  -8.8316  -0.5332\n",
       "1290     jimbo    0.138936   28.132710   Topic8  -8.8341  -0.6644\n",
       "4530      duff    0.132529   23.947544   Topic8  -8.8813  -0.5505\n",
       "2987      kill    0.133665   43.544399   Topic8  -8.8728  -1.1399\n",
       "\n",
       "[526 rows x 6 columns], token_table=       Topic      Freq         Term\n",
       "term                               \n",
       "2586       1  0.851754           15\n",
       "1637       1  0.812263        abuse\n",
       "8584       1  0.543440  accommodate\n",
       "8897       1  0.825660  accompanied\n",
       "10293      1  0.938649     addicted\n",
       "...      ...       ...          ...\n",
       "3088       1  0.964898         year\n",
       "6411       1  0.902098         york\n",
       "5982       1  0.590291         zaps\n",
       "17395      1  0.696856     zoidberg\n",
       "4268       1  0.912735       zombie\n",
       "\n",
       "[513 rows x 3 columns], R=30, lambda_step=0.01, plot_opts={'xlab': 'PC1', 'ylab': 'PC2'}, topic_order=[2, 3, 6, 5, 7, 1, 8, 4])"
      ]
     },
     "execution_count": 286,
     "metadata": {},
     "output_type": "execute_result"
    }
   ],
   "source": [
    "import pyLDAvis.gensim\n",
    "import pickle \n",
    "import pyLDAvis\n",
    "# Visualize the topics\n",
    "pyLDAvis.enable_notebook()\n",
    "LDAvis_prepared = pyLDAvis.gensim.prepare(lda_model, corpus, id2word)\n",
    "LDAvis_prepared"
   ]
  }
 ],
 "metadata": {
  "kernelspec": {
   "display_name": "Python 3",
   "language": "python",
   "name": "python3"
  },
  "language_info": {
   "codemirror_mode": {
    "name": "ipython",
    "version": 3
   },
   "file_extension": ".py",
   "mimetype": "text/x-python",
   "name": "python",
   "nbconvert_exporter": "python",
   "pygments_lexer": "ipython3",
   "version": "3.7.7"
  }
 },
 "nbformat": 4,
 "nbformat_minor": 2
}
